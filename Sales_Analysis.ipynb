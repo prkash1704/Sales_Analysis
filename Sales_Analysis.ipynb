{
  "cells": [
    {
      "cell_type": "code",
      "execution_count": 1,
      "metadata": {
        "id": "w9uFqyHYsPjX"
      },
      "outputs": [],
      "source": [
        "import pandas as pd\n",
        "import matplotlib.pyplot as plt\n",
        "df = pd.read_csv('Sales Transaction v.4a.csv')"
      ]
    },
    {
      "cell_type": "code",
      "execution_count": 2,
      "metadata": {
        "colab": {
          "base_uri": "https://localhost:8080/"
        },
        "id": "CNsYsYkEtq6Y",
        "outputId": "bf17c617-74cc-4d83-c864-faa88e7ccae7"
      },
      "outputs": [
        {
          "name": "stdout",
          "output_type": "stream",
          "text": [
            "<class 'pandas.core.frame.DataFrame'>\n",
            "RangeIndex: 536350 entries, 0 to 536349\n",
            "Data columns (total 8 columns):\n",
            " #   Column         Non-Null Count   Dtype  \n",
            "---  ------         --------------   -----  \n",
            " 0   TransactionNo  536350 non-null  object \n",
            " 1   Date           536350 non-null  object \n",
            " 2   ProductNo      536350 non-null  object \n",
            " 3   ProductName    536350 non-null  object \n",
            " 4   Price          536350 non-null  float64\n",
            " 5   Quantity       536350 non-null  int64  \n",
            " 6   CustomerNo     536295 non-null  float64\n",
            " 7   Country        536350 non-null  object \n",
            "dtypes: float64(2), int64(1), object(5)\n",
            "memory usage: 32.7+ MB\n"
          ]
        }
      ],
      "source": [
        "df.info()"
      ]
    },
    {
      "cell_type": "code",
      "execution_count": 3,
      "metadata": {
        "id": "LMOTEcoDts_f"
      },
      "outputs": [],
      "source": [
        "df['Date'] = pd.to_datetime(df['Date'])"
      ]
    },
    {
      "cell_type": "code",
      "execution_count": 4,
      "metadata": {
        "colab": {
          "base_uri": "https://localhost:8080/",
          "height": 424
        },
        "id": "nN2Gh5ZauQrW",
        "outputId": "4ad78dad-54be-4aaf-c094-425c47adde19"
      },
      "outputs": [
        {
          "data": {
            "text/html": [
              "<div>\n",
              "<style scoped>\n",
              "    .dataframe tbody tr th:only-of-type {\n",
              "        vertical-align: middle;\n",
              "    }\n",
              "\n",
              "    .dataframe tbody tr th {\n",
              "        vertical-align: top;\n",
              "    }\n",
              "\n",
              "    .dataframe thead th {\n",
              "        text-align: right;\n",
              "    }\n",
              "</style>\n",
              "<table border=\"1\" class=\"dataframe\">\n",
              "  <thead>\n",
              "    <tr style=\"text-align: right;\">\n",
              "      <th></th>\n",
              "      <th>TransactionNo</th>\n",
              "      <th>Date</th>\n",
              "      <th>ProductNo</th>\n",
              "      <th>ProductName</th>\n",
              "      <th>Price</th>\n",
              "      <th>Quantity</th>\n",
              "      <th>CustomerNo</th>\n",
              "      <th>Country</th>\n",
              "    </tr>\n",
              "  </thead>\n",
              "  <tbody>\n",
              "    <tr>\n",
              "      <th>0</th>\n",
              "      <td>581482</td>\n",
              "      <td>2019-12-09</td>\n",
              "      <td>22485</td>\n",
              "      <td>Set Of 2 Wooden Market Crates</td>\n",
              "      <td>21.47</td>\n",
              "      <td>12</td>\n",
              "      <td>17490.0</td>\n",
              "      <td>United Kingdom</td>\n",
              "    </tr>\n",
              "    <tr>\n",
              "      <th>1</th>\n",
              "      <td>581475</td>\n",
              "      <td>2019-12-09</td>\n",
              "      <td>22596</td>\n",
              "      <td>Christmas Star Wish List Chalkboard</td>\n",
              "      <td>10.65</td>\n",
              "      <td>36</td>\n",
              "      <td>13069.0</td>\n",
              "      <td>United Kingdom</td>\n",
              "    </tr>\n",
              "    <tr>\n",
              "      <th>2</th>\n",
              "      <td>581475</td>\n",
              "      <td>2019-12-09</td>\n",
              "      <td>23235</td>\n",
              "      <td>Storage Tin Vintage Leaf</td>\n",
              "      <td>11.53</td>\n",
              "      <td>12</td>\n",
              "      <td>13069.0</td>\n",
              "      <td>United Kingdom</td>\n",
              "    </tr>\n",
              "    <tr>\n",
              "      <th>3</th>\n",
              "      <td>581475</td>\n",
              "      <td>2019-12-09</td>\n",
              "      <td>23272</td>\n",
              "      <td>Tree T-Light Holder Willie Winkie</td>\n",
              "      <td>10.65</td>\n",
              "      <td>12</td>\n",
              "      <td>13069.0</td>\n",
              "      <td>United Kingdom</td>\n",
              "    </tr>\n",
              "    <tr>\n",
              "      <th>4</th>\n",
              "      <td>581475</td>\n",
              "      <td>2019-12-09</td>\n",
              "      <td>23239</td>\n",
              "      <td>Set Of 4 Knick Knack Tins Poppies</td>\n",
              "      <td>11.94</td>\n",
              "      <td>6</td>\n",
              "      <td>13069.0</td>\n",
              "      <td>United Kingdom</td>\n",
              "    </tr>\n",
              "    <tr>\n",
              "      <th>...</th>\n",
              "      <td>...</td>\n",
              "      <td>...</td>\n",
              "      <td>...</td>\n",
              "      <td>...</td>\n",
              "      <td>...</td>\n",
              "      <td>...</td>\n",
              "      <td>...</td>\n",
              "      <td>...</td>\n",
              "    </tr>\n",
              "    <tr>\n",
              "      <th>536345</th>\n",
              "      <td>C536548</td>\n",
              "      <td>2018-12-01</td>\n",
              "      <td>22168</td>\n",
              "      <td>Organiser Wood Antique White</td>\n",
              "      <td>18.96</td>\n",
              "      <td>-2</td>\n",
              "      <td>12472.0</td>\n",
              "      <td>Germany</td>\n",
              "    </tr>\n",
              "    <tr>\n",
              "      <th>536346</th>\n",
              "      <td>C536548</td>\n",
              "      <td>2018-12-01</td>\n",
              "      <td>21218</td>\n",
              "      <td>Red Spotty Biscuit Tin</td>\n",
              "      <td>14.09</td>\n",
              "      <td>-3</td>\n",
              "      <td>12472.0</td>\n",
              "      <td>Germany</td>\n",
              "    </tr>\n",
              "    <tr>\n",
              "      <th>536347</th>\n",
              "      <td>C536548</td>\n",
              "      <td>2018-12-01</td>\n",
              "      <td>20957</td>\n",
              "      <td>Porcelain Hanging Bell Small</td>\n",
              "      <td>11.74</td>\n",
              "      <td>-1</td>\n",
              "      <td>12472.0</td>\n",
              "      <td>Germany</td>\n",
              "    </tr>\n",
              "    <tr>\n",
              "      <th>536348</th>\n",
              "      <td>C536548</td>\n",
              "      <td>2018-12-01</td>\n",
              "      <td>22580</td>\n",
              "      <td>Advent Calendar Gingham Sack</td>\n",
              "      <td>16.35</td>\n",
              "      <td>-4</td>\n",
              "      <td>12472.0</td>\n",
              "      <td>Germany</td>\n",
              "    </tr>\n",
              "    <tr>\n",
              "      <th>536349</th>\n",
              "      <td>C536548</td>\n",
              "      <td>2018-12-01</td>\n",
              "      <td>22767</td>\n",
              "      <td>Triple Photo Frame Cornice</td>\n",
              "      <td>20.45</td>\n",
              "      <td>-2</td>\n",
              "      <td>12472.0</td>\n",
              "      <td>Germany</td>\n",
              "    </tr>\n",
              "  </tbody>\n",
              "</table>\n",
              "<p>536350 rows × 8 columns</p>\n",
              "</div>"
            ],
            "text/plain": [
              "       TransactionNo       Date ProductNo  \\\n",
              "0             581482 2019-12-09     22485   \n",
              "1             581475 2019-12-09     22596   \n",
              "2             581475 2019-12-09     23235   \n",
              "3             581475 2019-12-09     23272   \n",
              "4             581475 2019-12-09     23239   \n",
              "...              ...        ...       ...   \n",
              "536345       C536548 2018-12-01     22168   \n",
              "536346       C536548 2018-12-01     21218   \n",
              "536347       C536548 2018-12-01     20957   \n",
              "536348       C536548 2018-12-01     22580   \n",
              "536349       C536548 2018-12-01     22767   \n",
              "\n",
              "                                ProductName  Price  Quantity  CustomerNo  \\\n",
              "0             Set Of 2 Wooden Market Crates  21.47        12     17490.0   \n",
              "1       Christmas Star Wish List Chalkboard  10.65        36     13069.0   \n",
              "2                  Storage Tin Vintage Leaf  11.53        12     13069.0   \n",
              "3         Tree T-Light Holder Willie Winkie  10.65        12     13069.0   \n",
              "4         Set Of 4 Knick Knack Tins Poppies  11.94         6     13069.0   \n",
              "...                                     ...    ...       ...         ...   \n",
              "536345         Organiser Wood Antique White  18.96        -2     12472.0   \n",
              "536346               Red Spotty Biscuit Tin  14.09        -3     12472.0   \n",
              "536347         Porcelain Hanging Bell Small  11.74        -1     12472.0   \n",
              "536348         Advent Calendar Gingham Sack  16.35        -4     12472.0   \n",
              "536349           Triple Photo Frame Cornice  20.45        -2     12472.0   \n",
              "\n",
              "               Country  \n",
              "0       United Kingdom  \n",
              "1       United Kingdom  \n",
              "2       United Kingdom  \n",
              "3       United Kingdom  \n",
              "4       United Kingdom  \n",
              "...                ...  \n",
              "536345         Germany  \n",
              "536346         Germany  \n",
              "536347         Germany  \n",
              "536348         Germany  \n",
              "536349         Germany  \n",
              "\n",
              "[536350 rows x 8 columns]"
            ]
          },
          "execution_count": 4,
          "metadata": {},
          "output_type": "execute_result"
        }
      ],
      "source": [
        "df"
      ]
    },
    {
      "cell_type": "code",
      "execution_count": 5,
      "metadata": {
        "id": "rX-AKBGwuwv-"
      },
      "outputs": [],
      "source": [
        "product_sell = df.groupby('ProductName')['Quantity'].sum().reset_index()"
      ]
    },
    {
      "cell_type": "code",
      "execution_count": 6,
      "metadata": {
        "id": "_rc6uodL-7Zu"
      },
      "outputs": [],
      "source": [
        "df['TotalAmount'] = df['Price']*df['Quantity']"
      ]
    },
    {
      "cell_type": "code",
      "execution_count": 7,
      "metadata": {
        "colab": {
          "base_uri": "https://localhost:8080/",
          "height": 542
        },
        "id": "BYQhmW4mynnh",
        "outputId": "a72c527b-7d69-445d-dc5f-061d64652487"
      },
      "outputs": [
        {
          "data": {
            "application/vnd.plotly.v1+json": {
              "config": {
                "plotlyServerURL": "https://plot.ly"
              },
              "data": [
                {
                  "alignmentgroup": "True",
                  "hovertemplate": "ProductName=%{x}<br>Quantity=%{y}<extra></extra>",
                  "legendgroup": "",
                  "marker": {
                    "color": "#636efa",
                    "pattern": {
                      "shape": ""
                    }
                  },
                  "name": "",
                  "offsetgroup": "",
                  "orientation": "v",
                  "showlegend": false,
                  "textposition": "auto",
                  "texttemplate": "%{y:position}",
                  "type": "bar",
                  "x": [
                    "Assorted Colour Bird Ornament",
                    "Assorted Colours Silk Fan",
                    "Brocade Ring Purse",
                    "Cream Hanging Heart T-Light Holder",
                    "Jumbo Bag Pink Polkadot",
                    "Jumbo Bag Red Retrospot",
                    "Mini Paint Set Vintage",
                    "Pack Of 12 London Tissues",
                    "Pack Of 60 Pink Paisley Cake Cases",
                    "Pack Of 72 Retrospot Cake Cases",
                    "Popcorn Holder",
                    "Rabbit Night Light",
                    "Red Harmonica In Box",
                    "Victorian Glass Hanging T-Light",
                    "World War 2 Gliders Asstd Designs"
                  ],
                  "xaxis": "x",
                  "y": [
                    36445,
                    23082,
                    23053,
                    35378,
                    21009,
                    47363,
                    26437,
                    25907,
                    24753,
                    36231,
                    56450,
                    30680,
                    21874,
                    23854,
                    53847
                  ],
                  "yaxis": "y"
                }
              ],
              "layout": {
                "barmode": "relative",
                "legend": {
                  "tracegroupgap": 0
                },
                "template": {
                  "data": {
                    "bar": [
                      {
                        "error_x": {
                          "color": "#2a3f5f"
                        },
                        "error_y": {
                          "color": "#2a3f5f"
                        },
                        "marker": {
                          "line": {
                            "color": "#E5ECF6",
                            "width": 0.5
                          },
                          "pattern": {
                            "fillmode": "overlay",
                            "size": 10,
                            "solidity": 0.2
                          }
                        },
                        "type": "bar"
                      }
                    ],
                    "barpolar": [
                      {
                        "marker": {
                          "line": {
                            "color": "#E5ECF6",
                            "width": 0.5
                          },
                          "pattern": {
                            "fillmode": "overlay",
                            "size": 10,
                            "solidity": 0.2
                          }
                        },
                        "type": "barpolar"
                      }
                    ],
                    "carpet": [
                      {
                        "aaxis": {
                          "endlinecolor": "#2a3f5f",
                          "gridcolor": "white",
                          "linecolor": "white",
                          "minorgridcolor": "white",
                          "startlinecolor": "#2a3f5f"
                        },
                        "baxis": {
                          "endlinecolor": "#2a3f5f",
                          "gridcolor": "white",
                          "linecolor": "white",
                          "minorgridcolor": "white",
                          "startlinecolor": "#2a3f5f"
                        },
                        "type": "carpet"
                      }
                    ],
                    "choropleth": [
                      {
                        "colorbar": {
                          "outlinewidth": 0,
                          "ticks": ""
                        },
                        "type": "choropleth"
                      }
                    ],
                    "contour": [
                      {
                        "colorbar": {
                          "outlinewidth": 0,
                          "ticks": ""
                        },
                        "colorscale": [
                          [
                            0,
                            "#0d0887"
                          ],
                          [
                            0.1111111111111111,
                            "#46039f"
                          ],
                          [
                            0.2222222222222222,
                            "#7201a8"
                          ],
                          [
                            0.3333333333333333,
                            "#9c179e"
                          ],
                          [
                            0.4444444444444444,
                            "#bd3786"
                          ],
                          [
                            0.5555555555555556,
                            "#d8576b"
                          ],
                          [
                            0.6666666666666666,
                            "#ed7953"
                          ],
                          [
                            0.7777777777777778,
                            "#fb9f3a"
                          ],
                          [
                            0.8888888888888888,
                            "#fdca26"
                          ],
                          [
                            1,
                            "#f0f921"
                          ]
                        ],
                        "type": "contour"
                      }
                    ],
                    "contourcarpet": [
                      {
                        "colorbar": {
                          "outlinewidth": 0,
                          "ticks": ""
                        },
                        "type": "contourcarpet"
                      }
                    ],
                    "heatmap": [
                      {
                        "colorbar": {
                          "outlinewidth": 0,
                          "ticks": ""
                        },
                        "colorscale": [
                          [
                            0,
                            "#0d0887"
                          ],
                          [
                            0.1111111111111111,
                            "#46039f"
                          ],
                          [
                            0.2222222222222222,
                            "#7201a8"
                          ],
                          [
                            0.3333333333333333,
                            "#9c179e"
                          ],
                          [
                            0.4444444444444444,
                            "#bd3786"
                          ],
                          [
                            0.5555555555555556,
                            "#d8576b"
                          ],
                          [
                            0.6666666666666666,
                            "#ed7953"
                          ],
                          [
                            0.7777777777777778,
                            "#fb9f3a"
                          ],
                          [
                            0.8888888888888888,
                            "#fdca26"
                          ],
                          [
                            1,
                            "#f0f921"
                          ]
                        ],
                        "type": "heatmap"
                      }
                    ],
                    "heatmapgl": [
                      {
                        "colorbar": {
                          "outlinewidth": 0,
                          "ticks": ""
                        },
                        "colorscale": [
                          [
                            0,
                            "#0d0887"
                          ],
                          [
                            0.1111111111111111,
                            "#46039f"
                          ],
                          [
                            0.2222222222222222,
                            "#7201a8"
                          ],
                          [
                            0.3333333333333333,
                            "#9c179e"
                          ],
                          [
                            0.4444444444444444,
                            "#bd3786"
                          ],
                          [
                            0.5555555555555556,
                            "#d8576b"
                          ],
                          [
                            0.6666666666666666,
                            "#ed7953"
                          ],
                          [
                            0.7777777777777778,
                            "#fb9f3a"
                          ],
                          [
                            0.8888888888888888,
                            "#fdca26"
                          ],
                          [
                            1,
                            "#f0f921"
                          ]
                        ],
                        "type": "heatmapgl"
                      }
                    ],
                    "histogram": [
                      {
                        "marker": {
                          "pattern": {
                            "fillmode": "overlay",
                            "size": 10,
                            "solidity": 0.2
                          }
                        },
                        "type": "histogram"
                      }
                    ],
                    "histogram2d": [
                      {
                        "colorbar": {
                          "outlinewidth": 0,
                          "ticks": ""
                        },
                        "colorscale": [
                          [
                            0,
                            "#0d0887"
                          ],
                          [
                            0.1111111111111111,
                            "#46039f"
                          ],
                          [
                            0.2222222222222222,
                            "#7201a8"
                          ],
                          [
                            0.3333333333333333,
                            "#9c179e"
                          ],
                          [
                            0.4444444444444444,
                            "#bd3786"
                          ],
                          [
                            0.5555555555555556,
                            "#d8576b"
                          ],
                          [
                            0.6666666666666666,
                            "#ed7953"
                          ],
                          [
                            0.7777777777777778,
                            "#fb9f3a"
                          ],
                          [
                            0.8888888888888888,
                            "#fdca26"
                          ],
                          [
                            1,
                            "#f0f921"
                          ]
                        ],
                        "type": "histogram2d"
                      }
                    ],
                    "histogram2dcontour": [
                      {
                        "colorbar": {
                          "outlinewidth": 0,
                          "ticks": ""
                        },
                        "colorscale": [
                          [
                            0,
                            "#0d0887"
                          ],
                          [
                            0.1111111111111111,
                            "#46039f"
                          ],
                          [
                            0.2222222222222222,
                            "#7201a8"
                          ],
                          [
                            0.3333333333333333,
                            "#9c179e"
                          ],
                          [
                            0.4444444444444444,
                            "#bd3786"
                          ],
                          [
                            0.5555555555555556,
                            "#d8576b"
                          ],
                          [
                            0.6666666666666666,
                            "#ed7953"
                          ],
                          [
                            0.7777777777777778,
                            "#fb9f3a"
                          ],
                          [
                            0.8888888888888888,
                            "#fdca26"
                          ],
                          [
                            1,
                            "#f0f921"
                          ]
                        ],
                        "type": "histogram2dcontour"
                      }
                    ],
                    "mesh3d": [
                      {
                        "colorbar": {
                          "outlinewidth": 0,
                          "ticks": ""
                        },
                        "type": "mesh3d"
                      }
                    ],
                    "parcoords": [
                      {
                        "line": {
                          "colorbar": {
                            "outlinewidth": 0,
                            "ticks": ""
                          }
                        },
                        "type": "parcoords"
                      }
                    ],
                    "pie": [
                      {
                        "automargin": true,
                        "type": "pie"
                      }
                    ],
                    "scatter": [
                      {
                        "fillpattern": {
                          "fillmode": "overlay",
                          "size": 10,
                          "solidity": 0.2
                        },
                        "type": "scatter"
                      }
                    ],
                    "scatter3d": [
                      {
                        "line": {
                          "colorbar": {
                            "outlinewidth": 0,
                            "ticks": ""
                          }
                        },
                        "marker": {
                          "colorbar": {
                            "outlinewidth": 0,
                            "ticks": ""
                          }
                        },
                        "type": "scatter3d"
                      }
                    ],
                    "scattercarpet": [
                      {
                        "marker": {
                          "colorbar": {
                            "outlinewidth": 0,
                            "ticks": ""
                          }
                        },
                        "type": "scattercarpet"
                      }
                    ],
                    "scattergeo": [
                      {
                        "marker": {
                          "colorbar": {
                            "outlinewidth": 0,
                            "ticks": ""
                          }
                        },
                        "type": "scattergeo"
                      }
                    ],
                    "scattergl": [
                      {
                        "marker": {
                          "colorbar": {
                            "outlinewidth": 0,
                            "ticks": ""
                          }
                        },
                        "type": "scattergl"
                      }
                    ],
                    "scattermapbox": [
                      {
                        "marker": {
                          "colorbar": {
                            "outlinewidth": 0,
                            "ticks": ""
                          }
                        },
                        "type": "scattermapbox"
                      }
                    ],
                    "scatterpolar": [
                      {
                        "marker": {
                          "colorbar": {
                            "outlinewidth": 0,
                            "ticks": ""
                          }
                        },
                        "type": "scatterpolar"
                      }
                    ],
                    "scatterpolargl": [
                      {
                        "marker": {
                          "colorbar": {
                            "outlinewidth": 0,
                            "ticks": ""
                          }
                        },
                        "type": "scatterpolargl"
                      }
                    ],
                    "scatterternary": [
                      {
                        "marker": {
                          "colorbar": {
                            "outlinewidth": 0,
                            "ticks": ""
                          }
                        },
                        "type": "scatterternary"
                      }
                    ],
                    "surface": [
                      {
                        "colorbar": {
                          "outlinewidth": 0,
                          "ticks": ""
                        },
                        "colorscale": [
                          [
                            0,
                            "#0d0887"
                          ],
                          [
                            0.1111111111111111,
                            "#46039f"
                          ],
                          [
                            0.2222222222222222,
                            "#7201a8"
                          ],
                          [
                            0.3333333333333333,
                            "#9c179e"
                          ],
                          [
                            0.4444444444444444,
                            "#bd3786"
                          ],
                          [
                            0.5555555555555556,
                            "#d8576b"
                          ],
                          [
                            0.6666666666666666,
                            "#ed7953"
                          ],
                          [
                            0.7777777777777778,
                            "#fb9f3a"
                          ],
                          [
                            0.8888888888888888,
                            "#fdca26"
                          ],
                          [
                            1,
                            "#f0f921"
                          ]
                        ],
                        "type": "surface"
                      }
                    ],
                    "table": [
                      {
                        "cells": {
                          "fill": {
                            "color": "#EBF0F8"
                          },
                          "line": {
                            "color": "white"
                          }
                        },
                        "header": {
                          "fill": {
                            "color": "#C8D4E3"
                          },
                          "line": {
                            "color": "white"
                          }
                        },
                        "type": "table"
                      }
                    ]
                  },
                  "layout": {
                    "annotationdefaults": {
                      "arrowcolor": "#2a3f5f",
                      "arrowhead": 0,
                      "arrowwidth": 1
                    },
                    "autotypenumbers": "strict",
                    "coloraxis": {
                      "colorbar": {
                        "outlinewidth": 0,
                        "ticks": ""
                      }
                    },
                    "colorscale": {
                      "diverging": [
                        [
                          0,
                          "#8e0152"
                        ],
                        [
                          0.1,
                          "#c51b7d"
                        ],
                        [
                          0.2,
                          "#de77ae"
                        ],
                        [
                          0.3,
                          "#f1b6da"
                        ],
                        [
                          0.4,
                          "#fde0ef"
                        ],
                        [
                          0.5,
                          "#f7f7f7"
                        ],
                        [
                          0.6,
                          "#e6f5d0"
                        ],
                        [
                          0.7,
                          "#b8e186"
                        ],
                        [
                          0.8,
                          "#7fbc41"
                        ],
                        [
                          0.9,
                          "#4d9221"
                        ],
                        [
                          1,
                          "#276419"
                        ]
                      ],
                      "sequential": [
                        [
                          0,
                          "#0d0887"
                        ],
                        [
                          0.1111111111111111,
                          "#46039f"
                        ],
                        [
                          0.2222222222222222,
                          "#7201a8"
                        ],
                        [
                          0.3333333333333333,
                          "#9c179e"
                        ],
                        [
                          0.4444444444444444,
                          "#bd3786"
                        ],
                        [
                          0.5555555555555556,
                          "#d8576b"
                        ],
                        [
                          0.6666666666666666,
                          "#ed7953"
                        ],
                        [
                          0.7777777777777778,
                          "#fb9f3a"
                        ],
                        [
                          0.8888888888888888,
                          "#fdca26"
                        ],
                        [
                          1,
                          "#f0f921"
                        ]
                      ],
                      "sequentialminus": [
                        [
                          0,
                          "#0d0887"
                        ],
                        [
                          0.1111111111111111,
                          "#46039f"
                        ],
                        [
                          0.2222222222222222,
                          "#7201a8"
                        ],
                        [
                          0.3333333333333333,
                          "#9c179e"
                        ],
                        [
                          0.4444444444444444,
                          "#bd3786"
                        ],
                        [
                          0.5555555555555556,
                          "#d8576b"
                        ],
                        [
                          0.6666666666666666,
                          "#ed7953"
                        ],
                        [
                          0.7777777777777778,
                          "#fb9f3a"
                        ],
                        [
                          0.8888888888888888,
                          "#fdca26"
                        ],
                        [
                          1,
                          "#f0f921"
                        ]
                      ]
                    },
                    "colorway": [
                      "#636efa",
                      "#EF553B",
                      "#00cc96",
                      "#ab63fa",
                      "#FFA15A",
                      "#19d3f3",
                      "#FF6692",
                      "#B6E880",
                      "#FF97FF",
                      "#FECB52"
                    ],
                    "font": {
                      "color": "#2a3f5f"
                    },
                    "geo": {
                      "bgcolor": "white",
                      "lakecolor": "white",
                      "landcolor": "#E5ECF6",
                      "showlakes": true,
                      "showland": true,
                      "subunitcolor": "white"
                    },
                    "hoverlabel": {
                      "align": "left"
                    },
                    "hovermode": "closest",
                    "mapbox": {
                      "style": "light"
                    },
                    "paper_bgcolor": "white",
                    "plot_bgcolor": "#E5ECF6",
                    "polar": {
                      "angularaxis": {
                        "gridcolor": "white",
                        "linecolor": "white",
                        "ticks": ""
                      },
                      "bgcolor": "#E5ECF6",
                      "radialaxis": {
                        "gridcolor": "white",
                        "linecolor": "white",
                        "ticks": ""
                      }
                    },
                    "scene": {
                      "xaxis": {
                        "backgroundcolor": "#E5ECF6",
                        "gridcolor": "white",
                        "gridwidth": 2,
                        "linecolor": "white",
                        "showbackground": true,
                        "ticks": "",
                        "zerolinecolor": "white"
                      },
                      "yaxis": {
                        "backgroundcolor": "#E5ECF6",
                        "gridcolor": "white",
                        "gridwidth": 2,
                        "linecolor": "white",
                        "showbackground": true,
                        "ticks": "",
                        "zerolinecolor": "white"
                      },
                      "zaxis": {
                        "backgroundcolor": "#E5ECF6",
                        "gridcolor": "white",
                        "gridwidth": 2,
                        "linecolor": "white",
                        "showbackground": true,
                        "ticks": "",
                        "zerolinecolor": "white"
                      }
                    },
                    "shapedefaults": {
                      "line": {
                        "color": "#2a3f5f"
                      }
                    },
                    "ternary": {
                      "aaxis": {
                        "gridcolor": "white",
                        "linecolor": "white",
                        "ticks": ""
                      },
                      "baxis": {
                        "gridcolor": "white",
                        "linecolor": "white",
                        "ticks": ""
                      },
                      "bgcolor": "#E5ECF6",
                      "caxis": {
                        "gridcolor": "white",
                        "linecolor": "white",
                        "ticks": ""
                      }
                    },
                    "title": {
                      "x": 0.05
                    },
                    "xaxis": {
                      "automargin": true,
                      "gridcolor": "white",
                      "linecolor": "white",
                      "ticks": "",
                      "title": {
                        "standoff": 15
                      },
                      "zerolinecolor": "white",
                      "zerolinewidth": 2
                    },
                    "yaxis": {
                      "automargin": true,
                      "gridcolor": "white",
                      "linecolor": "white",
                      "ticks": "",
                      "title": {
                        "standoff": 15
                      },
                      "zerolinecolor": "white",
                      "zerolinewidth": 2
                    }
                  }
                },
                "title": {
                  "text": "Products with Total Sell Over 20k Quantities"
                },
                "xaxis": {
                  "anchor": "y",
                  "domain": [
                    0,
                    1
                  ],
                  "title": {
                    "text": "Product Name"
                  }
                },
                "yaxis": {
                  "anchor": "x",
                  "domain": [
                    0,
                    1
                  ],
                  "title": {
                    "text": "Total Sell"
                  }
                }
              }
            }
          },
          "metadata": {},
          "output_type": "display_data"
        }
      ],
      "source": [
        "import plotly.express as px\n",
        "product_sell_top = product_sell[product_sell['Quantity']>20000]\n",
        "fig = px.bar(product_sell_top, x=product_sell_top['ProductName'], y=product_sell_top['Quantity'], text_auto='position', title='Products with Total Sell Over 20k Quantities')\n",
        "fig.update_layout(xaxis_title='Product Name', yaxis_title='Total Sell')\n",
        "fig.show()"
      ]
    },
    {
      "cell_type": "code",
      "execution_count": 8,
      "metadata": {
        "id": "HiCoUZD80Zyg"
      },
      "outputs": [],
      "source": [
        "product_revenue = df.groupby('ProductName')['TotalAmount'].sum().reset_index()"
      ]
    },
    {
      "cell_type": "code",
      "execution_count": 9,
      "metadata": {
        "colab": {
          "base_uri": "https://localhost:8080/",
          "height": 542
        },
        "id": "EYOx5sYcKhv8",
        "outputId": "35258b11-8bbe-41d5-c6eb-acc4cc2731d7"
      },
      "outputs": [
        {
          "data": {
            "application/vnd.plotly.v1+json": {
              "config": {
                "plotlyServerURL": "https://plot.ly"
              },
              "data": [
                {
                  "alignmentgroup": "True",
                  "hovertemplate": "ProductName=%{x}<br>TotalAmount=%{y}<extra></extra>",
                  "legendgroup": "",
                  "marker": {
                    "color": "#636efa",
                    "pattern": {
                      "shape": ""
                    }
                  },
                  "name": "",
                  "offsetgroup": "",
                  "orientation": "v",
                  "showlegend": false,
                  "textposition": "auto",
                  "texttemplate": "%{y:position}",
                  "type": "bar",
                  "x": [
                    "Antique Silver T-Light Glass",
                    "Assorted Colour Bird Ornament",
                    "Assorted Colours Silk Fan",
                    "Brocade Ring Purse",
                    "Charlotte Bag Suki Design",
                    "Cream Hanging Heart T-Light Holder",
                    "Heart Of Wicker Small",
                    "Jumbo Bag Red Retrospot",
                    "Mini Paint Set Vintage",
                    "Pack Of 12 London Tissues",
                    "Pack Of 60 Pink Paisley Cake Cases",
                    "Pack Of 72 Retrospot Cake Cases",
                    "Paper Chain Kit 50'S Christmas",
                    "Paper Craft Little Birdie",
                    "Party Bunting",
                    "Popcorn Holder",
                    "Rabbit Night Light",
                    "Red Harmonica In Box",
                    "Regency Cakestand 3 Tier",
                    "Victorian Glass Hanging T-Light",
                    "World War 2 Gliders Asstd Designs"
                  ],
                  "xaxis": "x",
                  "y": [
                    213142.87,
                    420743.7,
                    253367.32,
                    239586.13,
                    203654.85,
                    451401.7,
                    209436.09,
                    290474.52,
                    284870.92,
                    268681.74,
                    263537.59,
                    388424.61,
                    228583.4,
                    501359.05,
                    282719.15,
                    583286.51,
                    327794.21,
                    245282.48,
                    289288.6,
                    269111.28,
                    557170.43
                  ],
                  "yaxis": "y"
                }
              ],
              "layout": {
                "barmode": "relative",
                "legend": {
                  "tracegroupgap": 0
                },
                "template": {
                  "data": {
                    "bar": [
                      {
                        "error_x": {
                          "color": "#2a3f5f"
                        },
                        "error_y": {
                          "color": "#2a3f5f"
                        },
                        "marker": {
                          "line": {
                            "color": "#E5ECF6",
                            "width": 0.5
                          },
                          "pattern": {
                            "fillmode": "overlay",
                            "size": 10,
                            "solidity": 0.2
                          }
                        },
                        "type": "bar"
                      }
                    ],
                    "barpolar": [
                      {
                        "marker": {
                          "line": {
                            "color": "#E5ECF6",
                            "width": 0.5
                          },
                          "pattern": {
                            "fillmode": "overlay",
                            "size": 10,
                            "solidity": 0.2
                          }
                        },
                        "type": "barpolar"
                      }
                    ],
                    "carpet": [
                      {
                        "aaxis": {
                          "endlinecolor": "#2a3f5f",
                          "gridcolor": "white",
                          "linecolor": "white",
                          "minorgridcolor": "white",
                          "startlinecolor": "#2a3f5f"
                        },
                        "baxis": {
                          "endlinecolor": "#2a3f5f",
                          "gridcolor": "white",
                          "linecolor": "white",
                          "minorgridcolor": "white",
                          "startlinecolor": "#2a3f5f"
                        },
                        "type": "carpet"
                      }
                    ],
                    "choropleth": [
                      {
                        "colorbar": {
                          "outlinewidth": 0,
                          "ticks": ""
                        },
                        "type": "choropleth"
                      }
                    ],
                    "contour": [
                      {
                        "colorbar": {
                          "outlinewidth": 0,
                          "ticks": ""
                        },
                        "colorscale": [
                          [
                            0,
                            "#0d0887"
                          ],
                          [
                            0.1111111111111111,
                            "#46039f"
                          ],
                          [
                            0.2222222222222222,
                            "#7201a8"
                          ],
                          [
                            0.3333333333333333,
                            "#9c179e"
                          ],
                          [
                            0.4444444444444444,
                            "#bd3786"
                          ],
                          [
                            0.5555555555555556,
                            "#d8576b"
                          ],
                          [
                            0.6666666666666666,
                            "#ed7953"
                          ],
                          [
                            0.7777777777777778,
                            "#fb9f3a"
                          ],
                          [
                            0.8888888888888888,
                            "#fdca26"
                          ],
                          [
                            1,
                            "#f0f921"
                          ]
                        ],
                        "type": "contour"
                      }
                    ],
                    "contourcarpet": [
                      {
                        "colorbar": {
                          "outlinewidth": 0,
                          "ticks": ""
                        },
                        "type": "contourcarpet"
                      }
                    ],
                    "heatmap": [
                      {
                        "colorbar": {
                          "outlinewidth": 0,
                          "ticks": ""
                        },
                        "colorscale": [
                          [
                            0,
                            "#0d0887"
                          ],
                          [
                            0.1111111111111111,
                            "#46039f"
                          ],
                          [
                            0.2222222222222222,
                            "#7201a8"
                          ],
                          [
                            0.3333333333333333,
                            "#9c179e"
                          ],
                          [
                            0.4444444444444444,
                            "#bd3786"
                          ],
                          [
                            0.5555555555555556,
                            "#d8576b"
                          ],
                          [
                            0.6666666666666666,
                            "#ed7953"
                          ],
                          [
                            0.7777777777777778,
                            "#fb9f3a"
                          ],
                          [
                            0.8888888888888888,
                            "#fdca26"
                          ],
                          [
                            1,
                            "#f0f921"
                          ]
                        ],
                        "type": "heatmap"
                      }
                    ],
                    "heatmapgl": [
                      {
                        "colorbar": {
                          "outlinewidth": 0,
                          "ticks": ""
                        },
                        "colorscale": [
                          [
                            0,
                            "#0d0887"
                          ],
                          [
                            0.1111111111111111,
                            "#46039f"
                          ],
                          [
                            0.2222222222222222,
                            "#7201a8"
                          ],
                          [
                            0.3333333333333333,
                            "#9c179e"
                          ],
                          [
                            0.4444444444444444,
                            "#bd3786"
                          ],
                          [
                            0.5555555555555556,
                            "#d8576b"
                          ],
                          [
                            0.6666666666666666,
                            "#ed7953"
                          ],
                          [
                            0.7777777777777778,
                            "#fb9f3a"
                          ],
                          [
                            0.8888888888888888,
                            "#fdca26"
                          ],
                          [
                            1,
                            "#f0f921"
                          ]
                        ],
                        "type": "heatmapgl"
                      }
                    ],
                    "histogram": [
                      {
                        "marker": {
                          "pattern": {
                            "fillmode": "overlay",
                            "size": 10,
                            "solidity": 0.2
                          }
                        },
                        "type": "histogram"
                      }
                    ],
                    "histogram2d": [
                      {
                        "colorbar": {
                          "outlinewidth": 0,
                          "ticks": ""
                        },
                        "colorscale": [
                          [
                            0,
                            "#0d0887"
                          ],
                          [
                            0.1111111111111111,
                            "#46039f"
                          ],
                          [
                            0.2222222222222222,
                            "#7201a8"
                          ],
                          [
                            0.3333333333333333,
                            "#9c179e"
                          ],
                          [
                            0.4444444444444444,
                            "#bd3786"
                          ],
                          [
                            0.5555555555555556,
                            "#d8576b"
                          ],
                          [
                            0.6666666666666666,
                            "#ed7953"
                          ],
                          [
                            0.7777777777777778,
                            "#fb9f3a"
                          ],
                          [
                            0.8888888888888888,
                            "#fdca26"
                          ],
                          [
                            1,
                            "#f0f921"
                          ]
                        ],
                        "type": "histogram2d"
                      }
                    ],
                    "histogram2dcontour": [
                      {
                        "colorbar": {
                          "outlinewidth": 0,
                          "ticks": ""
                        },
                        "colorscale": [
                          [
                            0,
                            "#0d0887"
                          ],
                          [
                            0.1111111111111111,
                            "#46039f"
                          ],
                          [
                            0.2222222222222222,
                            "#7201a8"
                          ],
                          [
                            0.3333333333333333,
                            "#9c179e"
                          ],
                          [
                            0.4444444444444444,
                            "#bd3786"
                          ],
                          [
                            0.5555555555555556,
                            "#d8576b"
                          ],
                          [
                            0.6666666666666666,
                            "#ed7953"
                          ],
                          [
                            0.7777777777777778,
                            "#fb9f3a"
                          ],
                          [
                            0.8888888888888888,
                            "#fdca26"
                          ],
                          [
                            1,
                            "#f0f921"
                          ]
                        ],
                        "type": "histogram2dcontour"
                      }
                    ],
                    "mesh3d": [
                      {
                        "colorbar": {
                          "outlinewidth": 0,
                          "ticks": ""
                        },
                        "type": "mesh3d"
                      }
                    ],
                    "parcoords": [
                      {
                        "line": {
                          "colorbar": {
                            "outlinewidth": 0,
                            "ticks": ""
                          }
                        },
                        "type": "parcoords"
                      }
                    ],
                    "pie": [
                      {
                        "automargin": true,
                        "type": "pie"
                      }
                    ],
                    "scatter": [
                      {
                        "fillpattern": {
                          "fillmode": "overlay",
                          "size": 10,
                          "solidity": 0.2
                        },
                        "type": "scatter"
                      }
                    ],
                    "scatter3d": [
                      {
                        "line": {
                          "colorbar": {
                            "outlinewidth": 0,
                            "ticks": ""
                          }
                        },
                        "marker": {
                          "colorbar": {
                            "outlinewidth": 0,
                            "ticks": ""
                          }
                        },
                        "type": "scatter3d"
                      }
                    ],
                    "scattercarpet": [
                      {
                        "marker": {
                          "colorbar": {
                            "outlinewidth": 0,
                            "ticks": ""
                          }
                        },
                        "type": "scattercarpet"
                      }
                    ],
                    "scattergeo": [
                      {
                        "marker": {
                          "colorbar": {
                            "outlinewidth": 0,
                            "ticks": ""
                          }
                        },
                        "type": "scattergeo"
                      }
                    ],
                    "scattergl": [
                      {
                        "marker": {
                          "colorbar": {
                            "outlinewidth": 0,
                            "ticks": ""
                          }
                        },
                        "type": "scattergl"
                      }
                    ],
                    "scattermapbox": [
                      {
                        "marker": {
                          "colorbar": {
                            "outlinewidth": 0,
                            "ticks": ""
                          }
                        },
                        "type": "scattermapbox"
                      }
                    ],
                    "scatterpolar": [
                      {
                        "marker": {
                          "colorbar": {
                            "outlinewidth": 0,
                            "ticks": ""
                          }
                        },
                        "type": "scatterpolar"
                      }
                    ],
                    "scatterpolargl": [
                      {
                        "marker": {
                          "colorbar": {
                            "outlinewidth": 0,
                            "ticks": ""
                          }
                        },
                        "type": "scatterpolargl"
                      }
                    ],
                    "scatterternary": [
                      {
                        "marker": {
                          "colorbar": {
                            "outlinewidth": 0,
                            "ticks": ""
                          }
                        },
                        "type": "scatterternary"
                      }
                    ],
                    "surface": [
                      {
                        "colorbar": {
                          "outlinewidth": 0,
                          "ticks": ""
                        },
                        "colorscale": [
                          [
                            0,
                            "#0d0887"
                          ],
                          [
                            0.1111111111111111,
                            "#46039f"
                          ],
                          [
                            0.2222222222222222,
                            "#7201a8"
                          ],
                          [
                            0.3333333333333333,
                            "#9c179e"
                          ],
                          [
                            0.4444444444444444,
                            "#bd3786"
                          ],
                          [
                            0.5555555555555556,
                            "#d8576b"
                          ],
                          [
                            0.6666666666666666,
                            "#ed7953"
                          ],
                          [
                            0.7777777777777778,
                            "#fb9f3a"
                          ],
                          [
                            0.8888888888888888,
                            "#fdca26"
                          ],
                          [
                            1,
                            "#f0f921"
                          ]
                        ],
                        "type": "surface"
                      }
                    ],
                    "table": [
                      {
                        "cells": {
                          "fill": {
                            "color": "#EBF0F8"
                          },
                          "line": {
                            "color": "white"
                          }
                        },
                        "header": {
                          "fill": {
                            "color": "#C8D4E3"
                          },
                          "line": {
                            "color": "white"
                          }
                        },
                        "type": "table"
                      }
                    ]
                  },
                  "layout": {
                    "annotationdefaults": {
                      "arrowcolor": "#2a3f5f",
                      "arrowhead": 0,
                      "arrowwidth": 1
                    },
                    "autotypenumbers": "strict",
                    "coloraxis": {
                      "colorbar": {
                        "outlinewidth": 0,
                        "ticks": ""
                      }
                    },
                    "colorscale": {
                      "diverging": [
                        [
                          0,
                          "#8e0152"
                        ],
                        [
                          0.1,
                          "#c51b7d"
                        ],
                        [
                          0.2,
                          "#de77ae"
                        ],
                        [
                          0.3,
                          "#f1b6da"
                        ],
                        [
                          0.4,
                          "#fde0ef"
                        ],
                        [
                          0.5,
                          "#f7f7f7"
                        ],
                        [
                          0.6,
                          "#e6f5d0"
                        ],
                        [
                          0.7,
                          "#b8e186"
                        ],
                        [
                          0.8,
                          "#7fbc41"
                        ],
                        [
                          0.9,
                          "#4d9221"
                        ],
                        [
                          1,
                          "#276419"
                        ]
                      ],
                      "sequential": [
                        [
                          0,
                          "#0d0887"
                        ],
                        [
                          0.1111111111111111,
                          "#46039f"
                        ],
                        [
                          0.2222222222222222,
                          "#7201a8"
                        ],
                        [
                          0.3333333333333333,
                          "#9c179e"
                        ],
                        [
                          0.4444444444444444,
                          "#bd3786"
                        ],
                        [
                          0.5555555555555556,
                          "#d8576b"
                        ],
                        [
                          0.6666666666666666,
                          "#ed7953"
                        ],
                        [
                          0.7777777777777778,
                          "#fb9f3a"
                        ],
                        [
                          0.8888888888888888,
                          "#fdca26"
                        ],
                        [
                          1,
                          "#f0f921"
                        ]
                      ],
                      "sequentialminus": [
                        [
                          0,
                          "#0d0887"
                        ],
                        [
                          0.1111111111111111,
                          "#46039f"
                        ],
                        [
                          0.2222222222222222,
                          "#7201a8"
                        ],
                        [
                          0.3333333333333333,
                          "#9c179e"
                        ],
                        [
                          0.4444444444444444,
                          "#bd3786"
                        ],
                        [
                          0.5555555555555556,
                          "#d8576b"
                        ],
                        [
                          0.6666666666666666,
                          "#ed7953"
                        ],
                        [
                          0.7777777777777778,
                          "#fb9f3a"
                        ],
                        [
                          0.8888888888888888,
                          "#fdca26"
                        ],
                        [
                          1,
                          "#f0f921"
                        ]
                      ]
                    },
                    "colorway": [
                      "#636efa",
                      "#EF553B",
                      "#00cc96",
                      "#ab63fa",
                      "#FFA15A",
                      "#19d3f3",
                      "#FF6692",
                      "#B6E880",
                      "#FF97FF",
                      "#FECB52"
                    ],
                    "font": {
                      "color": "#2a3f5f"
                    },
                    "geo": {
                      "bgcolor": "white",
                      "lakecolor": "white",
                      "landcolor": "#E5ECF6",
                      "showlakes": true,
                      "showland": true,
                      "subunitcolor": "white"
                    },
                    "hoverlabel": {
                      "align": "left"
                    },
                    "hovermode": "closest",
                    "mapbox": {
                      "style": "light"
                    },
                    "paper_bgcolor": "white",
                    "plot_bgcolor": "#E5ECF6",
                    "polar": {
                      "angularaxis": {
                        "gridcolor": "white",
                        "linecolor": "white",
                        "ticks": ""
                      },
                      "bgcolor": "#E5ECF6",
                      "radialaxis": {
                        "gridcolor": "white",
                        "linecolor": "white",
                        "ticks": ""
                      }
                    },
                    "scene": {
                      "xaxis": {
                        "backgroundcolor": "#E5ECF6",
                        "gridcolor": "white",
                        "gridwidth": 2,
                        "linecolor": "white",
                        "showbackground": true,
                        "ticks": "",
                        "zerolinecolor": "white"
                      },
                      "yaxis": {
                        "backgroundcolor": "#E5ECF6",
                        "gridcolor": "white",
                        "gridwidth": 2,
                        "linecolor": "white",
                        "showbackground": true,
                        "ticks": "",
                        "zerolinecolor": "white"
                      },
                      "zaxis": {
                        "backgroundcolor": "#E5ECF6",
                        "gridcolor": "white",
                        "gridwidth": 2,
                        "linecolor": "white",
                        "showbackground": true,
                        "ticks": "",
                        "zerolinecolor": "white"
                      }
                    },
                    "shapedefaults": {
                      "line": {
                        "color": "#2a3f5f"
                      }
                    },
                    "ternary": {
                      "aaxis": {
                        "gridcolor": "white",
                        "linecolor": "white",
                        "ticks": ""
                      },
                      "baxis": {
                        "gridcolor": "white",
                        "linecolor": "white",
                        "ticks": ""
                      },
                      "bgcolor": "#E5ECF6",
                      "caxis": {
                        "gridcolor": "white",
                        "linecolor": "white",
                        "ticks": ""
                      }
                    },
                    "title": {
                      "x": 0.05
                    },
                    "xaxis": {
                      "automargin": true,
                      "gridcolor": "white",
                      "linecolor": "white",
                      "ticks": "",
                      "title": {
                        "standoff": 15
                      },
                      "zerolinecolor": "white",
                      "zerolinewidth": 2
                    },
                    "yaxis": {
                      "automargin": true,
                      "gridcolor": "white",
                      "linecolor": "white",
                      "ticks": "",
                      "title": {
                        "standoff": 15
                      },
                      "zerolinecolor": "white",
                      "zerolinewidth": 2
                    }
                  }
                },
                "title": {
                  "text": "Products with Total Revenue Over 200k"
                },
                "xaxis": {
                  "anchor": "y",
                  "domain": [
                    0,
                    1
                  ],
                  "title": {
                    "text": "Product Name"
                  }
                },
                "yaxis": {
                  "anchor": "x",
                  "domain": [
                    0,
                    1
                  ],
                  "title": {
                    "text": "Total Revenue"
                  }
                }
              }
            }
          },
          "metadata": {},
          "output_type": "display_data"
        }
      ],
      "source": [
        "top_total_product_revenue = product_revenue[product_revenue['TotalAmount']>200000].round(2)\n",
        "fig = px.bar(top_total_product_revenue, x=top_total_product_revenue['ProductName'], y=top_total_product_revenue['TotalAmount'], text_auto='position', title='Products with Total Revenue Over 200k')\n",
        "fig.update_layout(xaxis_title='Product Name', yaxis_title='Total Revenue')\n",
        "fig.show()"
      ]
    },
    {
      "cell_type": "code",
      "execution_count": 10,
      "metadata": {
        "id": "2N_HPWm8Y98T"
      },
      "outputs": [],
      "source": [
        "customer_expanse = df.groupby('CustomerNo')['TotalAmount'].sum().reset_index()\n",
        "customer_expanse['CustomerNo'] = customer_expanse['CustomerNo'].astype(str)"
      ]
    },
    {
      "cell_type": "code",
      "execution_count": 11,
      "metadata": {
        "colab": {
          "base_uri": "https://localhost:8080/",
          "height": 542
        },
        "id": "sV7lKDn3a4IR",
        "outputId": "371dea3e-9d33-4b5d-b2d0-2927e3de6202"
      },
      "outputs": [
        {
          "data": {
            "application/vnd.plotly.v1+json": {
              "config": {
                "plotlyServerURL": "https://plot.ly"
              },
              "data": [
                {
                  "alignmentgroup": "True",
                  "hovertemplate": "CustomerNo=%{x}<br>TotalAmount=%{y}<extra></extra>",
                  "legendgroup": "",
                  "marker": {
                    "color": "#636efa",
                    "pattern": {
                      "shape": ""
                    }
                  },
                  "name": "",
                  "offsetgroup": "",
                  "orientation": "v",
                  "showlegend": false,
                  "textposition": "auto",
                  "texttemplate": "%{y:position}",
                  "type": "bar",
                  "x": [
                    "12415.0",
                    "13694.0",
                    "14156.0",
                    "14298.0",
                    "14646.0",
                    "14911.0",
                    "16446.0",
                    "16684.0",
                    "17450.0",
                    "17511.0",
                    "18102.0"
                  ],
                  "xaxis": "x",
                  "y": [
                    895267.24,
                    630949.58,
                    683869.28,
                    634173.99,
                    2108959.95,
                    873037.9,
                    501382.52,
                    518976.78,
                    876816.01,
                    627685.41,
                    897137.36
                  ],
                  "yaxis": "y"
                }
              ],
              "layout": {
                "barmode": "relative",
                "legend": {
                  "tracegroupgap": 0
                },
                "margin": {
                  "t": 60
                },
                "template": {
                  "data": {
                    "bar": [
                      {
                        "error_x": {
                          "color": "#2a3f5f"
                        },
                        "error_y": {
                          "color": "#2a3f5f"
                        },
                        "marker": {
                          "line": {
                            "color": "#E5ECF6",
                            "width": 0.5
                          },
                          "pattern": {
                            "fillmode": "overlay",
                            "size": 10,
                            "solidity": 0.2
                          }
                        },
                        "type": "bar"
                      }
                    ],
                    "barpolar": [
                      {
                        "marker": {
                          "line": {
                            "color": "#E5ECF6",
                            "width": 0.5
                          },
                          "pattern": {
                            "fillmode": "overlay",
                            "size": 10,
                            "solidity": 0.2
                          }
                        },
                        "type": "barpolar"
                      }
                    ],
                    "carpet": [
                      {
                        "aaxis": {
                          "endlinecolor": "#2a3f5f",
                          "gridcolor": "white",
                          "linecolor": "white",
                          "minorgridcolor": "white",
                          "startlinecolor": "#2a3f5f"
                        },
                        "baxis": {
                          "endlinecolor": "#2a3f5f",
                          "gridcolor": "white",
                          "linecolor": "white",
                          "minorgridcolor": "white",
                          "startlinecolor": "#2a3f5f"
                        },
                        "type": "carpet"
                      }
                    ],
                    "choropleth": [
                      {
                        "colorbar": {
                          "outlinewidth": 0,
                          "ticks": ""
                        },
                        "type": "choropleth"
                      }
                    ],
                    "contour": [
                      {
                        "colorbar": {
                          "outlinewidth": 0,
                          "ticks": ""
                        },
                        "colorscale": [
                          [
                            0,
                            "#0d0887"
                          ],
                          [
                            0.1111111111111111,
                            "#46039f"
                          ],
                          [
                            0.2222222222222222,
                            "#7201a8"
                          ],
                          [
                            0.3333333333333333,
                            "#9c179e"
                          ],
                          [
                            0.4444444444444444,
                            "#bd3786"
                          ],
                          [
                            0.5555555555555556,
                            "#d8576b"
                          ],
                          [
                            0.6666666666666666,
                            "#ed7953"
                          ],
                          [
                            0.7777777777777778,
                            "#fb9f3a"
                          ],
                          [
                            0.8888888888888888,
                            "#fdca26"
                          ],
                          [
                            1,
                            "#f0f921"
                          ]
                        ],
                        "type": "contour"
                      }
                    ],
                    "contourcarpet": [
                      {
                        "colorbar": {
                          "outlinewidth": 0,
                          "ticks": ""
                        },
                        "type": "contourcarpet"
                      }
                    ],
                    "heatmap": [
                      {
                        "colorbar": {
                          "outlinewidth": 0,
                          "ticks": ""
                        },
                        "colorscale": [
                          [
                            0,
                            "#0d0887"
                          ],
                          [
                            0.1111111111111111,
                            "#46039f"
                          ],
                          [
                            0.2222222222222222,
                            "#7201a8"
                          ],
                          [
                            0.3333333333333333,
                            "#9c179e"
                          ],
                          [
                            0.4444444444444444,
                            "#bd3786"
                          ],
                          [
                            0.5555555555555556,
                            "#d8576b"
                          ],
                          [
                            0.6666666666666666,
                            "#ed7953"
                          ],
                          [
                            0.7777777777777778,
                            "#fb9f3a"
                          ],
                          [
                            0.8888888888888888,
                            "#fdca26"
                          ],
                          [
                            1,
                            "#f0f921"
                          ]
                        ],
                        "type": "heatmap"
                      }
                    ],
                    "heatmapgl": [
                      {
                        "colorbar": {
                          "outlinewidth": 0,
                          "ticks": ""
                        },
                        "colorscale": [
                          [
                            0,
                            "#0d0887"
                          ],
                          [
                            0.1111111111111111,
                            "#46039f"
                          ],
                          [
                            0.2222222222222222,
                            "#7201a8"
                          ],
                          [
                            0.3333333333333333,
                            "#9c179e"
                          ],
                          [
                            0.4444444444444444,
                            "#bd3786"
                          ],
                          [
                            0.5555555555555556,
                            "#d8576b"
                          ],
                          [
                            0.6666666666666666,
                            "#ed7953"
                          ],
                          [
                            0.7777777777777778,
                            "#fb9f3a"
                          ],
                          [
                            0.8888888888888888,
                            "#fdca26"
                          ],
                          [
                            1,
                            "#f0f921"
                          ]
                        ],
                        "type": "heatmapgl"
                      }
                    ],
                    "histogram": [
                      {
                        "marker": {
                          "pattern": {
                            "fillmode": "overlay",
                            "size": 10,
                            "solidity": 0.2
                          }
                        },
                        "type": "histogram"
                      }
                    ],
                    "histogram2d": [
                      {
                        "colorbar": {
                          "outlinewidth": 0,
                          "ticks": ""
                        },
                        "colorscale": [
                          [
                            0,
                            "#0d0887"
                          ],
                          [
                            0.1111111111111111,
                            "#46039f"
                          ],
                          [
                            0.2222222222222222,
                            "#7201a8"
                          ],
                          [
                            0.3333333333333333,
                            "#9c179e"
                          ],
                          [
                            0.4444444444444444,
                            "#bd3786"
                          ],
                          [
                            0.5555555555555556,
                            "#d8576b"
                          ],
                          [
                            0.6666666666666666,
                            "#ed7953"
                          ],
                          [
                            0.7777777777777778,
                            "#fb9f3a"
                          ],
                          [
                            0.8888888888888888,
                            "#fdca26"
                          ],
                          [
                            1,
                            "#f0f921"
                          ]
                        ],
                        "type": "histogram2d"
                      }
                    ],
                    "histogram2dcontour": [
                      {
                        "colorbar": {
                          "outlinewidth": 0,
                          "ticks": ""
                        },
                        "colorscale": [
                          [
                            0,
                            "#0d0887"
                          ],
                          [
                            0.1111111111111111,
                            "#46039f"
                          ],
                          [
                            0.2222222222222222,
                            "#7201a8"
                          ],
                          [
                            0.3333333333333333,
                            "#9c179e"
                          ],
                          [
                            0.4444444444444444,
                            "#bd3786"
                          ],
                          [
                            0.5555555555555556,
                            "#d8576b"
                          ],
                          [
                            0.6666666666666666,
                            "#ed7953"
                          ],
                          [
                            0.7777777777777778,
                            "#fb9f3a"
                          ],
                          [
                            0.8888888888888888,
                            "#fdca26"
                          ],
                          [
                            1,
                            "#f0f921"
                          ]
                        ],
                        "type": "histogram2dcontour"
                      }
                    ],
                    "mesh3d": [
                      {
                        "colorbar": {
                          "outlinewidth": 0,
                          "ticks": ""
                        },
                        "type": "mesh3d"
                      }
                    ],
                    "parcoords": [
                      {
                        "line": {
                          "colorbar": {
                            "outlinewidth": 0,
                            "ticks": ""
                          }
                        },
                        "type": "parcoords"
                      }
                    ],
                    "pie": [
                      {
                        "automargin": true,
                        "type": "pie"
                      }
                    ],
                    "scatter": [
                      {
                        "fillpattern": {
                          "fillmode": "overlay",
                          "size": 10,
                          "solidity": 0.2
                        },
                        "type": "scatter"
                      }
                    ],
                    "scatter3d": [
                      {
                        "line": {
                          "colorbar": {
                            "outlinewidth": 0,
                            "ticks": ""
                          }
                        },
                        "marker": {
                          "colorbar": {
                            "outlinewidth": 0,
                            "ticks": ""
                          }
                        },
                        "type": "scatter3d"
                      }
                    ],
                    "scattercarpet": [
                      {
                        "marker": {
                          "colorbar": {
                            "outlinewidth": 0,
                            "ticks": ""
                          }
                        },
                        "type": "scattercarpet"
                      }
                    ],
                    "scattergeo": [
                      {
                        "marker": {
                          "colorbar": {
                            "outlinewidth": 0,
                            "ticks": ""
                          }
                        },
                        "type": "scattergeo"
                      }
                    ],
                    "scattergl": [
                      {
                        "marker": {
                          "colorbar": {
                            "outlinewidth": 0,
                            "ticks": ""
                          }
                        },
                        "type": "scattergl"
                      }
                    ],
                    "scattermapbox": [
                      {
                        "marker": {
                          "colorbar": {
                            "outlinewidth": 0,
                            "ticks": ""
                          }
                        },
                        "type": "scattermapbox"
                      }
                    ],
                    "scatterpolar": [
                      {
                        "marker": {
                          "colorbar": {
                            "outlinewidth": 0,
                            "ticks": ""
                          }
                        },
                        "type": "scatterpolar"
                      }
                    ],
                    "scatterpolargl": [
                      {
                        "marker": {
                          "colorbar": {
                            "outlinewidth": 0,
                            "ticks": ""
                          }
                        },
                        "type": "scatterpolargl"
                      }
                    ],
                    "scatterternary": [
                      {
                        "marker": {
                          "colorbar": {
                            "outlinewidth": 0,
                            "ticks": ""
                          }
                        },
                        "type": "scatterternary"
                      }
                    ],
                    "surface": [
                      {
                        "colorbar": {
                          "outlinewidth": 0,
                          "ticks": ""
                        },
                        "colorscale": [
                          [
                            0,
                            "#0d0887"
                          ],
                          [
                            0.1111111111111111,
                            "#46039f"
                          ],
                          [
                            0.2222222222222222,
                            "#7201a8"
                          ],
                          [
                            0.3333333333333333,
                            "#9c179e"
                          ],
                          [
                            0.4444444444444444,
                            "#bd3786"
                          ],
                          [
                            0.5555555555555556,
                            "#d8576b"
                          ],
                          [
                            0.6666666666666666,
                            "#ed7953"
                          ],
                          [
                            0.7777777777777778,
                            "#fb9f3a"
                          ],
                          [
                            0.8888888888888888,
                            "#fdca26"
                          ],
                          [
                            1,
                            "#f0f921"
                          ]
                        ],
                        "type": "surface"
                      }
                    ],
                    "table": [
                      {
                        "cells": {
                          "fill": {
                            "color": "#EBF0F8"
                          },
                          "line": {
                            "color": "white"
                          }
                        },
                        "header": {
                          "fill": {
                            "color": "#C8D4E3"
                          },
                          "line": {
                            "color": "white"
                          }
                        },
                        "type": "table"
                      }
                    ]
                  },
                  "layout": {
                    "annotationdefaults": {
                      "arrowcolor": "#2a3f5f",
                      "arrowhead": 0,
                      "arrowwidth": 1
                    },
                    "autotypenumbers": "strict",
                    "coloraxis": {
                      "colorbar": {
                        "outlinewidth": 0,
                        "ticks": ""
                      }
                    },
                    "colorscale": {
                      "diverging": [
                        [
                          0,
                          "#8e0152"
                        ],
                        [
                          0.1,
                          "#c51b7d"
                        ],
                        [
                          0.2,
                          "#de77ae"
                        ],
                        [
                          0.3,
                          "#f1b6da"
                        ],
                        [
                          0.4,
                          "#fde0ef"
                        ],
                        [
                          0.5,
                          "#f7f7f7"
                        ],
                        [
                          0.6,
                          "#e6f5d0"
                        ],
                        [
                          0.7,
                          "#b8e186"
                        ],
                        [
                          0.8,
                          "#7fbc41"
                        ],
                        [
                          0.9,
                          "#4d9221"
                        ],
                        [
                          1,
                          "#276419"
                        ]
                      ],
                      "sequential": [
                        [
                          0,
                          "#0d0887"
                        ],
                        [
                          0.1111111111111111,
                          "#46039f"
                        ],
                        [
                          0.2222222222222222,
                          "#7201a8"
                        ],
                        [
                          0.3333333333333333,
                          "#9c179e"
                        ],
                        [
                          0.4444444444444444,
                          "#bd3786"
                        ],
                        [
                          0.5555555555555556,
                          "#d8576b"
                        ],
                        [
                          0.6666666666666666,
                          "#ed7953"
                        ],
                        [
                          0.7777777777777778,
                          "#fb9f3a"
                        ],
                        [
                          0.8888888888888888,
                          "#fdca26"
                        ],
                        [
                          1,
                          "#f0f921"
                        ]
                      ],
                      "sequentialminus": [
                        [
                          0,
                          "#0d0887"
                        ],
                        [
                          0.1111111111111111,
                          "#46039f"
                        ],
                        [
                          0.2222222222222222,
                          "#7201a8"
                        ],
                        [
                          0.3333333333333333,
                          "#9c179e"
                        ],
                        [
                          0.4444444444444444,
                          "#bd3786"
                        ],
                        [
                          0.5555555555555556,
                          "#d8576b"
                        ],
                        [
                          0.6666666666666666,
                          "#ed7953"
                        ],
                        [
                          0.7777777777777778,
                          "#fb9f3a"
                        ],
                        [
                          0.8888888888888888,
                          "#fdca26"
                        ],
                        [
                          1,
                          "#f0f921"
                        ]
                      ]
                    },
                    "colorway": [
                      "#636efa",
                      "#EF553B",
                      "#00cc96",
                      "#ab63fa",
                      "#FFA15A",
                      "#19d3f3",
                      "#FF6692",
                      "#B6E880",
                      "#FF97FF",
                      "#FECB52"
                    ],
                    "font": {
                      "color": "#2a3f5f"
                    },
                    "geo": {
                      "bgcolor": "white",
                      "lakecolor": "white",
                      "landcolor": "#E5ECF6",
                      "showlakes": true,
                      "showland": true,
                      "subunitcolor": "white"
                    },
                    "hoverlabel": {
                      "align": "left"
                    },
                    "hovermode": "closest",
                    "mapbox": {
                      "style": "light"
                    },
                    "paper_bgcolor": "white",
                    "plot_bgcolor": "#E5ECF6",
                    "polar": {
                      "angularaxis": {
                        "gridcolor": "white",
                        "linecolor": "white",
                        "ticks": ""
                      },
                      "bgcolor": "#E5ECF6",
                      "radialaxis": {
                        "gridcolor": "white",
                        "linecolor": "white",
                        "ticks": ""
                      }
                    },
                    "scene": {
                      "xaxis": {
                        "backgroundcolor": "#E5ECF6",
                        "gridcolor": "white",
                        "gridwidth": 2,
                        "linecolor": "white",
                        "showbackground": true,
                        "ticks": "",
                        "zerolinecolor": "white"
                      },
                      "yaxis": {
                        "backgroundcolor": "#E5ECF6",
                        "gridcolor": "white",
                        "gridwidth": 2,
                        "linecolor": "white",
                        "showbackground": true,
                        "ticks": "",
                        "zerolinecolor": "white"
                      },
                      "zaxis": {
                        "backgroundcolor": "#E5ECF6",
                        "gridcolor": "white",
                        "gridwidth": 2,
                        "linecolor": "white",
                        "showbackground": true,
                        "ticks": "",
                        "zerolinecolor": "white"
                      }
                    },
                    "shapedefaults": {
                      "line": {
                        "color": "#2a3f5f"
                      }
                    },
                    "ternary": {
                      "aaxis": {
                        "gridcolor": "white",
                        "linecolor": "white",
                        "ticks": ""
                      },
                      "baxis": {
                        "gridcolor": "white",
                        "linecolor": "white",
                        "ticks": ""
                      },
                      "bgcolor": "#E5ECF6",
                      "caxis": {
                        "gridcolor": "white",
                        "linecolor": "white",
                        "ticks": ""
                      }
                    },
                    "title": {
                      "x": 0.05
                    },
                    "xaxis": {
                      "automargin": true,
                      "gridcolor": "white",
                      "linecolor": "white",
                      "ticks": "",
                      "title": {
                        "standoff": 15
                      },
                      "zerolinecolor": "white",
                      "zerolinewidth": 2
                    },
                    "yaxis": {
                      "automargin": true,
                      "gridcolor": "white",
                      "linecolor": "white",
                      "ticks": "",
                      "title": {
                        "standoff": 15
                      },
                      "zerolinecolor": "white",
                      "zerolinewidth": 2
                    }
                  }
                },
                "title": {
                  "text": "Top Buyers(Spent More than 500k)"
                },
                "xaxis": {
                  "anchor": "y",
                  "domain": [
                    0,
                    1
                  ],
                  "title": {
                    "text": "Customer No."
                  }
                },
                "yaxis": {
                  "anchor": "x",
                  "domain": [
                    0,
                    1
                  ],
                  "title": {
                    "text": "Total Amount"
                  }
                }
              }
            }
          },
          "metadata": {},
          "output_type": "display_data"
        }
      ],
      "source": [
        "top_total_customer_expanse = customer_expanse[customer_expanse['TotalAmount']>500000].round(2)\n",
        "\n",
        "fig = px.bar(top_total_customer_expanse, x=top_total_customer_expanse['CustomerNo'], y=top_total_customer_expanse['TotalAmount'], text_auto='position')\n",
        "fig.update_layout(xaxis_title='Customer No.', yaxis_title='Total Amount', title='Top Buyers(Spent More than 500k)')\n",
        "fig.show()"
      ]
    },
    {
      "cell_type": "code",
      "execution_count": 12,
      "metadata": {
        "colab": {
          "base_uri": "https://localhost:8080/"
        },
        "id": "YT0siM8k8PTa",
        "outputId": "b6d8d5a1-3df3-40ce-eb80-57b51f6a57e9"
      },
      "outputs": [
        {
          "name": "stdout",
          "output_type": "stream",
          "text": [
            "Hightest Number of Customer by Country :\n",
            "            Country  CustomerNo\n",
            "36  United Kingdom      485040\n",
            "14         Germany       10675\n",
            "13          France       10526\n",
            "10            EIRE        8048\n",
            "3          Belgium        2539\n"
          ]
        }
      ],
      "source": [
        "customer_by_country = df.groupby('Country')['CustomerNo'].count().reset_index().sort_values(by=['CustomerNo'], ascending=False)\n",
        "print('Hightest Number of Customer by Country :\\n',customer_by_country.head())"
      ]
    },
    {
      "cell_type": "code",
      "execution_count": 13,
      "metadata": {
        "colab": {
          "base_uri": "https://localhost:8080/"
        },
        "id": "-sF8UKiwujFc",
        "outputId": "fdf76ae5-c51c-41c1-97e6-c2d0678737f7"
      },
      "outputs": [
        {
          "name": "stdout",
          "output_type": "stream",
          "text": [
            "Hightest Total Product Sell by Country :\n",
            "            Country  Quantity\n",
            "36  United Kingdom   4409751\n",
            "24     Netherlands    200510\n",
            "10            EIRE    142549\n",
            "14         Germany    118630\n",
            "13          France    117010\n"
          ]
        }
      ],
      "source": [
        "product_sell_by_country =  df.groupby(['Country'])['Quantity'].sum().reset_index().sort_values(by=['Quantity'], ascending=False)\n",
        "print('Hightest Total Product Sell by Country :\\n',product_sell_by_country.head())"
      ]
    },
    {
      "cell_type": "code",
      "execution_count": 14,
      "metadata": {
        "colab": {
          "base_uri": "https://localhost:8080/"
        },
        "id": "7ituwzsyyBJl",
        "outputId": "b1f661ee-ea0c-48eb-be72-838353bccfe7"
      },
      "outputs": [
        {
          "name": "stdout",
          "output_type": "stream",
          "text": [
            "Hightest Total Product Revenue by Country :\n",
            "            Country  TotalAmount\n",
            "36  United Kingdom  49994030.17\n",
            "24     Netherlands   2147811.39\n",
            "10            EIRE   1660645.07\n",
            "14         Germany   1350265.40\n",
            "13          France   1316880.98\n"
          ]
        }
      ],
      "source": [
        "revenue_by_country = df.groupby('Country')['TotalAmount'].sum().reset_index().sort_values(by=['TotalAmount'], ascending=False)\n",
        "print('Hightest Total Product Revenue by Country :\\n',revenue_by_country.head())"
      ]
    },
    {
      "cell_type": "code",
      "execution_count": 15,
      "metadata": {
        "colab": {
          "base_uri": "https://localhost:8080/"
        },
        "id": "eLPoqEAq9pa0",
        "outputId": "bfba2a6b-90dc-47ed-c8bf-db6bf63f8428"
      },
      "outputs": [
        {
          "name": "stdout",
          "output_type": "stream",
          "text": [
            "Top Customers :\n",
            "              Country  CustomerNo  TotalAmount\n",
            "315      Netherlands     14646.0   2108959.95\n",
            "4592  United Kingdom     18102.0    897137.36\n",
            "3          Australia     12415.0    895267.24\n",
            "4095  United Kingdom     17450.0    876816.01\n",
            "76              EIRE     14911.0    873037.90\n"
          ]
        }
      ],
      "source": [
        "top_customer_by_country = df.groupby(['Country','CustomerNo'])['TotalAmount'].sum().reset_index().sort_values(by=['TotalAmount'], ascending=False)\n",
        "print('Top Customers :\\n',top_customer_by_country.head())"
      ]
    },
    {
      "cell_type": "code",
      "execution_count": 16,
      "metadata": {
        "id": "G5w5GTu-YL6z"
      },
      "outputs": [],
      "source": [
        "product_revenue_overall = df.groupby(['Date','Country'])['TotalAmount'].sum().reset_index()\n",
        "product_revenue_uk = product_revenue_overall[product_revenue_overall['Country']=='United Kingdom']\n",
        "product_revenue_other_countries = product_revenue_overall[product_revenue_overall['Country'] !='United Kingdom']\n",
        "product_revenue_other_countries = product_revenue_other_countries.groupby('Date')['TotalAmount'].sum().reset_index()"
      ]
    },
    {
      "cell_type": "code",
      "execution_count": 17,
      "metadata": {
        "colab": {
          "base_uri": "https://localhost:8080/",
          "height": 542
        },
        "id": "kAnDz2diaFUt",
        "outputId": "fbe62ec6-2d6d-46e7-fa30-16f79a362783"
      },
      "outputs": [
        {
          "data": {
            "application/vnd.plotly.v1+json": {
              "config": {
                "plotlyServerURL": "https://plot.ly"
              },
              "data": [
                {
                  "name": "United Kingdom",
                  "type": "scatter",
                  "x": [
                    "2018-12-01T00:00:00",
                    "2018-12-02T00:00:00",
                    "2018-12-03T00:00:00",
                    "2018-12-05T00:00:00",
                    "2018-12-06T00:00:00",
                    "2018-12-07T00:00:00",
                    "2018-12-08T00:00:00",
                    "2018-12-09T00:00:00",
                    "2018-12-10T00:00:00",
                    "2018-12-12T00:00:00",
                    "2018-12-13T00:00:00",
                    "2018-12-14T00:00:00",
                    "2018-12-15T00:00:00",
                    "2018-12-16T00:00:00",
                    "2018-12-17T00:00:00",
                    "2018-12-19T00:00:00",
                    "2018-12-20T00:00:00",
                    "2018-12-21T00:00:00",
                    "2018-12-22T00:00:00",
                    "2018-12-23T00:00:00",
                    "2019-01-04T00:00:00",
                    "2019-01-05T00:00:00",
                    "2019-01-06T00:00:00",
                    "2019-01-07T00:00:00",
                    "2019-01-09T00:00:00",
                    "2019-01-10T00:00:00",
                    "2019-01-11T00:00:00",
                    "2019-01-12T00:00:00",
                    "2019-01-13T00:00:00",
                    "2019-01-14T00:00:00",
                    "2019-01-16T00:00:00",
                    "2019-01-17T00:00:00",
                    "2019-01-18T00:00:00",
                    "2019-01-19T00:00:00",
                    "2019-01-20T00:00:00",
                    "2019-01-21T00:00:00",
                    "2019-01-23T00:00:00",
                    "2019-01-24T00:00:00",
                    "2019-01-25T00:00:00",
                    "2019-01-26T00:00:00",
                    "2019-01-27T00:00:00",
                    "2019-01-28T00:00:00",
                    "2019-01-30T00:00:00",
                    "2019-01-31T00:00:00",
                    "2019-02-01T00:00:00",
                    "2019-02-02T00:00:00",
                    "2019-02-03T00:00:00",
                    "2019-02-04T00:00:00",
                    "2019-02-06T00:00:00",
                    "2019-02-07T00:00:00",
                    "2019-02-08T00:00:00",
                    "2019-02-09T00:00:00",
                    "2019-02-10T00:00:00",
                    "2019-02-11T00:00:00",
                    "2019-02-13T00:00:00",
                    "2019-02-14T00:00:00",
                    "2019-02-15T00:00:00",
                    "2019-02-16T00:00:00",
                    "2019-02-17T00:00:00",
                    "2019-02-18T00:00:00",
                    "2019-02-20T00:00:00",
                    "2019-02-21T00:00:00",
                    "2019-02-22T00:00:00",
                    "2019-02-23T00:00:00",
                    "2019-02-24T00:00:00",
                    "2019-02-25T00:00:00",
                    "2019-02-27T00:00:00",
                    "2019-02-28T00:00:00",
                    "2019-03-01T00:00:00",
                    "2019-03-02T00:00:00",
                    "2019-03-03T00:00:00",
                    "2019-03-04T00:00:00",
                    "2019-03-06T00:00:00",
                    "2019-03-07T00:00:00",
                    "2019-03-08T00:00:00",
                    "2019-03-09T00:00:00",
                    "2019-03-10T00:00:00",
                    "2019-03-11T00:00:00",
                    "2019-03-13T00:00:00",
                    "2019-03-14T00:00:00",
                    "2019-03-15T00:00:00",
                    "2019-03-16T00:00:00",
                    "2019-03-17T00:00:00",
                    "2019-03-18T00:00:00",
                    "2019-03-20T00:00:00",
                    "2019-03-21T00:00:00",
                    "2019-03-22T00:00:00",
                    "2019-03-23T00:00:00",
                    "2019-03-24T00:00:00",
                    "2019-03-25T00:00:00",
                    "2019-03-27T00:00:00",
                    "2019-03-28T00:00:00",
                    "2019-03-29T00:00:00",
                    "2019-03-30T00:00:00",
                    "2019-03-31T00:00:00",
                    "2019-04-01T00:00:00",
                    "2019-04-03T00:00:00",
                    "2019-04-04T00:00:00",
                    "2019-04-05T00:00:00",
                    "2019-04-06T00:00:00",
                    "2019-04-07T00:00:00",
                    "2019-04-08T00:00:00",
                    "2019-04-10T00:00:00",
                    "2019-04-11T00:00:00",
                    "2019-04-12T00:00:00",
                    "2019-04-13T00:00:00",
                    "2019-04-14T00:00:00",
                    "2019-04-15T00:00:00",
                    "2019-04-17T00:00:00",
                    "2019-04-18T00:00:00",
                    "2019-04-19T00:00:00",
                    "2019-04-20T00:00:00",
                    "2019-04-21T00:00:00",
                    "2019-04-26T00:00:00",
                    "2019-04-27T00:00:00",
                    "2019-04-28T00:00:00",
                    "2019-05-01T00:00:00",
                    "2019-05-03T00:00:00",
                    "2019-05-04T00:00:00",
                    "2019-05-05T00:00:00",
                    "2019-05-06T00:00:00",
                    "2019-05-08T00:00:00",
                    "2019-05-09T00:00:00",
                    "2019-05-10T00:00:00",
                    "2019-05-11T00:00:00",
                    "2019-05-12T00:00:00",
                    "2019-05-13T00:00:00",
                    "2019-05-15T00:00:00",
                    "2019-05-16T00:00:00",
                    "2019-05-17T00:00:00",
                    "2019-05-18T00:00:00",
                    "2019-05-19T00:00:00",
                    "2019-05-20T00:00:00",
                    "2019-05-22T00:00:00",
                    "2019-05-23T00:00:00",
                    "2019-05-24T00:00:00",
                    "2019-05-25T00:00:00",
                    "2019-05-26T00:00:00",
                    "2019-05-27T00:00:00",
                    "2019-05-29T00:00:00",
                    "2019-05-31T00:00:00",
                    "2019-06-01T00:00:00",
                    "2019-06-02T00:00:00",
                    "2019-06-03T00:00:00",
                    "2019-06-05T00:00:00",
                    "2019-06-06T00:00:00",
                    "2019-06-07T00:00:00",
                    "2019-06-08T00:00:00",
                    "2019-06-09T00:00:00",
                    "2019-06-10T00:00:00",
                    "2019-06-12T00:00:00",
                    "2019-06-13T00:00:00",
                    "2019-06-14T00:00:00",
                    "2019-06-15T00:00:00",
                    "2019-06-16T00:00:00",
                    "2019-06-17T00:00:00",
                    "2019-06-19T00:00:00",
                    "2019-06-20T00:00:00",
                    "2019-06-21T00:00:00",
                    "2019-06-22T00:00:00",
                    "2019-06-23T00:00:00",
                    "2019-06-24T00:00:00",
                    "2019-06-26T00:00:00",
                    "2019-06-27T00:00:00",
                    "2019-06-28T00:00:00",
                    "2019-06-29T00:00:00",
                    "2019-06-30T00:00:00",
                    "2019-07-01T00:00:00",
                    "2019-07-03T00:00:00",
                    "2019-07-04T00:00:00",
                    "2019-07-05T00:00:00",
                    "2019-07-06T00:00:00",
                    "2019-07-07T00:00:00",
                    "2019-07-08T00:00:00",
                    "2019-07-10T00:00:00",
                    "2019-07-11T00:00:00",
                    "2019-07-12T00:00:00",
                    "2019-07-13T00:00:00",
                    "2019-07-14T00:00:00",
                    "2019-07-15T00:00:00",
                    "2019-07-17T00:00:00",
                    "2019-07-18T00:00:00",
                    "2019-07-19T00:00:00",
                    "2019-07-20T00:00:00",
                    "2019-07-21T00:00:00",
                    "2019-07-22T00:00:00",
                    "2019-07-24T00:00:00",
                    "2019-07-25T00:00:00",
                    "2019-07-26T00:00:00",
                    "2019-07-27T00:00:00",
                    "2019-07-28T00:00:00",
                    "2019-07-29T00:00:00",
                    "2019-07-31T00:00:00",
                    "2019-08-01T00:00:00",
                    "2019-08-02T00:00:00",
                    "2019-08-03T00:00:00",
                    "2019-08-04T00:00:00",
                    "2019-08-05T00:00:00",
                    "2019-08-07T00:00:00",
                    "2019-08-08T00:00:00",
                    "2019-08-09T00:00:00",
                    "2019-08-10T00:00:00",
                    "2019-08-11T00:00:00",
                    "2019-08-12T00:00:00",
                    "2019-08-14T00:00:00",
                    "2019-08-15T00:00:00",
                    "2019-08-16T00:00:00",
                    "2019-08-17T00:00:00",
                    "2019-08-18T00:00:00",
                    "2019-08-19T00:00:00",
                    "2019-08-21T00:00:00",
                    "2019-08-22T00:00:00",
                    "2019-08-23T00:00:00",
                    "2019-08-24T00:00:00",
                    "2019-08-25T00:00:00",
                    "2019-08-26T00:00:00",
                    "2019-08-28T00:00:00",
                    "2019-08-30T00:00:00",
                    "2019-08-31T00:00:00",
                    "2019-09-01T00:00:00",
                    "2019-09-02T00:00:00",
                    "2019-09-04T00:00:00",
                    "2019-09-05T00:00:00",
                    "2019-09-06T00:00:00",
                    "2019-09-07T00:00:00",
                    "2019-09-08T00:00:00",
                    "2019-09-09T00:00:00",
                    "2019-09-11T00:00:00",
                    "2019-09-12T00:00:00",
                    "2019-09-13T00:00:00",
                    "2019-09-14T00:00:00",
                    "2019-09-15T00:00:00",
                    "2019-09-16T00:00:00",
                    "2019-09-18T00:00:00",
                    "2019-09-19T00:00:00",
                    "2019-09-20T00:00:00",
                    "2019-09-21T00:00:00",
                    "2019-09-22T00:00:00",
                    "2019-09-23T00:00:00",
                    "2019-09-25T00:00:00",
                    "2019-09-26T00:00:00",
                    "2019-09-27T00:00:00",
                    "2019-09-28T00:00:00",
                    "2019-09-29T00:00:00",
                    "2019-09-30T00:00:00",
                    "2019-10-02T00:00:00",
                    "2019-10-03T00:00:00",
                    "2019-10-04T00:00:00",
                    "2019-10-05T00:00:00",
                    "2019-10-06T00:00:00",
                    "2019-10-07T00:00:00",
                    "2019-10-09T00:00:00",
                    "2019-10-10T00:00:00",
                    "2019-10-11T00:00:00",
                    "2019-10-12T00:00:00",
                    "2019-10-13T00:00:00",
                    "2019-10-14T00:00:00",
                    "2019-10-16T00:00:00",
                    "2019-10-17T00:00:00",
                    "2019-10-18T00:00:00",
                    "2019-10-19T00:00:00",
                    "2019-10-20T00:00:00",
                    "2019-10-21T00:00:00",
                    "2019-10-23T00:00:00",
                    "2019-10-24T00:00:00",
                    "2019-10-25T00:00:00",
                    "2019-10-26T00:00:00",
                    "2019-10-27T00:00:00",
                    "2019-10-28T00:00:00",
                    "2019-10-30T00:00:00",
                    "2019-10-31T00:00:00",
                    "2019-11-01T00:00:00",
                    "2019-11-02T00:00:00",
                    "2019-11-03T00:00:00",
                    "2019-11-04T00:00:00",
                    "2019-11-06T00:00:00",
                    "2019-11-07T00:00:00",
                    "2019-11-08T00:00:00",
                    "2019-11-09T00:00:00",
                    "2019-11-10T00:00:00",
                    "2019-11-11T00:00:00",
                    "2019-11-13T00:00:00",
                    "2019-11-14T00:00:00",
                    "2019-11-15T00:00:00",
                    "2019-11-16T00:00:00",
                    "2019-11-17T00:00:00",
                    "2019-11-18T00:00:00",
                    "2019-11-20T00:00:00",
                    "2019-11-21T00:00:00",
                    "2019-11-22T00:00:00",
                    "2019-11-23T00:00:00",
                    "2019-11-24T00:00:00",
                    "2019-11-25T00:00:00",
                    "2019-11-27T00:00:00",
                    "2019-11-28T00:00:00",
                    "2019-11-29T00:00:00",
                    "2019-11-30T00:00:00",
                    "2019-12-01T00:00:00",
                    "2019-12-02T00:00:00",
                    "2019-12-04T00:00:00",
                    "2019-12-05T00:00:00",
                    "2019-12-06T00:00:00",
                    "2019-12-07T00:00:00",
                    "2019-12-08T00:00:00",
                    "2019-12-09T00:00:00"
                  ],
                  "y": [
                    291486.85,
                    258636.05000000002,
                    138222.16,
                    163234.51,
                    261786.08,
                    287930.8,
                    235089.26,
                    199913.36,
                    237681.56,
                    96861.72,
                    192887.44999999998,
                    229334.65,
                    207067.58,
                    328569.96,
                    120211.95999999999,
                    40513.7,
                    154245.9,
                    115577.75,
                    28073,
                    56832.49,
                    96169.78,
                    215118.76,
                    198841.16,
                    124092.14,
                    87806.77,
                    130665.36,
                    334138.23,
                    117893.06,
                    107656.59,
                    87540.27,
                    48153.659999999996,
                    139903.85,
                    67710.79000000007,
                    92881.59999999999,
                    78880.51,
                    113751.54,
                    60317.72,
                    104799.72,
                    137731.06,
                    101497.06999999999,
                    109467.84,
                    62391.29,
                    40603.049999999996,
                    108509.8,
                    166717.86,
                    107270.36,
                    168741.15,
                    139166.52,
                    22892.13,
                    107863.81999999999,
                    102873.11,
                    40204.35,
                    126324.52,
                    107975.26000000001,
                    33196.92,
                    127616.86,
                    127799.83,
                    153238.72,
                    156731.13,
                    91416.11,
                    62744.409999999996,
                    88519.81,
                    218862.47,
                    142570.49,
                    138319.17,
                    113678.98,
                    55477.07,
                    103821.09999999999,
                    94342.91,
                    99891.94,
                    106720.7,
                    136785.73,
                    60109.59,
                    159544.24,
                    152507.91,
                    122823.14,
                    124814.98,
                    113739.48,
                    29422.34,
                    119644.99,
                    89838.26,
                    139969.15,
                    179557.16,
                    145792.48,
                    153427.65,
                    112936.73999999999,
                    173750.74,
                    128679.68,
                    204119.98,
                    129315.56,
                    53594.03,
                    102985.02,
                    245201.72,
                    207279.76,
                    150697.02,
                    182381.95,
                    64739.64,
                    138737.68,
                    133656.34,
                    99901.95999999999,
                    100243.97,
                    135933.15,
                    62767.76,
                    138618.38999999998,
                    162421.2,
                    198378.98,
                    192766.65,
                    142075.84,
                    88209.56,
                    157750.38,
                    142001.48,
                    203665.97,
                    191316.88,
                    184087.82,
                    194492.33,
                    139620.66999999998,
                    35928.08,
                    117379.58,
                    181335.1,
                    176449.15,
                    204542.66999999998,
                    107857.83,
                    139856.5,
                    177523.91999999998,
                    184698.13,
                    177095.8,
                    153715.04,
                    55276.4,
                    162727.78,
                    204543.13,
                    200137.24,
                    174770.55,
                    156849.15,
                    134875.07,
                    181345.83,
                    188616.88999999998,
                    122353.81999999999,
                    119649.73999999999,
                    171794.83,
                    44659.83,
                    115525.53,
                    88187.93,
                    152921.45,
                    82298.42,
                    119139.33,
                    88751.09999999999,
                    211995.48,
                    195262.69999999998,
                    291774.35,
                    79751.11,
                    95761.99,
                    79833.37,
                    183121.83,
                    115447.81999999999,
                    215915.13999999998,
                    108958.83,
                    114322.64,
                    140782.2,
                    146092.69,
                    134288.03,
                    148318.96,
                    98662.28,
                    35848.3,
                    105022.63,
                    124093.84,
                    114697.78,
                    228815.57,
                    66109.63,
                    34843.49,
                    177090.59,
                    243792.9,
                    163360.29,
                    188149.88999999998,
                    115783.5,
                    47599.77,
                    158177.3,
                    146525.52,
                    113565.02,
                    152557.44,
                    76802.91,
                    116944.22,
                    117028.1,
                    224686.74,
                    181138.62,
                    201996.77,
                    108759.36,
                    179500.33,
                    157788.5,
                    143770.31,
                    110628.98,
                    298618.73,
                    119131.59,
                    121207.48,
                    119786.51,
                    130983.45999999999,
                    170415.7,
                    399071.06,
                    125379.29,
                    57833.78,
                    134811.51,
                    86517.68,
                    143087.47,
                    253459.06,
                    100672.08,
                    36259.45,
                    84359.45,
                    122809.72,
                    258274.45,
                    199708.6,
                    89140.45,
                    76898.3,
                    158257.83,
                    149168.12,
                    291804.22,
                    124655.95,
                    108312.11,
                    68733.87,
                    121092.43,
                    56445.86,
                    244381.47,
                    197945.3,
                    87596.98,
                    177600.52,
                    149196.01,
                    140471.44,
                    160011.47,
                    158431.24,
                    235896.52,
                    193316.93,
                    300837.99,
                    134960.69,
                    336339.32,
                    164150.37,
                    101742.84,
                    136324.01,
                    529818.76,
                    186533.98,
                    301041.19,
                    197994.52,
                    208893.38,
                    166967.14,
                    235038.53,
                    250462.48,
                    271599.79,
                    212767.81,
                    96226.99,
                    317931.52999999997,
                    282106.64,
                    357109.97,
                    296902.59,
                    300723.81,
                    85117.78,
                    269184.49,
                    164261.1,
                    165323.52,
                    164087.31,
                    172697.66999999998,
                    106598.18,
                    218533.55,
                    275328.85,
                    174775.24,
                    192226.34,
                    260269.22,
                    84522.55,
                    233043.28,
                    278123.66,
                    216465.4,
                    276211.46,
                    205057.83,
                    204873.32,
                    234704.15,
                    168614.39,
                    289208,
                    375334.63,
                    377321.54,
                    208294.5,
                    357877.36,
                    293567.27,
                    374779.22,
                    329237.11,
                    278659.1,
                    199523.51,
                    526390.54,
                    293921.88,
                    302010.48,
                    268057.02999999997,
                    222313.04,
                    206959.07,
                    278263.29,
                    310692.82,
                    198306.65,
                    128350.68000000001,
                    186919.19,
                    69535.61,
                    173495.53,
                    173454.02,
                    146553.51,
                    163331.02,
                    163061.08000000002,
                    69192.73,
                    277327.33,
                    178388.84,
                    187681.17,
                    204266.61000000002,
                    571382.5000000001
                  ]
                },
                {
                  "name": "Other Countries",
                  "type": "scatter",
                  "x": [
                    "2018-12-01T00:00:00",
                    "2018-12-02T00:00:00",
                    "2018-12-03T00:00:00",
                    "2018-12-05T00:00:00",
                    "2018-12-06T00:00:00",
                    "2018-12-07T00:00:00",
                    "2018-12-08T00:00:00",
                    "2018-12-09T00:00:00",
                    "2018-12-10T00:00:00",
                    "2018-12-12T00:00:00",
                    "2018-12-13T00:00:00",
                    "2018-12-14T00:00:00",
                    "2018-12-15T00:00:00",
                    "2018-12-16T00:00:00",
                    "2018-12-17T00:00:00",
                    "2018-12-19T00:00:00",
                    "2018-12-20T00:00:00",
                    "2018-12-21T00:00:00",
                    "2018-12-22T00:00:00",
                    "2018-12-23T00:00:00",
                    "2019-01-04T00:00:00",
                    "2019-01-05T00:00:00",
                    "2019-01-06T00:00:00",
                    "2019-01-07T00:00:00",
                    "2019-01-09T00:00:00",
                    "2019-01-10T00:00:00",
                    "2019-01-11T00:00:00",
                    "2019-01-12T00:00:00",
                    "2019-01-13T00:00:00",
                    "2019-01-14T00:00:00",
                    "2019-01-17T00:00:00",
                    "2019-01-18T00:00:00",
                    "2019-01-19T00:00:00",
                    "2019-01-20T00:00:00",
                    "2019-01-21T00:00:00",
                    "2019-01-23T00:00:00",
                    "2019-01-24T00:00:00",
                    "2019-01-25T00:00:00",
                    "2019-01-26T00:00:00",
                    "2019-01-27T00:00:00",
                    "2019-01-28T00:00:00",
                    "2019-01-31T00:00:00",
                    "2019-02-01T00:00:00",
                    "2019-02-02T00:00:00",
                    "2019-02-03T00:00:00",
                    "2019-02-04T00:00:00",
                    "2019-02-07T00:00:00",
                    "2019-02-08T00:00:00",
                    "2019-02-09T00:00:00",
                    "2019-02-10T00:00:00",
                    "2019-02-11T00:00:00",
                    "2019-02-14T00:00:00",
                    "2019-02-15T00:00:00",
                    "2019-02-16T00:00:00",
                    "2019-02-17T00:00:00",
                    "2019-02-18T00:00:00",
                    "2019-02-21T00:00:00",
                    "2019-02-22T00:00:00",
                    "2019-02-23T00:00:00",
                    "2019-02-24T00:00:00",
                    "2019-02-25T00:00:00",
                    "2019-02-27T00:00:00",
                    "2019-02-28T00:00:00",
                    "2019-03-01T00:00:00",
                    "2019-03-02T00:00:00",
                    "2019-03-03T00:00:00",
                    "2019-03-04T00:00:00",
                    "2019-03-07T00:00:00",
                    "2019-03-08T00:00:00",
                    "2019-03-09T00:00:00",
                    "2019-03-10T00:00:00",
                    "2019-03-11T00:00:00",
                    "2019-03-13T00:00:00",
                    "2019-03-14T00:00:00",
                    "2019-03-15T00:00:00",
                    "2019-03-16T00:00:00",
                    "2019-03-17T00:00:00",
                    "2019-03-18T00:00:00",
                    "2019-03-20T00:00:00",
                    "2019-03-21T00:00:00",
                    "2019-03-22T00:00:00",
                    "2019-03-23T00:00:00",
                    "2019-03-24T00:00:00",
                    "2019-03-25T00:00:00",
                    "2019-03-27T00:00:00",
                    "2019-03-28T00:00:00",
                    "2019-03-29T00:00:00",
                    "2019-03-30T00:00:00",
                    "2019-03-31T00:00:00",
                    "2019-04-01T00:00:00",
                    "2019-04-04T00:00:00",
                    "2019-04-05T00:00:00",
                    "2019-04-06T00:00:00",
                    "2019-04-07T00:00:00",
                    "2019-04-08T00:00:00",
                    "2019-04-10T00:00:00",
                    "2019-04-11T00:00:00",
                    "2019-04-12T00:00:00",
                    "2019-04-13T00:00:00",
                    "2019-04-14T00:00:00",
                    "2019-04-15T00:00:00",
                    "2019-04-17T00:00:00",
                    "2019-04-18T00:00:00",
                    "2019-04-19T00:00:00",
                    "2019-04-20T00:00:00",
                    "2019-04-21T00:00:00",
                    "2019-04-26T00:00:00",
                    "2019-04-27T00:00:00",
                    "2019-04-28T00:00:00",
                    "2019-05-01T00:00:00",
                    "2019-05-03T00:00:00",
                    "2019-05-04T00:00:00",
                    "2019-05-05T00:00:00",
                    "2019-05-06T00:00:00",
                    "2019-05-08T00:00:00",
                    "2019-05-09T00:00:00",
                    "2019-05-10T00:00:00",
                    "2019-05-11T00:00:00",
                    "2019-05-12T00:00:00",
                    "2019-05-13T00:00:00",
                    "2019-05-15T00:00:00",
                    "2019-05-16T00:00:00",
                    "2019-05-17T00:00:00",
                    "2019-05-18T00:00:00",
                    "2019-05-19T00:00:00",
                    "2019-05-20T00:00:00",
                    "2019-05-22T00:00:00",
                    "2019-05-23T00:00:00",
                    "2019-05-24T00:00:00",
                    "2019-05-25T00:00:00",
                    "2019-05-26T00:00:00",
                    "2019-05-27T00:00:00",
                    "2019-05-29T00:00:00",
                    "2019-05-31T00:00:00",
                    "2019-06-01T00:00:00",
                    "2019-06-02T00:00:00",
                    "2019-06-03T00:00:00",
                    "2019-06-05T00:00:00",
                    "2019-06-06T00:00:00",
                    "2019-06-07T00:00:00",
                    "2019-06-08T00:00:00",
                    "2019-06-09T00:00:00",
                    "2019-06-10T00:00:00",
                    "2019-06-12T00:00:00",
                    "2019-06-13T00:00:00",
                    "2019-06-14T00:00:00",
                    "2019-06-15T00:00:00",
                    "2019-06-16T00:00:00",
                    "2019-06-17T00:00:00",
                    "2019-06-19T00:00:00",
                    "2019-06-20T00:00:00",
                    "2019-06-21T00:00:00",
                    "2019-06-22T00:00:00",
                    "2019-06-23T00:00:00",
                    "2019-06-24T00:00:00",
                    "2019-06-26T00:00:00",
                    "2019-06-27T00:00:00",
                    "2019-06-28T00:00:00",
                    "2019-06-29T00:00:00",
                    "2019-06-30T00:00:00",
                    "2019-07-01T00:00:00",
                    "2019-07-03T00:00:00",
                    "2019-07-04T00:00:00",
                    "2019-07-05T00:00:00",
                    "2019-07-06T00:00:00",
                    "2019-07-07T00:00:00",
                    "2019-07-08T00:00:00",
                    "2019-07-11T00:00:00",
                    "2019-07-12T00:00:00",
                    "2019-07-13T00:00:00",
                    "2019-07-14T00:00:00",
                    "2019-07-15T00:00:00",
                    "2019-07-17T00:00:00",
                    "2019-07-18T00:00:00",
                    "2019-07-19T00:00:00",
                    "2019-07-20T00:00:00",
                    "2019-07-21T00:00:00",
                    "2019-07-22T00:00:00",
                    "2019-07-24T00:00:00",
                    "2019-07-25T00:00:00",
                    "2019-07-26T00:00:00",
                    "2019-07-27T00:00:00",
                    "2019-07-28T00:00:00",
                    "2019-07-29T00:00:00",
                    "2019-07-31T00:00:00",
                    "2019-08-01T00:00:00",
                    "2019-08-02T00:00:00",
                    "2019-08-03T00:00:00",
                    "2019-08-04T00:00:00",
                    "2019-08-05T00:00:00",
                    "2019-08-07T00:00:00",
                    "2019-08-08T00:00:00",
                    "2019-08-09T00:00:00",
                    "2019-08-10T00:00:00",
                    "2019-08-11T00:00:00",
                    "2019-08-12T00:00:00",
                    "2019-08-14T00:00:00",
                    "2019-08-15T00:00:00",
                    "2019-08-16T00:00:00",
                    "2019-08-17T00:00:00",
                    "2019-08-18T00:00:00",
                    "2019-08-19T00:00:00",
                    "2019-08-21T00:00:00",
                    "2019-08-22T00:00:00",
                    "2019-08-23T00:00:00",
                    "2019-08-24T00:00:00",
                    "2019-08-25T00:00:00",
                    "2019-08-26T00:00:00",
                    "2019-08-28T00:00:00",
                    "2019-08-30T00:00:00",
                    "2019-08-31T00:00:00",
                    "2019-09-01T00:00:00",
                    "2019-09-02T00:00:00",
                    "2019-09-04T00:00:00",
                    "2019-09-05T00:00:00",
                    "2019-09-06T00:00:00",
                    "2019-09-07T00:00:00",
                    "2019-09-08T00:00:00",
                    "2019-09-09T00:00:00",
                    "2019-09-11T00:00:00",
                    "2019-09-13T00:00:00",
                    "2019-09-14T00:00:00",
                    "2019-09-15T00:00:00",
                    "2019-09-16T00:00:00",
                    "2019-09-19T00:00:00",
                    "2019-09-20T00:00:00",
                    "2019-09-21T00:00:00",
                    "2019-09-22T00:00:00",
                    "2019-09-23T00:00:00",
                    "2019-09-25T00:00:00",
                    "2019-09-26T00:00:00",
                    "2019-09-27T00:00:00",
                    "2019-09-28T00:00:00",
                    "2019-09-29T00:00:00",
                    "2019-09-30T00:00:00",
                    "2019-10-03T00:00:00",
                    "2019-10-04T00:00:00",
                    "2019-10-05T00:00:00",
                    "2019-10-06T00:00:00",
                    "2019-10-07T00:00:00",
                    "2019-10-10T00:00:00",
                    "2019-10-11T00:00:00",
                    "2019-10-12T00:00:00",
                    "2019-10-13T00:00:00",
                    "2019-10-14T00:00:00",
                    "2019-10-17T00:00:00",
                    "2019-10-18T00:00:00",
                    "2019-10-19T00:00:00",
                    "2019-10-20T00:00:00",
                    "2019-10-21T00:00:00",
                    "2019-10-23T00:00:00",
                    "2019-10-24T00:00:00",
                    "2019-10-25T00:00:00",
                    "2019-10-26T00:00:00",
                    "2019-10-27T00:00:00",
                    "2019-10-28T00:00:00",
                    "2019-10-30T00:00:00",
                    "2019-10-31T00:00:00",
                    "2019-11-01T00:00:00",
                    "2019-11-02T00:00:00",
                    "2019-11-03T00:00:00",
                    "2019-11-04T00:00:00",
                    "2019-11-06T00:00:00",
                    "2019-11-07T00:00:00",
                    "2019-11-08T00:00:00",
                    "2019-11-09T00:00:00",
                    "2019-11-10T00:00:00",
                    "2019-11-11T00:00:00",
                    "2019-11-13T00:00:00",
                    "2019-11-14T00:00:00",
                    "2019-11-15T00:00:00",
                    "2019-11-16T00:00:00",
                    "2019-11-17T00:00:00",
                    "2019-11-18T00:00:00",
                    "2019-11-20T00:00:00",
                    "2019-11-21T00:00:00",
                    "2019-11-22T00:00:00",
                    "2019-11-23T00:00:00",
                    "2019-11-24T00:00:00",
                    "2019-11-25T00:00:00",
                    "2019-11-27T00:00:00",
                    "2019-11-28T00:00:00",
                    "2019-11-29T00:00:00",
                    "2019-11-30T00:00:00",
                    "2019-12-01T00:00:00",
                    "2019-12-02T00:00:00",
                    "2019-12-04T00:00:00",
                    "2019-12-05T00:00:00",
                    "2019-12-06T00:00:00",
                    "2019-12-07T00:00:00",
                    "2019-12-08T00:00:00",
                    "2019-12-09T00:00:00"
                  ],
                  "y": [
                    33162.38,
                    1665.6,
                    63753.02,
                    33396.29,
                    8870.789999999999,
                    48575.09,
                    30872.34,
                    47236.51,
                    24326.63,
                    28077.99,
                    24929.75,
                    11775.33,
                    11286.1,
                    17965.06,
                    81719.37000000001,
                    5848.639999999999,
                    14012.39,
                    81296.18,
                    9282.02,
                    11939.21,
                    3307.72,
                    6344.480000000001,
                    62538.439999999995,
                    59127.469999999994,
                    8846.93,
                    23441.25,
                    20291.08,
                    13091.58,
                    10635.89,
                    185183.31,
                    24305.79,
                    36570.95,
                    103845.88,
                    44848.19,
                    68442.51,
                    1646.55,
                    38902.57,
                    35290.09,
                    27200.61,
                    23630.02,
                    48218.77,
                    37274.72,
                    14704.460000000001,
                    6020.11,
                    11724.54,
                    11061.5,
                    8298.15,
                    17966.079999999998,
                    45693.13,
                    5535.74,
                    13239.94,
                    24486.65,
                    139667.49,
                    34069.649999999994,
                    12688.85,
                    11656.550000000001,
                    163300.31999999998,
                    30911.899999999998,
                    22002.23,
                    2559.1,
                    521.2700000000004,
                    3459.91,
                    15947.84,
                    49697.97,
                    5298.54,
                    131666.81,
                    16803.67,
                    4233.75,
                    15844.27,
                    18817.04,
                    52203.24,
                    12619.349999999999,
                    2190.45,
                    74555.09,
                    19111.36,
                    8064.96,
                    32051.160000000003,
                    19104.940000000002,
                    10100.95,
                    2473.45,
                    21001.28,
                    33766.14,
                    13801.189999999999,
                    38294.81,
                    645.11,
                    31735.859999999997,
                    135328.12,
                    25046.47,
                    41359.9,
                    21941.41,
                    14834.96,
                    50192.97,
                    7543.82,
                    22560.7,
                    16024.25,
                    2236.38,
                    19697.260000000002,
                    9079.96,
                    7681.11,
                    21005.24,
                    10180.81,
                    6591.0199999999995,
                    79523.34999999999,
                    23587.78,
                    4099.12,
                    21714.12,
                    3297.1099999999997,
                    8542.28,
                    12006.989999999998,
                    7165.21,
                    28513.73,
                    19451.129999999997,
                    25765.15,
                    27039.52,
                    13839.1,
                    13312.32,
                    31795.690000000002,
                    26655.95,
                    247608.66999999998,
                    18383.04,
                    3553.46,
                    31032.58,
                    114611.94,
                    20297.19,
                    30359.79,
                    13612.66,
                    14334.77,
                    23654.61,
                    3610.6299999999997,
                    22015.95,
                    68945.7,
                    12702.720000000001,
                    3126.61,
                    19954.65,
                    38712.73,
                    13264.28,
                    9387.23,
                    35030.48,
                    15610.82,
                    5896.78,
                    50577.78,
                    37690.97,
                    41921.58,
                    10766.779999999999,
                    29768.73,
                    971.0800000000002,
                    222759,
                    17191.11,
                    24872,
                    53145.39,
                    37279.1,
                    19513.35,
                    42078.22,
                    15214.699999999999,
                    13844.77,
                    5471.57,
                    5654.57,
                    115968.24,
                    24466.97,
                    23298.29,
                    15757.2,
                    1610.52,
                    17377.66,
                    6649.7699999999995,
                    50479.86,
                    10689.98,
                    20353.75,
                    14892.220000000001,
                    14685.56,
                    68680.44,
                    49290.1,
                    4792.51,
                    4283.3099999999995,
                    51631.649999999994,
                    107511.20999999999,
                    9873.71,
                    20991.19,
                    11087.02,
                    11916.84,
                    23700.14,
                    5207.23,
                    45232.07,
                    54085.25,
                    9305.789999999999,
                    122704.96,
                    10157.56,
                    44677.64,
                    11552.34,
                    26849.629999999997,
                    20714.44,
                    601.24,
                    17076.4,
                    85903.59999999999,
                    17528.670000000002,
                    183536.18,
                    37582.369999999995,
                    63.24,
                    30536.36,
                    1922.98,
                    20035.51,
                    178879.78999999998,
                    29779.57,
                    11622.78,
                    15735.46,
                    18721.18,
                    17335,
                    23324.76,
                    93770.01999999999,
                    9312.94,
                    6136.08,
                    32949.4,
                    66816.32,
                    22446.89,
                    38069.549999999996,
                    81256.20999999999,
                    25049.07,
                    40100.86,
                    38207.229999999996,
                    42690.32,
                    10086.03,
                    107683.29000000001,
                    27793.6,
                    20791.420000000002,
                    9159.81,
                    189228.43,
                    18193.73,
                    50429.52,
                    73212.91,
                    48581.81,
                    15778.169999999998,
                    13882.27,
                    8988.31,
                    38371.56,
                    22196.65,
                    53371.659999999996,
                    1573.5300000000002,
                    5038.35,
                    158882.11,
                    48405.240000000005,
                    56361.5,
                    33469.64,
                    79496.59,
                    22121.85,
                    54183.93,
                    42856.32,
                    119716.29000000001,
                    57082.13,
                    51219.92,
                    276896.62,
                    52021.58,
                    -36.59,
                    14211.81,
                    20744.7,
                    25703.89,
                    91717.61,
                    67631.49,
                    27992.18,
                    31710.7,
                    23106.93,
                    33667.590000000004,
                    25139.829999999998,
                    28544.11,
                    59687.7,
                    20030.61,
                    14422.009999999998,
                    13713.71,
                    113878.66,
                    57436.06,
                    35986.14,
                    34661.97,
                    62098.719999999994,
                    72628.17,
                    101536,
                    61668.84,
                    19005.2,
                    25258.42,
                    33401.76,
                    54753.61,
                    31947.75,
                    9779.310000000001,
                    1557.6,
                    12008.33,
                    26411.19,
                    35287.729999999996,
                    9261.34,
                    16807.51,
                    9827.98,
                    10968.14,
                    11946.5,
                    75930.09,
                    11686.17,
                    33119.61
                  ]
                }
              ],
              "layout": {
                "template": {
                  "data": {
                    "bar": [
                      {
                        "error_x": {
                          "color": "#2a3f5f"
                        },
                        "error_y": {
                          "color": "#2a3f5f"
                        },
                        "marker": {
                          "line": {
                            "color": "#E5ECF6",
                            "width": 0.5
                          },
                          "pattern": {
                            "fillmode": "overlay",
                            "size": 10,
                            "solidity": 0.2
                          }
                        },
                        "type": "bar"
                      }
                    ],
                    "barpolar": [
                      {
                        "marker": {
                          "line": {
                            "color": "#E5ECF6",
                            "width": 0.5
                          },
                          "pattern": {
                            "fillmode": "overlay",
                            "size": 10,
                            "solidity": 0.2
                          }
                        },
                        "type": "barpolar"
                      }
                    ],
                    "carpet": [
                      {
                        "aaxis": {
                          "endlinecolor": "#2a3f5f",
                          "gridcolor": "white",
                          "linecolor": "white",
                          "minorgridcolor": "white",
                          "startlinecolor": "#2a3f5f"
                        },
                        "baxis": {
                          "endlinecolor": "#2a3f5f",
                          "gridcolor": "white",
                          "linecolor": "white",
                          "minorgridcolor": "white",
                          "startlinecolor": "#2a3f5f"
                        },
                        "type": "carpet"
                      }
                    ],
                    "choropleth": [
                      {
                        "colorbar": {
                          "outlinewidth": 0,
                          "ticks": ""
                        },
                        "type": "choropleth"
                      }
                    ],
                    "contour": [
                      {
                        "colorbar": {
                          "outlinewidth": 0,
                          "ticks": ""
                        },
                        "colorscale": [
                          [
                            0,
                            "#0d0887"
                          ],
                          [
                            0.1111111111111111,
                            "#46039f"
                          ],
                          [
                            0.2222222222222222,
                            "#7201a8"
                          ],
                          [
                            0.3333333333333333,
                            "#9c179e"
                          ],
                          [
                            0.4444444444444444,
                            "#bd3786"
                          ],
                          [
                            0.5555555555555556,
                            "#d8576b"
                          ],
                          [
                            0.6666666666666666,
                            "#ed7953"
                          ],
                          [
                            0.7777777777777778,
                            "#fb9f3a"
                          ],
                          [
                            0.8888888888888888,
                            "#fdca26"
                          ],
                          [
                            1,
                            "#f0f921"
                          ]
                        ],
                        "type": "contour"
                      }
                    ],
                    "contourcarpet": [
                      {
                        "colorbar": {
                          "outlinewidth": 0,
                          "ticks": ""
                        },
                        "type": "contourcarpet"
                      }
                    ],
                    "heatmap": [
                      {
                        "colorbar": {
                          "outlinewidth": 0,
                          "ticks": ""
                        },
                        "colorscale": [
                          [
                            0,
                            "#0d0887"
                          ],
                          [
                            0.1111111111111111,
                            "#46039f"
                          ],
                          [
                            0.2222222222222222,
                            "#7201a8"
                          ],
                          [
                            0.3333333333333333,
                            "#9c179e"
                          ],
                          [
                            0.4444444444444444,
                            "#bd3786"
                          ],
                          [
                            0.5555555555555556,
                            "#d8576b"
                          ],
                          [
                            0.6666666666666666,
                            "#ed7953"
                          ],
                          [
                            0.7777777777777778,
                            "#fb9f3a"
                          ],
                          [
                            0.8888888888888888,
                            "#fdca26"
                          ],
                          [
                            1,
                            "#f0f921"
                          ]
                        ],
                        "type": "heatmap"
                      }
                    ],
                    "heatmapgl": [
                      {
                        "colorbar": {
                          "outlinewidth": 0,
                          "ticks": ""
                        },
                        "colorscale": [
                          [
                            0,
                            "#0d0887"
                          ],
                          [
                            0.1111111111111111,
                            "#46039f"
                          ],
                          [
                            0.2222222222222222,
                            "#7201a8"
                          ],
                          [
                            0.3333333333333333,
                            "#9c179e"
                          ],
                          [
                            0.4444444444444444,
                            "#bd3786"
                          ],
                          [
                            0.5555555555555556,
                            "#d8576b"
                          ],
                          [
                            0.6666666666666666,
                            "#ed7953"
                          ],
                          [
                            0.7777777777777778,
                            "#fb9f3a"
                          ],
                          [
                            0.8888888888888888,
                            "#fdca26"
                          ],
                          [
                            1,
                            "#f0f921"
                          ]
                        ],
                        "type": "heatmapgl"
                      }
                    ],
                    "histogram": [
                      {
                        "marker": {
                          "pattern": {
                            "fillmode": "overlay",
                            "size": 10,
                            "solidity": 0.2
                          }
                        },
                        "type": "histogram"
                      }
                    ],
                    "histogram2d": [
                      {
                        "colorbar": {
                          "outlinewidth": 0,
                          "ticks": ""
                        },
                        "colorscale": [
                          [
                            0,
                            "#0d0887"
                          ],
                          [
                            0.1111111111111111,
                            "#46039f"
                          ],
                          [
                            0.2222222222222222,
                            "#7201a8"
                          ],
                          [
                            0.3333333333333333,
                            "#9c179e"
                          ],
                          [
                            0.4444444444444444,
                            "#bd3786"
                          ],
                          [
                            0.5555555555555556,
                            "#d8576b"
                          ],
                          [
                            0.6666666666666666,
                            "#ed7953"
                          ],
                          [
                            0.7777777777777778,
                            "#fb9f3a"
                          ],
                          [
                            0.8888888888888888,
                            "#fdca26"
                          ],
                          [
                            1,
                            "#f0f921"
                          ]
                        ],
                        "type": "histogram2d"
                      }
                    ],
                    "histogram2dcontour": [
                      {
                        "colorbar": {
                          "outlinewidth": 0,
                          "ticks": ""
                        },
                        "colorscale": [
                          [
                            0,
                            "#0d0887"
                          ],
                          [
                            0.1111111111111111,
                            "#46039f"
                          ],
                          [
                            0.2222222222222222,
                            "#7201a8"
                          ],
                          [
                            0.3333333333333333,
                            "#9c179e"
                          ],
                          [
                            0.4444444444444444,
                            "#bd3786"
                          ],
                          [
                            0.5555555555555556,
                            "#d8576b"
                          ],
                          [
                            0.6666666666666666,
                            "#ed7953"
                          ],
                          [
                            0.7777777777777778,
                            "#fb9f3a"
                          ],
                          [
                            0.8888888888888888,
                            "#fdca26"
                          ],
                          [
                            1,
                            "#f0f921"
                          ]
                        ],
                        "type": "histogram2dcontour"
                      }
                    ],
                    "mesh3d": [
                      {
                        "colorbar": {
                          "outlinewidth": 0,
                          "ticks": ""
                        },
                        "type": "mesh3d"
                      }
                    ],
                    "parcoords": [
                      {
                        "line": {
                          "colorbar": {
                            "outlinewidth": 0,
                            "ticks": ""
                          }
                        },
                        "type": "parcoords"
                      }
                    ],
                    "pie": [
                      {
                        "automargin": true,
                        "type": "pie"
                      }
                    ],
                    "scatter": [
                      {
                        "fillpattern": {
                          "fillmode": "overlay",
                          "size": 10,
                          "solidity": 0.2
                        },
                        "type": "scatter"
                      }
                    ],
                    "scatter3d": [
                      {
                        "line": {
                          "colorbar": {
                            "outlinewidth": 0,
                            "ticks": ""
                          }
                        },
                        "marker": {
                          "colorbar": {
                            "outlinewidth": 0,
                            "ticks": ""
                          }
                        },
                        "type": "scatter3d"
                      }
                    ],
                    "scattercarpet": [
                      {
                        "marker": {
                          "colorbar": {
                            "outlinewidth": 0,
                            "ticks": ""
                          }
                        },
                        "type": "scattercarpet"
                      }
                    ],
                    "scattergeo": [
                      {
                        "marker": {
                          "colorbar": {
                            "outlinewidth": 0,
                            "ticks": ""
                          }
                        },
                        "type": "scattergeo"
                      }
                    ],
                    "scattergl": [
                      {
                        "marker": {
                          "colorbar": {
                            "outlinewidth": 0,
                            "ticks": ""
                          }
                        },
                        "type": "scattergl"
                      }
                    ],
                    "scattermapbox": [
                      {
                        "marker": {
                          "colorbar": {
                            "outlinewidth": 0,
                            "ticks": ""
                          }
                        },
                        "type": "scattermapbox"
                      }
                    ],
                    "scatterpolar": [
                      {
                        "marker": {
                          "colorbar": {
                            "outlinewidth": 0,
                            "ticks": ""
                          }
                        },
                        "type": "scatterpolar"
                      }
                    ],
                    "scatterpolargl": [
                      {
                        "marker": {
                          "colorbar": {
                            "outlinewidth": 0,
                            "ticks": ""
                          }
                        },
                        "type": "scatterpolargl"
                      }
                    ],
                    "scatterternary": [
                      {
                        "marker": {
                          "colorbar": {
                            "outlinewidth": 0,
                            "ticks": ""
                          }
                        },
                        "type": "scatterternary"
                      }
                    ],
                    "surface": [
                      {
                        "colorbar": {
                          "outlinewidth": 0,
                          "ticks": ""
                        },
                        "colorscale": [
                          [
                            0,
                            "#0d0887"
                          ],
                          [
                            0.1111111111111111,
                            "#46039f"
                          ],
                          [
                            0.2222222222222222,
                            "#7201a8"
                          ],
                          [
                            0.3333333333333333,
                            "#9c179e"
                          ],
                          [
                            0.4444444444444444,
                            "#bd3786"
                          ],
                          [
                            0.5555555555555556,
                            "#d8576b"
                          ],
                          [
                            0.6666666666666666,
                            "#ed7953"
                          ],
                          [
                            0.7777777777777778,
                            "#fb9f3a"
                          ],
                          [
                            0.8888888888888888,
                            "#fdca26"
                          ],
                          [
                            1,
                            "#f0f921"
                          ]
                        ],
                        "type": "surface"
                      }
                    ],
                    "table": [
                      {
                        "cells": {
                          "fill": {
                            "color": "#EBF0F8"
                          },
                          "line": {
                            "color": "white"
                          }
                        },
                        "header": {
                          "fill": {
                            "color": "#C8D4E3"
                          },
                          "line": {
                            "color": "white"
                          }
                        },
                        "type": "table"
                      }
                    ]
                  },
                  "layout": {
                    "annotationdefaults": {
                      "arrowcolor": "#2a3f5f",
                      "arrowhead": 0,
                      "arrowwidth": 1
                    },
                    "autotypenumbers": "strict",
                    "coloraxis": {
                      "colorbar": {
                        "outlinewidth": 0,
                        "ticks": ""
                      }
                    },
                    "colorscale": {
                      "diverging": [
                        [
                          0,
                          "#8e0152"
                        ],
                        [
                          0.1,
                          "#c51b7d"
                        ],
                        [
                          0.2,
                          "#de77ae"
                        ],
                        [
                          0.3,
                          "#f1b6da"
                        ],
                        [
                          0.4,
                          "#fde0ef"
                        ],
                        [
                          0.5,
                          "#f7f7f7"
                        ],
                        [
                          0.6,
                          "#e6f5d0"
                        ],
                        [
                          0.7,
                          "#b8e186"
                        ],
                        [
                          0.8,
                          "#7fbc41"
                        ],
                        [
                          0.9,
                          "#4d9221"
                        ],
                        [
                          1,
                          "#276419"
                        ]
                      ],
                      "sequential": [
                        [
                          0,
                          "#0d0887"
                        ],
                        [
                          0.1111111111111111,
                          "#46039f"
                        ],
                        [
                          0.2222222222222222,
                          "#7201a8"
                        ],
                        [
                          0.3333333333333333,
                          "#9c179e"
                        ],
                        [
                          0.4444444444444444,
                          "#bd3786"
                        ],
                        [
                          0.5555555555555556,
                          "#d8576b"
                        ],
                        [
                          0.6666666666666666,
                          "#ed7953"
                        ],
                        [
                          0.7777777777777778,
                          "#fb9f3a"
                        ],
                        [
                          0.8888888888888888,
                          "#fdca26"
                        ],
                        [
                          1,
                          "#f0f921"
                        ]
                      ],
                      "sequentialminus": [
                        [
                          0,
                          "#0d0887"
                        ],
                        [
                          0.1111111111111111,
                          "#46039f"
                        ],
                        [
                          0.2222222222222222,
                          "#7201a8"
                        ],
                        [
                          0.3333333333333333,
                          "#9c179e"
                        ],
                        [
                          0.4444444444444444,
                          "#bd3786"
                        ],
                        [
                          0.5555555555555556,
                          "#d8576b"
                        ],
                        [
                          0.6666666666666666,
                          "#ed7953"
                        ],
                        [
                          0.7777777777777778,
                          "#fb9f3a"
                        ],
                        [
                          0.8888888888888888,
                          "#fdca26"
                        ],
                        [
                          1,
                          "#f0f921"
                        ]
                      ]
                    },
                    "colorway": [
                      "#636efa",
                      "#EF553B",
                      "#00cc96",
                      "#ab63fa",
                      "#FFA15A",
                      "#19d3f3",
                      "#FF6692",
                      "#B6E880",
                      "#FF97FF",
                      "#FECB52"
                    ],
                    "font": {
                      "color": "#2a3f5f"
                    },
                    "geo": {
                      "bgcolor": "white",
                      "lakecolor": "white",
                      "landcolor": "#E5ECF6",
                      "showlakes": true,
                      "showland": true,
                      "subunitcolor": "white"
                    },
                    "hoverlabel": {
                      "align": "left"
                    },
                    "hovermode": "closest",
                    "mapbox": {
                      "style": "light"
                    },
                    "paper_bgcolor": "white",
                    "plot_bgcolor": "#E5ECF6",
                    "polar": {
                      "angularaxis": {
                        "gridcolor": "white",
                        "linecolor": "white",
                        "ticks": ""
                      },
                      "bgcolor": "#E5ECF6",
                      "radialaxis": {
                        "gridcolor": "white",
                        "linecolor": "white",
                        "ticks": ""
                      }
                    },
                    "scene": {
                      "xaxis": {
                        "backgroundcolor": "#E5ECF6",
                        "gridcolor": "white",
                        "gridwidth": 2,
                        "linecolor": "white",
                        "showbackground": true,
                        "ticks": "",
                        "zerolinecolor": "white"
                      },
                      "yaxis": {
                        "backgroundcolor": "#E5ECF6",
                        "gridcolor": "white",
                        "gridwidth": 2,
                        "linecolor": "white",
                        "showbackground": true,
                        "ticks": "",
                        "zerolinecolor": "white"
                      },
                      "zaxis": {
                        "backgroundcolor": "#E5ECF6",
                        "gridcolor": "white",
                        "gridwidth": 2,
                        "linecolor": "white",
                        "showbackground": true,
                        "ticks": "",
                        "zerolinecolor": "white"
                      }
                    },
                    "shapedefaults": {
                      "line": {
                        "color": "#2a3f5f"
                      }
                    },
                    "ternary": {
                      "aaxis": {
                        "gridcolor": "white",
                        "linecolor": "white",
                        "ticks": ""
                      },
                      "baxis": {
                        "gridcolor": "white",
                        "linecolor": "white",
                        "ticks": ""
                      },
                      "bgcolor": "#E5ECF6",
                      "caxis": {
                        "gridcolor": "white",
                        "linecolor": "white",
                        "ticks": ""
                      }
                    },
                    "title": {
                      "x": 0.05
                    },
                    "xaxis": {
                      "automargin": true,
                      "gridcolor": "white",
                      "linecolor": "white",
                      "ticks": "",
                      "title": {
                        "standoff": 15
                      },
                      "zerolinecolor": "white",
                      "zerolinewidth": 2
                    },
                    "yaxis": {
                      "automargin": true,
                      "gridcolor": "white",
                      "linecolor": "white",
                      "ticks": "",
                      "title": {
                        "standoff": 15
                      },
                      "zerolinecolor": "white",
                      "zerolinewidth": 2
                    }
                  }
                },
                "title": {
                  "text": "Product Revenue in United Kingdom vs Other Countries Over the Time"
                },
                "xaxis": {
                  "title": {
                    "text": "Date"
                  }
                },
                "yaxis": {
                  "title": {
                    "text": "Net Amount"
                  }
                }
              }
            }
          },
          "metadata": {},
          "output_type": "display_data"
        }
      ],
      "source": [
        "import plotly.graph_objects as go\n",
        "fig = go.Figure()\n",
        "fig.add_trace(go.Scatter(x=product_revenue_uk['Date'], y=product_revenue_uk['TotalAmount'], name='United Kingdom'))\n",
        "fig.add_trace(go.Scatter(x=product_revenue_other_countries['Date'], y=product_revenue_other_countries['TotalAmount'], name='Other Countries'))\n",
        "fig.update_layout(xaxis_title='Date', yaxis_title='Net Amount', title='Product Revenue in United Kingdom vs Other Countries Over the Time')\n",
        "fig.show()"
      ]
    },
    {
      "cell_type": "code",
      "execution_count": 18,
      "metadata": {
        "id": "n9042LaoepMO"
      },
      "outputs": [],
      "source": [
        "product_sell_overall = df.groupby(['Date','Country'])['Quantity'].sum().reset_index()\n",
        "product_sell_uk = product_sell_overall[product_sell_overall['Country']=='United Kingdom']\n",
        "product_sell_other_countries = product_sell_overall[product_sell_overall['Country'] !='United Kingdom']\n",
        "product_sell_other_countries = product_sell_other_countries.groupby('Date')['Quantity'].sum().reset_index()"
      ]
    },
    {
      "cell_type": "code",
      "execution_count": 19,
      "metadata": {
        "colab": {
          "base_uri": "https://localhost:8080/",
          "height": 542
        },
        "id": "Vrza8NcEfAAX",
        "outputId": "cfa6c2a6-332e-4469-d5e3-21c0838184b1"
      },
      "outputs": [
        {
          "data": {
            "application/vnd.plotly.v1+json": {
              "config": {
                "plotlyServerURL": "https://plot.ly"
              },
              "data": [
                {
                  "name": "United Kingdom",
                  "type": "scatter",
                  "x": [
                    "2018-12-01T00:00:00",
                    "2018-12-02T00:00:00",
                    "2018-12-03T00:00:00",
                    "2018-12-05T00:00:00",
                    "2018-12-06T00:00:00",
                    "2018-12-07T00:00:00",
                    "2018-12-08T00:00:00",
                    "2018-12-09T00:00:00",
                    "2018-12-10T00:00:00",
                    "2018-12-12T00:00:00",
                    "2018-12-13T00:00:00",
                    "2018-12-14T00:00:00",
                    "2018-12-15T00:00:00",
                    "2018-12-16T00:00:00",
                    "2018-12-17T00:00:00",
                    "2018-12-19T00:00:00",
                    "2018-12-20T00:00:00",
                    "2018-12-21T00:00:00",
                    "2018-12-22T00:00:00",
                    "2018-12-23T00:00:00",
                    "2019-01-04T00:00:00",
                    "2019-01-05T00:00:00",
                    "2019-01-06T00:00:00",
                    "2019-01-07T00:00:00",
                    "2019-01-09T00:00:00",
                    "2019-01-10T00:00:00",
                    "2019-01-11T00:00:00",
                    "2019-01-12T00:00:00",
                    "2019-01-13T00:00:00",
                    "2019-01-14T00:00:00",
                    "2019-01-16T00:00:00",
                    "2019-01-17T00:00:00",
                    "2019-01-18T00:00:00",
                    "2019-01-19T00:00:00",
                    "2019-01-20T00:00:00",
                    "2019-01-21T00:00:00",
                    "2019-01-23T00:00:00",
                    "2019-01-24T00:00:00",
                    "2019-01-25T00:00:00",
                    "2019-01-26T00:00:00",
                    "2019-01-27T00:00:00",
                    "2019-01-28T00:00:00",
                    "2019-01-30T00:00:00",
                    "2019-01-31T00:00:00",
                    "2019-02-01T00:00:00",
                    "2019-02-02T00:00:00",
                    "2019-02-03T00:00:00",
                    "2019-02-04T00:00:00",
                    "2019-02-06T00:00:00",
                    "2019-02-07T00:00:00",
                    "2019-02-08T00:00:00",
                    "2019-02-09T00:00:00",
                    "2019-02-10T00:00:00",
                    "2019-02-11T00:00:00",
                    "2019-02-13T00:00:00",
                    "2019-02-14T00:00:00",
                    "2019-02-15T00:00:00",
                    "2019-02-16T00:00:00",
                    "2019-02-17T00:00:00",
                    "2019-02-18T00:00:00",
                    "2019-02-20T00:00:00",
                    "2019-02-21T00:00:00",
                    "2019-02-22T00:00:00",
                    "2019-02-23T00:00:00",
                    "2019-02-24T00:00:00",
                    "2019-02-25T00:00:00",
                    "2019-02-27T00:00:00",
                    "2019-02-28T00:00:00",
                    "2019-03-01T00:00:00",
                    "2019-03-02T00:00:00",
                    "2019-03-03T00:00:00",
                    "2019-03-04T00:00:00",
                    "2019-03-06T00:00:00",
                    "2019-03-07T00:00:00",
                    "2019-03-08T00:00:00",
                    "2019-03-09T00:00:00",
                    "2019-03-10T00:00:00",
                    "2019-03-11T00:00:00",
                    "2019-03-13T00:00:00",
                    "2019-03-14T00:00:00",
                    "2019-03-15T00:00:00",
                    "2019-03-16T00:00:00",
                    "2019-03-17T00:00:00",
                    "2019-03-18T00:00:00",
                    "2019-03-20T00:00:00",
                    "2019-03-21T00:00:00",
                    "2019-03-22T00:00:00",
                    "2019-03-23T00:00:00",
                    "2019-03-24T00:00:00",
                    "2019-03-25T00:00:00",
                    "2019-03-27T00:00:00",
                    "2019-03-28T00:00:00",
                    "2019-03-29T00:00:00",
                    "2019-03-30T00:00:00",
                    "2019-03-31T00:00:00",
                    "2019-04-01T00:00:00",
                    "2019-04-03T00:00:00",
                    "2019-04-04T00:00:00",
                    "2019-04-05T00:00:00",
                    "2019-04-06T00:00:00",
                    "2019-04-07T00:00:00",
                    "2019-04-08T00:00:00",
                    "2019-04-10T00:00:00",
                    "2019-04-11T00:00:00",
                    "2019-04-12T00:00:00",
                    "2019-04-13T00:00:00",
                    "2019-04-14T00:00:00",
                    "2019-04-15T00:00:00",
                    "2019-04-17T00:00:00",
                    "2019-04-18T00:00:00",
                    "2019-04-19T00:00:00",
                    "2019-04-20T00:00:00",
                    "2019-04-21T00:00:00",
                    "2019-04-26T00:00:00",
                    "2019-04-27T00:00:00",
                    "2019-04-28T00:00:00",
                    "2019-05-01T00:00:00",
                    "2019-05-03T00:00:00",
                    "2019-05-04T00:00:00",
                    "2019-05-05T00:00:00",
                    "2019-05-06T00:00:00",
                    "2019-05-08T00:00:00",
                    "2019-05-09T00:00:00",
                    "2019-05-10T00:00:00",
                    "2019-05-11T00:00:00",
                    "2019-05-12T00:00:00",
                    "2019-05-13T00:00:00",
                    "2019-05-15T00:00:00",
                    "2019-05-16T00:00:00",
                    "2019-05-17T00:00:00",
                    "2019-05-18T00:00:00",
                    "2019-05-19T00:00:00",
                    "2019-05-20T00:00:00",
                    "2019-05-22T00:00:00",
                    "2019-05-23T00:00:00",
                    "2019-05-24T00:00:00",
                    "2019-05-25T00:00:00",
                    "2019-05-26T00:00:00",
                    "2019-05-27T00:00:00",
                    "2019-05-29T00:00:00",
                    "2019-05-31T00:00:00",
                    "2019-06-01T00:00:00",
                    "2019-06-02T00:00:00",
                    "2019-06-03T00:00:00",
                    "2019-06-05T00:00:00",
                    "2019-06-06T00:00:00",
                    "2019-06-07T00:00:00",
                    "2019-06-08T00:00:00",
                    "2019-06-09T00:00:00",
                    "2019-06-10T00:00:00",
                    "2019-06-12T00:00:00",
                    "2019-06-13T00:00:00",
                    "2019-06-14T00:00:00",
                    "2019-06-15T00:00:00",
                    "2019-06-16T00:00:00",
                    "2019-06-17T00:00:00",
                    "2019-06-19T00:00:00",
                    "2019-06-20T00:00:00",
                    "2019-06-21T00:00:00",
                    "2019-06-22T00:00:00",
                    "2019-06-23T00:00:00",
                    "2019-06-24T00:00:00",
                    "2019-06-26T00:00:00",
                    "2019-06-27T00:00:00",
                    "2019-06-28T00:00:00",
                    "2019-06-29T00:00:00",
                    "2019-06-30T00:00:00",
                    "2019-07-01T00:00:00",
                    "2019-07-03T00:00:00",
                    "2019-07-04T00:00:00",
                    "2019-07-05T00:00:00",
                    "2019-07-06T00:00:00",
                    "2019-07-07T00:00:00",
                    "2019-07-08T00:00:00",
                    "2019-07-10T00:00:00",
                    "2019-07-11T00:00:00",
                    "2019-07-12T00:00:00",
                    "2019-07-13T00:00:00",
                    "2019-07-14T00:00:00",
                    "2019-07-15T00:00:00",
                    "2019-07-17T00:00:00",
                    "2019-07-18T00:00:00",
                    "2019-07-19T00:00:00",
                    "2019-07-20T00:00:00",
                    "2019-07-21T00:00:00",
                    "2019-07-22T00:00:00",
                    "2019-07-24T00:00:00",
                    "2019-07-25T00:00:00",
                    "2019-07-26T00:00:00",
                    "2019-07-27T00:00:00",
                    "2019-07-28T00:00:00",
                    "2019-07-29T00:00:00",
                    "2019-07-31T00:00:00",
                    "2019-08-01T00:00:00",
                    "2019-08-02T00:00:00",
                    "2019-08-03T00:00:00",
                    "2019-08-04T00:00:00",
                    "2019-08-05T00:00:00",
                    "2019-08-07T00:00:00",
                    "2019-08-08T00:00:00",
                    "2019-08-09T00:00:00",
                    "2019-08-10T00:00:00",
                    "2019-08-11T00:00:00",
                    "2019-08-12T00:00:00",
                    "2019-08-14T00:00:00",
                    "2019-08-15T00:00:00",
                    "2019-08-16T00:00:00",
                    "2019-08-17T00:00:00",
                    "2019-08-18T00:00:00",
                    "2019-08-19T00:00:00",
                    "2019-08-21T00:00:00",
                    "2019-08-22T00:00:00",
                    "2019-08-23T00:00:00",
                    "2019-08-24T00:00:00",
                    "2019-08-25T00:00:00",
                    "2019-08-26T00:00:00",
                    "2019-08-28T00:00:00",
                    "2019-08-30T00:00:00",
                    "2019-08-31T00:00:00",
                    "2019-09-01T00:00:00",
                    "2019-09-02T00:00:00",
                    "2019-09-04T00:00:00",
                    "2019-09-05T00:00:00",
                    "2019-09-06T00:00:00",
                    "2019-09-07T00:00:00",
                    "2019-09-08T00:00:00",
                    "2019-09-09T00:00:00",
                    "2019-09-11T00:00:00",
                    "2019-09-12T00:00:00",
                    "2019-09-13T00:00:00",
                    "2019-09-14T00:00:00",
                    "2019-09-15T00:00:00",
                    "2019-09-16T00:00:00",
                    "2019-09-18T00:00:00",
                    "2019-09-19T00:00:00",
                    "2019-09-20T00:00:00",
                    "2019-09-21T00:00:00",
                    "2019-09-22T00:00:00",
                    "2019-09-23T00:00:00",
                    "2019-09-25T00:00:00",
                    "2019-09-26T00:00:00",
                    "2019-09-27T00:00:00",
                    "2019-09-28T00:00:00",
                    "2019-09-29T00:00:00",
                    "2019-09-30T00:00:00",
                    "2019-10-02T00:00:00",
                    "2019-10-03T00:00:00",
                    "2019-10-04T00:00:00",
                    "2019-10-05T00:00:00",
                    "2019-10-06T00:00:00",
                    "2019-10-07T00:00:00",
                    "2019-10-09T00:00:00",
                    "2019-10-10T00:00:00",
                    "2019-10-11T00:00:00",
                    "2019-10-12T00:00:00",
                    "2019-10-13T00:00:00",
                    "2019-10-14T00:00:00",
                    "2019-10-16T00:00:00",
                    "2019-10-17T00:00:00",
                    "2019-10-18T00:00:00",
                    "2019-10-19T00:00:00",
                    "2019-10-20T00:00:00",
                    "2019-10-21T00:00:00",
                    "2019-10-23T00:00:00",
                    "2019-10-24T00:00:00",
                    "2019-10-25T00:00:00",
                    "2019-10-26T00:00:00",
                    "2019-10-27T00:00:00",
                    "2019-10-28T00:00:00",
                    "2019-10-30T00:00:00",
                    "2019-10-31T00:00:00",
                    "2019-11-01T00:00:00",
                    "2019-11-02T00:00:00",
                    "2019-11-03T00:00:00",
                    "2019-11-04T00:00:00",
                    "2019-11-06T00:00:00",
                    "2019-11-07T00:00:00",
                    "2019-11-08T00:00:00",
                    "2019-11-09T00:00:00",
                    "2019-11-10T00:00:00",
                    "2019-11-11T00:00:00",
                    "2019-11-13T00:00:00",
                    "2019-11-14T00:00:00",
                    "2019-11-15T00:00:00",
                    "2019-11-16T00:00:00",
                    "2019-11-17T00:00:00",
                    "2019-11-18T00:00:00",
                    "2019-11-20T00:00:00",
                    "2019-11-21T00:00:00",
                    "2019-11-22T00:00:00",
                    "2019-11-23T00:00:00",
                    "2019-11-24T00:00:00",
                    "2019-11-25T00:00:00",
                    "2019-11-27T00:00:00",
                    "2019-11-28T00:00:00",
                    "2019-11-29T00:00:00",
                    "2019-11-30T00:00:00",
                    "2019-12-01T00:00:00",
                    "2019-12-02T00:00:00",
                    "2019-12-04T00:00:00",
                    "2019-12-05T00:00:00",
                    "2019-12-06T00:00:00",
                    "2019-12-07T00:00:00",
                    "2019-12-08T00:00:00",
                    "2019-12-09T00:00:00"
                  ],
                  "y": [
                    23848,
                    20861,
                    10606,
                    13546,
                    20926,
                    21790,
                    20126,
                    15592,
                    18402,
                    8150,
                    15760,
                    18656,
                    17186,
                    27985,
                    8855,
                    3297,
                    12883,
                    8145,
                    2349,
                    4629,
                    8103,
                    18939,
                    17342,
                    11388,
                    7377,
                    10829,
                    26351,
                    9489,
                    9301,
                    7280,
                    4177,
                    11425,
                    5750,
                    7953,
                    6666,
                    9023,
                    5068,
                    8872,
                    11867,
                    8567,
                    9212,
                    5076,
                    3367,
                    9455,
                    14386,
                    9134,
                    14781,
                    11707,
                    2048,
                    8397,
                    8489,
                    3289,
                    11150,
                    8973,
                    2715,
                    11448,
                    10837,
                    13060,
                    13320,
                    8079,
                    5341,
                    7329,
                    18892,
                    11945,
                    11624,
                    9662,
                    4570,
                    8580,
                    8174,
                    8085,
                    8783,
                    12085,
                    4992,
                    13480,
                    12998,
                    10250,
                    10679,
                    9549,
                    2531,
                    10116,
                    7412,
                    11914,
                    18301,
                    12141,
                    13277,
                    9974,
                    14608,
                    11432,
                    17009,
                    11490,
                    4352,
                    9120,
                    20547,
                    18461,
                    12650,
                    15968,
                    5660,
                    11879,
                    11078,
                    8504,
                    8415,
                    11535,
                    5335,
                    11793,
                    14448,
                    17565,
                    16803,
                    11812,
                    7628,
                    13284,
                    12300,
                    17792,
                    16384,
                    15595,
                    17374,
                    11858,
                    3168,
                    10044,
                    15592,
                    14989,
                    17556,
                    9468,
                    12113,
                    15239,
                    16527,
                    15141,
                    13669,
                    4615,
                    13447,
                    16992,
                    17298,
                    15075,
                    14198,
                    11471,
                    16119,
                    15430,
                    11198,
                    10057,
                    14978,
                    3826,
                    9844,
                    7396,
                    13310,
                    6808,
                    10380,
                    7864,
                    18059,
                    16630,
                    24960,
                    6853,
                    8421,
                    6737,
                    14523,
                    10419,
                    18735,
                    9609,
                    9856,
                    12320,
                    13038,
                    12088,
                    12983,
                    8664,
                    3015,
                    9337,
                    10647,
                    9826,
                    19327,
                    5848,
                    2948,
                    14011,
                    21056,
                    14595,
                    16875,
                    10891,
                    4197,
                    13761,
                    12512,
                    9948,
                    12863,
                    6628,
                    10614,
                    9964,
                    19886,
                    15968,
                    17858,
                    9207,
                    16108,
                    14016,
                    13102,
                    10013,
                    25488,
                    10816,
                    10786,
                    10864,
                    11774,
                    14692,
                    36490,
                    10972,
                    5020,
                    11704,
                    7853,
                    12760,
                    22114,
                    8640,
                    3134,
                    7173,
                    11010,
                    21774,
                    18155,
                    7892,
                    6756,
                    14056,
                    13485,
                    27743,
                    10965,
                    9692,
                    5969,
                    9665,
                    5443,
                    21988,
                    16428,
                    7541,
                    15781,
                    12988,
                    12684,
                    13961,
                    13567,
                    20208,
                    16502,
                    27142,
                    11673,
                    27445,
                    14224,
                    8965,
                    12177,
                    42050,
                    16526,
                    26021,
                    16999,
                    18142,
                    14079,
                    20444,
                    21868,
                    24238,
                    17940,
                    8342,
                    25595,
                    23622,
                    32647,
                    27301,
                    25916,
                    7271,
                    22989,
                    13646,
                    14169,
                    14067,
                    14910,
                    8309,
                    19591,
                    23906,
                    14818,
                    16486,
                    20299,
                    7065,
                    19968,
                    24484,
                    18583,
                    24280,
                    17932,
                    17622,
                    18809,
                    14562,
                    24893,
                    31447,
                    31894,
                    18317,
                    28931,
                    24878,
                    33914,
                    28039,
                    23695,
                    17344,
                    44074,
                    24780,
                    25661,
                    23061,
                    18707,
                    17821,
                    23294,
                    30581,
                    30295,
                    20048,
                    29798,
                    10914,
                    26793,
                    27011,
                    22708,
                    25300,
                    25983,
                    10814,
                    41935,
                    27518,
                    29769,
                    32011,
                    9495
                  ]
                },
                {
                  "name": "Other Countries",
                  "type": "scatter",
                  "x": [
                    "2018-12-01T00:00:00",
                    "2018-12-02T00:00:00",
                    "2018-12-03T00:00:00",
                    "2018-12-05T00:00:00",
                    "2018-12-06T00:00:00",
                    "2018-12-07T00:00:00",
                    "2018-12-08T00:00:00",
                    "2018-12-09T00:00:00",
                    "2018-12-10T00:00:00",
                    "2018-12-12T00:00:00",
                    "2018-12-13T00:00:00",
                    "2018-12-14T00:00:00",
                    "2018-12-15T00:00:00",
                    "2018-12-16T00:00:00",
                    "2018-12-17T00:00:00",
                    "2018-12-19T00:00:00",
                    "2018-12-20T00:00:00",
                    "2018-12-21T00:00:00",
                    "2018-12-22T00:00:00",
                    "2018-12-23T00:00:00",
                    "2019-01-04T00:00:00",
                    "2019-01-05T00:00:00",
                    "2019-01-06T00:00:00",
                    "2019-01-07T00:00:00",
                    "2019-01-09T00:00:00",
                    "2019-01-10T00:00:00",
                    "2019-01-11T00:00:00",
                    "2019-01-12T00:00:00",
                    "2019-01-13T00:00:00",
                    "2019-01-14T00:00:00",
                    "2019-01-17T00:00:00",
                    "2019-01-18T00:00:00",
                    "2019-01-19T00:00:00",
                    "2019-01-20T00:00:00",
                    "2019-01-21T00:00:00",
                    "2019-01-23T00:00:00",
                    "2019-01-24T00:00:00",
                    "2019-01-25T00:00:00",
                    "2019-01-26T00:00:00",
                    "2019-01-27T00:00:00",
                    "2019-01-28T00:00:00",
                    "2019-01-31T00:00:00",
                    "2019-02-01T00:00:00",
                    "2019-02-02T00:00:00",
                    "2019-02-03T00:00:00",
                    "2019-02-04T00:00:00",
                    "2019-02-07T00:00:00",
                    "2019-02-08T00:00:00",
                    "2019-02-09T00:00:00",
                    "2019-02-10T00:00:00",
                    "2019-02-11T00:00:00",
                    "2019-02-14T00:00:00",
                    "2019-02-15T00:00:00",
                    "2019-02-16T00:00:00",
                    "2019-02-17T00:00:00",
                    "2019-02-18T00:00:00",
                    "2019-02-21T00:00:00",
                    "2019-02-22T00:00:00",
                    "2019-02-23T00:00:00",
                    "2019-02-24T00:00:00",
                    "2019-02-25T00:00:00",
                    "2019-02-27T00:00:00",
                    "2019-02-28T00:00:00",
                    "2019-03-01T00:00:00",
                    "2019-03-02T00:00:00",
                    "2019-03-03T00:00:00",
                    "2019-03-04T00:00:00",
                    "2019-03-07T00:00:00",
                    "2019-03-08T00:00:00",
                    "2019-03-09T00:00:00",
                    "2019-03-10T00:00:00",
                    "2019-03-11T00:00:00",
                    "2019-03-13T00:00:00",
                    "2019-03-14T00:00:00",
                    "2019-03-15T00:00:00",
                    "2019-03-16T00:00:00",
                    "2019-03-17T00:00:00",
                    "2019-03-18T00:00:00",
                    "2019-03-20T00:00:00",
                    "2019-03-21T00:00:00",
                    "2019-03-22T00:00:00",
                    "2019-03-23T00:00:00",
                    "2019-03-24T00:00:00",
                    "2019-03-25T00:00:00",
                    "2019-03-27T00:00:00",
                    "2019-03-28T00:00:00",
                    "2019-03-29T00:00:00",
                    "2019-03-30T00:00:00",
                    "2019-03-31T00:00:00",
                    "2019-04-01T00:00:00",
                    "2019-04-04T00:00:00",
                    "2019-04-05T00:00:00",
                    "2019-04-06T00:00:00",
                    "2019-04-07T00:00:00",
                    "2019-04-08T00:00:00",
                    "2019-04-10T00:00:00",
                    "2019-04-11T00:00:00",
                    "2019-04-12T00:00:00",
                    "2019-04-13T00:00:00",
                    "2019-04-14T00:00:00",
                    "2019-04-15T00:00:00",
                    "2019-04-17T00:00:00",
                    "2019-04-18T00:00:00",
                    "2019-04-19T00:00:00",
                    "2019-04-20T00:00:00",
                    "2019-04-21T00:00:00",
                    "2019-04-26T00:00:00",
                    "2019-04-27T00:00:00",
                    "2019-04-28T00:00:00",
                    "2019-05-01T00:00:00",
                    "2019-05-03T00:00:00",
                    "2019-05-04T00:00:00",
                    "2019-05-05T00:00:00",
                    "2019-05-06T00:00:00",
                    "2019-05-08T00:00:00",
                    "2019-05-09T00:00:00",
                    "2019-05-10T00:00:00",
                    "2019-05-11T00:00:00",
                    "2019-05-12T00:00:00",
                    "2019-05-13T00:00:00",
                    "2019-05-15T00:00:00",
                    "2019-05-16T00:00:00",
                    "2019-05-17T00:00:00",
                    "2019-05-18T00:00:00",
                    "2019-05-19T00:00:00",
                    "2019-05-20T00:00:00",
                    "2019-05-22T00:00:00",
                    "2019-05-23T00:00:00",
                    "2019-05-24T00:00:00",
                    "2019-05-25T00:00:00",
                    "2019-05-26T00:00:00",
                    "2019-05-27T00:00:00",
                    "2019-05-29T00:00:00",
                    "2019-05-31T00:00:00",
                    "2019-06-01T00:00:00",
                    "2019-06-02T00:00:00",
                    "2019-06-03T00:00:00",
                    "2019-06-05T00:00:00",
                    "2019-06-06T00:00:00",
                    "2019-06-07T00:00:00",
                    "2019-06-08T00:00:00",
                    "2019-06-09T00:00:00",
                    "2019-06-10T00:00:00",
                    "2019-06-12T00:00:00",
                    "2019-06-13T00:00:00",
                    "2019-06-14T00:00:00",
                    "2019-06-15T00:00:00",
                    "2019-06-16T00:00:00",
                    "2019-06-17T00:00:00",
                    "2019-06-19T00:00:00",
                    "2019-06-20T00:00:00",
                    "2019-06-21T00:00:00",
                    "2019-06-22T00:00:00",
                    "2019-06-23T00:00:00",
                    "2019-06-24T00:00:00",
                    "2019-06-26T00:00:00",
                    "2019-06-27T00:00:00",
                    "2019-06-28T00:00:00",
                    "2019-06-29T00:00:00",
                    "2019-06-30T00:00:00",
                    "2019-07-01T00:00:00",
                    "2019-07-03T00:00:00",
                    "2019-07-04T00:00:00",
                    "2019-07-05T00:00:00",
                    "2019-07-06T00:00:00",
                    "2019-07-07T00:00:00",
                    "2019-07-08T00:00:00",
                    "2019-07-11T00:00:00",
                    "2019-07-12T00:00:00",
                    "2019-07-13T00:00:00",
                    "2019-07-14T00:00:00",
                    "2019-07-15T00:00:00",
                    "2019-07-17T00:00:00",
                    "2019-07-18T00:00:00",
                    "2019-07-19T00:00:00",
                    "2019-07-20T00:00:00",
                    "2019-07-21T00:00:00",
                    "2019-07-22T00:00:00",
                    "2019-07-24T00:00:00",
                    "2019-07-25T00:00:00",
                    "2019-07-26T00:00:00",
                    "2019-07-27T00:00:00",
                    "2019-07-28T00:00:00",
                    "2019-07-29T00:00:00",
                    "2019-07-31T00:00:00",
                    "2019-08-01T00:00:00",
                    "2019-08-02T00:00:00",
                    "2019-08-03T00:00:00",
                    "2019-08-04T00:00:00",
                    "2019-08-05T00:00:00",
                    "2019-08-07T00:00:00",
                    "2019-08-08T00:00:00",
                    "2019-08-09T00:00:00",
                    "2019-08-10T00:00:00",
                    "2019-08-11T00:00:00",
                    "2019-08-12T00:00:00",
                    "2019-08-14T00:00:00",
                    "2019-08-15T00:00:00",
                    "2019-08-16T00:00:00",
                    "2019-08-17T00:00:00",
                    "2019-08-18T00:00:00",
                    "2019-08-19T00:00:00",
                    "2019-08-21T00:00:00",
                    "2019-08-22T00:00:00",
                    "2019-08-23T00:00:00",
                    "2019-08-24T00:00:00",
                    "2019-08-25T00:00:00",
                    "2019-08-26T00:00:00",
                    "2019-08-28T00:00:00",
                    "2019-08-30T00:00:00",
                    "2019-08-31T00:00:00",
                    "2019-09-01T00:00:00",
                    "2019-09-02T00:00:00",
                    "2019-09-04T00:00:00",
                    "2019-09-05T00:00:00",
                    "2019-09-06T00:00:00",
                    "2019-09-07T00:00:00",
                    "2019-09-08T00:00:00",
                    "2019-09-09T00:00:00",
                    "2019-09-11T00:00:00",
                    "2019-09-13T00:00:00",
                    "2019-09-14T00:00:00",
                    "2019-09-15T00:00:00",
                    "2019-09-16T00:00:00",
                    "2019-09-19T00:00:00",
                    "2019-09-20T00:00:00",
                    "2019-09-21T00:00:00",
                    "2019-09-22T00:00:00",
                    "2019-09-23T00:00:00",
                    "2019-09-25T00:00:00",
                    "2019-09-26T00:00:00",
                    "2019-09-27T00:00:00",
                    "2019-09-28T00:00:00",
                    "2019-09-29T00:00:00",
                    "2019-09-30T00:00:00",
                    "2019-10-03T00:00:00",
                    "2019-10-04T00:00:00",
                    "2019-10-05T00:00:00",
                    "2019-10-06T00:00:00",
                    "2019-10-07T00:00:00",
                    "2019-10-10T00:00:00",
                    "2019-10-11T00:00:00",
                    "2019-10-12T00:00:00",
                    "2019-10-13T00:00:00",
                    "2019-10-14T00:00:00",
                    "2019-10-17T00:00:00",
                    "2019-10-18T00:00:00",
                    "2019-10-19T00:00:00",
                    "2019-10-20T00:00:00",
                    "2019-10-21T00:00:00",
                    "2019-10-23T00:00:00",
                    "2019-10-24T00:00:00",
                    "2019-10-25T00:00:00",
                    "2019-10-26T00:00:00",
                    "2019-10-27T00:00:00",
                    "2019-10-28T00:00:00",
                    "2019-10-30T00:00:00",
                    "2019-10-31T00:00:00",
                    "2019-11-01T00:00:00",
                    "2019-11-02T00:00:00",
                    "2019-11-03T00:00:00",
                    "2019-11-04T00:00:00",
                    "2019-11-06T00:00:00",
                    "2019-11-07T00:00:00",
                    "2019-11-08T00:00:00",
                    "2019-11-09T00:00:00",
                    "2019-11-10T00:00:00",
                    "2019-11-11T00:00:00",
                    "2019-11-13T00:00:00",
                    "2019-11-14T00:00:00",
                    "2019-11-15T00:00:00",
                    "2019-11-16T00:00:00",
                    "2019-11-17T00:00:00",
                    "2019-11-18T00:00:00",
                    "2019-11-20T00:00:00",
                    "2019-11-21T00:00:00",
                    "2019-11-22T00:00:00",
                    "2019-11-23T00:00:00",
                    "2019-11-24T00:00:00",
                    "2019-11-25T00:00:00",
                    "2019-11-27T00:00:00",
                    "2019-11-28T00:00:00",
                    "2019-11-29T00:00:00",
                    "2019-11-30T00:00:00",
                    "2019-12-01T00:00:00",
                    "2019-12-02T00:00:00",
                    "2019-12-04T00:00:00",
                    "2019-12-05T00:00:00",
                    "2019-12-06T00:00:00",
                    "2019-12-07T00:00:00",
                    "2019-12-08T00:00:00",
                    "2019-12-09T00:00:00"
                  ],
                  "y": [
                    2859,
                    149,
                    5267,
                    2756,
                    746,
                    3425,
                    2641,
                    3780,
                    1990,
                    2413,
                    1849,
                    990,
                    1004,
                    1626,
                    7107,
                    493,
                    1190,
                    7266,
                    839,
                    1026,
                    288,
                    540,
                    5303,
                    5052,
                    795,
                    1996,
                    1771,
                    997,
                    836,
                    15773,
                    1935,
                    2955,
                    9299,
                    3677,
                    6015,
                    120,
                    3072,
                    2908,
                    2324,
                    1798,
                    4101,
                    3083,
                    1239,
                    528,
                    855,
                    923,
                    511,
                    1577,
                    3832,
                    502,
                    1016,
                    2086,
                    11820,
                    2920,
                    1078,
                    1022,
                    14184,
                    2930,
                    1769,
                    219,
                    188,
                    287,
                    1379,
                    3944,
                    448,
                    11151,
                    1458,
                    339,
                    1526,
                    1621,
                    4413,
                    1056,
                    183,
                    6598,
                    1476,
                    641,
                    2544,
                    1561,
                    867,
                    225,
                    1794,
                    2946,
                    1138,
                    3295,
                    53,
                    2806,
                    12186,
                    2136,
                    3657,
                    1811,
                    1287,
                    4583,
                    641,
                    2001,
                    1432,
                    187,
                    1718,
                    732,
                    673,
                    1674,
                    883,
                    550,
                    7253,
                    2056,
                    420,
                    1790,
                    263,
                    728,
                    1127,
                    639,
                    2245,
                    1741,
                    2319,
                    2180,
                    1219,
                    1220,
                    2726,
                    2226,
                    22485,
                    1565,
                    278,
                    2552,
                    9772,
                    1723,
                    2590,
                    1206,
                    1251,
                    1965,
                    322,
                    1925,
                    6033,
                    1139,
                    254,
                    1680,
                    3474,
                    1112,
                    818,
                    3056,
                    1276,
                    587,
                    4395,
                    3251,
                    3452,
                    1056,
                    2608,
                    76,
                    19262,
                    1488,
                    2055,
                    5200,
                    3330,
                    1600,
                    3730,
                    1292,
                    1272,
                    468,
                    511,
                    11118,
                    2098,
                    2002,
                    1360,
                    158,
                    1536,
                    563,
                    4516,
                    898,
                    1726,
                    1310,
                    1264,
                    6224,
                    4120,
                    397,
                    364,
                    4458,
                    9041,
                    980,
                    1784,
                    1005,
                    1037,
                    2026,
                    406,
                    3931,
                    4555,
                    781,
                    10038,
                    817,
                    3826,
                    998,
                    2316,
                    1772,
                    60,
                    1506,
                    8207,
                    1567,
                    16874,
                    3300,
                    2,
                    2971,
                    158,
                    1756,
                    15676,
                    2634,
                    1400,
                    1317,
                    1611,
                    1501,
                    2095,
                    7996,
                    800,
                    439,
                    2626,
                    5700,
                    1910,
                    3380,
                    6920,
                    1955,
                    3502,
                    3231,
                    3642,
                    837,
                    9379,
                    2400,
                    1707,
                    759,
                    16923,
                    1501,
                    4181,
                    6381,
                    4280,
                    1322,
                    1134,
                    765,
                    3306,
                    1901,
                    4444,
                    150,
                    398,
                    13257,
                    4422,
                    4875,
                    2742,
                    6984,
                    1874,
                    4512,
                    3392,
                    10668,
                    4884,
                    4223,
                    24301,
                    4387,
                    -2,
                    1112,
                    1809,
                    2139,
                    8019,
                    6086,
                    2390,
                    2592,
                    1910,
                    3213,
                    2159,
                    2356,
                    4935,
                    1731,
                    1224,
                    1153,
                    9995,
                    4997,
                    3010,
                    3051,
                    5465,
                    6267,
                    8279,
                    4939,
                    1538,
                    2109,
                    3324,
                    8853,
                    4914,
                    1539,
                    225,
                    1835,
                    3682,
                    5484,
                    1498,
                    2500,
                    1567,
                    1691,
                    1811,
                    11974,
                    1848,
                    3406
                  ]
                }
              ],
              "layout": {
                "template": {
                  "data": {
                    "bar": [
                      {
                        "error_x": {
                          "color": "#2a3f5f"
                        },
                        "error_y": {
                          "color": "#2a3f5f"
                        },
                        "marker": {
                          "line": {
                            "color": "#E5ECF6",
                            "width": 0.5
                          },
                          "pattern": {
                            "fillmode": "overlay",
                            "size": 10,
                            "solidity": 0.2
                          }
                        },
                        "type": "bar"
                      }
                    ],
                    "barpolar": [
                      {
                        "marker": {
                          "line": {
                            "color": "#E5ECF6",
                            "width": 0.5
                          },
                          "pattern": {
                            "fillmode": "overlay",
                            "size": 10,
                            "solidity": 0.2
                          }
                        },
                        "type": "barpolar"
                      }
                    ],
                    "carpet": [
                      {
                        "aaxis": {
                          "endlinecolor": "#2a3f5f",
                          "gridcolor": "white",
                          "linecolor": "white",
                          "minorgridcolor": "white",
                          "startlinecolor": "#2a3f5f"
                        },
                        "baxis": {
                          "endlinecolor": "#2a3f5f",
                          "gridcolor": "white",
                          "linecolor": "white",
                          "minorgridcolor": "white",
                          "startlinecolor": "#2a3f5f"
                        },
                        "type": "carpet"
                      }
                    ],
                    "choropleth": [
                      {
                        "colorbar": {
                          "outlinewidth": 0,
                          "ticks": ""
                        },
                        "type": "choropleth"
                      }
                    ],
                    "contour": [
                      {
                        "colorbar": {
                          "outlinewidth": 0,
                          "ticks": ""
                        },
                        "colorscale": [
                          [
                            0,
                            "#0d0887"
                          ],
                          [
                            0.1111111111111111,
                            "#46039f"
                          ],
                          [
                            0.2222222222222222,
                            "#7201a8"
                          ],
                          [
                            0.3333333333333333,
                            "#9c179e"
                          ],
                          [
                            0.4444444444444444,
                            "#bd3786"
                          ],
                          [
                            0.5555555555555556,
                            "#d8576b"
                          ],
                          [
                            0.6666666666666666,
                            "#ed7953"
                          ],
                          [
                            0.7777777777777778,
                            "#fb9f3a"
                          ],
                          [
                            0.8888888888888888,
                            "#fdca26"
                          ],
                          [
                            1,
                            "#f0f921"
                          ]
                        ],
                        "type": "contour"
                      }
                    ],
                    "contourcarpet": [
                      {
                        "colorbar": {
                          "outlinewidth": 0,
                          "ticks": ""
                        },
                        "type": "contourcarpet"
                      }
                    ],
                    "heatmap": [
                      {
                        "colorbar": {
                          "outlinewidth": 0,
                          "ticks": ""
                        },
                        "colorscale": [
                          [
                            0,
                            "#0d0887"
                          ],
                          [
                            0.1111111111111111,
                            "#46039f"
                          ],
                          [
                            0.2222222222222222,
                            "#7201a8"
                          ],
                          [
                            0.3333333333333333,
                            "#9c179e"
                          ],
                          [
                            0.4444444444444444,
                            "#bd3786"
                          ],
                          [
                            0.5555555555555556,
                            "#d8576b"
                          ],
                          [
                            0.6666666666666666,
                            "#ed7953"
                          ],
                          [
                            0.7777777777777778,
                            "#fb9f3a"
                          ],
                          [
                            0.8888888888888888,
                            "#fdca26"
                          ],
                          [
                            1,
                            "#f0f921"
                          ]
                        ],
                        "type": "heatmap"
                      }
                    ],
                    "heatmapgl": [
                      {
                        "colorbar": {
                          "outlinewidth": 0,
                          "ticks": ""
                        },
                        "colorscale": [
                          [
                            0,
                            "#0d0887"
                          ],
                          [
                            0.1111111111111111,
                            "#46039f"
                          ],
                          [
                            0.2222222222222222,
                            "#7201a8"
                          ],
                          [
                            0.3333333333333333,
                            "#9c179e"
                          ],
                          [
                            0.4444444444444444,
                            "#bd3786"
                          ],
                          [
                            0.5555555555555556,
                            "#d8576b"
                          ],
                          [
                            0.6666666666666666,
                            "#ed7953"
                          ],
                          [
                            0.7777777777777778,
                            "#fb9f3a"
                          ],
                          [
                            0.8888888888888888,
                            "#fdca26"
                          ],
                          [
                            1,
                            "#f0f921"
                          ]
                        ],
                        "type": "heatmapgl"
                      }
                    ],
                    "histogram": [
                      {
                        "marker": {
                          "pattern": {
                            "fillmode": "overlay",
                            "size": 10,
                            "solidity": 0.2
                          }
                        },
                        "type": "histogram"
                      }
                    ],
                    "histogram2d": [
                      {
                        "colorbar": {
                          "outlinewidth": 0,
                          "ticks": ""
                        },
                        "colorscale": [
                          [
                            0,
                            "#0d0887"
                          ],
                          [
                            0.1111111111111111,
                            "#46039f"
                          ],
                          [
                            0.2222222222222222,
                            "#7201a8"
                          ],
                          [
                            0.3333333333333333,
                            "#9c179e"
                          ],
                          [
                            0.4444444444444444,
                            "#bd3786"
                          ],
                          [
                            0.5555555555555556,
                            "#d8576b"
                          ],
                          [
                            0.6666666666666666,
                            "#ed7953"
                          ],
                          [
                            0.7777777777777778,
                            "#fb9f3a"
                          ],
                          [
                            0.8888888888888888,
                            "#fdca26"
                          ],
                          [
                            1,
                            "#f0f921"
                          ]
                        ],
                        "type": "histogram2d"
                      }
                    ],
                    "histogram2dcontour": [
                      {
                        "colorbar": {
                          "outlinewidth": 0,
                          "ticks": ""
                        },
                        "colorscale": [
                          [
                            0,
                            "#0d0887"
                          ],
                          [
                            0.1111111111111111,
                            "#46039f"
                          ],
                          [
                            0.2222222222222222,
                            "#7201a8"
                          ],
                          [
                            0.3333333333333333,
                            "#9c179e"
                          ],
                          [
                            0.4444444444444444,
                            "#bd3786"
                          ],
                          [
                            0.5555555555555556,
                            "#d8576b"
                          ],
                          [
                            0.6666666666666666,
                            "#ed7953"
                          ],
                          [
                            0.7777777777777778,
                            "#fb9f3a"
                          ],
                          [
                            0.8888888888888888,
                            "#fdca26"
                          ],
                          [
                            1,
                            "#f0f921"
                          ]
                        ],
                        "type": "histogram2dcontour"
                      }
                    ],
                    "mesh3d": [
                      {
                        "colorbar": {
                          "outlinewidth": 0,
                          "ticks": ""
                        },
                        "type": "mesh3d"
                      }
                    ],
                    "parcoords": [
                      {
                        "line": {
                          "colorbar": {
                            "outlinewidth": 0,
                            "ticks": ""
                          }
                        },
                        "type": "parcoords"
                      }
                    ],
                    "pie": [
                      {
                        "automargin": true,
                        "type": "pie"
                      }
                    ],
                    "scatter": [
                      {
                        "fillpattern": {
                          "fillmode": "overlay",
                          "size": 10,
                          "solidity": 0.2
                        },
                        "type": "scatter"
                      }
                    ],
                    "scatter3d": [
                      {
                        "line": {
                          "colorbar": {
                            "outlinewidth": 0,
                            "ticks": ""
                          }
                        },
                        "marker": {
                          "colorbar": {
                            "outlinewidth": 0,
                            "ticks": ""
                          }
                        },
                        "type": "scatter3d"
                      }
                    ],
                    "scattercarpet": [
                      {
                        "marker": {
                          "colorbar": {
                            "outlinewidth": 0,
                            "ticks": ""
                          }
                        },
                        "type": "scattercarpet"
                      }
                    ],
                    "scattergeo": [
                      {
                        "marker": {
                          "colorbar": {
                            "outlinewidth": 0,
                            "ticks": ""
                          }
                        },
                        "type": "scattergeo"
                      }
                    ],
                    "scattergl": [
                      {
                        "marker": {
                          "colorbar": {
                            "outlinewidth": 0,
                            "ticks": ""
                          }
                        },
                        "type": "scattergl"
                      }
                    ],
                    "scattermapbox": [
                      {
                        "marker": {
                          "colorbar": {
                            "outlinewidth": 0,
                            "ticks": ""
                          }
                        },
                        "type": "scattermapbox"
                      }
                    ],
                    "scatterpolar": [
                      {
                        "marker": {
                          "colorbar": {
                            "outlinewidth": 0,
                            "ticks": ""
                          }
                        },
                        "type": "scatterpolar"
                      }
                    ],
                    "scatterpolargl": [
                      {
                        "marker": {
                          "colorbar": {
                            "outlinewidth": 0,
                            "ticks": ""
                          }
                        },
                        "type": "scatterpolargl"
                      }
                    ],
                    "scatterternary": [
                      {
                        "marker": {
                          "colorbar": {
                            "outlinewidth": 0,
                            "ticks": ""
                          }
                        },
                        "type": "scatterternary"
                      }
                    ],
                    "surface": [
                      {
                        "colorbar": {
                          "outlinewidth": 0,
                          "ticks": ""
                        },
                        "colorscale": [
                          [
                            0,
                            "#0d0887"
                          ],
                          [
                            0.1111111111111111,
                            "#46039f"
                          ],
                          [
                            0.2222222222222222,
                            "#7201a8"
                          ],
                          [
                            0.3333333333333333,
                            "#9c179e"
                          ],
                          [
                            0.4444444444444444,
                            "#bd3786"
                          ],
                          [
                            0.5555555555555556,
                            "#d8576b"
                          ],
                          [
                            0.6666666666666666,
                            "#ed7953"
                          ],
                          [
                            0.7777777777777778,
                            "#fb9f3a"
                          ],
                          [
                            0.8888888888888888,
                            "#fdca26"
                          ],
                          [
                            1,
                            "#f0f921"
                          ]
                        ],
                        "type": "surface"
                      }
                    ],
                    "table": [
                      {
                        "cells": {
                          "fill": {
                            "color": "#EBF0F8"
                          },
                          "line": {
                            "color": "white"
                          }
                        },
                        "header": {
                          "fill": {
                            "color": "#C8D4E3"
                          },
                          "line": {
                            "color": "white"
                          }
                        },
                        "type": "table"
                      }
                    ]
                  },
                  "layout": {
                    "annotationdefaults": {
                      "arrowcolor": "#2a3f5f",
                      "arrowhead": 0,
                      "arrowwidth": 1
                    },
                    "autotypenumbers": "strict",
                    "coloraxis": {
                      "colorbar": {
                        "outlinewidth": 0,
                        "ticks": ""
                      }
                    },
                    "colorscale": {
                      "diverging": [
                        [
                          0,
                          "#8e0152"
                        ],
                        [
                          0.1,
                          "#c51b7d"
                        ],
                        [
                          0.2,
                          "#de77ae"
                        ],
                        [
                          0.3,
                          "#f1b6da"
                        ],
                        [
                          0.4,
                          "#fde0ef"
                        ],
                        [
                          0.5,
                          "#f7f7f7"
                        ],
                        [
                          0.6,
                          "#e6f5d0"
                        ],
                        [
                          0.7,
                          "#b8e186"
                        ],
                        [
                          0.8,
                          "#7fbc41"
                        ],
                        [
                          0.9,
                          "#4d9221"
                        ],
                        [
                          1,
                          "#276419"
                        ]
                      ],
                      "sequential": [
                        [
                          0,
                          "#0d0887"
                        ],
                        [
                          0.1111111111111111,
                          "#46039f"
                        ],
                        [
                          0.2222222222222222,
                          "#7201a8"
                        ],
                        [
                          0.3333333333333333,
                          "#9c179e"
                        ],
                        [
                          0.4444444444444444,
                          "#bd3786"
                        ],
                        [
                          0.5555555555555556,
                          "#d8576b"
                        ],
                        [
                          0.6666666666666666,
                          "#ed7953"
                        ],
                        [
                          0.7777777777777778,
                          "#fb9f3a"
                        ],
                        [
                          0.8888888888888888,
                          "#fdca26"
                        ],
                        [
                          1,
                          "#f0f921"
                        ]
                      ],
                      "sequentialminus": [
                        [
                          0,
                          "#0d0887"
                        ],
                        [
                          0.1111111111111111,
                          "#46039f"
                        ],
                        [
                          0.2222222222222222,
                          "#7201a8"
                        ],
                        [
                          0.3333333333333333,
                          "#9c179e"
                        ],
                        [
                          0.4444444444444444,
                          "#bd3786"
                        ],
                        [
                          0.5555555555555556,
                          "#d8576b"
                        ],
                        [
                          0.6666666666666666,
                          "#ed7953"
                        ],
                        [
                          0.7777777777777778,
                          "#fb9f3a"
                        ],
                        [
                          0.8888888888888888,
                          "#fdca26"
                        ],
                        [
                          1,
                          "#f0f921"
                        ]
                      ]
                    },
                    "colorway": [
                      "#636efa",
                      "#EF553B",
                      "#00cc96",
                      "#ab63fa",
                      "#FFA15A",
                      "#19d3f3",
                      "#FF6692",
                      "#B6E880",
                      "#FF97FF",
                      "#FECB52"
                    ],
                    "font": {
                      "color": "#2a3f5f"
                    },
                    "geo": {
                      "bgcolor": "white",
                      "lakecolor": "white",
                      "landcolor": "#E5ECF6",
                      "showlakes": true,
                      "showland": true,
                      "subunitcolor": "white"
                    },
                    "hoverlabel": {
                      "align": "left"
                    },
                    "hovermode": "closest",
                    "mapbox": {
                      "style": "light"
                    },
                    "paper_bgcolor": "white",
                    "plot_bgcolor": "#E5ECF6",
                    "polar": {
                      "angularaxis": {
                        "gridcolor": "white",
                        "linecolor": "white",
                        "ticks": ""
                      },
                      "bgcolor": "#E5ECF6",
                      "radialaxis": {
                        "gridcolor": "white",
                        "linecolor": "white",
                        "ticks": ""
                      }
                    },
                    "scene": {
                      "xaxis": {
                        "backgroundcolor": "#E5ECF6",
                        "gridcolor": "white",
                        "gridwidth": 2,
                        "linecolor": "white",
                        "showbackground": true,
                        "ticks": "",
                        "zerolinecolor": "white"
                      },
                      "yaxis": {
                        "backgroundcolor": "#E5ECF6",
                        "gridcolor": "white",
                        "gridwidth": 2,
                        "linecolor": "white",
                        "showbackground": true,
                        "ticks": "",
                        "zerolinecolor": "white"
                      },
                      "zaxis": {
                        "backgroundcolor": "#E5ECF6",
                        "gridcolor": "white",
                        "gridwidth": 2,
                        "linecolor": "white",
                        "showbackground": true,
                        "ticks": "",
                        "zerolinecolor": "white"
                      }
                    },
                    "shapedefaults": {
                      "line": {
                        "color": "#2a3f5f"
                      }
                    },
                    "ternary": {
                      "aaxis": {
                        "gridcolor": "white",
                        "linecolor": "white",
                        "ticks": ""
                      },
                      "baxis": {
                        "gridcolor": "white",
                        "linecolor": "white",
                        "ticks": ""
                      },
                      "bgcolor": "#E5ECF6",
                      "caxis": {
                        "gridcolor": "white",
                        "linecolor": "white",
                        "ticks": ""
                      }
                    },
                    "title": {
                      "x": 0.05
                    },
                    "xaxis": {
                      "automargin": true,
                      "gridcolor": "white",
                      "linecolor": "white",
                      "ticks": "",
                      "title": {
                        "standoff": 15
                      },
                      "zerolinecolor": "white",
                      "zerolinewidth": 2
                    },
                    "yaxis": {
                      "automargin": true,
                      "gridcolor": "white",
                      "linecolor": "white",
                      "ticks": "",
                      "title": {
                        "standoff": 15
                      },
                      "zerolinecolor": "white",
                      "zerolinewidth": 2
                    }
                  }
                },
                "title": {
                  "text": "Product Sell in United Kingdom vs Other Countries Over the Time"
                },
                "xaxis": {
                  "title": {
                    "text": "Date"
                  }
                },
                "yaxis": {
                  "title": {
                    "text": "Net Quantity"
                  }
                }
              }
            }
          },
          "metadata": {},
          "output_type": "display_data"
        }
      ],
      "source": [
        "fig = go.Figure()\n",
        "fig.add_trace(go.Scatter(x=product_sell_uk['Date'], y=product_sell_uk['Quantity'], name='United Kingdom'))\n",
        "fig.add_trace(go.Scatter(x=product_sell_other_countries['Date'], y=product_sell_other_countries['Quantity'], name='Other Countries'))\n",
        "fig.update_layout(xaxis_title='Date',yaxis_title='Net Quantity', title='Product Sell in United Kingdom vs Other Countries Over the Time')\n",
        "fig.show()"
      ]
    },
    {
      "cell_type": "code",
      "execution_count": 20,
      "metadata": {
        "id": "goLTJTKjfp71"
      },
      "outputs": [],
      "source": [
        "customer_overall = df.groupby(['Date','Country'])['CustomerNo'].count().reset_index()\n",
        "customer_uk = customer_overall[customer_overall['Country']=='United Kingdom']\n",
        "customer_other_countries = customer_overall[customer_overall['Country'] !='United Kingdom']\n",
        "customer_other_countries = customer_other_countries.groupby('Date')['CustomerNo'].sum().reset_index()"
      ]
    },
    {
      "cell_type": "code",
      "execution_count": 21,
      "metadata": {
        "colab": {
          "base_uri": "https://localhost:8080/",
          "height": 542
        },
        "id": "nHTh6YN4goJE",
        "outputId": "559fc038-8352-400c-da6b-e15f185cc4bf"
      },
      "outputs": [
        {
          "data": {
            "application/vnd.plotly.v1+json": {
              "config": {
                "plotlyServerURL": "https://plot.ly"
              },
              "data": [
                {
                  "name": "United Kingdom",
                  "type": "scatter",
                  "x": [
                    "2018-12-01T00:00:00",
                    "2018-12-02T00:00:00",
                    "2018-12-03T00:00:00",
                    "2018-12-05T00:00:00",
                    "2018-12-06T00:00:00",
                    "2018-12-07T00:00:00",
                    "2018-12-08T00:00:00",
                    "2018-12-09T00:00:00",
                    "2018-12-10T00:00:00",
                    "2018-12-12T00:00:00",
                    "2018-12-13T00:00:00",
                    "2018-12-14T00:00:00",
                    "2018-12-15T00:00:00",
                    "2018-12-16T00:00:00",
                    "2018-12-17T00:00:00",
                    "2018-12-19T00:00:00",
                    "2018-12-20T00:00:00",
                    "2018-12-21T00:00:00",
                    "2018-12-22T00:00:00",
                    "2018-12-23T00:00:00",
                    "2019-01-04T00:00:00",
                    "2019-01-05T00:00:00",
                    "2019-01-06T00:00:00",
                    "2019-01-07T00:00:00",
                    "2019-01-09T00:00:00",
                    "2019-01-10T00:00:00",
                    "2019-01-11T00:00:00",
                    "2019-01-12T00:00:00",
                    "2019-01-13T00:00:00",
                    "2019-01-14T00:00:00",
                    "2019-01-16T00:00:00",
                    "2019-01-17T00:00:00",
                    "2019-01-18T00:00:00",
                    "2019-01-19T00:00:00",
                    "2019-01-20T00:00:00",
                    "2019-01-21T00:00:00",
                    "2019-01-23T00:00:00",
                    "2019-01-24T00:00:00",
                    "2019-01-25T00:00:00",
                    "2019-01-26T00:00:00",
                    "2019-01-27T00:00:00",
                    "2019-01-28T00:00:00",
                    "2019-01-30T00:00:00",
                    "2019-01-31T00:00:00",
                    "2019-02-01T00:00:00",
                    "2019-02-02T00:00:00",
                    "2019-02-03T00:00:00",
                    "2019-02-04T00:00:00",
                    "2019-02-06T00:00:00",
                    "2019-02-07T00:00:00",
                    "2019-02-08T00:00:00",
                    "2019-02-09T00:00:00",
                    "2019-02-10T00:00:00",
                    "2019-02-11T00:00:00",
                    "2019-02-13T00:00:00",
                    "2019-02-14T00:00:00",
                    "2019-02-15T00:00:00",
                    "2019-02-16T00:00:00",
                    "2019-02-17T00:00:00",
                    "2019-02-18T00:00:00",
                    "2019-02-20T00:00:00",
                    "2019-02-21T00:00:00",
                    "2019-02-22T00:00:00",
                    "2019-02-23T00:00:00",
                    "2019-02-24T00:00:00",
                    "2019-02-25T00:00:00",
                    "2019-02-27T00:00:00",
                    "2019-02-28T00:00:00",
                    "2019-03-01T00:00:00",
                    "2019-03-02T00:00:00",
                    "2019-03-03T00:00:00",
                    "2019-03-04T00:00:00",
                    "2019-03-06T00:00:00",
                    "2019-03-07T00:00:00",
                    "2019-03-08T00:00:00",
                    "2019-03-09T00:00:00",
                    "2019-03-10T00:00:00",
                    "2019-03-11T00:00:00",
                    "2019-03-13T00:00:00",
                    "2019-03-14T00:00:00",
                    "2019-03-15T00:00:00",
                    "2019-03-16T00:00:00",
                    "2019-03-17T00:00:00",
                    "2019-03-18T00:00:00",
                    "2019-03-20T00:00:00",
                    "2019-03-21T00:00:00",
                    "2019-03-22T00:00:00",
                    "2019-03-23T00:00:00",
                    "2019-03-24T00:00:00",
                    "2019-03-25T00:00:00",
                    "2019-03-27T00:00:00",
                    "2019-03-28T00:00:00",
                    "2019-03-29T00:00:00",
                    "2019-03-30T00:00:00",
                    "2019-03-31T00:00:00",
                    "2019-04-01T00:00:00",
                    "2019-04-03T00:00:00",
                    "2019-04-04T00:00:00",
                    "2019-04-05T00:00:00",
                    "2019-04-06T00:00:00",
                    "2019-04-07T00:00:00",
                    "2019-04-08T00:00:00",
                    "2019-04-10T00:00:00",
                    "2019-04-11T00:00:00",
                    "2019-04-12T00:00:00",
                    "2019-04-13T00:00:00",
                    "2019-04-14T00:00:00",
                    "2019-04-15T00:00:00",
                    "2019-04-17T00:00:00",
                    "2019-04-18T00:00:00",
                    "2019-04-19T00:00:00",
                    "2019-04-20T00:00:00",
                    "2019-04-21T00:00:00",
                    "2019-04-26T00:00:00",
                    "2019-04-27T00:00:00",
                    "2019-04-28T00:00:00",
                    "2019-05-01T00:00:00",
                    "2019-05-03T00:00:00",
                    "2019-05-04T00:00:00",
                    "2019-05-05T00:00:00",
                    "2019-05-06T00:00:00",
                    "2019-05-08T00:00:00",
                    "2019-05-09T00:00:00",
                    "2019-05-10T00:00:00",
                    "2019-05-11T00:00:00",
                    "2019-05-12T00:00:00",
                    "2019-05-13T00:00:00",
                    "2019-05-15T00:00:00",
                    "2019-05-16T00:00:00",
                    "2019-05-17T00:00:00",
                    "2019-05-18T00:00:00",
                    "2019-05-19T00:00:00",
                    "2019-05-20T00:00:00",
                    "2019-05-22T00:00:00",
                    "2019-05-23T00:00:00",
                    "2019-05-24T00:00:00",
                    "2019-05-25T00:00:00",
                    "2019-05-26T00:00:00",
                    "2019-05-27T00:00:00",
                    "2019-05-29T00:00:00",
                    "2019-05-31T00:00:00",
                    "2019-06-01T00:00:00",
                    "2019-06-02T00:00:00",
                    "2019-06-03T00:00:00",
                    "2019-06-05T00:00:00",
                    "2019-06-06T00:00:00",
                    "2019-06-07T00:00:00",
                    "2019-06-08T00:00:00",
                    "2019-06-09T00:00:00",
                    "2019-06-10T00:00:00",
                    "2019-06-12T00:00:00",
                    "2019-06-13T00:00:00",
                    "2019-06-14T00:00:00",
                    "2019-06-15T00:00:00",
                    "2019-06-16T00:00:00",
                    "2019-06-17T00:00:00",
                    "2019-06-19T00:00:00",
                    "2019-06-20T00:00:00",
                    "2019-06-21T00:00:00",
                    "2019-06-22T00:00:00",
                    "2019-06-23T00:00:00",
                    "2019-06-24T00:00:00",
                    "2019-06-26T00:00:00",
                    "2019-06-27T00:00:00",
                    "2019-06-28T00:00:00",
                    "2019-06-29T00:00:00",
                    "2019-06-30T00:00:00",
                    "2019-07-01T00:00:00",
                    "2019-07-03T00:00:00",
                    "2019-07-04T00:00:00",
                    "2019-07-05T00:00:00",
                    "2019-07-06T00:00:00",
                    "2019-07-07T00:00:00",
                    "2019-07-08T00:00:00",
                    "2019-07-10T00:00:00",
                    "2019-07-11T00:00:00",
                    "2019-07-12T00:00:00",
                    "2019-07-13T00:00:00",
                    "2019-07-14T00:00:00",
                    "2019-07-15T00:00:00",
                    "2019-07-17T00:00:00",
                    "2019-07-18T00:00:00",
                    "2019-07-19T00:00:00",
                    "2019-07-20T00:00:00",
                    "2019-07-21T00:00:00",
                    "2019-07-22T00:00:00",
                    "2019-07-24T00:00:00",
                    "2019-07-25T00:00:00",
                    "2019-07-26T00:00:00",
                    "2019-07-27T00:00:00",
                    "2019-07-28T00:00:00",
                    "2019-07-29T00:00:00",
                    "2019-07-31T00:00:00",
                    "2019-08-01T00:00:00",
                    "2019-08-02T00:00:00",
                    "2019-08-03T00:00:00",
                    "2019-08-04T00:00:00",
                    "2019-08-05T00:00:00",
                    "2019-08-07T00:00:00",
                    "2019-08-08T00:00:00",
                    "2019-08-09T00:00:00",
                    "2019-08-10T00:00:00",
                    "2019-08-11T00:00:00",
                    "2019-08-12T00:00:00",
                    "2019-08-14T00:00:00",
                    "2019-08-15T00:00:00",
                    "2019-08-16T00:00:00",
                    "2019-08-17T00:00:00",
                    "2019-08-18T00:00:00",
                    "2019-08-19T00:00:00",
                    "2019-08-21T00:00:00",
                    "2019-08-22T00:00:00",
                    "2019-08-23T00:00:00",
                    "2019-08-24T00:00:00",
                    "2019-08-25T00:00:00",
                    "2019-08-26T00:00:00",
                    "2019-08-28T00:00:00",
                    "2019-08-30T00:00:00",
                    "2019-08-31T00:00:00",
                    "2019-09-01T00:00:00",
                    "2019-09-02T00:00:00",
                    "2019-09-04T00:00:00",
                    "2019-09-05T00:00:00",
                    "2019-09-06T00:00:00",
                    "2019-09-07T00:00:00",
                    "2019-09-08T00:00:00",
                    "2019-09-09T00:00:00",
                    "2019-09-11T00:00:00",
                    "2019-09-12T00:00:00",
                    "2019-09-13T00:00:00",
                    "2019-09-14T00:00:00",
                    "2019-09-15T00:00:00",
                    "2019-09-16T00:00:00",
                    "2019-09-18T00:00:00",
                    "2019-09-19T00:00:00",
                    "2019-09-20T00:00:00",
                    "2019-09-21T00:00:00",
                    "2019-09-22T00:00:00",
                    "2019-09-23T00:00:00",
                    "2019-09-25T00:00:00",
                    "2019-09-26T00:00:00",
                    "2019-09-27T00:00:00",
                    "2019-09-28T00:00:00",
                    "2019-09-29T00:00:00",
                    "2019-09-30T00:00:00",
                    "2019-10-02T00:00:00",
                    "2019-10-03T00:00:00",
                    "2019-10-04T00:00:00",
                    "2019-10-05T00:00:00",
                    "2019-10-06T00:00:00",
                    "2019-10-07T00:00:00",
                    "2019-10-09T00:00:00",
                    "2019-10-10T00:00:00",
                    "2019-10-11T00:00:00",
                    "2019-10-12T00:00:00",
                    "2019-10-13T00:00:00",
                    "2019-10-14T00:00:00",
                    "2019-10-16T00:00:00",
                    "2019-10-17T00:00:00",
                    "2019-10-18T00:00:00",
                    "2019-10-19T00:00:00",
                    "2019-10-20T00:00:00",
                    "2019-10-21T00:00:00",
                    "2019-10-23T00:00:00",
                    "2019-10-24T00:00:00",
                    "2019-10-25T00:00:00",
                    "2019-10-26T00:00:00",
                    "2019-10-27T00:00:00",
                    "2019-10-28T00:00:00",
                    "2019-10-30T00:00:00",
                    "2019-10-31T00:00:00",
                    "2019-11-01T00:00:00",
                    "2019-11-02T00:00:00",
                    "2019-11-03T00:00:00",
                    "2019-11-04T00:00:00",
                    "2019-11-06T00:00:00",
                    "2019-11-07T00:00:00",
                    "2019-11-08T00:00:00",
                    "2019-11-09T00:00:00",
                    "2019-11-10T00:00:00",
                    "2019-11-11T00:00:00",
                    "2019-11-13T00:00:00",
                    "2019-11-14T00:00:00",
                    "2019-11-15T00:00:00",
                    "2019-11-16T00:00:00",
                    "2019-11-17T00:00:00",
                    "2019-11-18T00:00:00",
                    "2019-11-20T00:00:00",
                    "2019-11-21T00:00:00",
                    "2019-11-22T00:00:00",
                    "2019-11-23T00:00:00",
                    "2019-11-24T00:00:00",
                    "2019-11-25T00:00:00",
                    "2019-11-27T00:00:00",
                    "2019-11-28T00:00:00",
                    "2019-11-29T00:00:00",
                    "2019-11-30T00:00:00",
                    "2019-12-01T00:00:00",
                    "2019-12-02T00:00:00",
                    "2019-12-04T00:00:00",
                    "2019-12-05T00:00:00",
                    "2019-12-06T00:00:00",
                    "2019-12-07T00:00:00",
                    "2019-12-08T00:00:00",
                    "2019-12-09T00:00:00"
                  ],
                  "y": [
                    2931,
                    2087,
                    1401,
                    2483,
                    3796,
                    2667,
                    2477,
                    2599,
                    2615,
                    1399,
                    1679,
                    1976,
                    1206,
                    1708,
                    2806,
                    474,
                    1577,
                    1446,
                    249,
                    865,
                    1151,
                    1613,
                    1666,
                    1089,
                    1043,
                    1788,
                    1355,
                    1727,
                    1363,
                    1253,
                    644,
                    2057,
                    991,
                    1180,
                    977,
                    1456,
                    867,
                    1266,
                    1485,
                    1052,
                    1312,
                    639,
                    722,
                    1234,
                    1443,
                    1350,
                    859,
                    1063,
                    279,
                    1134,
                    1103,
                    669,
                    762,
                    805,
                    624,
                    939,
                    1097,
                    1046,
                    1596,
                    753,
                    862,
                    1107,
                    1541,
                    1300,
                    1267,
                    906,
                    797,
                    1618,
                    1046,
                    888,
                    1205,
                    963,
                    842,
                    1887,
                    1477,
                    1131,
                    1003,
                    834,
                    517,
                    919,
                    1151,
                    764,
                    1894,
                    1209,
                    1383,
                    1002,
                    2117,
                    1162,
                    1439,
                    1172,
                    724,
                    1436,
                    1843,
                    1477,
                    1609,
                    1047,
                    731,
                    1597,
                    1071,
                    1010,
                    1373,
                    1264,
                    913,
                    1098,
                    1113,
                    976,
                    1440,
                    1388,
                    912,
                    2831,
                    1744,
                    978,
                    1671,
                    1808,
                    1231,
                    1050,
                    418,
                    1186,
                    1078,
                    1666,
                    1949,
                    1393,
                    1657,
                    2220,
                    1564,
                    1547,
                    1338,
                    779,
                    1419,
                    1658,
                    1091,
                    1687,
                    1060,
                    1421,
                    1396,
                    1706,
                    1208,
                    802,
                    1064,
                    602,
                    1111,
                    1377,
                    1376,
                    768,
                    1344,
                    1085,
                    1835,
                    2062,
                    1578,
                    915,
                    1048,
                    1204,
                    1553,
                    1440,
                    1368,
                    790,
                    1062,
                    1653,
                    1350,
                    901,
                    1841,
                    927,
                    674,
                    1115,
                    899,
                    1313,
                    1480,
                    905,
                    578,
                    2060,
                    2124,
                    1683,
                    1821,
                    1339,
                    815,
                    1397,
                    1539,
                    1485,
                    1484,
                    1062,
                    1179,
                    1977,
                    1191,
                    1901,
                    1409,
                    1204,
                    1034,
                    1785,
                    1206,
                    1066,
                    1273,
                    1051,
                    1090,
                    1113,
                    998,
                    1513,
                    1592,
                    1205,
                    535,
                    1335,
                    997,
                    1265,
                    1762,
                    912,
                    553,
                    757,
                    962,
                    1505,
                    1192,
                    591,
                    996,
                    1158,
                    1297,
                    1749,
                    1147,
                    653,
                    1077,
                    2990,
                    1045,
                    1316,
                    2116,
                    1152,
                    1175,
                    1019,
                    1779,
                    1504,
                    1313,
                    1903,
                    1694,
                    2332,
                    1035,
                    2090,
                    1369,
                    1273,
                    983,
                    1532,
                    2498,
                    2400,
                    2256,
                    1890,
                    1429,
                    1803,
                    2517,
                    2342,
                    1730,
                    1427,
                    2186,
                    2708,
                    1924,
                    2641,
                    2119,
                    1290,
                    2957,
                    1911,
                    1733,
                    1905,
                    1569,
                    1252,
                    2511,
                    2104,
                    2027,
                    1965,
                    1247,
                    1722,
                    2587,
                    2338,
                    1798,
                    2311,
                    1469,
                    2700,
                    3015,
                    1604,
                    2500,
                    2228,
                    2729,
                    3146,
                    1948,
                    3912,
                    2624,
                    2955,
                    3662,
                    2847,
                    3353,
                    3218,
                    3932,
                    3038,
                    1956,
                    3178,
                    2698,
                    3666,
                    3422,
                    2757,
                    2976,
                    2517,
                    3105,
                    4151,
                    3069,
                    2769,
                    2673,
                    1898,
                    5174,
                    3137,
                    1962,
                    4757,
                    1447
                  ]
                },
                {
                  "name": "Other Countries",
                  "type": "scatter",
                  "x": [
                    "2018-12-01T00:00:00",
                    "2018-12-02T00:00:00",
                    "2018-12-03T00:00:00",
                    "2018-12-05T00:00:00",
                    "2018-12-06T00:00:00",
                    "2018-12-07T00:00:00",
                    "2018-12-08T00:00:00",
                    "2018-12-09T00:00:00",
                    "2018-12-10T00:00:00",
                    "2018-12-12T00:00:00",
                    "2018-12-13T00:00:00",
                    "2018-12-14T00:00:00",
                    "2018-12-15T00:00:00",
                    "2018-12-16T00:00:00",
                    "2018-12-17T00:00:00",
                    "2018-12-19T00:00:00",
                    "2018-12-20T00:00:00",
                    "2018-12-21T00:00:00",
                    "2018-12-22T00:00:00",
                    "2018-12-23T00:00:00",
                    "2019-01-04T00:00:00",
                    "2019-01-05T00:00:00",
                    "2019-01-06T00:00:00",
                    "2019-01-07T00:00:00",
                    "2019-01-09T00:00:00",
                    "2019-01-10T00:00:00",
                    "2019-01-11T00:00:00",
                    "2019-01-12T00:00:00",
                    "2019-01-13T00:00:00",
                    "2019-01-14T00:00:00",
                    "2019-01-17T00:00:00",
                    "2019-01-18T00:00:00",
                    "2019-01-19T00:00:00",
                    "2019-01-20T00:00:00",
                    "2019-01-21T00:00:00",
                    "2019-01-23T00:00:00",
                    "2019-01-24T00:00:00",
                    "2019-01-25T00:00:00",
                    "2019-01-26T00:00:00",
                    "2019-01-27T00:00:00",
                    "2019-01-28T00:00:00",
                    "2019-01-31T00:00:00",
                    "2019-02-01T00:00:00",
                    "2019-02-02T00:00:00",
                    "2019-02-03T00:00:00",
                    "2019-02-04T00:00:00",
                    "2019-02-07T00:00:00",
                    "2019-02-08T00:00:00",
                    "2019-02-09T00:00:00",
                    "2019-02-10T00:00:00",
                    "2019-02-11T00:00:00",
                    "2019-02-14T00:00:00",
                    "2019-02-15T00:00:00",
                    "2019-02-16T00:00:00",
                    "2019-02-17T00:00:00",
                    "2019-02-18T00:00:00",
                    "2019-02-21T00:00:00",
                    "2019-02-22T00:00:00",
                    "2019-02-23T00:00:00",
                    "2019-02-24T00:00:00",
                    "2019-02-25T00:00:00",
                    "2019-02-27T00:00:00",
                    "2019-02-28T00:00:00",
                    "2019-03-01T00:00:00",
                    "2019-03-02T00:00:00",
                    "2019-03-03T00:00:00",
                    "2019-03-04T00:00:00",
                    "2019-03-07T00:00:00",
                    "2019-03-08T00:00:00",
                    "2019-03-09T00:00:00",
                    "2019-03-10T00:00:00",
                    "2019-03-11T00:00:00",
                    "2019-03-13T00:00:00",
                    "2019-03-14T00:00:00",
                    "2019-03-15T00:00:00",
                    "2019-03-16T00:00:00",
                    "2019-03-17T00:00:00",
                    "2019-03-18T00:00:00",
                    "2019-03-20T00:00:00",
                    "2019-03-21T00:00:00",
                    "2019-03-22T00:00:00",
                    "2019-03-23T00:00:00",
                    "2019-03-24T00:00:00",
                    "2019-03-25T00:00:00",
                    "2019-03-27T00:00:00",
                    "2019-03-28T00:00:00",
                    "2019-03-29T00:00:00",
                    "2019-03-30T00:00:00",
                    "2019-03-31T00:00:00",
                    "2019-04-01T00:00:00",
                    "2019-04-04T00:00:00",
                    "2019-04-05T00:00:00",
                    "2019-04-06T00:00:00",
                    "2019-04-07T00:00:00",
                    "2019-04-08T00:00:00",
                    "2019-04-10T00:00:00",
                    "2019-04-11T00:00:00",
                    "2019-04-12T00:00:00",
                    "2019-04-13T00:00:00",
                    "2019-04-14T00:00:00",
                    "2019-04-15T00:00:00",
                    "2019-04-17T00:00:00",
                    "2019-04-18T00:00:00",
                    "2019-04-19T00:00:00",
                    "2019-04-20T00:00:00",
                    "2019-04-21T00:00:00",
                    "2019-04-26T00:00:00",
                    "2019-04-27T00:00:00",
                    "2019-04-28T00:00:00",
                    "2019-05-01T00:00:00",
                    "2019-05-03T00:00:00",
                    "2019-05-04T00:00:00",
                    "2019-05-05T00:00:00",
                    "2019-05-06T00:00:00",
                    "2019-05-08T00:00:00",
                    "2019-05-09T00:00:00",
                    "2019-05-10T00:00:00",
                    "2019-05-11T00:00:00",
                    "2019-05-12T00:00:00",
                    "2019-05-13T00:00:00",
                    "2019-05-15T00:00:00",
                    "2019-05-16T00:00:00",
                    "2019-05-17T00:00:00",
                    "2019-05-18T00:00:00",
                    "2019-05-19T00:00:00",
                    "2019-05-20T00:00:00",
                    "2019-05-22T00:00:00",
                    "2019-05-23T00:00:00",
                    "2019-05-24T00:00:00",
                    "2019-05-25T00:00:00",
                    "2019-05-26T00:00:00",
                    "2019-05-27T00:00:00",
                    "2019-05-29T00:00:00",
                    "2019-05-31T00:00:00",
                    "2019-06-01T00:00:00",
                    "2019-06-02T00:00:00",
                    "2019-06-03T00:00:00",
                    "2019-06-05T00:00:00",
                    "2019-06-06T00:00:00",
                    "2019-06-07T00:00:00",
                    "2019-06-08T00:00:00",
                    "2019-06-09T00:00:00",
                    "2019-06-10T00:00:00",
                    "2019-06-12T00:00:00",
                    "2019-06-13T00:00:00",
                    "2019-06-14T00:00:00",
                    "2019-06-15T00:00:00",
                    "2019-06-16T00:00:00",
                    "2019-06-17T00:00:00",
                    "2019-06-19T00:00:00",
                    "2019-06-20T00:00:00",
                    "2019-06-21T00:00:00",
                    "2019-06-22T00:00:00",
                    "2019-06-23T00:00:00",
                    "2019-06-24T00:00:00",
                    "2019-06-26T00:00:00",
                    "2019-06-27T00:00:00",
                    "2019-06-28T00:00:00",
                    "2019-06-29T00:00:00",
                    "2019-06-30T00:00:00",
                    "2019-07-01T00:00:00",
                    "2019-07-03T00:00:00",
                    "2019-07-04T00:00:00",
                    "2019-07-05T00:00:00",
                    "2019-07-06T00:00:00",
                    "2019-07-07T00:00:00",
                    "2019-07-08T00:00:00",
                    "2019-07-11T00:00:00",
                    "2019-07-12T00:00:00",
                    "2019-07-13T00:00:00",
                    "2019-07-14T00:00:00",
                    "2019-07-15T00:00:00",
                    "2019-07-17T00:00:00",
                    "2019-07-18T00:00:00",
                    "2019-07-19T00:00:00",
                    "2019-07-20T00:00:00",
                    "2019-07-21T00:00:00",
                    "2019-07-22T00:00:00",
                    "2019-07-24T00:00:00",
                    "2019-07-25T00:00:00",
                    "2019-07-26T00:00:00",
                    "2019-07-27T00:00:00",
                    "2019-07-28T00:00:00",
                    "2019-07-29T00:00:00",
                    "2019-07-31T00:00:00",
                    "2019-08-01T00:00:00",
                    "2019-08-02T00:00:00",
                    "2019-08-03T00:00:00",
                    "2019-08-04T00:00:00",
                    "2019-08-05T00:00:00",
                    "2019-08-07T00:00:00",
                    "2019-08-08T00:00:00",
                    "2019-08-09T00:00:00",
                    "2019-08-10T00:00:00",
                    "2019-08-11T00:00:00",
                    "2019-08-12T00:00:00",
                    "2019-08-14T00:00:00",
                    "2019-08-15T00:00:00",
                    "2019-08-16T00:00:00",
                    "2019-08-17T00:00:00",
                    "2019-08-18T00:00:00",
                    "2019-08-19T00:00:00",
                    "2019-08-21T00:00:00",
                    "2019-08-22T00:00:00",
                    "2019-08-23T00:00:00",
                    "2019-08-24T00:00:00",
                    "2019-08-25T00:00:00",
                    "2019-08-26T00:00:00",
                    "2019-08-28T00:00:00",
                    "2019-08-30T00:00:00",
                    "2019-08-31T00:00:00",
                    "2019-09-01T00:00:00",
                    "2019-09-02T00:00:00",
                    "2019-09-04T00:00:00",
                    "2019-09-05T00:00:00",
                    "2019-09-06T00:00:00",
                    "2019-09-07T00:00:00",
                    "2019-09-08T00:00:00",
                    "2019-09-09T00:00:00",
                    "2019-09-11T00:00:00",
                    "2019-09-13T00:00:00",
                    "2019-09-14T00:00:00",
                    "2019-09-15T00:00:00",
                    "2019-09-16T00:00:00",
                    "2019-09-19T00:00:00",
                    "2019-09-20T00:00:00",
                    "2019-09-21T00:00:00",
                    "2019-09-22T00:00:00",
                    "2019-09-23T00:00:00",
                    "2019-09-25T00:00:00",
                    "2019-09-26T00:00:00",
                    "2019-09-27T00:00:00",
                    "2019-09-28T00:00:00",
                    "2019-09-29T00:00:00",
                    "2019-09-30T00:00:00",
                    "2019-10-03T00:00:00",
                    "2019-10-04T00:00:00",
                    "2019-10-05T00:00:00",
                    "2019-10-06T00:00:00",
                    "2019-10-07T00:00:00",
                    "2019-10-10T00:00:00",
                    "2019-10-11T00:00:00",
                    "2019-10-12T00:00:00",
                    "2019-10-13T00:00:00",
                    "2019-10-14T00:00:00",
                    "2019-10-17T00:00:00",
                    "2019-10-18T00:00:00",
                    "2019-10-19T00:00:00",
                    "2019-10-20T00:00:00",
                    "2019-10-21T00:00:00",
                    "2019-10-23T00:00:00",
                    "2019-10-24T00:00:00",
                    "2019-10-25T00:00:00",
                    "2019-10-26T00:00:00",
                    "2019-10-27T00:00:00",
                    "2019-10-28T00:00:00",
                    "2019-10-30T00:00:00",
                    "2019-10-31T00:00:00",
                    "2019-11-01T00:00:00",
                    "2019-11-02T00:00:00",
                    "2019-11-03T00:00:00",
                    "2019-11-04T00:00:00",
                    "2019-11-06T00:00:00",
                    "2019-11-07T00:00:00",
                    "2019-11-08T00:00:00",
                    "2019-11-09T00:00:00",
                    "2019-11-10T00:00:00",
                    "2019-11-11T00:00:00",
                    "2019-11-13T00:00:00",
                    "2019-11-14T00:00:00",
                    "2019-11-15T00:00:00",
                    "2019-11-16T00:00:00",
                    "2019-11-17T00:00:00",
                    "2019-11-18T00:00:00",
                    "2019-11-20T00:00:00",
                    "2019-11-21T00:00:00",
                    "2019-11-22T00:00:00",
                    "2019-11-23T00:00:00",
                    "2019-11-24T00:00:00",
                    "2019-11-25T00:00:00",
                    "2019-11-27T00:00:00",
                    "2019-11-28T00:00:00",
                    "2019-11-29T00:00:00",
                    "2019-11-30T00:00:00",
                    "2019-12-01T00:00:00",
                    "2019-12-02T00:00:00",
                    "2019-12-04T00:00:00",
                    "2019-12-05T00:00:00",
                    "2019-12-06T00:00:00",
                    "2019-12-07T00:00:00",
                    "2019-12-08T00:00:00",
                    "2019-12-09T00:00:00"
                  ],
                  "y": [
                    155,
                    14,
                    749,
                    226,
                    55,
                    259,
                    152,
                    227,
                    125,
                    51,
                    594,
                    97,
                    135,
                    77,
                    281,
                    46,
                    164,
                    114,
                    40,
                    89,
                    12,
                    110,
                    153,
                    694,
                    70,
                    163,
                    83,
                    71,
                    75,
                    241,
                    491,
                    439,
                    227,
                    512,
                    128,
                    11,
                    201,
                    160,
                    228,
                    235,
                    309,
                    261,
                    109,
                    46,
                    120,
                    139,
                    119,
                    110,
                    196,
                    17,
                    133,
                    158,
                    223,
                    140,
                    104,
                    85,
                    273,
                    47,
                    264,
                    23,
                    63,
                    14,
                    102,
                    299,
                    45,
                    157,
                    130,
                    61,
                    106,
                    120,
                    114,
                    109,
                    17,
                    184,
                    125,
                    100,
                    166,
                    151,
                    58,
                    65,
                    222,
                    127,
                    112,
                    199,
                    11,
                    197,
                    104,
                    78,
                    102,
                    185,
                    84,
                    110,
                    66,
                    140,
                    112,
                    25,
                    152,
                    32,
                    66,
                    155,
                    72,
                    54,
                    357,
                    128,
                    33,
                    220,
                    75,
                    49,
                    104,
                    32,
                    209,
                    77,
                    157,
                    64,
                    110,
                    93,
                    327,
                    125,
                    402,
                    80,
                    26,
                    160,
                    239,
                    255,
                    239,
                    55,
                    138,
                    207,
                    28,
                    91,
                    153,
                    90,
                    29,
                    161,
                    69,
                    186,
                    82,
                    209,
                    136,
                    77,
                    232,
                    244,
                    112,
                    25,
                    250,
                    23,
                    244,
                    147,
                    165,
                    100,
                    337,
                    164,
                    103,
                    118,
                    96,
                    31,
                    55,
                    110,
                    32,
                    129,
                    98,
                    24,
                    121,
                    58,
                    123,
                    104,
                    253,
                    107,
                    114,
                    120,
                    232,
                    53,
                    65,
                    202,
                    459,
                    95,
                    135,
                    87,
                    87,
                    137,
                    41,
                    150,
                    263,
                    73,
                    175,
                    75,
                    359,
                    37,
                    226,
                    234,
                    6,
                    139,
                    113,
                    99,
                    208,
                    195,
                    3,
                    162,
                    63,
                    147,
                    331,
                    219,
                    68,
                    109,
                    149,
                    110,
                    171,
                    263,
                    122,
                    216,
                    207,
                    84,
                    220,
                    185,
                    399,
                    115,
                    318,
                    256,
                    277,
                    122,
                    84,
                    326,
                    92,
                    74,
                    428,
                    169,
                    604,
                    311,
                    352,
                    90,
                    110,
                    72,
                    341,
                    149,
                    137,
                    80,
                    69,
                    510,
                    494,
                    284,
                    241,
                    535,
                    429,
                    428,
                    221,
                    410,
                    776,
                    272,
                    377,
                    149,
                    2,
                    323,
                    117,
                    115,
                    208,
                    147,
                    197,
                    343,
                    163,
                    107,
                    164,
                    259,
                    283,
                    130,
                    139,
                    80,
                    278,
                    397,
                    169,
                    205,
                    189,
                    224,
                    543,
                    924,
                    149,
                    214,
                    255,
                    175,
                    973,
                    122,
                    22,
                    210,
                    139,
                    341,
                    116,
                    180,
                    130,
                    125,
                    209,
                    443,
                    164,
                    175
                  ]
                }
              ],
              "layout": {
                "template": {
                  "data": {
                    "bar": [
                      {
                        "error_x": {
                          "color": "#2a3f5f"
                        },
                        "error_y": {
                          "color": "#2a3f5f"
                        },
                        "marker": {
                          "line": {
                            "color": "#E5ECF6",
                            "width": 0.5
                          },
                          "pattern": {
                            "fillmode": "overlay",
                            "size": 10,
                            "solidity": 0.2
                          }
                        },
                        "type": "bar"
                      }
                    ],
                    "barpolar": [
                      {
                        "marker": {
                          "line": {
                            "color": "#E5ECF6",
                            "width": 0.5
                          },
                          "pattern": {
                            "fillmode": "overlay",
                            "size": 10,
                            "solidity": 0.2
                          }
                        },
                        "type": "barpolar"
                      }
                    ],
                    "carpet": [
                      {
                        "aaxis": {
                          "endlinecolor": "#2a3f5f",
                          "gridcolor": "white",
                          "linecolor": "white",
                          "minorgridcolor": "white",
                          "startlinecolor": "#2a3f5f"
                        },
                        "baxis": {
                          "endlinecolor": "#2a3f5f",
                          "gridcolor": "white",
                          "linecolor": "white",
                          "minorgridcolor": "white",
                          "startlinecolor": "#2a3f5f"
                        },
                        "type": "carpet"
                      }
                    ],
                    "choropleth": [
                      {
                        "colorbar": {
                          "outlinewidth": 0,
                          "ticks": ""
                        },
                        "type": "choropleth"
                      }
                    ],
                    "contour": [
                      {
                        "colorbar": {
                          "outlinewidth": 0,
                          "ticks": ""
                        },
                        "colorscale": [
                          [
                            0,
                            "#0d0887"
                          ],
                          [
                            0.1111111111111111,
                            "#46039f"
                          ],
                          [
                            0.2222222222222222,
                            "#7201a8"
                          ],
                          [
                            0.3333333333333333,
                            "#9c179e"
                          ],
                          [
                            0.4444444444444444,
                            "#bd3786"
                          ],
                          [
                            0.5555555555555556,
                            "#d8576b"
                          ],
                          [
                            0.6666666666666666,
                            "#ed7953"
                          ],
                          [
                            0.7777777777777778,
                            "#fb9f3a"
                          ],
                          [
                            0.8888888888888888,
                            "#fdca26"
                          ],
                          [
                            1,
                            "#f0f921"
                          ]
                        ],
                        "type": "contour"
                      }
                    ],
                    "contourcarpet": [
                      {
                        "colorbar": {
                          "outlinewidth": 0,
                          "ticks": ""
                        },
                        "type": "contourcarpet"
                      }
                    ],
                    "heatmap": [
                      {
                        "colorbar": {
                          "outlinewidth": 0,
                          "ticks": ""
                        },
                        "colorscale": [
                          [
                            0,
                            "#0d0887"
                          ],
                          [
                            0.1111111111111111,
                            "#46039f"
                          ],
                          [
                            0.2222222222222222,
                            "#7201a8"
                          ],
                          [
                            0.3333333333333333,
                            "#9c179e"
                          ],
                          [
                            0.4444444444444444,
                            "#bd3786"
                          ],
                          [
                            0.5555555555555556,
                            "#d8576b"
                          ],
                          [
                            0.6666666666666666,
                            "#ed7953"
                          ],
                          [
                            0.7777777777777778,
                            "#fb9f3a"
                          ],
                          [
                            0.8888888888888888,
                            "#fdca26"
                          ],
                          [
                            1,
                            "#f0f921"
                          ]
                        ],
                        "type": "heatmap"
                      }
                    ],
                    "heatmapgl": [
                      {
                        "colorbar": {
                          "outlinewidth": 0,
                          "ticks": ""
                        },
                        "colorscale": [
                          [
                            0,
                            "#0d0887"
                          ],
                          [
                            0.1111111111111111,
                            "#46039f"
                          ],
                          [
                            0.2222222222222222,
                            "#7201a8"
                          ],
                          [
                            0.3333333333333333,
                            "#9c179e"
                          ],
                          [
                            0.4444444444444444,
                            "#bd3786"
                          ],
                          [
                            0.5555555555555556,
                            "#d8576b"
                          ],
                          [
                            0.6666666666666666,
                            "#ed7953"
                          ],
                          [
                            0.7777777777777778,
                            "#fb9f3a"
                          ],
                          [
                            0.8888888888888888,
                            "#fdca26"
                          ],
                          [
                            1,
                            "#f0f921"
                          ]
                        ],
                        "type": "heatmapgl"
                      }
                    ],
                    "histogram": [
                      {
                        "marker": {
                          "pattern": {
                            "fillmode": "overlay",
                            "size": 10,
                            "solidity": 0.2
                          }
                        },
                        "type": "histogram"
                      }
                    ],
                    "histogram2d": [
                      {
                        "colorbar": {
                          "outlinewidth": 0,
                          "ticks": ""
                        },
                        "colorscale": [
                          [
                            0,
                            "#0d0887"
                          ],
                          [
                            0.1111111111111111,
                            "#46039f"
                          ],
                          [
                            0.2222222222222222,
                            "#7201a8"
                          ],
                          [
                            0.3333333333333333,
                            "#9c179e"
                          ],
                          [
                            0.4444444444444444,
                            "#bd3786"
                          ],
                          [
                            0.5555555555555556,
                            "#d8576b"
                          ],
                          [
                            0.6666666666666666,
                            "#ed7953"
                          ],
                          [
                            0.7777777777777778,
                            "#fb9f3a"
                          ],
                          [
                            0.8888888888888888,
                            "#fdca26"
                          ],
                          [
                            1,
                            "#f0f921"
                          ]
                        ],
                        "type": "histogram2d"
                      }
                    ],
                    "histogram2dcontour": [
                      {
                        "colorbar": {
                          "outlinewidth": 0,
                          "ticks": ""
                        },
                        "colorscale": [
                          [
                            0,
                            "#0d0887"
                          ],
                          [
                            0.1111111111111111,
                            "#46039f"
                          ],
                          [
                            0.2222222222222222,
                            "#7201a8"
                          ],
                          [
                            0.3333333333333333,
                            "#9c179e"
                          ],
                          [
                            0.4444444444444444,
                            "#bd3786"
                          ],
                          [
                            0.5555555555555556,
                            "#d8576b"
                          ],
                          [
                            0.6666666666666666,
                            "#ed7953"
                          ],
                          [
                            0.7777777777777778,
                            "#fb9f3a"
                          ],
                          [
                            0.8888888888888888,
                            "#fdca26"
                          ],
                          [
                            1,
                            "#f0f921"
                          ]
                        ],
                        "type": "histogram2dcontour"
                      }
                    ],
                    "mesh3d": [
                      {
                        "colorbar": {
                          "outlinewidth": 0,
                          "ticks": ""
                        },
                        "type": "mesh3d"
                      }
                    ],
                    "parcoords": [
                      {
                        "line": {
                          "colorbar": {
                            "outlinewidth": 0,
                            "ticks": ""
                          }
                        },
                        "type": "parcoords"
                      }
                    ],
                    "pie": [
                      {
                        "automargin": true,
                        "type": "pie"
                      }
                    ],
                    "scatter": [
                      {
                        "fillpattern": {
                          "fillmode": "overlay",
                          "size": 10,
                          "solidity": 0.2
                        },
                        "type": "scatter"
                      }
                    ],
                    "scatter3d": [
                      {
                        "line": {
                          "colorbar": {
                            "outlinewidth": 0,
                            "ticks": ""
                          }
                        },
                        "marker": {
                          "colorbar": {
                            "outlinewidth": 0,
                            "ticks": ""
                          }
                        },
                        "type": "scatter3d"
                      }
                    ],
                    "scattercarpet": [
                      {
                        "marker": {
                          "colorbar": {
                            "outlinewidth": 0,
                            "ticks": ""
                          }
                        },
                        "type": "scattercarpet"
                      }
                    ],
                    "scattergeo": [
                      {
                        "marker": {
                          "colorbar": {
                            "outlinewidth": 0,
                            "ticks": ""
                          }
                        },
                        "type": "scattergeo"
                      }
                    ],
                    "scattergl": [
                      {
                        "marker": {
                          "colorbar": {
                            "outlinewidth": 0,
                            "ticks": ""
                          }
                        },
                        "type": "scattergl"
                      }
                    ],
                    "scattermapbox": [
                      {
                        "marker": {
                          "colorbar": {
                            "outlinewidth": 0,
                            "ticks": ""
                          }
                        },
                        "type": "scattermapbox"
                      }
                    ],
                    "scatterpolar": [
                      {
                        "marker": {
                          "colorbar": {
                            "outlinewidth": 0,
                            "ticks": ""
                          }
                        },
                        "type": "scatterpolar"
                      }
                    ],
                    "scatterpolargl": [
                      {
                        "marker": {
                          "colorbar": {
                            "outlinewidth": 0,
                            "ticks": ""
                          }
                        },
                        "type": "scatterpolargl"
                      }
                    ],
                    "scatterternary": [
                      {
                        "marker": {
                          "colorbar": {
                            "outlinewidth": 0,
                            "ticks": ""
                          }
                        },
                        "type": "scatterternary"
                      }
                    ],
                    "surface": [
                      {
                        "colorbar": {
                          "outlinewidth": 0,
                          "ticks": ""
                        },
                        "colorscale": [
                          [
                            0,
                            "#0d0887"
                          ],
                          [
                            0.1111111111111111,
                            "#46039f"
                          ],
                          [
                            0.2222222222222222,
                            "#7201a8"
                          ],
                          [
                            0.3333333333333333,
                            "#9c179e"
                          ],
                          [
                            0.4444444444444444,
                            "#bd3786"
                          ],
                          [
                            0.5555555555555556,
                            "#d8576b"
                          ],
                          [
                            0.6666666666666666,
                            "#ed7953"
                          ],
                          [
                            0.7777777777777778,
                            "#fb9f3a"
                          ],
                          [
                            0.8888888888888888,
                            "#fdca26"
                          ],
                          [
                            1,
                            "#f0f921"
                          ]
                        ],
                        "type": "surface"
                      }
                    ],
                    "table": [
                      {
                        "cells": {
                          "fill": {
                            "color": "#EBF0F8"
                          },
                          "line": {
                            "color": "white"
                          }
                        },
                        "header": {
                          "fill": {
                            "color": "#C8D4E3"
                          },
                          "line": {
                            "color": "white"
                          }
                        },
                        "type": "table"
                      }
                    ]
                  },
                  "layout": {
                    "annotationdefaults": {
                      "arrowcolor": "#2a3f5f",
                      "arrowhead": 0,
                      "arrowwidth": 1
                    },
                    "autotypenumbers": "strict",
                    "coloraxis": {
                      "colorbar": {
                        "outlinewidth": 0,
                        "ticks": ""
                      }
                    },
                    "colorscale": {
                      "diverging": [
                        [
                          0,
                          "#8e0152"
                        ],
                        [
                          0.1,
                          "#c51b7d"
                        ],
                        [
                          0.2,
                          "#de77ae"
                        ],
                        [
                          0.3,
                          "#f1b6da"
                        ],
                        [
                          0.4,
                          "#fde0ef"
                        ],
                        [
                          0.5,
                          "#f7f7f7"
                        ],
                        [
                          0.6,
                          "#e6f5d0"
                        ],
                        [
                          0.7,
                          "#b8e186"
                        ],
                        [
                          0.8,
                          "#7fbc41"
                        ],
                        [
                          0.9,
                          "#4d9221"
                        ],
                        [
                          1,
                          "#276419"
                        ]
                      ],
                      "sequential": [
                        [
                          0,
                          "#0d0887"
                        ],
                        [
                          0.1111111111111111,
                          "#46039f"
                        ],
                        [
                          0.2222222222222222,
                          "#7201a8"
                        ],
                        [
                          0.3333333333333333,
                          "#9c179e"
                        ],
                        [
                          0.4444444444444444,
                          "#bd3786"
                        ],
                        [
                          0.5555555555555556,
                          "#d8576b"
                        ],
                        [
                          0.6666666666666666,
                          "#ed7953"
                        ],
                        [
                          0.7777777777777778,
                          "#fb9f3a"
                        ],
                        [
                          0.8888888888888888,
                          "#fdca26"
                        ],
                        [
                          1,
                          "#f0f921"
                        ]
                      ],
                      "sequentialminus": [
                        [
                          0,
                          "#0d0887"
                        ],
                        [
                          0.1111111111111111,
                          "#46039f"
                        ],
                        [
                          0.2222222222222222,
                          "#7201a8"
                        ],
                        [
                          0.3333333333333333,
                          "#9c179e"
                        ],
                        [
                          0.4444444444444444,
                          "#bd3786"
                        ],
                        [
                          0.5555555555555556,
                          "#d8576b"
                        ],
                        [
                          0.6666666666666666,
                          "#ed7953"
                        ],
                        [
                          0.7777777777777778,
                          "#fb9f3a"
                        ],
                        [
                          0.8888888888888888,
                          "#fdca26"
                        ],
                        [
                          1,
                          "#f0f921"
                        ]
                      ]
                    },
                    "colorway": [
                      "#636efa",
                      "#EF553B",
                      "#00cc96",
                      "#ab63fa",
                      "#FFA15A",
                      "#19d3f3",
                      "#FF6692",
                      "#B6E880",
                      "#FF97FF",
                      "#FECB52"
                    ],
                    "font": {
                      "color": "#2a3f5f"
                    },
                    "geo": {
                      "bgcolor": "white",
                      "lakecolor": "white",
                      "landcolor": "#E5ECF6",
                      "showlakes": true,
                      "showland": true,
                      "subunitcolor": "white"
                    },
                    "hoverlabel": {
                      "align": "left"
                    },
                    "hovermode": "closest",
                    "mapbox": {
                      "style": "light"
                    },
                    "paper_bgcolor": "white",
                    "plot_bgcolor": "#E5ECF6",
                    "polar": {
                      "angularaxis": {
                        "gridcolor": "white",
                        "linecolor": "white",
                        "ticks": ""
                      },
                      "bgcolor": "#E5ECF6",
                      "radialaxis": {
                        "gridcolor": "white",
                        "linecolor": "white",
                        "ticks": ""
                      }
                    },
                    "scene": {
                      "xaxis": {
                        "backgroundcolor": "#E5ECF6",
                        "gridcolor": "white",
                        "gridwidth": 2,
                        "linecolor": "white",
                        "showbackground": true,
                        "ticks": "",
                        "zerolinecolor": "white"
                      },
                      "yaxis": {
                        "backgroundcolor": "#E5ECF6",
                        "gridcolor": "white",
                        "gridwidth": 2,
                        "linecolor": "white",
                        "showbackground": true,
                        "ticks": "",
                        "zerolinecolor": "white"
                      },
                      "zaxis": {
                        "backgroundcolor": "#E5ECF6",
                        "gridcolor": "white",
                        "gridwidth": 2,
                        "linecolor": "white",
                        "showbackground": true,
                        "ticks": "",
                        "zerolinecolor": "white"
                      }
                    },
                    "shapedefaults": {
                      "line": {
                        "color": "#2a3f5f"
                      }
                    },
                    "ternary": {
                      "aaxis": {
                        "gridcolor": "white",
                        "linecolor": "white",
                        "ticks": ""
                      },
                      "baxis": {
                        "gridcolor": "white",
                        "linecolor": "white",
                        "ticks": ""
                      },
                      "bgcolor": "#E5ECF6",
                      "caxis": {
                        "gridcolor": "white",
                        "linecolor": "white",
                        "ticks": ""
                      }
                    },
                    "title": {
                      "x": 0.05
                    },
                    "xaxis": {
                      "automargin": true,
                      "gridcolor": "white",
                      "linecolor": "white",
                      "ticks": "",
                      "title": {
                        "standoff": 15
                      },
                      "zerolinecolor": "white",
                      "zerolinewidth": 2
                    },
                    "yaxis": {
                      "automargin": true,
                      "gridcolor": "white",
                      "linecolor": "white",
                      "ticks": "",
                      "title": {
                        "standoff": 15
                      },
                      "zerolinecolor": "white",
                      "zerolinewidth": 2
                    }
                  }
                },
                "title": {
                  "text": "Total Number of Customer in United Kingdom vs Other Countries Over the Time"
                },
                "xaxis": {
                  "title": {
                    "text": "Date"
                  }
                },
                "yaxis": {
                  "title": {
                    "text": "Total Customer"
                  }
                }
              }
            }
          },
          "metadata": {},
          "output_type": "display_data"
        }
      ],
      "source": [
        "fig = go.Figure()\n",
        "fig.add_trace(go.Scatter(x=customer_uk['Date'], y=customer_uk['CustomerNo'], name='United Kingdom'))\n",
        "fig.add_trace(go.Scatter(x=customer_other_countries['Date'], y=customer_other_countries['CustomerNo'], name='Other Countries'))\n",
        "fig.update_layout(xaxis_title='Date',yaxis_title='Total Customer', title='Total Number of Customer in United Kingdom vs Other Countries Over the Time')\n",
        "fig.show()"
      ]
    },
    {
      "cell_type": "code",
      "execution_count": 22,
      "metadata": {
        "id": "2lRPRYheBWV5"
      },
      "outputs": [],
      "source": [
        "total_loss = df[df['TotalAmount']<0]\n",
        "total_profit = df[df['TotalAmount']>0]"
      ]
    },
    {
      "cell_type": "code",
      "execution_count": 23,
      "metadata": {
        "colab": {
          "base_uri": "https://localhost:8080/",
          "height": 424
        },
        "id": "i2GJcrPKMeos",
        "outputId": "eab6d1c1-2531-4be9-f61c-35d69467a120"
      },
      "outputs": [],
      "source": [
        "total_loss.sort_values(by=['TotalAmount'], ascending=True)\n",
        "total_loss_by_date = total_loss.groupby('Date')['TotalAmount'].sum().reset_index()\n",
        "total_loss_by_date.rename(columns={'TotalAmount':'TotalAmountt'}, inplace=True)"
      ]
    },
    {
      "cell_type": "code",
      "execution_count": 24,
      "metadata": {
        "colab": {
          "base_uri": "https://localhost:8080/",
          "height": 424
        },
        "id": "CAbIdsPaMgU1",
        "outputId": "b2196129-51a6-4853-c5ae-4098cb110e35"
      },
      "outputs": [],
      "source": [
        "total_profit.sort_values(by=['TotalAmount'], ascending=False)\n",
        "total_profit_by_date = total_profit.groupby('Date')['TotalAmount'].sum().reset_index()"
      ]
    },
    {
      "cell_type": "code",
      "execution_count": 25,
      "metadata": {},
      "outputs": [],
      "source": [
        "total_revenue_by_date = total_profit_by_date.merge(total_loss_by_date, on=['Date'], how='outer')\n",
        "total_revenue_by_date['TotalAmount'] = total_revenue_by_date['TotalAmount']+total_revenue_by_date['TotalAmountt']\n",
        "total_revenue_by_date = total_revenue_by_date.drop(columns='TotalAmountt', axis='columns')"
      ]
    },
    {
      "cell_type": "code",
      "execution_count": 26,
      "metadata": {},
      "outputs": [
        {
          "data": {
            "application/vnd.plotly.v1+json": {
              "config": {
                "plotlyServerURL": "https://plot.ly"
              },
              "data": [
                {
                  "name": "Total Profit",
                  "type": "scatter",
                  "x": [
                    "2018-12-01T00:00:00",
                    "2018-12-02T00:00:00",
                    "2018-12-03T00:00:00",
                    "2018-12-05T00:00:00",
                    "2018-12-06T00:00:00",
                    "2018-12-07T00:00:00",
                    "2018-12-08T00:00:00",
                    "2018-12-09T00:00:00",
                    "2018-12-10T00:00:00",
                    "2018-12-12T00:00:00",
                    "2018-12-13T00:00:00",
                    "2018-12-14T00:00:00",
                    "2018-12-15T00:00:00",
                    "2018-12-16T00:00:00",
                    "2018-12-17T00:00:00",
                    "2018-12-19T00:00:00",
                    "2018-12-20T00:00:00",
                    "2018-12-21T00:00:00",
                    "2018-12-22T00:00:00",
                    "2018-12-23T00:00:00",
                    "2019-01-04T00:00:00",
                    "2019-01-05T00:00:00",
                    "2019-01-06T00:00:00",
                    "2019-01-07T00:00:00",
                    "2019-01-09T00:00:00",
                    "2019-01-10T00:00:00",
                    "2019-01-11T00:00:00",
                    "2019-01-12T00:00:00",
                    "2019-01-13T00:00:00",
                    "2019-01-14T00:00:00",
                    "2019-01-16T00:00:00",
                    "2019-01-17T00:00:00",
                    "2019-01-18T00:00:00",
                    "2019-01-19T00:00:00",
                    "2019-01-20T00:00:00",
                    "2019-01-21T00:00:00",
                    "2019-01-23T00:00:00",
                    "2019-01-24T00:00:00",
                    "2019-01-25T00:00:00",
                    "2019-01-26T00:00:00",
                    "2019-01-27T00:00:00",
                    "2019-01-28T00:00:00",
                    "2019-01-30T00:00:00",
                    "2019-01-31T00:00:00",
                    "2019-02-01T00:00:00",
                    "2019-02-02T00:00:00",
                    "2019-02-03T00:00:00",
                    "2019-02-04T00:00:00",
                    "2019-02-06T00:00:00",
                    "2019-02-07T00:00:00",
                    "2019-02-08T00:00:00",
                    "2019-02-09T00:00:00",
                    "2019-02-10T00:00:00",
                    "2019-02-11T00:00:00",
                    "2019-02-13T00:00:00",
                    "2019-02-14T00:00:00",
                    "2019-02-15T00:00:00",
                    "2019-02-16T00:00:00",
                    "2019-02-17T00:00:00",
                    "2019-02-18T00:00:00",
                    "2019-02-20T00:00:00",
                    "2019-02-21T00:00:00",
                    "2019-02-22T00:00:00",
                    "2019-02-23T00:00:00",
                    "2019-02-24T00:00:00",
                    "2019-02-25T00:00:00",
                    "2019-02-27T00:00:00",
                    "2019-02-28T00:00:00",
                    "2019-03-01T00:00:00",
                    "2019-03-02T00:00:00",
                    "2019-03-03T00:00:00",
                    "2019-03-04T00:00:00",
                    "2019-03-06T00:00:00",
                    "2019-03-07T00:00:00",
                    "2019-03-08T00:00:00",
                    "2019-03-09T00:00:00",
                    "2019-03-10T00:00:00",
                    "2019-03-11T00:00:00",
                    "2019-03-13T00:00:00",
                    "2019-03-14T00:00:00",
                    "2019-03-15T00:00:00",
                    "2019-03-16T00:00:00",
                    "2019-03-17T00:00:00",
                    "2019-03-18T00:00:00",
                    "2019-03-20T00:00:00",
                    "2019-03-21T00:00:00",
                    "2019-03-22T00:00:00",
                    "2019-03-23T00:00:00",
                    "2019-03-24T00:00:00",
                    "2019-03-25T00:00:00",
                    "2019-03-27T00:00:00",
                    "2019-03-28T00:00:00",
                    "2019-03-29T00:00:00",
                    "2019-03-30T00:00:00",
                    "2019-03-31T00:00:00",
                    "2019-04-01T00:00:00",
                    "2019-04-03T00:00:00",
                    "2019-04-04T00:00:00",
                    "2019-04-05T00:00:00",
                    "2019-04-06T00:00:00",
                    "2019-04-07T00:00:00",
                    "2019-04-08T00:00:00",
                    "2019-04-10T00:00:00",
                    "2019-04-11T00:00:00",
                    "2019-04-12T00:00:00",
                    "2019-04-13T00:00:00",
                    "2019-04-14T00:00:00",
                    "2019-04-15T00:00:00",
                    "2019-04-17T00:00:00",
                    "2019-04-18T00:00:00",
                    "2019-04-19T00:00:00",
                    "2019-04-20T00:00:00",
                    "2019-04-21T00:00:00",
                    "2019-04-26T00:00:00",
                    "2019-04-27T00:00:00",
                    "2019-04-28T00:00:00",
                    "2019-05-01T00:00:00",
                    "2019-05-03T00:00:00",
                    "2019-05-04T00:00:00",
                    "2019-05-05T00:00:00",
                    "2019-05-06T00:00:00",
                    "2019-05-08T00:00:00",
                    "2019-05-09T00:00:00",
                    "2019-05-10T00:00:00",
                    "2019-05-11T00:00:00",
                    "2019-05-12T00:00:00",
                    "2019-05-13T00:00:00",
                    "2019-05-15T00:00:00",
                    "2019-05-16T00:00:00",
                    "2019-05-17T00:00:00",
                    "2019-05-18T00:00:00",
                    "2019-05-19T00:00:00",
                    "2019-05-20T00:00:00",
                    "2019-05-22T00:00:00",
                    "2019-05-23T00:00:00",
                    "2019-05-24T00:00:00",
                    "2019-05-25T00:00:00",
                    "2019-05-26T00:00:00",
                    "2019-05-27T00:00:00",
                    "2019-05-29T00:00:00",
                    "2019-05-31T00:00:00",
                    "2019-06-01T00:00:00",
                    "2019-06-02T00:00:00",
                    "2019-06-03T00:00:00",
                    "2019-06-05T00:00:00",
                    "2019-06-06T00:00:00",
                    "2019-06-07T00:00:00",
                    "2019-06-08T00:00:00",
                    "2019-06-09T00:00:00",
                    "2019-06-10T00:00:00",
                    "2019-06-12T00:00:00",
                    "2019-06-13T00:00:00",
                    "2019-06-14T00:00:00",
                    "2019-06-15T00:00:00",
                    "2019-06-16T00:00:00",
                    "2019-06-17T00:00:00",
                    "2019-06-19T00:00:00",
                    "2019-06-20T00:00:00",
                    "2019-06-21T00:00:00",
                    "2019-06-22T00:00:00",
                    "2019-06-23T00:00:00",
                    "2019-06-24T00:00:00",
                    "2019-06-26T00:00:00",
                    "2019-06-27T00:00:00",
                    "2019-06-28T00:00:00",
                    "2019-06-29T00:00:00",
                    "2019-06-30T00:00:00",
                    "2019-07-01T00:00:00",
                    "2019-07-03T00:00:00",
                    "2019-07-04T00:00:00",
                    "2019-07-05T00:00:00",
                    "2019-07-06T00:00:00",
                    "2019-07-07T00:00:00",
                    "2019-07-08T00:00:00",
                    "2019-07-10T00:00:00",
                    "2019-07-11T00:00:00",
                    "2019-07-12T00:00:00",
                    "2019-07-13T00:00:00",
                    "2019-07-14T00:00:00",
                    "2019-07-15T00:00:00",
                    "2019-07-17T00:00:00",
                    "2019-07-18T00:00:00",
                    "2019-07-19T00:00:00",
                    "2019-07-20T00:00:00",
                    "2019-07-21T00:00:00",
                    "2019-07-22T00:00:00",
                    "2019-07-24T00:00:00",
                    "2019-07-25T00:00:00",
                    "2019-07-26T00:00:00",
                    "2019-07-27T00:00:00",
                    "2019-07-28T00:00:00",
                    "2019-07-29T00:00:00",
                    "2019-07-31T00:00:00",
                    "2019-08-01T00:00:00",
                    "2019-08-02T00:00:00",
                    "2019-08-03T00:00:00",
                    "2019-08-04T00:00:00",
                    "2019-08-05T00:00:00",
                    "2019-08-07T00:00:00",
                    "2019-08-08T00:00:00",
                    "2019-08-09T00:00:00",
                    "2019-08-10T00:00:00",
                    "2019-08-11T00:00:00",
                    "2019-08-12T00:00:00",
                    "2019-08-14T00:00:00",
                    "2019-08-15T00:00:00",
                    "2019-08-16T00:00:00",
                    "2019-08-17T00:00:00",
                    "2019-08-18T00:00:00",
                    "2019-08-19T00:00:00",
                    "2019-08-21T00:00:00",
                    "2019-08-22T00:00:00",
                    "2019-08-23T00:00:00",
                    "2019-08-24T00:00:00",
                    "2019-08-25T00:00:00",
                    "2019-08-26T00:00:00",
                    "2019-08-28T00:00:00",
                    "2019-08-30T00:00:00",
                    "2019-08-31T00:00:00",
                    "2019-09-01T00:00:00",
                    "2019-09-02T00:00:00",
                    "2019-09-04T00:00:00",
                    "2019-09-05T00:00:00",
                    "2019-09-06T00:00:00",
                    "2019-09-07T00:00:00",
                    "2019-09-08T00:00:00",
                    "2019-09-09T00:00:00",
                    "2019-09-11T00:00:00",
                    "2019-09-12T00:00:00",
                    "2019-09-13T00:00:00",
                    "2019-09-14T00:00:00",
                    "2019-09-15T00:00:00",
                    "2019-09-16T00:00:00",
                    "2019-09-18T00:00:00",
                    "2019-09-19T00:00:00",
                    "2019-09-20T00:00:00",
                    "2019-09-21T00:00:00",
                    "2019-09-22T00:00:00",
                    "2019-09-23T00:00:00",
                    "2019-09-25T00:00:00",
                    "2019-09-26T00:00:00",
                    "2019-09-27T00:00:00",
                    "2019-09-28T00:00:00",
                    "2019-09-29T00:00:00",
                    "2019-09-30T00:00:00",
                    "2019-10-02T00:00:00",
                    "2019-10-03T00:00:00",
                    "2019-10-04T00:00:00",
                    "2019-10-05T00:00:00",
                    "2019-10-06T00:00:00",
                    "2019-10-07T00:00:00",
                    "2019-10-09T00:00:00",
                    "2019-10-10T00:00:00",
                    "2019-10-11T00:00:00",
                    "2019-10-12T00:00:00",
                    "2019-10-13T00:00:00",
                    "2019-10-14T00:00:00",
                    "2019-10-16T00:00:00",
                    "2019-10-17T00:00:00",
                    "2019-10-18T00:00:00",
                    "2019-10-19T00:00:00",
                    "2019-10-20T00:00:00",
                    "2019-10-21T00:00:00",
                    "2019-10-23T00:00:00",
                    "2019-10-24T00:00:00",
                    "2019-10-25T00:00:00",
                    "2019-10-26T00:00:00",
                    "2019-10-27T00:00:00",
                    "2019-10-28T00:00:00",
                    "2019-10-30T00:00:00",
                    "2019-10-31T00:00:00",
                    "2019-11-01T00:00:00",
                    "2019-11-02T00:00:00",
                    "2019-11-03T00:00:00",
                    "2019-11-04T00:00:00",
                    "2019-11-06T00:00:00",
                    "2019-11-07T00:00:00",
                    "2019-11-08T00:00:00",
                    "2019-11-09T00:00:00",
                    "2019-11-10T00:00:00",
                    "2019-11-11T00:00:00",
                    "2019-11-13T00:00:00",
                    "2019-11-14T00:00:00",
                    "2019-11-15T00:00:00",
                    "2019-11-16T00:00:00",
                    "2019-11-17T00:00:00",
                    "2019-11-18T00:00:00",
                    "2019-11-20T00:00:00",
                    "2019-11-21T00:00:00",
                    "2019-11-22T00:00:00",
                    "2019-11-23T00:00:00",
                    "2019-11-24T00:00:00",
                    "2019-11-25T00:00:00",
                    "2019-11-27T00:00:00",
                    "2019-11-28T00:00:00",
                    "2019-11-29T00:00:00",
                    "2019-11-30T00:00:00",
                    "2019-12-01T00:00:00",
                    "2019-12-02T00:00:00",
                    "2019-12-04T00:00:00",
                    "2019-12-05T00:00:00",
                    "2019-12-06T00:00:00",
                    "2019-12-07T00:00:00",
                    "2019-12-08T00:00:00",
                    "2019-12-09T00:00:00"
                  ],
                  "y": [
                    326820.08,
                    367316.62,
                    206313.62,
                    197565.27,
                    273420.1,
                    337840.77999999997,
                    269961.77,
                    253406.71,
                    270340.27,
                    125413.55,
                    219070.99,
                    249988.74,
                    221889.88999999998,
                    351260.49,
                    213303,
                    46421.37,
                    178709.47,
                    199026.93,
                    37637.26,
                    69708.61,
                    102905.95999999999,
                    225004.01,
                    267324.81,
                    189552.38999999998,
                    96937.98,
                    155158.65,
                    358480.09,
                    132940.04,
                    118590.84,
                    273522.55,
                    48518,
                    164420.43,
                    944695.8200000001,
                    198273.56,
                    124869.1,
                    185384.21,
                    62491.74,
                    144489.61,
                    182487.02,
                    130683.38,
                    137024.48,
                    118968.39,
                    41422.32,
                    155710.99,
                    183508.22,
                    113882.64,
                    181231.67,
                    150945.47,
                    22892.13,
                    118922.81,
                    121481.62,
                    85897.48,
                    136182.63,
                    127792.44,
                    33707.64,
                    152811.38,
                    267891.05,
                    189205.4,
                    169472.04,
                    103992.81999999999,
                    62856.97,
                    252605.07,
                    250500.03,
                    164950.63,
                    141558.88999999998,
                    123850.69,
                    59096.27,
                    119781.19,
                    144156.66,
                    106437.74,
                    240695.97999999998,
                    153704.1,
                    61072.09,
                    166377.26,
                    168715.19,
                    142062.25,
                    182525.63,
                    126787.8,
                    31705.54,
                    194748.41,
                    109810.25,
                    152497.85,
                    213461.87,
                    168167.59,
                    163995.79,
                    116891.48999999999,
                    195780.28,
                    162692.82,
                    218808,
                    168446.84,
                    55703.01,
                    137284.36,
                    381277.98,
                    233727.53,
                    200867.29,
                    212785.85,
                    65001.01,
                    164230.65,
                    187629.53,
                    107764.65,
                    124257.75,
                    152420.25,
                    67566.87,
                    159757.93,
                    173540.83,
                    211894.88999999998,
                    218339.07,
                    152294.57,
                    94842.81,
                    356164.38,
                    166930.94,
                    209195.55,
                    213357.32,
                    190702.08,
                    203875.13999999998,
                    156945.81,
                    43135.54,
                    148105.51,
                    201221.04,
                    204206.41,
                    233121.9,
                    121801.98,
                    153380.43,
                    227033.57,
                    213320.41,
                    426178.08999999997,
                    172145.1,
                    58829.86,
                    193887.06,
                    321233.2,
                    220742.5,
                    210956.98,
                    171568.79,
                    149352.34,
                    206522.6,
                    194573.87,
                    144751.86,
                    190482.02,
                    185557.21,
                    48387.24,
                    138469.57,
                    128245.28,
                    167969.56,
                    92466.81999999999,
                    154609.63,
                    108292.7,
                    219750.97,
                    248098.28,
                    330296.76,
                    125806.54,
                    106649.08,
                    131787.13999999998,
                    184388.45,
                    347369.66,
                    234031.7,
                    134964.44,
                    167756.41999999998,
                    188055.63999999998,
                    167021.96,
                    176490.31,
                    169450.58,
                    112631.24,
                    45233,
                    111488.85,
                    241551.66999999998,
                    140911.04,
                    259413.09,
                    86857.23,
                    36623.36,
                    194861.3,
                    255239.48,
                    214393.21,
                    213975.83,
                    136988.62,
                    48785.62,
                    173825.88,
                    163173.48,
                    183312.41999999998,
                    208784.54,
                    83872.34,
                    121268.43,
                    176031.82,
                    335045.64,
                    201014.66,
                    226789.49,
                    120298.01,
                    195559.22,
                    181673.04,
                    151305.63999999998,
                    156002.94,
                    355556.73,
                    128660.09,
                    243968.04,
                    130298.67,
                    177387.24,
                    191082.21,
                    454264.55,
                    147149.12,
                    59633.22,
                    153343.38,
                    175135.83,
                    161535.45,
                    442286.12,
                    138534.01,
                    36881.88,
                    115169.52,
                    125113.49,
                    302649.12,
                    381535.29,
                    119669.26,
                    88600.67,
                    177439.83,
                    168658.46,
                    312271.69,
                    151330.05,
                    202354.93,
                    78108.56,
                    128600.88,
                    139322.59,
                    311564.48,
                    221859.15,
                    125981.02,
                    260323.19,
                    175768.65,
                    182679.57,
                    201319.16,
                    202986.43,
                    246275.88,
                    197930.61,
                    408592.62,
                    163749.13,
                    359049,
                    174012.33,
                    102084.6,
                    327241.25,
                    548399.19,
                    257648.48,
                    383992.13,
                    253464.76,
                    225106.11000000002,
                    181864.93,
                    249551.92,
                    290952.3,
                    307863.93,
                    268042.24,
                    96289.45,
                    323262.73,
                    301546.61,
                    518092.31,
                    380841.52999999997,
                    358757.45,
                    88326.46,
                    307673.39,
                    333111.5,
                    206535.56,
                    220071.95,
                    216669.69,
                    111718.04,
                    353445.07,
                    338123.07,
                    228420.12,
                    470648.56,
                    313200.4,
                    84574.87,
                    294008.14,
                    302226.09,
                    242863.52,
                    373765.66,
                    272984.89,
                    232953.6,
                    267306.7,
                    193162.38,
                    328080.09,
                    402644.62,
                    419312.47,
                    268136.59,
                    385073.33,
                    312098.83999999997,
                    405022.02,
                    445390.03,
                    339626.24,
                    241033.59,
                    563732.79,
                    356889.49,
                    387881.52999999997,
                    373174.2,
                    287994.75,
                    226577.71,
                    311235.89,
                    346488.86,
                    254557.78,
                    169568.56,
                    197883.43,
                    71166.89,
                    190534.34,
                    200962.48,
                    182968.22,
                    173998.54,
                    181744.05000000002,
                    79113.56,
                    289050.5,
                    197440.51,
                    264266.66000000003,
                    223265.49000000002,
                    1106069.97
                  ]
                },
                {
                  "name": "Total Loss",
                  "type": "scatter",
                  "x": [
                    "2018-12-01T00:00:00",
                    "2018-12-02T00:00:00",
                    "2018-12-03T00:00:00",
                    "2018-12-05T00:00:00",
                    "2018-12-06T00:00:00",
                    "2018-12-07T00:00:00",
                    "2018-12-08T00:00:00",
                    "2018-12-09T00:00:00",
                    "2018-12-10T00:00:00",
                    "2018-12-12T00:00:00",
                    "2018-12-13T00:00:00",
                    "2018-12-14T00:00:00",
                    "2018-12-15T00:00:00",
                    "2018-12-16T00:00:00",
                    "2018-12-17T00:00:00",
                    "2018-12-19T00:00:00",
                    "2018-12-20T00:00:00",
                    "2018-12-21T00:00:00",
                    "2018-12-22T00:00:00",
                    "2018-12-23T00:00:00",
                    "2019-01-04T00:00:00",
                    "2019-01-05T00:00:00",
                    "2019-01-06T00:00:00",
                    "2019-01-07T00:00:00",
                    "2019-01-09T00:00:00",
                    "2019-01-10T00:00:00",
                    "2019-01-11T00:00:00",
                    "2019-01-12T00:00:00",
                    "2019-01-13T00:00:00",
                    "2019-01-14T00:00:00",
                    "2019-01-16T00:00:00",
                    "2019-01-17T00:00:00",
                    "2019-01-18T00:00:00",
                    "2019-01-19T00:00:00",
                    "2019-01-20T00:00:00",
                    "2019-01-21T00:00:00",
                    "2019-01-23T00:00:00",
                    "2019-01-24T00:00:00",
                    "2019-01-25T00:00:00",
                    "2019-01-26T00:00:00",
                    "2019-01-27T00:00:00",
                    "2019-01-28T00:00:00",
                    "2019-01-30T00:00:00",
                    "2019-01-31T00:00:00",
                    "2019-02-01T00:00:00",
                    "2019-02-02T00:00:00",
                    "2019-02-03T00:00:00",
                    "2019-02-04T00:00:00",
                    "2019-02-07T00:00:00",
                    "2019-02-08T00:00:00",
                    "2019-02-10T00:00:00",
                    "2019-02-11T00:00:00",
                    "2019-02-13T00:00:00",
                    "2019-02-14T00:00:00",
                    "2019-02-15T00:00:00",
                    "2019-02-16T00:00:00",
                    "2019-02-17T00:00:00",
                    "2019-02-18T00:00:00",
                    "2019-02-20T00:00:00",
                    "2019-02-21T00:00:00",
                    "2019-02-22T00:00:00",
                    "2019-02-23T00:00:00",
                    "2019-02-24T00:00:00",
                    "2019-02-25T00:00:00",
                    "2019-02-27T00:00:00",
                    "2019-02-28T00:00:00",
                    "2019-03-01T00:00:00",
                    "2019-03-02T00:00:00",
                    "2019-03-03T00:00:00",
                    "2019-03-04T00:00:00",
                    "2019-03-06T00:00:00",
                    "2019-03-07T00:00:00",
                    "2019-03-08T00:00:00",
                    "2019-03-09T00:00:00",
                    "2019-03-10T00:00:00",
                    "2019-03-11T00:00:00",
                    "2019-03-13T00:00:00",
                    "2019-03-14T00:00:00",
                    "2019-03-15T00:00:00",
                    "2019-03-16T00:00:00",
                    "2019-03-17T00:00:00",
                    "2019-03-18T00:00:00",
                    "2019-03-20T00:00:00",
                    "2019-03-21T00:00:00",
                    "2019-03-22T00:00:00",
                    "2019-03-23T00:00:00",
                    "2019-03-24T00:00:00",
                    "2019-03-25T00:00:00",
                    "2019-03-27T00:00:00",
                    "2019-03-28T00:00:00",
                    "2019-03-29T00:00:00",
                    "2019-03-30T00:00:00",
                    "2019-03-31T00:00:00",
                    "2019-04-01T00:00:00",
                    "2019-04-03T00:00:00",
                    "2019-04-04T00:00:00",
                    "2019-04-05T00:00:00",
                    "2019-04-06T00:00:00",
                    "2019-04-07T00:00:00",
                    "2019-04-08T00:00:00",
                    "2019-04-10T00:00:00",
                    "2019-04-11T00:00:00",
                    "2019-04-12T00:00:00",
                    "2019-04-13T00:00:00",
                    "2019-04-14T00:00:00",
                    "2019-04-15T00:00:00",
                    "2019-04-17T00:00:00",
                    "2019-04-18T00:00:00",
                    "2019-04-19T00:00:00",
                    "2019-04-20T00:00:00",
                    "2019-04-21T00:00:00",
                    "2019-04-26T00:00:00",
                    "2019-04-27T00:00:00",
                    "2019-04-28T00:00:00",
                    "2019-05-01T00:00:00",
                    "2019-05-03T00:00:00",
                    "2019-05-04T00:00:00",
                    "2019-05-05T00:00:00",
                    "2019-05-06T00:00:00",
                    "2019-05-08T00:00:00",
                    "2019-05-09T00:00:00",
                    "2019-05-10T00:00:00",
                    "2019-05-11T00:00:00",
                    "2019-05-12T00:00:00",
                    "2019-05-13T00:00:00",
                    "2019-05-16T00:00:00",
                    "2019-05-17T00:00:00",
                    "2019-05-18T00:00:00",
                    "2019-05-19T00:00:00",
                    "2019-05-20T00:00:00",
                    "2019-05-22T00:00:00",
                    "2019-05-23T00:00:00",
                    "2019-05-24T00:00:00",
                    "2019-05-25T00:00:00",
                    "2019-05-26T00:00:00",
                    "2019-05-27T00:00:00",
                    "2019-05-29T00:00:00",
                    "2019-05-31T00:00:00",
                    "2019-06-01T00:00:00",
                    "2019-06-02T00:00:00",
                    "2019-06-03T00:00:00",
                    "2019-06-05T00:00:00",
                    "2019-06-06T00:00:00",
                    "2019-06-07T00:00:00",
                    "2019-06-08T00:00:00",
                    "2019-06-09T00:00:00",
                    "2019-06-10T00:00:00",
                    "2019-06-12T00:00:00",
                    "2019-06-13T00:00:00",
                    "2019-06-14T00:00:00",
                    "2019-06-15T00:00:00",
                    "2019-06-16T00:00:00",
                    "2019-06-17T00:00:00",
                    "2019-06-19T00:00:00",
                    "2019-06-20T00:00:00",
                    "2019-06-21T00:00:00",
                    "2019-06-22T00:00:00",
                    "2019-06-23T00:00:00",
                    "2019-06-24T00:00:00",
                    "2019-06-26T00:00:00",
                    "2019-06-27T00:00:00",
                    "2019-06-28T00:00:00",
                    "2019-06-29T00:00:00",
                    "2019-06-30T00:00:00",
                    "2019-07-01T00:00:00",
                    "2019-07-03T00:00:00",
                    "2019-07-04T00:00:00",
                    "2019-07-05T00:00:00",
                    "2019-07-06T00:00:00",
                    "2019-07-07T00:00:00",
                    "2019-07-08T00:00:00",
                    "2019-07-10T00:00:00",
                    "2019-07-11T00:00:00",
                    "2019-07-12T00:00:00",
                    "2019-07-13T00:00:00",
                    "2019-07-14T00:00:00",
                    "2019-07-15T00:00:00",
                    "2019-07-17T00:00:00",
                    "2019-07-18T00:00:00",
                    "2019-07-19T00:00:00",
                    "2019-07-20T00:00:00",
                    "2019-07-21T00:00:00",
                    "2019-07-22T00:00:00",
                    "2019-07-24T00:00:00",
                    "2019-07-25T00:00:00",
                    "2019-07-26T00:00:00",
                    "2019-07-27T00:00:00",
                    "2019-07-28T00:00:00",
                    "2019-07-29T00:00:00",
                    "2019-07-31T00:00:00",
                    "2019-08-01T00:00:00",
                    "2019-08-02T00:00:00",
                    "2019-08-03T00:00:00",
                    "2019-08-04T00:00:00",
                    "2019-08-05T00:00:00",
                    "2019-08-07T00:00:00",
                    "2019-08-08T00:00:00",
                    "2019-08-09T00:00:00",
                    "2019-08-10T00:00:00",
                    "2019-08-11T00:00:00",
                    "2019-08-12T00:00:00",
                    "2019-08-14T00:00:00",
                    "2019-08-15T00:00:00",
                    "2019-08-16T00:00:00",
                    "2019-08-17T00:00:00",
                    "2019-08-18T00:00:00",
                    "2019-08-19T00:00:00",
                    "2019-08-21T00:00:00",
                    "2019-08-22T00:00:00",
                    "2019-08-23T00:00:00",
                    "2019-08-24T00:00:00",
                    "2019-08-25T00:00:00",
                    "2019-08-26T00:00:00",
                    "2019-08-28T00:00:00",
                    "2019-08-30T00:00:00",
                    "2019-08-31T00:00:00",
                    "2019-09-01T00:00:00",
                    "2019-09-02T00:00:00",
                    "2019-09-04T00:00:00",
                    "2019-09-05T00:00:00",
                    "2019-09-06T00:00:00",
                    "2019-09-07T00:00:00",
                    "2019-09-08T00:00:00",
                    "2019-09-09T00:00:00",
                    "2019-09-11T00:00:00",
                    "2019-09-12T00:00:00",
                    "2019-09-13T00:00:00",
                    "2019-09-14T00:00:00",
                    "2019-09-15T00:00:00",
                    "2019-09-16T00:00:00",
                    "2019-09-18T00:00:00",
                    "2019-09-19T00:00:00",
                    "2019-09-20T00:00:00",
                    "2019-09-21T00:00:00",
                    "2019-09-22T00:00:00",
                    "2019-09-23T00:00:00",
                    "2019-09-25T00:00:00",
                    "2019-09-26T00:00:00",
                    "2019-09-27T00:00:00",
                    "2019-09-28T00:00:00",
                    "2019-09-29T00:00:00",
                    "2019-09-30T00:00:00",
                    "2019-10-02T00:00:00",
                    "2019-10-03T00:00:00",
                    "2019-10-04T00:00:00",
                    "2019-10-05T00:00:00",
                    "2019-10-06T00:00:00",
                    "2019-10-07T00:00:00",
                    "2019-10-09T00:00:00",
                    "2019-10-10T00:00:00",
                    "2019-10-11T00:00:00",
                    "2019-10-12T00:00:00",
                    "2019-10-13T00:00:00",
                    "2019-10-14T00:00:00",
                    "2019-10-16T00:00:00",
                    "2019-10-17T00:00:00",
                    "2019-10-18T00:00:00",
                    "2019-10-19T00:00:00",
                    "2019-10-20T00:00:00",
                    "2019-10-21T00:00:00",
                    "2019-10-23T00:00:00",
                    "2019-10-24T00:00:00",
                    "2019-10-25T00:00:00",
                    "2019-10-26T00:00:00",
                    "2019-10-27T00:00:00",
                    "2019-10-28T00:00:00",
                    "2019-10-30T00:00:00",
                    "2019-10-31T00:00:00",
                    "2019-11-01T00:00:00",
                    "2019-11-02T00:00:00",
                    "2019-11-03T00:00:00",
                    "2019-11-04T00:00:00",
                    "2019-11-06T00:00:00",
                    "2019-11-07T00:00:00",
                    "2019-11-08T00:00:00",
                    "2019-11-09T00:00:00",
                    "2019-11-10T00:00:00",
                    "2019-11-11T00:00:00",
                    "2019-11-13T00:00:00",
                    "2019-11-14T00:00:00",
                    "2019-11-15T00:00:00",
                    "2019-11-16T00:00:00",
                    "2019-11-17T00:00:00",
                    "2019-11-18T00:00:00",
                    "2019-11-20T00:00:00",
                    "2019-11-21T00:00:00",
                    "2019-11-22T00:00:00",
                    "2019-11-23T00:00:00",
                    "2019-11-24T00:00:00",
                    "2019-11-25T00:00:00",
                    "2019-11-27T00:00:00",
                    "2019-11-28T00:00:00",
                    "2019-11-29T00:00:00",
                    "2019-11-30T00:00:00",
                    "2019-12-01T00:00:00",
                    "2019-12-02T00:00:00",
                    "2019-12-04T00:00:00",
                    "2019-12-05T00:00:00",
                    "2019-12-06T00:00:00",
                    "2019-12-07T00:00:00",
                    "2019-12-08T00:00:00",
                    "2019-12-09T00:00:00"
                  ],
                  "y": [
                    -2170.85,
                    -107014.96999999999,
                    -4338.4400000000005,
                    -934.47,
                    -2763.23,
                    -1334.89,
                    -4000.17,
                    -6256.84,
                    -8332.08,
                    -473.84,
                    -1253.79,
                    -8878.76,
                    -3536.21,
                    -4725.47,
                    -11371.67,
                    -59.03,
                    -10451.18,
                    -2153,
                    -282.24,
                    -936.91,
                    -3428.46,
                    -3540.77,
                    -5945.21,
                    -6332.78,
                    -284.28,
                    -1052.04,
                    -4050.7799999999997,
                    -1955.4,
                    -298.36,
                    -798.9699999999999,
                    -364.34,
                    -210.79,
                    -840414.0800000001,
                    -1546.0800000000002,
                    -1140.3999999999999,
                    -3190.16,
                    -527.47,
                    -787.32,
                    -9465.869999999999,
                    -1985.7,
                    -3926.62,
                    -8358.33,
                    -819.27,
                    -9926.47,
                    -2085.9,
                    -592.17,
                    -765.98,
                    -717.45,
                    -2760.84,
                    -642.4300000000001,
                    -4322.37,
                    -6577.24,
                    -510.71999999999997,
                    -707.87,
                    -423.72999999999996,
                    -1897.03,
                    -52.06,
                    -920.16,
                    -112.56,
                    -784.9399999999999,
                    -725.66,
                    -377.90999999999997,
                    -680.62,
                    -9650.439999999999,
                    -159.29,
                    -12.25,
                    -115.78,
                    -1247.26,
                    -2308.47,
                    -114.7,
                    -962.5,
                    -2599.27,
                    -363.01,
                    -422.07,
                    -5507.41,
                    -428.97,
                    -92.75,
                    -548.33,
                    -860.6299999999999,
                    -4463.74,
                    -1853.55,
                    -3270.17,
                    -467.19,
                    -1481.3,
                    -1028.26,
                    -247,
                    -886.8299999999999,
                    -836.47,
                    -1463.87,
                    -2563.48,
                    -748.14,
                    -1401.3,
                    -8810.369999999999,
                    -8462.49,
                    -261.37,
                    -10658.009999999998,
                    -3780.22,
                    -318.87,
                    -1453.08,
                    -462.84999999999997,
                    -2562.73,
                    -1442.28,
                    -2039.67,
                    -5834.799999999999,
                    -4567.179999999999,
                    -37.92,
                    -42.230000000000004,
                    -118890.65,
                    -1341.68,
                    -1430.46,
                    -326.32,
                    -3317.15,
                    -840.53,
                    -5318.15,
                    -42.25,
                    -2212.2,
                    -434.81,
                    -1992.11,
                    -1539.71,
                    -105.05,
                    -211.61,
                    -17713.960000000003,
                    -1966.33,
                    -1473.62,
                    -47.019999999999996,
                    -126.7,
                    -2078.13,
                    -308.07,
                    -5826.639999999999,
                    -1106.98,
                    -142.5,
                    -1522.16,
                    -2346.35,
                    -382.09000000000003,
                    -1886.58,
                    -1059.66,
                    -600.8,
                    -2989.3900000000003,
                    -1344.62,
                    -1783.8300000000002,
                    -781.17,
                    -439.82,
                    -3930.7799999999997,
                    -1858.71,
                    -2257.7999999999997,
                    -831.4399999999999,
                    -4133.85,
                    -120.31,
                    -22185.04,
                    -295.53999999999996,
                    -9162.84,
                    -925.45,
                    -1133.6100000000001,
                    -288.39,
                    -9994.34,
                    -1415.92,
                    -124.06,
                    -5916.92,
                    -124.19,
                    -3913.13,
                    -811.65,
                    -1489.59,
                    -1746.29,
                    -7299.23,
                    -4990.400000000001,
                    -169.35000000000002,
                    -393.05,
                    -4796.8099999999995,
                    -553.06,
                    -15135.960000000001,
                    -851.37,
                    -1185.85,
                    -756.36,
                    -1962.4,
                    -1066.96,
                    -6937,
                    -2276.92,
                    -40.9,
                    -7372.07,
                    -2847.69,
                    -10002.33,
                    -3801.5299999999997,
                    -451.63,
                    -4142.05,
                    -184.4,
                    -2328.1,
                    -141.89000000000001,
                    -2852.75,
                    -222.71,
                    -55.599999999999994,
                    -354.59999999999997,
                    -1726.14,
                    -9114.169999999998,
                    -28343.86,
                    -1055.3899999999999,
                    -1198.2,
                    -1455.47,
                    -2714.55,
                    -919.31,
                    -5290.88,
                    -279.56,
                    -559.1899999999999,
                    -273.71000000000004,
                    -380.79,
                    -24339.16,
                    -2946.9,
                    -749.24,
                    -79.59,
                    -3446.54,
                    -769.16,
                    -3132.4700000000003,
                    -3349.34,
                    -272.8,
                    -61.75,
                    -1372.37,
                    -49927.33,
                    -366.69,
                    -1466.96,
                    -314.49,
                    -1466.46,
                    -1523.57,
                    -2107.27,
                    -3100.46,
                    -1864.8700000000001,
                    -293.33,
                    -4613.68,
                    -71.34,
                    -994.8399999999999,
                    -1918.26,
                    -702.1500000000001,
                    -341.76,
                    -1688.81,
                    -386.7,
                    -20684.98,
                    -9738.029999999999,
                    -6888.43,
                    -434.55999999999995,
                    -1015.52,
                    -5525.08,
                    -2118.2599999999998,
                    -14067.49,
                    -1902.77,
                    -62.459999999999994,
                    -3757.6700000000005,
                    -14401.619999999999,
                    -2100.23,
                    -35533.7,
                    -1672.1399999999999,
                    -3208.68,
                    -5019.26,
                    -89353.81,
                    -19090.19,
                    -1800.71,
                    -1115.7,
                    -5119.86,
                    -15195.23,
                    -5712.09,
                    -2424.96,
                    -1525.6,
                    -909.5999999999999,
                    -88.91,
                    -46753.049999999996,
                    -3357.73,
                    -694.23,
                    -5836.59,
                    -295.57,
                    -88.1,
                    -891.8499999999999,
                    -1441.06,
                    -5204.5,
                    -2170.16,
                    -13446.82,
                    -154.39,
                    -7165.36,
                    -4109.56,
                    -16529.09,
                    -2274.2599999999998,
                    -3531.08,
                    -5523.94,
                    -2680.28,
                    -868.89,
                    -13242.880000000001,
                    -3581.17,
                    -4012.87,
                    -613.4399999999999,
                    -7714.18,
                    -2394.2799999999997,
                    -1497.52,
                    -9270.13,
                    -1184.93,
                    -73.68,
                    -5030.4800000000005,
                    -1097.27,
                    -1126.98,
                    -1406.18,
                    -1875.46,
                    -92.85000000000001,
                    -755.0300000000001,
                    -7105.17,
                    -655.4000000000001,
                    -7312.71,
                    -501567.86000000004
                  ]
                },
                {
                  "name": "Total Revenue",
                  "type": "scatter",
                  "x": [
                    "2018-12-01T00:00:00",
                    "2018-12-02T00:00:00",
                    "2018-12-03T00:00:00",
                    "2018-12-05T00:00:00",
                    "2018-12-06T00:00:00",
                    "2018-12-07T00:00:00",
                    "2018-12-08T00:00:00",
                    "2018-12-09T00:00:00",
                    "2018-12-10T00:00:00",
                    "2018-12-12T00:00:00",
                    "2018-12-13T00:00:00",
                    "2018-12-14T00:00:00",
                    "2018-12-15T00:00:00",
                    "2018-12-16T00:00:00",
                    "2018-12-17T00:00:00",
                    "2018-12-19T00:00:00",
                    "2018-12-20T00:00:00",
                    "2018-12-21T00:00:00",
                    "2018-12-22T00:00:00",
                    "2018-12-23T00:00:00",
                    "2019-01-04T00:00:00",
                    "2019-01-05T00:00:00",
                    "2019-01-06T00:00:00",
                    "2019-01-07T00:00:00",
                    "2019-01-09T00:00:00",
                    "2019-01-10T00:00:00",
                    "2019-01-11T00:00:00",
                    "2019-01-12T00:00:00",
                    "2019-01-13T00:00:00",
                    "2019-01-14T00:00:00",
                    "2019-01-16T00:00:00",
                    "2019-01-17T00:00:00",
                    "2019-01-18T00:00:00",
                    "2019-01-19T00:00:00",
                    "2019-01-20T00:00:00",
                    "2019-01-21T00:00:00",
                    "2019-01-23T00:00:00",
                    "2019-01-24T00:00:00",
                    "2019-01-25T00:00:00",
                    "2019-01-26T00:00:00",
                    "2019-01-27T00:00:00",
                    "2019-01-28T00:00:00",
                    "2019-01-30T00:00:00",
                    "2019-01-31T00:00:00",
                    "2019-02-01T00:00:00",
                    "2019-02-02T00:00:00",
                    "2019-02-03T00:00:00",
                    "2019-02-04T00:00:00",
                    "2019-02-06T00:00:00",
                    "2019-02-07T00:00:00",
                    "2019-02-08T00:00:00",
                    "2019-02-09T00:00:00",
                    "2019-02-10T00:00:00",
                    "2019-02-11T00:00:00",
                    "2019-02-13T00:00:00",
                    "2019-02-14T00:00:00",
                    "2019-02-15T00:00:00",
                    "2019-02-16T00:00:00",
                    "2019-02-17T00:00:00",
                    "2019-02-18T00:00:00",
                    "2019-02-20T00:00:00",
                    "2019-02-21T00:00:00",
                    "2019-02-22T00:00:00",
                    "2019-02-23T00:00:00",
                    "2019-02-24T00:00:00",
                    "2019-02-25T00:00:00",
                    "2019-02-27T00:00:00",
                    "2019-02-28T00:00:00",
                    "2019-03-01T00:00:00",
                    "2019-03-02T00:00:00",
                    "2019-03-03T00:00:00",
                    "2019-03-04T00:00:00",
                    "2019-03-06T00:00:00",
                    "2019-03-07T00:00:00",
                    "2019-03-08T00:00:00",
                    "2019-03-09T00:00:00",
                    "2019-03-10T00:00:00",
                    "2019-03-11T00:00:00",
                    "2019-03-13T00:00:00",
                    "2019-03-14T00:00:00",
                    "2019-03-15T00:00:00",
                    "2019-03-16T00:00:00",
                    "2019-03-17T00:00:00",
                    "2019-03-18T00:00:00",
                    "2019-03-20T00:00:00",
                    "2019-03-21T00:00:00",
                    "2019-03-22T00:00:00",
                    "2019-03-23T00:00:00",
                    "2019-03-24T00:00:00",
                    "2019-03-25T00:00:00",
                    "2019-03-27T00:00:00",
                    "2019-03-28T00:00:00",
                    "2019-03-29T00:00:00",
                    "2019-03-30T00:00:00",
                    "2019-03-31T00:00:00",
                    "2019-04-01T00:00:00",
                    "2019-04-03T00:00:00",
                    "2019-04-04T00:00:00",
                    "2019-04-05T00:00:00",
                    "2019-04-06T00:00:00",
                    "2019-04-07T00:00:00",
                    "2019-04-08T00:00:00",
                    "2019-04-10T00:00:00",
                    "2019-04-11T00:00:00",
                    "2019-04-12T00:00:00",
                    "2019-04-13T00:00:00",
                    "2019-04-14T00:00:00",
                    "2019-04-15T00:00:00",
                    "2019-04-17T00:00:00",
                    "2019-04-18T00:00:00",
                    "2019-04-19T00:00:00",
                    "2019-04-20T00:00:00",
                    "2019-04-21T00:00:00",
                    "2019-04-26T00:00:00",
                    "2019-04-27T00:00:00",
                    "2019-04-28T00:00:00",
                    "2019-05-01T00:00:00",
                    "2019-05-03T00:00:00",
                    "2019-05-04T00:00:00",
                    "2019-05-05T00:00:00",
                    "2019-05-06T00:00:00",
                    "2019-05-08T00:00:00",
                    "2019-05-09T00:00:00",
                    "2019-05-10T00:00:00",
                    "2019-05-11T00:00:00",
                    "2019-05-12T00:00:00",
                    "2019-05-13T00:00:00",
                    "2019-05-15T00:00:00",
                    "2019-05-16T00:00:00",
                    "2019-05-17T00:00:00",
                    "2019-05-18T00:00:00",
                    "2019-05-19T00:00:00",
                    "2019-05-20T00:00:00",
                    "2019-05-22T00:00:00",
                    "2019-05-23T00:00:00",
                    "2019-05-24T00:00:00",
                    "2019-05-25T00:00:00",
                    "2019-05-26T00:00:00",
                    "2019-05-27T00:00:00",
                    "2019-05-29T00:00:00",
                    "2019-05-31T00:00:00",
                    "2019-06-01T00:00:00",
                    "2019-06-02T00:00:00",
                    "2019-06-03T00:00:00",
                    "2019-06-05T00:00:00",
                    "2019-06-06T00:00:00",
                    "2019-06-07T00:00:00",
                    "2019-06-08T00:00:00",
                    "2019-06-09T00:00:00",
                    "2019-06-10T00:00:00",
                    "2019-06-12T00:00:00",
                    "2019-06-13T00:00:00",
                    "2019-06-14T00:00:00",
                    "2019-06-15T00:00:00",
                    "2019-06-16T00:00:00",
                    "2019-06-17T00:00:00",
                    "2019-06-19T00:00:00",
                    "2019-06-20T00:00:00",
                    "2019-06-21T00:00:00",
                    "2019-06-22T00:00:00",
                    "2019-06-23T00:00:00",
                    "2019-06-24T00:00:00",
                    "2019-06-26T00:00:00",
                    "2019-06-27T00:00:00",
                    "2019-06-28T00:00:00",
                    "2019-06-29T00:00:00",
                    "2019-06-30T00:00:00",
                    "2019-07-01T00:00:00",
                    "2019-07-03T00:00:00",
                    "2019-07-04T00:00:00",
                    "2019-07-05T00:00:00",
                    "2019-07-06T00:00:00",
                    "2019-07-07T00:00:00",
                    "2019-07-08T00:00:00",
                    "2019-07-10T00:00:00",
                    "2019-07-11T00:00:00",
                    "2019-07-12T00:00:00",
                    "2019-07-13T00:00:00",
                    "2019-07-14T00:00:00",
                    "2019-07-15T00:00:00",
                    "2019-07-17T00:00:00",
                    "2019-07-18T00:00:00",
                    "2019-07-19T00:00:00",
                    "2019-07-20T00:00:00",
                    "2019-07-21T00:00:00",
                    "2019-07-22T00:00:00",
                    "2019-07-24T00:00:00",
                    "2019-07-25T00:00:00",
                    "2019-07-26T00:00:00",
                    "2019-07-27T00:00:00",
                    "2019-07-28T00:00:00",
                    "2019-07-29T00:00:00",
                    "2019-07-31T00:00:00",
                    "2019-08-01T00:00:00",
                    "2019-08-02T00:00:00",
                    "2019-08-03T00:00:00",
                    "2019-08-04T00:00:00",
                    "2019-08-05T00:00:00",
                    "2019-08-07T00:00:00",
                    "2019-08-08T00:00:00",
                    "2019-08-09T00:00:00",
                    "2019-08-10T00:00:00",
                    "2019-08-11T00:00:00",
                    "2019-08-12T00:00:00",
                    "2019-08-14T00:00:00",
                    "2019-08-15T00:00:00",
                    "2019-08-16T00:00:00",
                    "2019-08-17T00:00:00",
                    "2019-08-18T00:00:00",
                    "2019-08-19T00:00:00",
                    "2019-08-21T00:00:00",
                    "2019-08-22T00:00:00",
                    "2019-08-23T00:00:00",
                    "2019-08-24T00:00:00",
                    "2019-08-25T00:00:00",
                    "2019-08-26T00:00:00",
                    "2019-08-28T00:00:00",
                    "2019-08-30T00:00:00",
                    "2019-08-31T00:00:00",
                    "2019-09-01T00:00:00",
                    "2019-09-02T00:00:00",
                    "2019-09-04T00:00:00",
                    "2019-09-05T00:00:00",
                    "2019-09-06T00:00:00",
                    "2019-09-07T00:00:00",
                    "2019-09-08T00:00:00",
                    "2019-09-09T00:00:00",
                    "2019-09-11T00:00:00",
                    "2019-09-12T00:00:00",
                    "2019-09-13T00:00:00",
                    "2019-09-14T00:00:00",
                    "2019-09-15T00:00:00",
                    "2019-09-16T00:00:00",
                    "2019-09-18T00:00:00",
                    "2019-09-19T00:00:00",
                    "2019-09-20T00:00:00",
                    "2019-09-21T00:00:00",
                    "2019-09-22T00:00:00",
                    "2019-09-23T00:00:00",
                    "2019-09-25T00:00:00",
                    "2019-09-26T00:00:00",
                    "2019-09-27T00:00:00",
                    "2019-09-28T00:00:00",
                    "2019-09-29T00:00:00",
                    "2019-09-30T00:00:00",
                    "2019-10-02T00:00:00",
                    "2019-10-03T00:00:00",
                    "2019-10-04T00:00:00",
                    "2019-10-05T00:00:00",
                    "2019-10-06T00:00:00",
                    "2019-10-07T00:00:00",
                    "2019-10-09T00:00:00",
                    "2019-10-10T00:00:00",
                    "2019-10-11T00:00:00",
                    "2019-10-12T00:00:00",
                    "2019-10-13T00:00:00",
                    "2019-10-14T00:00:00",
                    "2019-10-16T00:00:00",
                    "2019-10-17T00:00:00",
                    "2019-10-18T00:00:00",
                    "2019-10-19T00:00:00",
                    "2019-10-20T00:00:00",
                    "2019-10-21T00:00:00",
                    "2019-10-23T00:00:00",
                    "2019-10-24T00:00:00",
                    "2019-10-25T00:00:00",
                    "2019-10-26T00:00:00",
                    "2019-10-27T00:00:00",
                    "2019-10-28T00:00:00",
                    "2019-10-30T00:00:00",
                    "2019-10-31T00:00:00",
                    "2019-11-01T00:00:00",
                    "2019-11-02T00:00:00",
                    "2019-11-03T00:00:00",
                    "2019-11-04T00:00:00",
                    "2019-11-06T00:00:00",
                    "2019-11-07T00:00:00",
                    "2019-11-08T00:00:00",
                    "2019-11-09T00:00:00",
                    "2019-11-10T00:00:00",
                    "2019-11-11T00:00:00",
                    "2019-11-13T00:00:00",
                    "2019-11-14T00:00:00",
                    "2019-11-15T00:00:00",
                    "2019-11-16T00:00:00",
                    "2019-11-17T00:00:00",
                    "2019-11-18T00:00:00",
                    "2019-11-20T00:00:00",
                    "2019-11-21T00:00:00",
                    "2019-11-22T00:00:00",
                    "2019-11-23T00:00:00",
                    "2019-11-24T00:00:00",
                    "2019-11-25T00:00:00",
                    "2019-11-27T00:00:00",
                    "2019-11-28T00:00:00",
                    "2019-11-29T00:00:00",
                    "2019-11-30T00:00:00",
                    "2019-12-01T00:00:00",
                    "2019-12-02T00:00:00",
                    "2019-12-04T00:00:00",
                    "2019-12-05T00:00:00",
                    "2019-12-06T00:00:00",
                    "2019-12-07T00:00:00",
                    "2019-12-08T00:00:00",
                    "2019-12-09T00:00:00"
                  ],
                  "y": [
                    324649.23000000004,
                    260301.65000000002,
                    201975.18,
                    196630.8,
                    270656.87,
                    336505.88999999996,
                    265961.60000000003,
                    247149.87,
                    262008.19000000003,
                    124939.71,
                    217817.19999999998,
                    241109.97999999998,
                    218353.68,
                    346535.02,
                    201931.33,
                    46362.340000000004,
                    168258.29,
                    196873.93,
                    37355.020000000004,
                    68771.7,
                    99477.49999999999,
                    221463.24000000002,
                    261379.6,
                    183219.61,
                    96653.7,
                    154106.61,
                    354429.31,
                    130984.64000000001,
                    118292.48,
                    272723.58,
                    48153.66,
                    164209.63999999998,
                    104281.73999999999,
                    196727.48,
                    123728.70000000001,
                    182194.05,
                    61964.27,
                    143702.28999999998,
                    173021.15,
                    128697.68000000001,
                    133097.86000000002,
                    110610.06,
                    40603.05,
                    145784.52,
                    181422.32,
                    113290.47,
                    180465.69,
                    150228.02,
                    null,
                    116161.97,
                    120839.19,
                    null,
                    131860.26,
                    121215.2,
                    33196.92,
                    152103.51,
                    267467.32,
                    187308.37,
                    169419.98,
                    103072.65999999999,
                    62744.41,
                    251820.13,
                    249774.37,
                    164572.72,
                    140878.27,
                    114200.25,
                    58936.979999999996,
                    119768.94,
                    144040.88,
                    105190.48000000001,
                    238387.50999999998,
                    153589.4,
                    60109.59,
                    163777.99000000002,
                    168352.18,
                    141640.18,
                    177018.22,
                    126358.83,
                    31612.79,
                    194200.08000000002,
                    108949.62,
                    148034.11000000002,
                    211608.32,
                    164897.41999999998,
                    163528.6,
                    115410.18999999999,
                    194752.02,
                    162445.82,
                    217921.17,
                    167610.37,
                    54239.14,
                    134720.87999999998,
                    380529.83999999997,
                    232326.23,
                    192056.92,
                    204323.36000000002,
                    64739.64,
                    153572.63999999998,
                    183849.31,
                    107445.78,
                    122804.67,
                    151957.4,
                    65004.13999999999,
                    158315.65,
                    171501.15999999997,
                    206060.09,
                    213771.89,
                    152256.65,
                    94800.58,
                    237273.73,
                    165589.26,
                    207765.09,
                    213031,
                    187384.93,
                    203034.61,
                    151627.66,
                    43093.29,
                    145893.31,
                    200786.23,
                    202214.30000000002,
                    231582.19,
                    121696.93,
                    153168.82,
                    209319.61000000002,
                    211354.08000000002,
                    424704.47,
                    172098.08000000002,
                    null,
                    193760.36,
                    319155.07,
                    220434.43,
                    205130.34000000003,
                    170461.81,
                    149209.84,
                    205000.44,
                    192227.52,
                    144369.77,
                    188595.44,
                    184497.55,
                    47786.439999999995,
                    135480.18,
                    126900.66,
                    166185.73,
                    91685.65,
                    154169.81,
                    104361.92,
                    217892.26,
                    245840.48,
                    329465.32,
                    121672.68999999999,
                    106528.77,
                    109602.09999999998,
                    184092.91,
                    338206.81999999995,
                    233106.25,
                    133830.83000000002,
                    167468.02999999997,
                    178061.3,
                    165606.03999999998,
                    176366.25,
                    163533.65999999997,
                    112507.05,
                    41319.87,
                    110677.20000000001,
                    240062.08,
                    139164.75,
                    252113.86,
                    81866.83,
                    36454.01,
                    194468.25,
                    250442.67,
                    213840.15,
                    198839.87,
                    136137.25,
                    47599.770000000004,
                    173069.52000000002,
                    161211.08000000002,
                    182245.46,
                    201847.54,
                    81595.42,
                    121227.53,
                    168659.75,
                    332197.95,
                    191012.33000000002,
                    222987.96,
                    119846.37999999999,
                    191417.17,
                    181488.64,
                    148977.53999999998,
                    155861.05,
                    352703.98,
                    128437.37999999999,
                    243912.44,
                    129944.06999999999,
                    175661.09999999998,
                    181968.03999999998,
                    425920.69,
                    146093.72999999998,
                    58435.020000000004,
                    151887.91,
                    172421.28,
                    160616.14,
                    436995.24,
                    138254.45,
                    36322.689999999995,
                    114895.81,
                    124732.70000000001,
                    278309.96,
                    378588.38999999996,
                    118920.01999999999,
                    88521.08,
                    173993.28999999998,
                    167889.3,
                    309139.22000000003,
                    147980.71,
                    202082.13,
                    78046.81,
                    127228.51000000001,
                    89395.26,
                    311197.79,
                    220392.19,
                    125666.53,
                    258856.73,
                    174245.08,
                    180572.30000000002,
                    198218.7,
                    201121.56,
                    245982.55000000002,
                    193316.93,
                    408521.27999999997,
                    162754.29,
                    357130.74,
                    173310.18,
                    101742.84000000001,
                    325552.44,
                    548012.49,
                    236963.5,
                    374254.1,
                    246576.33000000002,
                    224671.55000000002,
                    180849.41,
                    244026.84000000003,
                    288834.04,
                    293796.44,
                    266139.47,
                    96226.98999999999,
                    319505.06,
                    287144.99,
                    515992.08,
                    345307.82999999996,
                    357085.31,
                    85117.78000000001,
                    302654.13,
                    243757.69,
                    187445.37,
                    218271.24000000002,
                    215553.99,
                    106598.18,
                    338249.84,
                    332410.98,
                    225995.16,
                    469122.96,
                    312290.80000000005,
                    84485.95999999999,
                    247255.09000000003,
                    298868.36000000004,
                    242169.28999999998,
                    367929.06999999995,
                    272689.32,
                    232865.5,
                    266414.85000000003,
                    191721.32,
                    322875.59,
                    400474.46,
                    405865.64999999997,
                    267982.2,
                    377907.97000000003,
                    307989.27999999997,
                    388492.93,
                    443115.77,
                    336095.16,
                    235509.65,
                    561052.51,
                    356020.6,
                    374638.64999999997,
                    369593.03,
                    283981.88,
                    225964.27,
                    303521.71,
                    344094.57999999996,
                    253060.26,
                    160298.43,
                    196698.5,
                    71093.21,
                    185503.86,
                    199865.21000000002,
                    181841.24,
                    172592.36000000002,
                    179868.59000000003,
                    79020.70999999999,
                    288295.47,
                    190335.34,
                    263611.26,
                    215952.78000000003,
                    604502.1099999999
                  ]
                }
              ],
              "layout": {
                "template": {
                  "data": {
                    "bar": [
                      {
                        "error_x": {
                          "color": "#2a3f5f"
                        },
                        "error_y": {
                          "color": "#2a3f5f"
                        },
                        "marker": {
                          "line": {
                            "color": "#E5ECF6",
                            "width": 0.5
                          },
                          "pattern": {
                            "fillmode": "overlay",
                            "size": 10,
                            "solidity": 0.2
                          }
                        },
                        "type": "bar"
                      }
                    ],
                    "barpolar": [
                      {
                        "marker": {
                          "line": {
                            "color": "#E5ECF6",
                            "width": 0.5
                          },
                          "pattern": {
                            "fillmode": "overlay",
                            "size": 10,
                            "solidity": 0.2
                          }
                        },
                        "type": "barpolar"
                      }
                    ],
                    "carpet": [
                      {
                        "aaxis": {
                          "endlinecolor": "#2a3f5f",
                          "gridcolor": "white",
                          "linecolor": "white",
                          "minorgridcolor": "white",
                          "startlinecolor": "#2a3f5f"
                        },
                        "baxis": {
                          "endlinecolor": "#2a3f5f",
                          "gridcolor": "white",
                          "linecolor": "white",
                          "minorgridcolor": "white",
                          "startlinecolor": "#2a3f5f"
                        },
                        "type": "carpet"
                      }
                    ],
                    "choropleth": [
                      {
                        "colorbar": {
                          "outlinewidth": 0,
                          "ticks": ""
                        },
                        "type": "choropleth"
                      }
                    ],
                    "contour": [
                      {
                        "colorbar": {
                          "outlinewidth": 0,
                          "ticks": ""
                        },
                        "colorscale": [
                          [
                            0,
                            "#0d0887"
                          ],
                          [
                            0.1111111111111111,
                            "#46039f"
                          ],
                          [
                            0.2222222222222222,
                            "#7201a8"
                          ],
                          [
                            0.3333333333333333,
                            "#9c179e"
                          ],
                          [
                            0.4444444444444444,
                            "#bd3786"
                          ],
                          [
                            0.5555555555555556,
                            "#d8576b"
                          ],
                          [
                            0.6666666666666666,
                            "#ed7953"
                          ],
                          [
                            0.7777777777777778,
                            "#fb9f3a"
                          ],
                          [
                            0.8888888888888888,
                            "#fdca26"
                          ],
                          [
                            1,
                            "#f0f921"
                          ]
                        ],
                        "type": "contour"
                      }
                    ],
                    "contourcarpet": [
                      {
                        "colorbar": {
                          "outlinewidth": 0,
                          "ticks": ""
                        },
                        "type": "contourcarpet"
                      }
                    ],
                    "heatmap": [
                      {
                        "colorbar": {
                          "outlinewidth": 0,
                          "ticks": ""
                        },
                        "colorscale": [
                          [
                            0,
                            "#0d0887"
                          ],
                          [
                            0.1111111111111111,
                            "#46039f"
                          ],
                          [
                            0.2222222222222222,
                            "#7201a8"
                          ],
                          [
                            0.3333333333333333,
                            "#9c179e"
                          ],
                          [
                            0.4444444444444444,
                            "#bd3786"
                          ],
                          [
                            0.5555555555555556,
                            "#d8576b"
                          ],
                          [
                            0.6666666666666666,
                            "#ed7953"
                          ],
                          [
                            0.7777777777777778,
                            "#fb9f3a"
                          ],
                          [
                            0.8888888888888888,
                            "#fdca26"
                          ],
                          [
                            1,
                            "#f0f921"
                          ]
                        ],
                        "type": "heatmap"
                      }
                    ],
                    "heatmapgl": [
                      {
                        "colorbar": {
                          "outlinewidth": 0,
                          "ticks": ""
                        },
                        "colorscale": [
                          [
                            0,
                            "#0d0887"
                          ],
                          [
                            0.1111111111111111,
                            "#46039f"
                          ],
                          [
                            0.2222222222222222,
                            "#7201a8"
                          ],
                          [
                            0.3333333333333333,
                            "#9c179e"
                          ],
                          [
                            0.4444444444444444,
                            "#bd3786"
                          ],
                          [
                            0.5555555555555556,
                            "#d8576b"
                          ],
                          [
                            0.6666666666666666,
                            "#ed7953"
                          ],
                          [
                            0.7777777777777778,
                            "#fb9f3a"
                          ],
                          [
                            0.8888888888888888,
                            "#fdca26"
                          ],
                          [
                            1,
                            "#f0f921"
                          ]
                        ],
                        "type": "heatmapgl"
                      }
                    ],
                    "histogram": [
                      {
                        "marker": {
                          "pattern": {
                            "fillmode": "overlay",
                            "size": 10,
                            "solidity": 0.2
                          }
                        },
                        "type": "histogram"
                      }
                    ],
                    "histogram2d": [
                      {
                        "colorbar": {
                          "outlinewidth": 0,
                          "ticks": ""
                        },
                        "colorscale": [
                          [
                            0,
                            "#0d0887"
                          ],
                          [
                            0.1111111111111111,
                            "#46039f"
                          ],
                          [
                            0.2222222222222222,
                            "#7201a8"
                          ],
                          [
                            0.3333333333333333,
                            "#9c179e"
                          ],
                          [
                            0.4444444444444444,
                            "#bd3786"
                          ],
                          [
                            0.5555555555555556,
                            "#d8576b"
                          ],
                          [
                            0.6666666666666666,
                            "#ed7953"
                          ],
                          [
                            0.7777777777777778,
                            "#fb9f3a"
                          ],
                          [
                            0.8888888888888888,
                            "#fdca26"
                          ],
                          [
                            1,
                            "#f0f921"
                          ]
                        ],
                        "type": "histogram2d"
                      }
                    ],
                    "histogram2dcontour": [
                      {
                        "colorbar": {
                          "outlinewidth": 0,
                          "ticks": ""
                        },
                        "colorscale": [
                          [
                            0,
                            "#0d0887"
                          ],
                          [
                            0.1111111111111111,
                            "#46039f"
                          ],
                          [
                            0.2222222222222222,
                            "#7201a8"
                          ],
                          [
                            0.3333333333333333,
                            "#9c179e"
                          ],
                          [
                            0.4444444444444444,
                            "#bd3786"
                          ],
                          [
                            0.5555555555555556,
                            "#d8576b"
                          ],
                          [
                            0.6666666666666666,
                            "#ed7953"
                          ],
                          [
                            0.7777777777777778,
                            "#fb9f3a"
                          ],
                          [
                            0.8888888888888888,
                            "#fdca26"
                          ],
                          [
                            1,
                            "#f0f921"
                          ]
                        ],
                        "type": "histogram2dcontour"
                      }
                    ],
                    "mesh3d": [
                      {
                        "colorbar": {
                          "outlinewidth": 0,
                          "ticks": ""
                        },
                        "type": "mesh3d"
                      }
                    ],
                    "parcoords": [
                      {
                        "line": {
                          "colorbar": {
                            "outlinewidth": 0,
                            "ticks": ""
                          }
                        },
                        "type": "parcoords"
                      }
                    ],
                    "pie": [
                      {
                        "automargin": true,
                        "type": "pie"
                      }
                    ],
                    "scatter": [
                      {
                        "fillpattern": {
                          "fillmode": "overlay",
                          "size": 10,
                          "solidity": 0.2
                        },
                        "type": "scatter"
                      }
                    ],
                    "scatter3d": [
                      {
                        "line": {
                          "colorbar": {
                            "outlinewidth": 0,
                            "ticks": ""
                          }
                        },
                        "marker": {
                          "colorbar": {
                            "outlinewidth": 0,
                            "ticks": ""
                          }
                        },
                        "type": "scatter3d"
                      }
                    ],
                    "scattercarpet": [
                      {
                        "marker": {
                          "colorbar": {
                            "outlinewidth": 0,
                            "ticks": ""
                          }
                        },
                        "type": "scattercarpet"
                      }
                    ],
                    "scattergeo": [
                      {
                        "marker": {
                          "colorbar": {
                            "outlinewidth": 0,
                            "ticks": ""
                          }
                        },
                        "type": "scattergeo"
                      }
                    ],
                    "scattergl": [
                      {
                        "marker": {
                          "colorbar": {
                            "outlinewidth": 0,
                            "ticks": ""
                          }
                        },
                        "type": "scattergl"
                      }
                    ],
                    "scattermapbox": [
                      {
                        "marker": {
                          "colorbar": {
                            "outlinewidth": 0,
                            "ticks": ""
                          }
                        },
                        "type": "scattermapbox"
                      }
                    ],
                    "scatterpolar": [
                      {
                        "marker": {
                          "colorbar": {
                            "outlinewidth": 0,
                            "ticks": ""
                          }
                        },
                        "type": "scatterpolar"
                      }
                    ],
                    "scatterpolargl": [
                      {
                        "marker": {
                          "colorbar": {
                            "outlinewidth": 0,
                            "ticks": ""
                          }
                        },
                        "type": "scatterpolargl"
                      }
                    ],
                    "scatterternary": [
                      {
                        "marker": {
                          "colorbar": {
                            "outlinewidth": 0,
                            "ticks": ""
                          }
                        },
                        "type": "scatterternary"
                      }
                    ],
                    "surface": [
                      {
                        "colorbar": {
                          "outlinewidth": 0,
                          "ticks": ""
                        },
                        "colorscale": [
                          [
                            0,
                            "#0d0887"
                          ],
                          [
                            0.1111111111111111,
                            "#46039f"
                          ],
                          [
                            0.2222222222222222,
                            "#7201a8"
                          ],
                          [
                            0.3333333333333333,
                            "#9c179e"
                          ],
                          [
                            0.4444444444444444,
                            "#bd3786"
                          ],
                          [
                            0.5555555555555556,
                            "#d8576b"
                          ],
                          [
                            0.6666666666666666,
                            "#ed7953"
                          ],
                          [
                            0.7777777777777778,
                            "#fb9f3a"
                          ],
                          [
                            0.8888888888888888,
                            "#fdca26"
                          ],
                          [
                            1,
                            "#f0f921"
                          ]
                        ],
                        "type": "surface"
                      }
                    ],
                    "table": [
                      {
                        "cells": {
                          "fill": {
                            "color": "#EBF0F8"
                          },
                          "line": {
                            "color": "white"
                          }
                        },
                        "header": {
                          "fill": {
                            "color": "#C8D4E3"
                          },
                          "line": {
                            "color": "white"
                          }
                        },
                        "type": "table"
                      }
                    ]
                  },
                  "layout": {
                    "annotationdefaults": {
                      "arrowcolor": "#2a3f5f",
                      "arrowhead": 0,
                      "arrowwidth": 1
                    },
                    "autotypenumbers": "strict",
                    "coloraxis": {
                      "colorbar": {
                        "outlinewidth": 0,
                        "ticks": ""
                      }
                    },
                    "colorscale": {
                      "diverging": [
                        [
                          0,
                          "#8e0152"
                        ],
                        [
                          0.1,
                          "#c51b7d"
                        ],
                        [
                          0.2,
                          "#de77ae"
                        ],
                        [
                          0.3,
                          "#f1b6da"
                        ],
                        [
                          0.4,
                          "#fde0ef"
                        ],
                        [
                          0.5,
                          "#f7f7f7"
                        ],
                        [
                          0.6,
                          "#e6f5d0"
                        ],
                        [
                          0.7,
                          "#b8e186"
                        ],
                        [
                          0.8,
                          "#7fbc41"
                        ],
                        [
                          0.9,
                          "#4d9221"
                        ],
                        [
                          1,
                          "#276419"
                        ]
                      ],
                      "sequential": [
                        [
                          0,
                          "#0d0887"
                        ],
                        [
                          0.1111111111111111,
                          "#46039f"
                        ],
                        [
                          0.2222222222222222,
                          "#7201a8"
                        ],
                        [
                          0.3333333333333333,
                          "#9c179e"
                        ],
                        [
                          0.4444444444444444,
                          "#bd3786"
                        ],
                        [
                          0.5555555555555556,
                          "#d8576b"
                        ],
                        [
                          0.6666666666666666,
                          "#ed7953"
                        ],
                        [
                          0.7777777777777778,
                          "#fb9f3a"
                        ],
                        [
                          0.8888888888888888,
                          "#fdca26"
                        ],
                        [
                          1,
                          "#f0f921"
                        ]
                      ],
                      "sequentialminus": [
                        [
                          0,
                          "#0d0887"
                        ],
                        [
                          0.1111111111111111,
                          "#46039f"
                        ],
                        [
                          0.2222222222222222,
                          "#7201a8"
                        ],
                        [
                          0.3333333333333333,
                          "#9c179e"
                        ],
                        [
                          0.4444444444444444,
                          "#bd3786"
                        ],
                        [
                          0.5555555555555556,
                          "#d8576b"
                        ],
                        [
                          0.6666666666666666,
                          "#ed7953"
                        ],
                        [
                          0.7777777777777778,
                          "#fb9f3a"
                        ],
                        [
                          0.8888888888888888,
                          "#fdca26"
                        ],
                        [
                          1,
                          "#f0f921"
                        ]
                      ]
                    },
                    "colorway": [
                      "#636efa",
                      "#EF553B",
                      "#00cc96",
                      "#ab63fa",
                      "#FFA15A",
                      "#19d3f3",
                      "#FF6692",
                      "#B6E880",
                      "#FF97FF",
                      "#FECB52"
                    ],
                    "font": {
                      "color": "#2a3f5f"
                    },
                    "geo": {
                      "bgcolor": "white",
                      "lakecolor": "white",
                      "landcolor": "#E5ECF6",
                      "showlakes": true,
                      "showland": true,
                      "subunitcolor": "white"
                    },
                    "hoverlabel": {
                      "align": "left"
                    },
                    "hovermode": "closest",
                    "mapbox": {
                      "style": "light"
                    },
                    "paper_bgcolor": "white",
                    "plot_bgcolor": "#E5ECF6",
                    "polar": {
                      "angularaxis": {
                        "gridcolor": "white",
                        "linecolor": "white",
                        "ticks": ""
                      },
                      "bgcolor": "#E5ECF6",
                      "radialaxis": {
                        "gridcolor": "white",
                        "linecolor": "white",
                        "ticks": ""
                      }
                    },
                    "scene": {
                      "xaxis": {
                        "backgroundcolor": "#E5ECF6",
                        "gridcolor": "white",
                        "gridwidth": 2,
                        "linecolor": "white",
                        "showbackground": true,
                        "ticks": "",
                        "zerolinecolor": "white"
                      },
                      "yaxis": {
                        "backgroundcolor": "#E5ECF6",
                        "gridcolor": "white",
                        "gridwidth": 2,
                        "linecolor": "white",
                        "showbackground": true,
                        "ticks": "",
                        "zerolinecolor": "white"
                      },
                      "zaxis": {
                        "backgroundcolor": "#E5ECF6",
                        "gridcolor": "white",
                        "gridwidth": 2,
                        "linecolor": "white",
                        "showbackground": true,
                        "ticks": "",
                        "zerolinecolor": "white"
                      }
                    },
                    "shapedefaults": {
                      "line": {
                        "color": "#2a3f5f"
                      }
                    },
                    "ternary": {
                      "aaxis": {
                        "gridcolor": "white",
                        "linecolor": "white",
                        "ticks": ""
                      },
                      "baxis": {
                        "gridcolor": "white",
                        "linecolor": "white",
                        "ticks": ""
                      },
                      "bgcolor": "#E5ECF6",
                      "caxis": {
                        "gridcolor": "white",
                        "linecolor": "white",
                        "ticks": ""
                      }
                    },
                    "title": {
                      "x": 0.05
                    },
                    "xaxis": {
                      "automargin": true,
                      "gridcolor": "white",
                      "linecolor": "white",
                      "ticks": "",
                      "title": {
                        "standoff": 15
                      },
                      "zerolinecolor": "white",
                      "zerolinewidth": 2
                    },
                    "yaxis": {
                      "automargin": true,
                      "gridcolor": "white",
                      "linecolor": "white",
                      "ticks": "",
                      "title": {
                        "standoff": 15
                      },
                      "zerolinecolor": "white",
                      "zerolinewidth": 2
                    }
                  }
                },
                "title": {
                  "text": "Total Revenue vs Total Profit vs Total Loss(Loss Refer the Return Products) Over the Time"
                },
                "xaxis": {
                  "title": {
                    "text": "Date"
                  }
                },
                "yaxis": {
                  "title": {
                    "text": "Total Profit"
                  }
                }
              }
            }
          },
          "metadata": {},
          "output_type": "display_data"
        }
      ],
      "source": [
        "fig = go.Figure()\n",
        "\n",
        "fig.add_trace(go.Scatter(x=total_profit_by_date['Date'], y=total_profit_by_date['TotalAmount'], name='Total Profit'))\n",
        "fig.add_trace(go.Scatter(x=total_loss_by_date['Date'], y=total_loss_by_date['TotalAmountt'], name='Total Loss'))\n",
        "fig.add_trace(go.Scatter(x=total_revenue_by_date['Date'], y=total_revenue_by_date['TotalAmount'], name='Total Revenue'))\n",
        "fig.update_layout(xaxis_title='Date',yaxis_title='Total Profit', title='Total Revenue vs Total Profit vs Total Loss(Loss Refer the Return Products) Over the Time')\n",
        "fig.show()"
      ]
    },
    {
      "cell_type": "code",
      "execution_count": 27,
      "metadata": {},
      "outputs": [
        {
          "data": {
            "text/html": [
              "<div>\n",
              "<style scoped>\n",
              "    .dataframe tbody tr th:only-of-type {\n",
              "        vertical-align: middle;\n",
              "    }\n",
              "\n",
              "    .dataframe tbody tr th {\n",
              "        vertical-align: top;\n",
              "    }\n",
              "\n",
              "    .dataframe thead th {\n",
              "        text-align: right;\n",
              "    }\n",
              "</style>\n",
              "<table border=\"1\" class=\"dataframe\">\n",
              "  <thead>\n",
              "    <tr style=\"text-align: right;\">\n",
              "      <th></th>\n",
              "      <th>Country</th>\n",
              "      <th>TotalAmount</th>\n",
              "    </tr>\n",
              "  </thead>\n",
              "  <tbody>\n",
              "    <tr>\n",
              "      <th>24</th>\n",
              "      <td>United Kingdom</td>\n",
              "      <td>-2530628.30</td>\n",
              "    </tr>\n",
              "    <tr>\n",
              "      <th>7</th>\n",
              "      <td>EIRE</td>\n",
              "      <td>-52765.88</td>\n",
              "    </tr>\n",
              "    <tr>\n",
              "      <th>11</th>\n",
              "      <td>Germany</td>\n",
              "      <td>-21277.87</td>\n",
              "    </tr>\n",
              "    <tr>\n",
              "      <th>23</th>\n",
              "      <td>USA</td>\n",
              "      <td>-15418.27</td>\n",
              "    </tr>\n",
              "    <tr>\n",
              "      <th>20</th>\n",
              "      <td>Spain</td>\n",
              "      <td>-15273.47</td>\n",
              "    </tr>\n",
              "  </tbody>\n",
              "</table>\n",
              "</div>"
            ],
            "text/plain": [
              "           Country  TotalAmount\n",
              "24  United Kingdom  -2530628.30\n",
              "7             EIRE    -52765.88\n",
              "11         Germany    -21277.87\n",
              "23             USA    -15418.27\n",
              "20           Spain    -15273.47"
            ]
          },
          "execution_count": 27,
          "metadata": {},
          "output_type": "execute_result"
        }
      ],
      "source": [
        "total_loss_by_country = total_loss.groupby('Country')['TotalAmount'].sum().reset_index()\n",
        "total_loss_by_country = total_loss_by_country.sort_values(by=['TotalAmount'], ascending=True)\n",
        "total_loss_by_country.head()"
      ]
    },
    {
      "cell_type": "code",
      "execution_count": 28,
      "metadata": {},
      "outputs": [
        {
          "data": {
            "text/html": [
              "<div>\n",
              "<style scoped>\n",
              "    .dataframe tbody tr th:only-of-type {\n",
              "        vertical-align: middle;\n",
              "    }\n",
              "\n",
              "    .dataframe tbody tr th {\n",
              "        vertical-align: top;\n",
              "    }\n",
              "\n",
              "    .dataframe thead th {\n",
              "        text-align: right;\n",
              "    }\n",
              "</style>\n",
              "<table border=\"1\" class=\"dataframe\">\n",
              "  <thead>\n",
              "    <tr style=\"text-align: right;\">\n",
              "      <th></th>\n",
              "      <th>Country</th>\n",
              "      <th>TotalAmount</th>\n",
              "    </tr>\n",
              "  </thead>\n",
              "  <tbody>\n",
              "    <tr>\n",
              "      <th>36</th>\n",
              "      <td>United Kingdom</td>\n",
              "      <td>52524658.47</td>\n",
              "    </tr>\n",
              "    <tr>\n",
              "      <th>24</th>\n",
              "      <td>Netherlands</td>\n",
              "      <td>2151553.59</td>\n",
              "    </tr>\n",
              "    <tr>\n",
              "      <th>10</th>\n",
              "      <td>EIRE</td>\n",
              "      <td>1713410.95</td>\n",
              "    </tr>\n",
              "    <tr>\n",
              "      <th>14</th>\n",
              "      <td>Germany</td>\n",
              "      <td>1371543.27</td>\n",
              "    </tr>\n",
              "    <tr>\n",
              "      <th>13</th>\n",
              "      <td>France</td>\n",
              "      <td>1330652.89</td>\n",
              "    </tr>\n",
              "  </tbody>\n",
              "</table>\n",
              "</div>"
            ],
            "text/plain": [
              "           Country  TotalAmount\n",
              "36  United Kingdom  52524658.47\n",
              "24     Netherlands   2151553.59\n",
              "10            EIRE   1713410.95\n",
              "14         Germany   1371543.27\n",
              "13          France   1330652.89"
            ]
          },
          "execution_count": 28,
          "metadata": {},
          "output_type": "execute_result"
        }
      ],
      "source": [
        "total_profit_by_country = total_profit.groupby('Country')['TotalAmount'].sum().reset_index()\n",
        "total_profit_by_country = total_profit_by_country.sort_values(by=['TotalAmount'], ascending=False)\n",
        "total_profit_by_country.head()"
      ]
    },
    {
      "cell_type": "code",
      "execution_count": 29,
      "metadata": {},
      "outputs": [],
      "source": [
        "other_countries_total_profit = total_profit_by_country[total_profit_by_country['Country']!='United Kingdom']['TotalAmount'].sum()\n",
        "uk_total_profit = total_profit_by_country[total_profit_by_country['Country']=='United Kingdom']\n",
        "other_countries_total_loss = total_loss_by_country[total_loss_by_country['Country']!='United Kingdom']['TotalAmount'].sum()\n",
        "uk_total_loss = total_loss_by_country[total_loss_by_country['Country']=='United Kingdom']"
      ]
    },
    {
      "cell_type": "code",
      "execution_count": 30,
      "metadata": {},
      "outputs": [],
      "source": [
        "uk_revenue = uk_total_profit.merge(uk_total_loss, on='Country')\n",
        "uk_revenue['Revenue'] = uk_revenue['TotalAmount_x']+uk_revenue['TotalAmount_y']"
      ]
    },
    {
      "cell_type": "code",
      "execution_count": 31,
      "metadata": {},
      "outputs": [],
      "source": [
        "import numpy as np\n",
        "other_countries_total_profitt = pd.DataFrame(np.array([['Other Countries', other_countries_total_profit]]),columns=['Country', 'TotalAmount'])\n",
        "other_countries_total_losss = pd.DataFrame(np.array([['Other Countries', other_countries_total_loss]]),columns=['Country', 'TotalAmount'])\n",
        "other_countries_revenue = other_countries_total_profitt.merge(other_countries_total_losss, on='Country')\n",
        "other_countries_revenue['Revenue'] = (other_countries_revenue['TotalAmount_x']).astype(float)+(other_countries_revenue['TotalAmount_y']).astype(float)\n",
        "other_countries_revenue['TotalAmount_x'] = other_countries_revenue['TotalAmount_x'].astype('float')\n",
        "other_countries_revenue['TotalAmount_y'] = other_countries_revenue['TotalAmount_y'].astype(float)"
      ]
    },
    {
      "cell_type": "code",
      "execution_count": 32,
      "metadata": {},
      "outputs": [],
      "source": [
        "total_revenue = pd.concat([uk_revenue,other_countries_revenue],axis=0)"
      ]
    },
    {
      "cell_type": "code",
      "execution_count": 33,
      "metadata": {},
      "outputs": [
        {
          "data": {
            "application/vnd.plotly.v1+json": {
              "config": {
                "plotlyServerURL": "https://plot.ly"
              },
              "data": [
                {
                  "name": "Total Profit",
                  "type": "bar",
                  "x": [
                    "United Kingdom",
                    "Other Countries"
                  ],
                  "y": [
                    52524658.47,
                    10441315.87
                  ]
                },
                {
                  "name": "Total Loss",
                  "type": "bar",
                  "x": [
                    "United Kingdom",
                    "Other Countries"
                  ],
                  "y": [
                    -2530628.3000000003,
                    -155321.78
                  ]
                },
                {
                  "name": "Total Revenue",
                  "type": "bar",
                  "x": [
                    "United Kingdom",
                    "Other Countries"
                  ],
                  "y": [
                    49994030.17,
                    10285994.09
                  ]
                }
              ],
              "layout": {
                "template": {
                  "data": {
                    "bar": [
                      {
                        "error_x": {
                          "color": "#2a3f5f"
                        },
                        "error_y": {
                          "color": "#2a3f5f"
                        },
                        "marker": {
                          "line": {
                            "color": "#E5ECF6",
                            "width": 0.5
                          },
                          "pattern": {
                            "fillmode": "overlay",
                            "size": 10,
                            "solidity": 0.2
                          }
                        },
                        "type": "bar"
                      }
                    ],
                    "barpolar": [
                      {
                        "marker": {
                          "line": {
                            "color": "#E5ECF6",
                            "width": 0.5
                          },
                          "pattern": {
                            "fillmode": "overlay",
                            "size": 10,
                            "solidity": 0.2
                          }
                        },
                        "type": "barpolar"
                      }
                    ],
                    "carpet": [
                      {
                        "aaxis": {
                          "endlinecolor": "#2a3f5f",
                          "gridcolor": "white",
                          "linecolor": "white",
                          "minorgridcolor": "white",
                          "startlinecolor": "#2a3f5f"
                        },
                        "baxis": {
                          "endlinecolor": "#2a3f5f",
                          "gridcolor": "white",
                          "linecolor": "white",
                          "minorgridcolor": "white",
                          "startlinecolor": "#2a3f5f"
                        },
                        "type": "carpet"
                      }
                    ],
                    "choropleth": [
                      {
                        "colorbar": {
                          "outlinewidth": 0,
                          "ticks": ""
                        },
                        "type": "choropleth"
                      }
                    ],
                    "contour": [
                      {
                        "colorbar": {
                          "outlinewidth": 0,
                          "ticks": ""
                        },
                        "colorscale": [
                          [
                            0,
                            "#0d0887"
                          ],
                          [
                            0.1111111111111111,
                            "#46039f"
                          ],
                          [
                            0.2222222222222222,
                            "#7201a8"
                          ],
                          [
                            0.3333333333333333,
                            "#9c179e"
                          ],
                          [
                            0.4444444444444444,
                            "#bd3786"
                          ],
                          [
                            0.5555555555555556,
                            "#d8576b"
                          ],
                          [
                            0.6666666666666666,
                            "#ed7953"
                          ],
                          [
                            0.7777777777777778,
                            "#fb9f3a"
                          ],
                          [
                            0.8888888888888888,
                            "#fdca26"
                          ],
                          [
                            1,
                            "#f0f921"
                          ]
                        ],
                        "type": "contour"
                      }
                    ],
                    "contourcarpet": [
                      {
                        "colorbar": {
                          "outlinewidth": 0,
                          "ticks": ""
                        },
                        "type": "contourcarpet"
                      }
                    ],
                    "heatmap": [
                      {
                        "colorbar": {
                          "outlinewidth": 0,
                          "ticks": ""
                        },
                        "colorscale": [
                          [
                            0,
                            "#0d0887"
                          ],
                          [
                            0.1111111111111111,
                            "#46039f"
                          ],
                          [
                            0.2222222222222222,
                            "#7201a8"
                          ],
                          [
                            0.3333333333333333,
                            "#9c179e"
                          ],
                          [
                            0.4444444444444444,
                            "#bd3786"
                          ],
                          [
                            0.5555555555555556,
                            "#d8576b"
                          ],
                          [
                            0.6666666666666666,
                            "#ed7953"
                          ],
                          [
                            0.7777777777777778,
                            "#fb9f3a"
                          ],
                          [
                            0.8888888888888888,
                            "#fdca26"
                          ],
                          [
                            1,
                            "#f0f921"
                          ]
                        ],
                        "type": "heatmap"
                      }
                    ],
                    "heatmapgl": [
                      {
                        "colorbar": {
                          "outlinewidth": 0,
                          "ticks": ""
                        },
                        "colorscale": [
                          [
                            0,
                            "#0d0887"
                          ],
                          [
                            0.1111111111111111,
                            "#46039f"
                          ],
                          [
                            0.2222222222222222,
                            "#7201a8"
                          ],
                          [
                            0.3333333333333333,
                            "#9c179e"
                          ],
                          [
                            0.4444444444444444,
                            "#bd3786"
                          ],
                          [
                            0.5555555555555556,
                            "#d8576b"
                          ],
                          [
                            0.6666666666666666,
                            "#ed7953"
                          ],
                          [
                            0.7777777777777778,
                            "#fb9f3a"
                          ],
                          [
                            0.8888888888888888,
                            "#fdca26"
                          ],
                          [
                            1,
                            "#f0f921"
                          ]
                        ],
                        "type": "heatmapgl"
                      }
                    ],
                    "histogram": [
                      {
                        "marker": {
                          "pattern": {
                            "fillmode": "overlay",
                            "size": 10,
                            "solidity": 0.2
                          }
                        },
                        "type": "histogram"
                      }
                    ],
                    "histogram2d": [
                      {
                        "colorbar": {
                          "outlinewidth": 0,
                          "ticks": ""
                        },
                        "colorscale": [
                          [
                            0,
                            "#0d0887"
                          ],
                          [
                            0.1111111111111111,
                            "#46039f"
                          ],
                          [
                            0.2222222222222222,
                            "#7201a8"
                          ],
                          [
                            0.3333333333333333,
                            "#9c179e"
                          ],
                          [
                            0.4444444444444444,
                            "#bd3786"
                          ],
                          [
                            0.5555555555555556,
                            "#d8576b"
                          ],
                          [
                            0.6666666666666666,
                            "#ed7953"
                          ],
                          [
                            0.7777777777777778,
                            "#fb9f3a"
                          ],
                          [
                            0.8888888888888888,
                            "#fdca26"
                          ],
                          [
                            1,
                            "#f0f921"
                          ]
                        ],
                        "type": "histogram2d"
                      }
                    ],
                    "histogram2dcontour": [
                      {
                        "colorbar": {
                          "outlinewidth": 0,
                          "ticks": ""
                        },
                        "colorscale": [
                          [
                            0,
                            "#0d0887"
                          ],
                          [
                            0.1111111111111111,
                            "#46039f"
                          ],
                          [
                            0.2222222222222222,
                            "#7201a8"
                          ],
                          [
                            0.3333333333333333,
                            "#9c179e"
                          ],
                          [
                            0.4444444444444444,
                            "#bd3786"
                          ],
                          [
                            0.5555555555555556,
                            "#d8576b"
                          ],
                          [
                            0.6666666666666666,
                            "#ed7953"
                          ],
                          [
                            0.7777777777777778,
                            "#fb9f3a"
                          ],
                          [
                            0.8888888888888888,
                            "#fdca26"
                          ],
                          [
                            1,
                            "#f0f921"
                          ]
                        ],
                        "type": "histogram2dcontour"
                      }
                    ],
                    "mesh3d": [
                      {
                        "colorbar": {
                          "outlinewidth": 0,
                          "ticks": ""
                        },
                        "type": "mesh3d"
                      }
                    ],
                    "parcoords": [
                      {
                        "line": {
                          "colorbar": {
                            "outlinewidth": 0,
                            "ticks": ""
                          }
                        },
                        "type": "parcoords"
                      }
                    ],
                    "pie": [
                      {
                        "automargin": true,
                        "type": "pie"
                      }
                    ],
                    "scatter": [
                      {
                        "fillpattern": {
                          "fillmode": "overlay",
                          "size": 10,
                          "solidity": 0.2
                        },
                        "type": "scatter"
                      }
                    ],
                    "scatter3d": [
                      {
                        "line": {
                          "colorbar": {
                            "outlinewidth": 0,
                            "ticks": ""
                          }
                        },
                        "marker": {
                          "colorbar": {
                            "outlinewidth": 0,
                            "ticks": ""
                          }
                        },
                        "type": "scatter3d"
                      }
                    ],
                    "scattercarpet": [
                      {
                        "marker": {
                          "colorbar": {
                            "outlinewidth": 0,
                            "ticks": ""
                          }
                        },
                        "type": "scattercarpet"
                      }
                    ],
                    "scattergeo": [
                      {
                        "marker": {
                          "colorbar": {
                            "outlinewidth": 0,
                            "ticks": ""
                          }
                        },
                        "type": "scattergeo"
                      }
                    ],
                    "scattergl": [
                      {
                        "marker": {
                          "colorbar": {
                            "outlinewidth": 0,
                            "ticks": ""
                          }
                        },
                        "type": "scattergl"
                      }
                    ],
                    "scattermapbox": [
                      {
                        "marker": {
                          "colorbar": {
                            "outlinewidth": 0,
                            "ticks": ""
                          }
                        },
                        "type": "scattermapbox"
                      }
                    ],
                    "scatterpolar": [
                      {
                        "marker": {
                          "colorbar": {
                            "outlinewidth": 0,
                            "ticks": ""
                          }
                        },
                        "type": "scatterpolar"
                      }
                    ],
                    "scatterpolargl": [
                      {
                        "marker": {
                          "colorbar": {
                            "outlinewidth": 0,
                            "ticks": ""
                          }
                        },
                        "type": "scatterpolargl"
                      }
                    ],
                    "scatterternary": [
                      {
                        "marker": {
                          "colorbar": {
                            "outlinewidth": 0,
                            "ticks": ""
                          }
                        },
                        "type": "scatterternary"
                      }
                    ],
                    "surface": [
                      {
                        "colorbar": {
                          "outlinewidth": 0,
                          "ticks": ""
                        },
                        "colorscale": [
                          [
                            0,
                            "#0d0887"
                          ],
                          [
                            0.1111111111111111,
                            "#46039f"
                          ],
                          [
                            0.2222222222222222,
                            "#7201a8"
                          ],
                          [
                            0.3333333333333333,
                            "#9c179e"
                          ],
                          [
                            0.4444444444444444,
                            "#bd3786"
                          ],
                          [
                            0.5555555555555556,
                            "#d8576b"
                          ],
                          [
                            0.6666666666666666,
                            "#ed7953"
                          ],
                          [
                            0.7777777777777778,
                            "#fb9f3a"
                          ],
                          [
                            0.8888888888888888,
                            "#fdca26"
                          ],
                          [
                            1,
                            "#f0f921"
                          ]
                        ],
                        "type": "surface"
                      }
                    ],
                    "table": [
                      {
                        "cells": {
                          "fill": {
                            "color": "#EBF0F8"
                          },
                          "line": {
                            "color": "white"
                          }
                        },
                        "header": {
                          "fill": {
                            "color": "#C8D4E3"
                          },
                          "line": {
                            "color": "white"
                          }
                        },
                        "type": "table"
                      }
                    ]
                  },
                  "layout": {
                    "annotationdefaults": {
                      "arrowcolor": "#2a3f5f",
                      "arrowhead": 0,
                      "arrowwidth": 1
                    },
                    "autotypenumbers": "strict",
                    "coloraxis": {
                      "colorbar": {
                        "outlinewidth": 0,
                        "ticks": ""
                      }
                    },
                    "colorscale": {
                      "diverging": [
                        [
                          0,
                          "#8e0152"
                        ],
                        [
                          0.1,
                          "#c51b7d"
                        ],
                        [
                          0.2,
                          "#de77ae"
                        ],
                        [
                          0.3,
                          "#f1b6da"
                        ],
                        [
                          0.4,
                          "#fde0ef"
                        ],
                        [
                          0.5,
                          "#f7f7f7"
                        ],
                        [
                          0.6,
                          "#e6f5d0"
                        ],
                        [
                          0.7,
                          "#b8e186"
                        ],
                        [
                          0.8,
                          "#7fbc41"
                        ],
                        [
                          0.9,
                          "#4d9221"
                        ],
                        [
                          1,
                          "#276419"
                        ]
                      ],
                      "sequential": [
                        [
                          0,
                          "#0d0887"
                        ],
                        [
                          0.1111111111111111,
                          "#46039f"
                        ],
                        [
                          0.2222222222222222,
                          "#7201a8"
                        ],
                        [
                          0.3333333333333333,
                          "#9c179e"
                        ],
                        [
                          0.4444444444444444,
                          "#bd3786"
                        ],
                        [
                          0.5555555555555556,
                          "#d8576b"
                        ],
                        [
                          0.6666666666666666,
                          "#ed7953"
                        ],
                        [
                          0.7777777777777778,
                          "#fb9f3a"
                        ],
                        [
                          0.8888888888888888,
                          "#fdca26"
                        ],
                        [
                          1,
                          "#f0f921"
                        ]
                      ],
                      "sequentialminus": [
                        [
                          0,
                          "#0d0887"
                        ],
                        [
                          0.1111111111111111,
                          "#46039f"
                        ],
                        [
                          0.2222222222222222,
                          "#7201a8"
                        ],
                        [
                          0.3333333333333333,
                          "#9c179e"
                        ],
                        [
                          0.4444444444444444,
                          "#bd3786"
                        ],
                        [
                          0.5555555555555556,
                          "#d8576b"
                        ],
                        [
                          0.6666666666666666,
                          "#ed7953"
                        ],
                        [
                          0.7777777777777778,
                          "#fb9f3a"
                        ],
                        [
                          0.8888888888888888,
                          "#fdca26"
                        ],
                        [
                          1,
                          "#f0f921"
                        ]
                      ]
                    },
                    "colorway": [
                      "#636efa",
                      "#EF553B",
                      "#00cc96",
                      "#ab63fa",
                      "#FFA15A",
                      "#19d3f3",
                      "#FF6692",
                      "#B6E880",
                      "#FF97FF",
                      "#FECB52"
                    ],
                    "font": {
                      "color": "#2a3f5f"
                    },
                    "geo": {
                      "bgcolor": "white",
                      "lakecolor": "white",
                      "landcolor": "#E5ECF6",
                      "showlakes": true,
                      "showland": true,
                      "subunitcolor": "white"
                    },
                    "hoverlabel": {
                      "align": "left"
                    },
                    "hovermode": "closest",
                    "mapbox": {
                      "style": "light"
                    },
                    "paper_bgcolor": "white",
                    "plot_bgcolor": "#E5ECF6",
                    "polar": {
                      "angularaxis": {
                        "gridcolor": "white",
                        "linecolor": "white",
                        "ticks": ""
                      },
                      "bgcolor": "#E5ECF6",
                      "radialaxis": {
                        "gridcolor": "white",
                        "linecolor": "white",
                        "ticks": ""
                      }
                    },
                    "scene": {
                      "xaxis": {
                        "backgroundcolor": "#E5ECF6",
                        "gridcolor": "white",
                        "gridwidth": 2,
                        "linecolor": "white",
                        "showbackground": true,
                        "ticks": "",
                        "zerolinecolor": "white"
                      },
                      "yaxis": {
                        "backgroundcolor": "#E5ECF6",
                        "gridcolor": "white",
                        "gridwidth": 2,
                        "linecolor": "white",
                        "showbackground": true,
                        "ticks": "",
                        "zerolinecolor": "white"
                      },
                      "zaxis": {
                        "backgroundcolor": "#E5ECF6",
                        "gridcolor": "white",
                        "gridwidth": 2,
                        "linecolor": "white",
                        "showbackground": true,
                        "ticks": "",
                        "zerolinecolor": "white"
                      }
                    },
                    "shapedefaults": {
                      "line": {
                        "color": "#2a3f5f"
                      }
                    },
                    "ternary": {
                      "aaxis": {
                        "gridcolor": "white",
                        "linecolor": "white",
                        "ticks": ""
                      },
                      "baxis": {
                        "gridcolor": "white",
                        "linecolor": "white",
                        "ticks": ""
                      },
                      "bgcolor": "#E5ECF6",
                      "caxis": {
                        "gridcolor": "white",
                        "linecolor": "white",
                        "ticks": ""
                      }
                    },
                    "title": {
                      "x": 0.05
                    },
                    "xaxis": {
                      "automargin": true,
                      "gridcolor": "white",
                      "linecolor": "white",
                      "ticks": "",
                      "title": {
                        "standoff": 15
                      },
                      "zerolinecolor": "white",
                      "zerolinewidth": 2
                    },
                    "yaxis": {
                      "automargin": true,
                      "gridcolor": "white",
                      "linecolor": "white",
                      "ticks": "",
                      "title": {
                        "standoff": 15
                      },
                      "zerolinecolor": "white",
                      "zerolinewidth": 2
                    }
                  }
                },
                "title": {
                  "text": "Profit, Loss, and Revenue by United Kingdom vs Other Countries"
                },
                "xaxis": {
                  "title": {
                    "text": "Country"
                  }
                },
                "yaxis": {
                  "title": {
                    "text": "Total Amount"
                  }
                }
              }
            }
          },
          "metadata": {},
          "output_type": "display_data"
        }
      ],
      "source": [
        "fig = go.Figure()\n",
        "\n",
        "fig.add_trace(go.Bar(x=total_revenue['Country'], y=total_revenue['TotalAmount_x'], name='Total Profit'))\n",
        "fig.add_trace(go.Bar(x=total_revenue['Country'], y=total_revenue['TotalAmount_y'], name='Total Loss'))\n",
        "fig.add_trace(go.Bar(x=total_revenue['Country'], y=total_revenue['Revenue'], name='Total Revenue'))\n",
        "fig.update_layout(xaxis_title='Country', yaxis_title='Total Amount', title='Profit, Loss, and Revenue by United Kingdom vs Other Countries')\n",
        "fig.show()\n",
        "    "
      ]
    },
    {
      "cell_type": "code",
      "execution_count": 34,
      "metadata": {},
      "outputs": [],
      "source": [
        "total_profit_by_date = total_profit.groupby(['Date','Country'])['TotalAmount'].sum().reset_index()\n",
        "uk_profit_by_date = total_profit_by_date[total_profit_by_date['Country']=='United Kingdom']\n",
        "total_loss_by_date = total_loss.groupby(['Date','Country'])['TotalAmount'].sum().reset_index()\n",
        "uk_loss_by_date = total_loss_by_date[total_loss_by_date['Country']=='United Kingdom']"
      ]
    },
    {
      "cell_type": "code",
      "execution_count": 35,
      "metadata": {},
      "outputs": [],
      "source": [
        "uk_revenue_by_date = uk_profit_by_date.merge(uk_loss_by_date, on=['Date'], how='outer')\n",
        "uk_revenue_by_date['TotalAmount'] = uk_revenue_by_date['TotalAmount_x']+uk_revenue_by_date['TotalAmount_y']"
      ]
    },
    {
      "cell_type": "code",
      "execution_count": 36,
      "metadata": {},
      "outputs": [
        {
          "data": {
            "application/vnd.plotly.v1+json": {
              "config": {
                "plotlyServerURL": "https://plot.ly"
              },
              "data": [
                {
                  "name": "Profit",
                  "type": "scatter",
                  "x": [
                    "2018-12-01T00:00:00",
                    "2018-12-02T00:00:00",
                    "2018-12-03T00:00:00",
                    "2018-12-05T00:00:00",
                    "2018-12-06T00:00:00",
                    "2018-12-07T00:00:00",
                    "2018-12-08T00:00:00",
                    "2018-12-09T00:00:00",
                    "2018-12-10T00:00:00",
                    "2018-12-12T00:00:00",
                    "2018-12-13T00:00:00",
                    "2018-12-14T00:00:00",
                    "2018-12-15T00:00:00",
                    "2018-12-16T00:00:00",
                    "2018-12-17T00:00:00",
                    "2018-12-19T00:00:00",
                    "2018-12-20T00:00:00",
                    "2018-12-21T00:00:00",
                    "2018-12-22T00:00:00",
                    "2018-12-23T00:00:00",
                    "2019-01-04T00:00:00",
                    "2019-01-05T00:00:00",
                    "2019-01-06T00:00:00",
                    "2019-01-07T00:00:00",
                    "2019-01-09T00:00:00",
                    "2019-01-10T00:00:00",
                    "2019-01-11T00:00:00",
                    "2019-01-12T00:00:00",
                    "2019-01-13T00:00:00",
                    "2019-01-14T00:00:00",
                    "2019-01-16T00:00:00",
                    "2019-01-17T00:00:00",
                    "2019-01-18T00:00:00",
                    "2019-01-19T00:00:00",
                    "2019-01-20T00:00:00",
                    "2019-01-21T00:00:00",
                    "2019-01-23T00:00:00",
                    "2019-01-24T00:00:00",
                    "2019-01-25T00:00:00",
                    "2019-01-26T00:00:00",
                    "2019-01-27T00:00:00",
                    "2019-01-28T00:00:00",
                    "2019-01-30T00:00:00",
                    "2019-01-31T00:00:00",
                    "2019-02-01T00:00:00",
                    "2019-02-02T00:00:00",
                    "2019-02-03T00:00:00",
                    "2019-02-04T00:00:00",
                    "2019-02-06T00:00:00",
                    "2019-02-07T00:00:00",
                    "2019-02-08T00:00:00",
                    "2019-02-09T00:00:00",
                    "2019-02-10T00:00:00",
                    "2019-02-11T00:00:00",
                    "2019-02-13T00:00:00",
                    "2019-02-14T00:00:00",
                    "2019-02-15T00:00:00",
                    "2019-02-16T00:00:00",
                    "2019-02-17T00:00:00",
                    "2019-02-18T00:00:00",
                    "2019-02-20T00:00:00",
                    "2019-02-21T00:00:00",
                    "2019-02-22T00:00:00",
                    "2019-02-23T00:00:00",
                    "2019-02-24T00:00:00",
                    "2019-02-25T00:00:00",
                    "2019-02-27T00:00:00",
                    "2019-02-28T00:00:00",
                    "2019-03-01T00:00:00",
                    "2019-03-02T00:00:00",
                    "2019-03-03T00:00:00",
                    "2019-03-04T00:00:00",
                    "2019-03-06T00:00:00",
                    "2019-03-07T00:00:00",
                    "2019-03-08T00:00:00",
                    "2019-03-09T00:00:00",
                    "2019-03-10T00:00:00",
                    "2019-03-11T00:00:00",
                    "2019-03-13T00:00:00",
                    "2019-03-14T00:00:00",
                    "2019-03-15T00:00:00",
                    "2019-03-16T00:00:00",
                    "2019-03-17T00:00:00",
                    "2019-03-18T00:00:00",
                    "2019-03-20T00:00:00",
                    "2019-03-21T00:00:00",
                    "2019-03-22T00:00:00",
                    "2019-03-23T00:00:00",
                    "2019-03-24T00:00:00",
                    "2019-03-25T00:00:00",
                    "2019-03-27T00:00:00",
                    "2019-03-28T00:00:00",
                    "2019-03-29T00:00:00",
                    "2019-03-30T00:00:00",
                    "2019-03-31T00:00:00",
                    "2019-04-01T00:00:00",
                    "2019-04-03T00:00:00",
                    "2019-04-04T00:00:00",
                    "2019-04-05T00:00:00",
                    "2019-04-06T00:00:00",
                    "2019-04-07T00:00:00",
                    "2019-04-08T00:00:00",
                    "2019-04-10T00:00:00",
                    "2019-04-11T00:00:00",
                    "2019-04-12T00:00:00",
                    "2019-04-13T00:00:00",
                    "2019-04-14T00:00:00",
                    "2019-04-15T00:00:00",
                    "2019-04-17T00:00:00",
                    "2019-04-18T00:00:00",
                    "2019-04-19T00:00:00",
                    "2019-04-20T00:00:00",
                    "2019-04-21T00:00:00",
                    "2019-04-26T00:00:00",
                    "2019-04-27T00:00:00",
                    "2019-04-28T00:00:00",
                    "2019-05-01T00:00:00",
                    "2019-05-03T00:00:00",
                    "2019-05-04T00:00:00",
                    "2019-05-05T00:00:00",
                    "2019-05-06T00:00:00",
                    "2019-05-08T00:00:00",
                    "2019-05-09T00:00:00",
                    "2019-05-10T00:00:00",
                    "2019-05-11T00:00:00",
                    "2019-05-12T00:00:00",
                    "2019-05-13T00:00:00",
                    "2019-05-15T00:00:00",
                    "2019-05-16T00:00:00",
                    "2019-05-17T00:00:00",
                    "2019-05-18T00:00:00",
                    "2019-05-19T00:00:00",
                    "2019-05-20T00:00:00",
                    "2019-05-22T00:00:00",
                    "2019-05-23T00:00:00",
                    "2019-05-24T00:00:00",
                    "2019-05-25T00:00:00",
                    "2019-05-26T00:00:00",
                    "2019-05-27T00:00:00",
                    "2019-05-29T00:00:00",
                    "2019-05-31T00:00:00",
                    "2019-06-01T00:00:00",
                    "2019-06-02T00:00:00",
                    "2019-06-03T00:00:00",
                    "2019-06-05T00:00:00",
                    "2019-06-06T00:00:00",
                    "2019-06-07T00:00:00",
                    "2019-06-08T00:00:00",
                    "2019-06-09T00:00:00",
                    "2019-06-10T00:00:00",
                    "2019-06-12T00:00:00",
                    "2019-06-13T00:00:00",
                    "2019-06-14T00:00:00",
                    "2019-06-15T00:00:00",
                    "2019-06-16T00:00:00",
                    "2019-06-17T00:00:00",
                    "2019-06-19T00:00:00",
                    "2019-06-20T00:00:00",
                    "2019-06-21T00:00:00",
                    "2019-06-22T00:00:00",
                    "2019-06-23T00:00:00",
                    "2019-06-24T00:00:00",
                    "2019-06-26T00:00:00",
                    "2019-06-27T00:00:00",
                    "2019-06-28T00:00:00",
                    "2019-06-29T00:00:00",
                    "2019-06-30T00:00:00",
                    "2019-07-01T00:00:00",
                    "2019-07-03T00:00:00",
                    "2019-07-04T00:00:00",
                    "2019-07-05T00:00:00",
                    "2019-07-06T00:00:00",
                    "2019-07-07T00:00:00",
                    "2019-07-08T00:00:00",
                    "2019-07-10T00:00:00",
                    "2019-07-11T00:00:00",
                    "2019-07-12T00:00:00",
                    "2019-07-13T00:00:00",
                    "2019-07-14T00:00:00",
                    "2019-07-15T00:00:00",
                    "2019-07-17T00:00:00",
                    "2019-07-18T00:00:00",
                    "2019-07-19T00:00:00",
                    "2019-07-20T00:00:00",
                    "2019-07-21T00:00:00",
                    "2019-07-22T00:00:00",
                    "2019-07-24T00:00:00",
                    "2019-07-25T00:00:00",
                    "2019-07-26T00:00:00",
                    "2019-07-27T00:00:00",
                    "2019-07-28T00:00:00",
                    "2019-07-29T00:00:00",
                    "2019-07-31T00:00:00",
                    "2019-08-01T00:00:00",
                    "2019-08-02T00:00:00",
                    "2019-08-03T00:00:00",
                    "2019-08-04T00:00:00",
                    "2019-08-05T00:00:00",
                    "2019-08-07T00:00:00",
                    "2019-08-08T00:00:00",
                    "2019-08-09T00:00:00",
                    "2019-08-10T00:00:00",
                    "2019-08-11T00:00:00",
                    "2019-08-12T00:00:00",
                    "2019-08-14T00:00:00",
                    "2019-08-15T00:00:00",
                    "2019-08-16T00:00:00",
                    "2019-08-17T00:00:00",
                    "2019-08-18T00:00:00",
                    "2019-08-19T00:00:00",
                    "2019-08-21T00:00:00",
                    "2019-08-22T00:00:00",
                    "2019-08-23T00:00:00",
                    "2019-08-24T00:00:00",
                    "2019-08-25T00:00:00",
                    "2019-08-26T00:00:00",
                    "2019-08-28T00:00:00",
                    "2019-08-30T00:00:00",
                    "2019-08-31T00:00:00",
                    "2019-09-01T00:00:00",
                    "2019-09-02T00:00:00",
                    "2019-09-04T00:00:00",
                    "2019-09-05T00:00:00",
                    "2019-09-06T00:00:00",
                    "2019-09-07T00:00:00",
                    "2019-09-08T00:00:00",
                    "2019-09-09T00:00:00",
                    "2019-09-11T00:00:00",
                    "2019-09-12T00:00:00",
                    "2019-09-13T00:00:00",
                    "2019-09-14T00:00:00",
                    "2019-09-15T00:00:00",
                    "2019-09-16T00:00:00",
                    "2019-09-18T00:00:00",
                    "2019-09-19T00:00:00",
                    "2019-09-20T00:00:00",
                    "2019-09-21T00:00:00",
                    "2019-09-22T00:00:00",
                    "2019-09-23T00:00:00",
                    "2019-09-25T00:00:00",
                    "2019-09-26T00:00:00",
                    "2019-09-27T00:00:00",
                    "2019-09-28T00:00:00",
                    "2019-09-29T00:00:00",
                    "2019-09-30T00:00:00",
                    "2019-10-02T00:00:00",
                    "2019-10-03T00:00:00",
                    "2019-10-04T00:00:00",
                    "2019-10-05T00:00:00",
                    "2019-10-06T00:00:00",
                    "2019-10-07T00:00:00",
                    "2019-10-09T00:00:00",
                    "2019-10-10T00:00:00",
                    "2019-10-11T00:00:00",
                    "2019-10-12T00:00:00",
                    "2019-10-13T00:00:00",
                    "2019-10-14T00:00:00",
                    "2019-10-16T00:00:00",
                    "2019-10-17T00:00:00",
                    "2019-10-18T00:00:00",
                    "2019-10-19T00:00:00",
                    "2019-10-20T00:00:00",
                    "2019-10-21T00:00:00",
                    "2019-10-23T00:00:00",
                    "2019-10-24T00:00:00",
                    "2019-10-25T00:00:00",
                    "2019-10-26T00:00:00",
                    "2019-10-27T00:00:00",
                    "2019-10-28T00:00:00",
                    "2019-10-30T00:00:00",
                    "2019-10-31T00:00:00",
                    "2019-11-01T00:00:00",
                    "2019-11-02T00:00:00",
                    "2019-11-03T00:00:00",
                    "2019-11-04T00:00:00",
                    "2019-11-06T00:00:00",
                    "2019-11-07T00:00:00",
                    "2019-11-08T00:00:00",
                    "2019-11-09T00:00:00",
                    "2019-11-10T00:00:00",
                    "2019-11-11T00:00:00",
                    "2019-11-13T00:00:00",
                    "2019-11-14T00:00:00",
                    "2019-11-15T00:00:00",
                    "2019-11-16T00:00:00",
                    "2019-11-17T00:00:00",
                    "2019-11-18T00:00:00",
                    "2019-11-20T00:00:00",
                    "2019-11-21T00:00:00",
                    "2019-11-22T00:00:00",
                    "2019-11-23T00:00:00",
                    "2019-11-24T00:00:00",
                    "2019-11-25T00:00:00",
                    "2019-11-27T00:00:00",
                    "2019-11-28T00:00:00",
                    "2019-11-29T00:00:00",
                    "2019-11-30T00:00:00",
                    "2019-12-01T00:00:00",
                    "2019-12-02T00:00:00",
                    "2019-12-04T00:00:00",
                    "2019-12-05T00:00:00",
                    "2019-12-06T00:00:00",
                    "2019-12-07T00:00:00",
                    "2019-12-08T00:00:00",
                    "2019-12-09T00:00:00"
                  ],
                  "y": [
                    293122.37,
                    365584.91,
                    142560.6,
                    164168.98,
                    264435.55,
                    289265.69,
                    239045.6,
                    206042.44,
                    246013.63999999998,
                    97335.56,
                    194074.72,
                    233913.88999999998,
                    209913.94,
                    332620.65,
                    131583.63,
                    40572.73,
                    159414.45,
                    117730.75,
                    28355.239999999998,
                    57618.799999999996,
                    99598.24,
                    216393.12,
                    204080.97,
                    130424.92,
                    88091.05,
                    131674.46,
                    338189.01,
                    119816.48,
                    107954.95,
                    88339.23999999999,
                    48518,
                    140114.63999999998,
                    908124.8700000001,
                    94385.41,
                    79806.20999999999,
                    116631.99,
                    60845.19,
                    105587.04,
                    146841.07,
                    103482.77,
                    112746.09,
                    70042.73,
                    41422.32,
                    118256.66,
                    168578.8,
                    107815.89,
                    168824.13,
                    139767.23,
                    22892.13,
                    109822.36,
                    102970.54,
                    40204.35,
                    130646.89,
                    114196.84,
                    33707.64,
                    128079.73,
                    128223.56,
                    155135.75,
                    156783.19,
                    92094.56,
                    62856.97,
                    89266.83,
                    219460.49,
                    142948.4,
                    138974.27,
                    113829.74,
                    55636.36,
                    103833.34999999999,
                    94458.69,
                    100926.39,
                    107662.59999999999,
                    136900.43,
                    61072.09,
                    161787.97,
                    152678.97,
                    123245.21,
                    128571.47,
                    114082.11,
                    29515.09,
                    120044.98,
                    90560.53,
                    144432.89,
                    181250.12,
                    149062.65,
                    153894.84,
                    114385.03,
                    174009.92,
                    128926.68,
                    204827.28,
                    130125.18,
                    54967.159999999996,
                    105525.88,
                    245949.86,
                    208409.84,
                    159507.38999999998,
                    190367.22,
                    65001.01,
                    141275.53,
                    137061.09,
                    100071.73,
                    101317.24,
                    136313.75,
                    65330.49,
                    139990.71,
                    164460.87,
                    204136.1,
                    197322.3,
                    142113.76,
                    88251.79,
                    275949.23,
                    143257.36,
                    204383.88999999998,
                    191643.2,
                    186789.27,
                    195300.16,
                    143477.82,
                    35970.33,
                    119382.29,
                    181740.69,
                    178420.81,
                    206056.66,
                    107962.88,
                    139904.52,
                    195237.88,
                    186586.62,
                    178569.41999999998,
                    153762.06,
                    55276.4,
                    162854.48,
                    206404.64,
                    200445.31,
                    180554.25,
                    157855.95,
                    135017.57,
                    182702.34,
                    190891.18,
                    122704.7,
                    121489.36,
                    172854.49,
                    45260.63,
                    118397.72,
                    89409.68,
                    154516.35,
                    83079.59,
                    119579.15,
                    92586.62,
                    213085.02,
                    195371.5,
                    292467.43,
                    83855.74,
                    95882.3,
                    101944.67,
                    183331.05,
                    124610.66,
                    216771.96,
                    109805.28,
                    114611.03,
                    150525.11,
                    147508.61,
                    134412.09,
                    154209.53,
                    98786.47,
                    39761.43,
                    105834.28,
                    125583.43,
                    116350.34999999999,
                    235838.08,
                    70993.31999999999,
                    35012.84,
                    177483.63999999998,
                    248550.87,
                    163913.35,
                    202670.63999999998,
                    116611.55,
                    48785.62,
                    158933.66,
                    148487.92,
                    114631.98,
                    159450.94,
                    77745.43,
                    116985.12,
                    124400.17,
                    226326.07,
                    191140.95,
                    205719.74,
                    109210.99,
                    183642.38,
                    157933.09,
                    145077.4,
                    110770.87,
                    301392.92,
                    119218.45,
                    121263.08,
                    120141.11,
                    132505.65,
                    179333.51,
                    399446.07,
                    126400.4,
                    59031.979999999996,
                    136266.98,
                    89002.09999999999,
                    144006.78,
                    258729.49,
                    100672.08,
                    36803.32,
                    84633.16,
                    122971.25,
                    282541.97,
                    202116.22,
                    89743.21,
                    76940.48,
                    161704.37,
                    149250.88,
                    294936.69,
                    128005.29,
                    108584.91,
                    68795.62,
                    121370.22,
                    102391.03,
                    244566.04,
                    199046.36,
                    87911.47,
                    177727.2,
                    150719.58,
                    142578.71,
                    163111.93,
                    159436.48,
                    236189.85,
                    197930.61,
                    300909.33,
                    135836.43,
                    338160.66,
                    164462.55,
                    102084.6,
                    137992.35,
                    530025.38,
                    207065.31,
                    310779.22000000003,
                    204868.45,
                    209327.94,
                    167823.6,
                    240324.56,
                    252047.36,
                    285655.75,
                    214320.36000000002,
                    96289.45,
                    321600.35,
                    295930.74,
                    359210.2,
                    332168.91,
                    302236.57,
                    88326.46,
                    273857.01,
                    253443.93,
                    167015.55,
                    165578.55,
                    173344.16999999998,
                    111718.04,
                    219354.18,
                    281018.26,
                    177118.45,
                    193480.47,
                    261178.82,
                    84574.87,
                    279232.74,
                    281481.39,
                    217066.81,
                    281223.6,
                    205334.44,
                    204961.41999999998,
                    235596,
                    170019.57,
                    292790.71,
                    377129.08,
                    390189.88,
                    208448.88999999998,
                    364409.27,
                    296148.04,
                    391259.57,
                    331183.43,
                    281915.56,
                    205047.45,
                    528526.13,
                    294790.77,
                    315253.36,
                    271488.6,
                    225319.9,
                    207572.51,
                    285216.77,
                    312810.92,
                    199700.44,
                    135446.37,
                    188104.12,
                    69609.29000000001,
                    174300.23,
                    174551.29,
                    147500.98,
                    164682.69,
                    163978.03,
                    69285.58,
                    277797.62,
                    185011.19,
                    188201.22,
                    210189.5,
                    1072950.36
                  ]
                },
                {
                  "name": "Loss",
                  "type": "scatter",
                  "x": [
                    "2018-12-01T00:00:00",
                    "2018-12-02T00:00:00",
                    "2018-12-03T00:00:00",
                    "2018-12-05T00:00:00",
                    "2018-12-06T00:00:00",
                    "2018-12-07T00:00:00",
                    "2018-12-08T00:00:00",
                    "2018-12-09T00:00:00",
                    "2018-12-10T00:00:00",
                    "2018-12-12T00:00:00",
                    "2018-12-13T00:00:00",
                    "2018-12-14T00:00:00",
                    "2018-12-15T00:00:00",
                    "2018-12-16T00:00:00",
                    "2018-12-17T00:00:00",
                    "2018-12-19T00:00:00",
                    "2018-12-20T00:00:00",
                    "2018-12-21T00:00:00",
                    "2018-12-22T00:00:00",
                    "2018-12-23T00:00:00",
                    "2019-01-04T00:00:00",
                    "2019-01-05T00:00:00",
                    "2019-01-06T00:00:00",
                    "2019-01-07T00:00:00",
                    "2019-01-09T00:00:00",
                    "2019-01-10T00:00:00",
                    "2019-01-11T00:00:00",
                    "2019-01-12T00:00:00",
                    "2019-01-13T00:00:00",
                    "2019-01-14T00:00:00",
                    "2019-01-16T00:00:00",
                    "2019-01-17T00:00:00",
                    "2019-01-18T00:00:00",
                    "2019-01-19T00:00:00",
                    "2019-01-20T00:00:00",
                    "2019-01-21T00:00:00",
                    "2019-01-23T00:00:00",
                    "2019-01-24T00:00:00",
                    "2019-01-25T00:00:00",
                    "2019-01-26T00:00:00",
                    "2019-01-27T00:00:00",
                    "2019-01-28T00:00:00",
                    "2019-01-30T00:00:00",
                    "2019-01-31T00:00:00",
                    "2019-02-01T00:00:00",
                    "2019-02-02T00:00:00",
                    "2019-02-03T00:00:00",
                    "2019-02-04T00:00:00",
                    "2019-02-07T00:00:00",
                    "2019-02-08T00:00:00",
                    "2019-02-10T00:00:00",
                    "2019-02-11T00:00:00",
                    "2019-02-13T00:00:00",
                    "2019-02-14T00:00:00",
                    "2019-02-15T00:00:00",
                    "2019-02-16T00:00:00",
                    "2019-02-17T00:00:00",
                    "2019-02-18T00:00:00",
                    "2019-02-20T00:00:00",
                    "2019-02-21T00:00:00",
                    "2019-02-22T00:00:00",
                    "2019-02-23T00:00:00",
                    "2019-02-24T00:00:00",
                    "2019-02-25T00:00:00",
                    "2019-02-27T00:00:00",
                    "2019-02-28T00:00:00",
                    "2019-03-01T00:00:00",
                    "2019-03-02T00:00:00",
                    "2019-03-03T00:00:00",
                    "2019-03-04T00:00:00",
                    "2019-03-06T00:00:00",
                    "2019-03-07T00:00:00",
                    "2019-03-08T00:00:00",
                    "2019-03-09T00:00:00",
                    "2019-03-10T00:00:00",
                    "2019-03-11T00:00:00",
                    "2019-03-13T00:00:00",
                    "2019-03-14T00:00:00",
                    "2019-03-15T00:00:00",
                    "2019-03-16T00:00:00",
                    "2019-03-17T00:00:00",
                    "2019-03-18T00:00:00",
                    "2019-03-20T00:00:00",
                    "2019-03-21T00:00:00",
                    "2019-03-22T00:00:00",
                    "2019-03-23T00:00:00",
                    "2019-03-24T00:00:00",
                    "2019-03-25T00:00:00",
                    "2019-03-27T00:00:00",
                    "2019-03-28T00:00:00",
                    "2019-03-29T00:00:00",
                    "2019-03-30T00:00:00",
                    "2019-03-31T00:00:00",
                    "2019-04-01T00:00:00",
                    "2019-04-03T00:00:00",
                    "2019-04-04T00:00:00",
                    "2019-04-05T00:00:00",
                    "2019-04-06T00:00:00",
                    "2019-04-07T00:00:00",
                    "2019-04-08T00:00:00",
                    "2019-04-10T00:00:00",
                    "2019-04-11T00:00:00",
                    "2019-04-12T00:00:00",
                    "2019-04-13T00:00:00",
                    "2019-04-14T00:00:00",
                    "2019-04-15T00:00:00",
                    "2019-04-17T00:00:00",
                    "2019-04-18T00:00:00",
                    "2019-04-19T00:00:00",
                    "2019-04-20T00:00:00",
                    "2019-04-21T00:00:00",
                    "2019-04-26T00:00:00",
                    "2019-04-27T00:00:00",
                    "2019-04-28T00:00:00",
                    "2019-05-01T00:00:00",
                    "2019-05-03T00:00:00",
                    "2019-05-04T00:00:00",
                    "2019-05-05T00:00:00",
                    "2019-05-06T00:00:00",
                    "2019-05-08T00:00:00",
                    "2019-05-09T00:00:00",
                    "2019-05-10T00:00:00",
                    "2019-05-11T00:00:00",
                    "2019-05-12T00:00:00",
                    "2019-05-13T00:00:00",
                    "2019-05-16T00:00:00",
                    "2019-05-17T00:00:00",
                    "2019-05-18T00:00:00",
                    "2019-05-19T00:00:00",
                    "2019-05-20T00:00:00",
                    "2019-05-22T00:00:00",
                    "2019-05-23T00:00:00",
                    "2019-05-24T00:00:00",
                    "2019-05-25T00:00:00",
                    "2019-05-26T00:00:00",
                    "2019-05-27T00:00:00",
                    "2019-05-29T00:00:00",
                    "2019-05-31T00:00:00",
                    "2019-06-01T00:00:00",
                    "2019-06-02T00:00:00",
                    "2019-06-03T00:00:00",
                    "2019-06-05T00:00:00",
                    "2019-06-06T00:00:00",
                    "2019-06-07T00:00:00",
                    "2019-06-08T00:00:00",
                    "2019-06-09T00:00:00",
                    "2019-06-10T00:00:00",
                    "2019-06-12T00:00:00",
                    "2019-06-13T00:00:00",
                    "2019-06-14T00:00:00",
                    "2019-06-15T00:00:00",
                    "2019-06-16T00:00:00",
                    "2019-06-17T00:00:00",
                    "2019-06-19T00:00:00",
                    "2019-06-20T00:00:00",
                    "2019-06-21T00:00:00",
                    "2019-06-22T00:00:00",
                    "2019-06-23T00:00:00",
                    "2019-06-24T00:00:00",
                    "2019-06-26T00:00:00",
                    "2019-06-27T00:00:00",
                    "2019-06-28T00:00:00",
                    "2019-06-29T00:00:00",
                    "2019-06-30T00:00:00",
                    "2019-07-01T00:00:00",
                    "2019-07-03T00:00:00",
                    "2019-07-04T00:00:00",
                    "2019-07-05T00:00:00",
                    "2019-07-06T00:00:00",
                    "2019-07-07T00:00:00",
                    "2019-07-08T00:00:00",
                    "2019-07-10T00:00:00",
                    "2019-07-11T00:00:00",
                    "2019-07-12T00:00:00",
                    "2019-07-13T00:00:00",
                    "2019-07-14T00:00:00",
                    "2019-07-15T00:00:00",
                    "2019-07-17T00:00:00",
                    "2019-07-18T00:00:00",
                    "2019-07-19T00:00:00",
                    "2019-07-20T00:00:00",
                    "2019-07-21T00:00:00",
                    "2019-07-22T00:00:00",
                    "2019-07-24T00:00:00",
                    "2019-07-25T00:00:00",
                    "2019-07-26T00:00:00",
                    "2019-07-27T00:00:00",
                    "2019-07-28T00:00:00",
                    "2019-07-29T00:00:00",
                    "2019-07-31T00:00:00",
                    "2019-08-01T00:00:00",
                    "2019-08-02T00:00:00",
                    "2019-08-03T00:00:00",
                    "2019-08-04T00:00:00",
                    "2019-08-05T00:00:00",
                    "2019-08-07T00:00:00",
                    "2019-08-08T00:00:00",
                    "2019-08-09T00:00:00",
                    "2019-08-10T00:00:00",
                    "2019-08-11T00:00:00",
                    "2019-08-14T00:00:00",
                    "2019-08-15T00:00:00",
                    "2019-08-16T00:00:00",
                    "2019-08-17T00:00:00",
                    "2019-08-18T00:00:00",
                    "2019-08-19T00:00:00",
                    "2019-08-21T00:00:00",
                    "2019-08-22T00:00:00",
                    "2019-08-23T00:00:00",
                    "2019-08-24T00:00:00",
                    "2019-08-25T00:00:00",
                    "2019-08-26T00:00:00",
                    "2019-08-28T00:00:00",
                    "2019-08-30T00:00:00",
                    "2019-08-31T00:00:00",
                    "2019-09-01T00:00:00",
                    "2019-09-02T00:00:00",
                    "2019-09-04T00:00:00",
                    "2019-09-05T00:00:00",
                    "2019-09-06T00:00:00",
                    "2019-09-07T00:00:00",
                    "2019-09-08T00:00:00",
                    "2019-09-09T00:00:00",
                    "2019-09-11T00:00:00",
                    "2019-09-12T00:00:00",
                    "2019-09-13T00:00:00",
                    "2019-09-14T00:00:00",
                    "2019-09-15T00:00:00",
                    "2019-09-16T00:00:00",
                    "2019-09-18T00:00:00",
                    "2019-09-19T00:00:00",
                    "2019-09-20T00:00:00",
                    "2019-09-21T00:00:00",
                    "2019-09-22T00:00:00",
                    "2019-09-23T00:00:00",
                    "2019-09-25T00:00:00",
                    "2019-09-26T00:00:00",
                    "2019-09-27T00:00:00",
                    "2019-09-28T00:00:00",
                    "2019-09-29T00:00:00",
                    "2019-09-30T00:00:00",
                    "2019-10-02T00:00:00",
                    "2019-10-03T00:00:00",
                    "2019-10-04T00:00:00",
                    "2019-10-05T00:00:00",
                    "2019-10-06T00:00:00",
                    "2019-10-07T00:00:00",
                    "2019-10-09T00:00:00",
                    "2019-10-10T00:00:00",
                    "2019-10-11T00:00:00",
                    "2019-10-12T00:00:00",
                    "2019-10-13T00:00:00",
                    "2019-10-14T00:00:00",
                    "2019-10-16T00:00:00",
                    "2019-10-17T00:00:00",
                    "2019-10-18T00:00:00",
                    "2019-10-19T00:00:00",
                    "2019-10-20T00:00:00",
                    "2019-10-21T00:00:00",
                    "2019-10-23T00:00:00",
                    "2019-10-24T00:00:00",
                    "2019-10-25T00:00:00",
                    "2019-10-26T00:00:00",
                    "2019-10-27T00:00:00",
                    "2019-10-28T00:00:00",
                    "2019-10-30T00:00:00",
                    "2019-10-31T00:00:00",
                    "2019-11-01T00:00:00",
                    "2019-11-02T00:00:00",
                    "2019-11-03T00:00:00",
                    "2019-11-04T00:00:00",
                    "2019-11-06T00:00:00",
                    "2019-11-07T00:00:00",
                    "2019-11-08T00:00:00",
                    "2019-11-09T00:00:00",
                    "2019-11-10T00:00:00",
                    "2019-11-11T00:00:00",
                    "2019-11-13T00:00:00",
                    "2019-11-14T00:00:00",
                    "2019-11-15T00:00:00",
                    "2019-11-16T00:00:00",
                    "2019-11-17T00:00:00",
                    "2019-11-18T00:00:00",
                    "2019-11-20T00:00:00",
                    "2019-11-21T00:00:00",
                    "2019-11-22T00:00:00",
                    "2019-11-23T00:00:00",
                    "2019-11-24T00:00:00",
                    "2019-11-25T00:00:00",
                    "2019-11-27T00:00:00",
                    "2019-11-28T00:00:00",
                    "2019-11-29T00:00:00",
                    "2019-11-30T00:00:00",
                    "2019-12-01T00:00:00",
                    "2019-12-02T00:00:00",
                    "2019-12-04T00:00:00",
                    "2019-12-05T00:00:00",
                    "2019-12-06T00:00:00",
                    "2019-12-07T00:00:00",
                    "2019-12-08T00:00:00",
                    "2019-12-09T00:00:00"
                  ],
                  "y": [
                    -1635.52,
                    -106948.86,
                    -4338.4400000000005,
                    -934.47,
                    -2649.4700000000003,
                    -1334.89,
                    -3956.3399999999997,
                    -6129.08,
                    -8332.08,
                    -473.84,
                    -1187.27,
                    -4579.24,
                    -2846.36,
                    -4050.69,
                    -11371.67,
                    -59.03,
                    -5168.55,
                    -2153,
                    -282.24,
                    -786.31,
                    -3428.46,
                    -1274.36,
                    -5239.8099999999995,
                    -6332.78,
                    -284.28,
                    -1009.1,
                    -4050.7799999999997,
                    -1923.4199999999998,
                    -298.36,
                    -798.9699999999999,
                    -364.34,
                    -210.79,
                    -840414.0800000001,
                    -1503.81,
                    -925.6999999999999,
                    -2880.45,
                    -527.47,
                    -787.32,
                    -9110.01,
                    -1985.7,
                    -3278.25,
                    -7651.44,
                    -819.27,
                    -9746.86,
                    -1860.94,
                    -545.53,
                    -82.98,
                    -600.71,
                    -1958.5400000000002,
                    -97.43,
                    -4322.37,
                    -6221.58,
                    -510.71999999999997,
                    -462.87,
                    -423.72999999999996,
                    -1897.03,
                    -52.06,
                    -678.45,
                    -112.56,
                    -747.02,
                    -598.02,
                    -377.90999999999997,
                    -655.1,
                    -150.76,
                    -159.29,
                    -12.25,
                    -115.78,
                    -1034.45,
                    -941.9,
                    -114.7,
                    -962.5,
                    -2243.73,
                    -171.05999999999997,
                    -422.07,
                    -3756.49,
                    -342.63,
                    -92.75,
                    -399.99,
                    -722.27,
                    -4463.74,
                    -1692.96,
                    -3270.17,
                    -467.19,
                    -1448.29,
                    -259.17999999999995,
                    -247,
                    -707.2999999999998,
                    -809.62,
                    -1373.1299999999999,
                    -2540.86,
                    -748.14,
                    -1130.08,
                    -8810.369999999999,
                    -7985.2699999999995,
                    -261.37,
                    -2537.85,
                    -3404.75,
                    -169.77,
                    -1073.27,
                    -380.59999999999997,
                    -2562.73,
                    -1372.32,
                    -2039.67,
                    -5757.12,
                    -4555.65,
                    -37.92,
                    -42.230000000000004,
                    -118198.84999999999,
                    -1255.8799999999999,
                    -717.92,
                    -326.32,
                    -2701.45,
                    -807.8299999999999,
                    -3857.15,
                    -42.25,
                    -2002.71,
                    -405.59,
                    -1971.6599999999999,
                    -1513.99,
                    -105.05,
                    -48.02,
                    -17713.960000000003,
                    -1888.49,
                    -1473.62,
                    -47.019999999999996,
                    -126.7,
                    -1861.51,
                    -308.07,
                    -5783.7,
                    -1006.8000000000001,
                    -142.5,
                    -1356.51,
                    -2274.29,
                    -350.88,
                    -1839.62,
                    -1059.66,
                    -600.8,
                    -2872.19,
                    -1221.75,
                    -1594.9,
                    -781.17,
                    -439.82,
                    -3835.52,
                    -1089.54,
                    -108.8,
                    -693.08,
                    -4104.63,
                    -120.31,
                    -22111.3,
                    -209.22,
                    -9162.84,
                    -856.82,
                    -846.45,
                    -288.39,
                    -9742.91,
                    -1415.92,
                    -124.06,
                    -5890.57,
                    -124.19,
                    -3913.13,
                    -811.65,
                    -1489.59,
                    -1652.57,
                    -7022.51,
                    -4883.6900000000005,
                    -169.35000000000002,
                    -393.05,
                    -4757.969999999999,
                    -553.06,
                    -14520.75,
                    -828.05,
                    -1185.85,
                    -756.36,
                    -1962.4,
                    -1066.96,
                    -6893.5,
                    -942.52,
                    -40.9,
                    -7372.07,
                    -1639.3300000000002,
                    -10002.33,
                    -3722.97,
                    -451.63,
                    -4142.05,
                    -144.59,
                    -1307.09,
                    -141.89000000000001,
                    -2774.19,
                    -86.86000000000001,
                    -55.599999999999994,
                    -354.59999999999997,
                    -1522.19,
                    -8917.81,
                    -375.01,
                    -1021.1099999999999,
                    -1198.2,
                    -1455.47,
                    -2484.42,
                    -919.31,
                    -5270.429999999999,
                    -543.87,
                    -273.71000000000004,
                    -161.53,
                    -24267.52,
                    -2407.62,
                    -602.76,
                    -42.18,
                    -3446.54,
                    -82.76,
                    -3132.4700000000003,
                    -3349.34,
                    -272.8,
                    -61.75,
                    -277.78999999999996,
                    -45945.17,
                    -184.57,
                    -1101.06,
                    -314.49,
                    -126.68,
                    -1523.57,
                    -2107.27,
                    -3100.46,
                    -1005.24,
                    -293.33,
                    -4613.68,
                    -71.34,
                    -875.74,
                    -1821.34,
                    -312.18,
                    -341.76,
                    -1668.3400000000001,
                    -206.62,
                    -20531.33,
                    -9738.029999999999,
                    -6873.93,
                    -434.55999999999995,
                    -856.46,
                    -5286.030000000001,
                    -1584.8799999999999,
                    -14055.96,
                    -1552.55,
                    -62.459999999999994,
                    -3668.82,
                    -13824.099999999999,
                    -2100.23,
                    -35266.32,
                    -1512.76,
                    -3208.68,
                    -4672.52,
                    -89182.83,
                    -1692.0299999999997,
                    -1491.24,
                    -646.5,
                    -5119.86,
                    -820.63,
                    -5689.41,
                    -2343.21,
                    -1254.1299999999999,
                    -909.5999999999999,
                    -52.32,
                    -46189.46,
                    -3357.73,
                    -601.41,
                    -5012.14,
                    -276.61,
                    -88.1,
                    -891.8499999999999,
                    -1405.18,
                    -3582.71,
                    -1794.45,
                    -12868.34,
                    -154.39,
                    -6531.91,
                    -2580.77,
                    -16480.35,
                    -1946.32,
                    -3256.46,
                    -5523.94,
                    -2135.59,
                    -868.89,
                    -13242.880000000001,
                    -3431.57,
                    -3006.86,
                    -613.4399999999999,
                    -6953.48,
                    -2118.1,
                    -1393.79,
                    -7095.6900000000005,
                    -1184.93,
                    -73.68,
                    -804.7000000000002,
                    -1097.27,
                    -947.47,
                    -1351.67,
                    -916.95,
                    -92.85000000000001,
                    -470.29,
                    -6622.35,
                    -520.0500000000001,
                    -5922.89,
                    -501567.86000000004
                  ]
                },
                {
                  "name": "Reveue",
                  "type": "scatter",
                  "x": [
                    "2018-12-01T00:00:00",
                    "2018-12-02T00:00:00",
                    "2018-12-03T00:00:00",
                    "2018-12-05T00:00:00",
                    "2018-12-06T00:00:00",
                    "2018-12-07T00:00:00",
                    "2018-12-08T00:00:00",
                    "2018-12-09T00:00:00",
                    "2018-12-10T00:00:00",
                    "2018-12-12T00:00:00",
                    "2018-12-13T00:00:00",
                    "2018-12-14T00:00:00",
                    "2018-12-15T00:00:00",
                    "2018-12-16T00:00:00",
                    "2018-12-17T00:00:00",
                    "2018-12-19T00:00:00",
                    "2018-12-20T00:00:00",
                    "2018-12-21T00:00:00",
                    "2018-12-22T00:00:00",
                    "2018-12-23T00:00:00",
                    "2019-01-04T00:00:00",
                    "2019-01-05T00:00:00",
                    "2019-01-06T00:00:00",
                    "2019-01-07T00:00:00",
                    "2019-01-09T00:00:00",
                    "2019-01-10T00:00:00",
                    "2019-01-11T00:00:00",
                    "2019-01-12T00:00:00",
                    "2019-01-13T00:00:00",
                    "2019-01-14T00:00:00",
                    "2019-01-16T00:00:00",
                    "2019-01-17T00:00:00",
                    "2019-01-18T00:00:00",
                    "2019-01-19T00:00:00",
                    "2019-01-20T00:00:00",
                    "2019-01-21T00:00:00",
                    "2019-01-23T00:00:00",
                    "2019-01-24T00:00:00",
                    "2019-01-25T00:00:00",
                    "2019-01-26T00:00:00",
                    "2019-01-27T00:00:00",
                    "2019-01-28T00:00:00",
                    "2019-01-30T00:00:00",
                    "2019-01-31T00:00:00",
                    "2019-02-01T00:00:00",
                    "2019-02-02T00:00:00",
                    "2019-02-03T00:00:00",
                    "2019-02-04T00:00:00",
                    "2019-02-06T00:00:00",
                    "2019-02-07T00:00:00",
                    "2019-02-08T00:00:00",
                    "2019-02-09T00:00:00",
                    "2019-02-10T00:00:00",
                    "2019-02-11T00:00:00",
                    "2019-02-13T00:00:00",
                    "2019-02-14T00:00:00",
                    "2019-02-15T00:00:00",
                    "2019-02-16T00:00:00",
                    "2019-02-17T00:00:00",
                    "2019-02-18T00:00:00",
                    "2019-02-20T00:00:00",
                    "2019-02-21T00:00:00",
                    "2019-02-22T00:00:00",
                    "2019-02-23T00:00:00",
                    "2019-02-24T00:00:00",
                    "2019-02-25T00:00:00",
                    "2019-02-27T00:00:00",
                    "2019-02-28T00:00:00",
                    "2019-03-01T00:00:00",
                    "2019-03-02T00:00:00",
                    "2019-03-03T00:00:00",
                    "2019-03-04T00:00:00",
                    "2019-03-06T00:00:00",
                    "2019-03-07T00:00:00",
                    "2019-03-08T00:00:00",
                    "2019-03-09T00:00:00",
                    "2019-03-10T00:00:00",
                    "2019-03-11T00:00:00",
                    "2019-03-13T00:00:00",
                    "2019-03-14T00:00:00",
                    "2019-03-15T00:00:00",
                    "2019-03-16T00:00:00",
                    "2019-03-17T00:00:00",
                    "2019-03-18T00:00:00",
                    "2019-03-20T00:00:00",
                    "2019-03-21T00:00:00",
                    "2019-03-22T00:00:00",
                    "2019-03-23T00:00:00",
                    "2019-03-24T00:00:00",
                    "2019-03-25T00:00:00",
                    "2019-03-27T00:00:00",
                    "2019-03-28T00:00:00",
                    "2019-03-29T00:00:00",
                    "2019-03-30T00:00:00",
                    "2019-03-31T00:00:00",
                    "2019-04-01T00:00:00",
                    "2019-04-03T00:00:00",
                    "2019-04-04T00:00:00",
                    "2019-04-05T00:00:00",
                    "2019-04-06T00:00:00",
                    "2019-04-07T00:00:00",
                    "2019-04-08T00:00:00",
                    "2019-04-10T00:00:00",
                    "2019-04-11T00:00:00",
                    "2019-04-12T00:00:00",
                    "2019-04-13T00:00:00",
                    "2019-04-14T00:00:00",
                    "2019-04-15T00:00:00",
                    "2019-04-17T00:00:00",
                    "2019-04-18T00:00:00",
                    "2019-04-19T00:00:00",
                    "2019-04-20T00:00:00",
                    "2019-04-21T00:00:00",
                    "2019-04-26T00:00:00",
                    "2019-04-27T00:00:00",
                    "2019-04-28T00:00:00",
                    "2019-05-01T00:00:00",
                    "2019-05-03T00:00:00",
                    "2019-05-04T00:00:00",
                    "2019-05-05T00:00:00",
                    "2019-05-06T00:00:00",
                    "2019-05-08T00:00:00",
                    "2019-05-09T00:00:00",
                    "2019-05-10T00:00:00",
                    "2019-05-11T00:00:00",
                    "2019-05-12T00:00:00",
                    "2019-05-13T00:00:00",
                    "2019-05-15T00:00:00",
                    "2019-05-16T00:00:00",
                    "2019-05-17T00:00:00",
                    "2019-05-18T00:00:00",
                    "2019-05-19T00:00:00",
                    "2019-05-20T00:00:00",
                    "2019-05-22T00:00:00",
                    "2019-05-23T00:00:00",
                    "2019-05-24T00:00:00",
                    "2019-05-25T00:00:00",
                    "2019-05-26T00:00:00",
                    "2019-05-27T00:00:00",
                    "2019-05-29T00:00:00",
                    "2019-05-31T00:00:00",
                    "2019-06-01T00:00:00",
                    "2019-06-02T00:00:00",
                    "2019-06-03T00:00:00",
                    "2019-06-05T00:00:00",
                    "2019-06-06T00:00:00",
                    "2019-06-07T00:00:00",
                    "2019-06-08T00:00:00",
                    "2019-06-09T00:00:00",
                    "2019-06-10T00:00:00",
                    "2019-06-12T00:00:00",
                    "2019-06-13T00:00:00",
                    "2019-06-14T00:00:00",
                    "2019-06-15T00:00:00",
                    "2019-06-16T00:00:00",
                    "2019-06-17T00:00:00",
                    "2019-06-19T00:00:00",
                    "2019-06-20T00:00:00",
                    "2019-06-21T00:00:00",
                    "2019-06-22T00:00:00",
                    "2019-06-23T00:00:00",
                    "2019-06-24T00:00:00",
                    "2019-06-26T00:00:00",
                    "2019-06-27T00:00:00",
                    "2019-06-28T00:00:00",
                    "2019-06-29T00:00:00",
                    "2019-06-30T00:00:00",
                    "2019-07-01T00:00:00",
                    "2019-07-03T00:00:00",
                    "2019-07-04T00:00:00",
                    "2019-07-05T00:00:00",
                    "2019-07-06T00:00:00",
                    "2019-07-07T00:00:00",
                    "2019-07-08T00:00:00",
                    "2019-07-10T00:00:00",
                    "2019-07-11T00:00:00",
                    "2019-07-12T00:00:00",
                    "2019-07-13T00:00:00",
                    "2019-07-14T00:00:00",
                    "2019-07-15T00:00:00",
                    "2019-07-17T00:00:00",
                    "2019-07-18T00:00:00",
                    "2019-07-19T00:00:00",
                    "2019-07-20T00:00:00",
                    "2019-07-21T00:00:00",
                    "2019-07-22T00:00:00",
                    "2019-07-24T00:00:00",
                    "2019-07-25T00:00:00",
                    "2019-07-26T00:00:00",
                    "2019-07-27T00:00:00",
                    "2019-07-28T00:00:00",
                    "2019-07-29T00:00:00",
                    "2019-07-31T00:00:00",
                    "2019-08-01T00:00:00",
                    "2019-08-02T00:00:00",
                    "2019-08-03T00:00:00",
                    "2019-08-04T00:00:00",
                    "2019-08-05T00:00:00",
                    "2019-08-07T00:00:00",
                    "2019-08-08T00:00:00",
                    "2019-08-09T00:00:00",
                    "2019-08-10T00:00:00",
                    "2019-08-11T00:00:00",
                    "2019-08-12T00:00:00",
                    "2019-08-14T00:00:00",
                    "2019-08-15T00:00:00",
                    "2019-08-16T00:00:00",
                    "2019-08-17T00:00:00",
                    "2019-08-18T00:00:00",
                    "2019-08-19T00:00:00",
                    "2019-08-21T00:00:00",
                    "2019-08-22T00:00:00",
                    "2019-08-23T00:00:00",
                    "2019-08-24T00:00:00",
                    "2019-08-25T00:00:00",
                    "2019-08-26T00:00:00",
                    "2019-08-28T00:00:00",
                    "2019-08-30T00:00:00",
                    "2019-08-31T00:00:00",
                    "2019-09-01T00:00:00",
                    "2019-09-02T00:00:00",
                    "2019-09-04T00:00:00",
                    "2019-09-05T00:00:00",
                    "2019-09-06T00:00:00",
                    "2019-09-07T00:00:00",
                    "2019-09-08T00:00:00",
                    "2019-09-09T00:00:00",
                    "2019-09-11T00:00:00",
                    "2019-09-12T00:00:00",
                    "2019-09-13T00:00:00",
                    "2019-09-14T00:00:00",
                    "2019-09-15T00:00:00",
                    "2019-09-16T00:00:00",
                    "2019-09-18T00:00:00",
                    "2019-09-19T00:00:00",
                    "2019-09-20T00:00:00",
                    "2019-09-21T00:00:00",
                    "2019-09-22T00:00:00",
                    "2019-09-23T00:00:00",
                    "2019-09-25T00:00:00",
                    "2019-09-26T00:00:00",
                    "2019-09-27T00:00:00",
                    "2019-09-28T00:00:00",
                    "2019-09-29T00:00:00",
                    "2019-09-30T00:00:00",
                    "2019-10-02T00:00:00",
                    "2019-10-03T00:00:00",
                    "2019-10-04T00:00:00",
                    "2019-10-05T00:00:00",
                    "2019-10-06T00:00:00",
                    "2019-10-07T00:00:00",
                    "2019-10-09T00:00:00",
                    "2019-10-10T00:00:00",
                    "2019-10-11T00:00:00",
                    "2019-10-12T00:00:00",
                    "2019-10-13T00:00:00",
                    "2019-10-14T00:00:00",
                    "2019-10-16T00:00:00",
                    "2019-10-17T00:00:00",
                    "2019-10-18T00:00:00",
                    "2019-10-19T00:00:00",
                    "2019-10-20T00:00:00",
                    "2019-10-21T00:00:00",
                    "2019-10-23T00:00:00",
                    "2019-10-24T00:00:00",
                    "2019-10-25T00:00:00",
                    "2019-10-26T00:00:00",
                    "2019-10-27T00:00:00",
                    "2019-10-28T00:00:00",
                    "2019-10-30T00:00:00",
                    "2019-10-31T00:00:00",
                    "2019-11-01T00:00:00",
                    "2019-11-02T00:00:00",
                    "2019-11-03T00:00:00",
                    "2019-11-04T00:00:00",
                    "2019-11-06T00:00:00",
                    "2019-11-07T00:00:00",
                    "2019-11-08T00:00:00",
                    "2019-11-09T00:00:00",
                    "2019-11-10T00:00:00",
                    "2019-11-11T00:00:00",
                    "2019-11-13T00:00:00",
                    "2019-11-14T00:00:00",
                    "2019-11-15T00:00:00",
                    "2019-11-16T00:00:00",
                    "2019-11-17T00:00:00",
                    "2019-11-18T00:00:00",
                    "2019-11-20T00:00:00",
                    "2019-11-21T00:00:00",
                    "2019-11-22T00:00:00",
                    "2019-11-23T00:00:00",
                    "2019-11-24T00:00:00",
                    "2019-11-25T00:00:00",
                    "2019-11-27T00:00:00",
                    "2019-11-28T00:00:00",
                    "2019-11-29T00:00:00",
                    "2019-11-30T00:00:00",
                    "2019-12-01T00:00:00",
                    "2019-12-02T00:00:00",
                    "2019-12-04T00:00:00",
                    "2019-12-05T00:00:00",
                    "2019-12-06T00:00:00",
                    "2019-12-07T00:00:00",
                    "2019-12-08T00:00:00",
                    "2019-12-09T00:00:00"
                  ],
                  "y": [
                    291486.85,
                    258636.05,
                    138222.16,
                    163234.51,
                    261786.08,
                    287930.8,
                    235089.26,
                    199913.36000000002,
                    237681.56,
                    96861.72,
                    192887.45,
                    229334.65,
                    207067.58000000002,
                    328569.96,
                    120211.96,
                    40513.700000000004,
                    154245.90000000002,
                    115577.75,
                    28072.999999999996,
                    56832.49,
                    96169.78,
                    215118.76,
                    198841.16,
                    124092.14,
                    87806.77,
                    130665.35999999999,
                    334138.23,
                    117893.06,
                    107656.59,
                    87540.26999999999,
                    48153.66,
                    139903.84999999998,
                    67710.79000000004,
                    92881.6,
                    78880.51,
                    113751.54000000001,
                    60317.72,
                    104799.71999999999,
                    137731.06,
                    101497.07,
                    109467.84,
                    62391.28999999999,
                    40603.05,
                    108509.8,
                    166717.86,
                    107270.36,
                    168741.15,
                    139166.52000000002,
                    null,
                    107863.82,
                    102873.11,
                    null,
                    126324.52,
                    107975.26,
                    33196.92,
                    127616.86,
                    127799.83,
                    153238.72,
                    156731.13,
                    91416.11,
                    62744.41,
                    88519.81,
                    218862.47,
                    142570.49,
                    138319.16999999998,
                    113678.98000000001,
                    55477.07,
                    103821.09999999999,
                    94342.91,
                    99891.94,
                    106720.7,
                    136785.72999999998,
                    60109.59,
                    159544.24,
                    152507.91,
                    122823.14,
                    124814.98,
                    113739.48,
                    29422.34,
                    119644.98999999999,
                    89838.26,
                    139969.15000000002,
                    179557.16,
                    145792.47999999998,
                    153427.65,
                    112936.74,
                    173750.74000000002,
                    128679.68,
                    204119.98,
                    129315.56,
                    53594.03,
                    102985.02,
                    245201.71999999997,
                    207279.76,
                    150697.02,
                    182381.95,
                    64739.64,
                    138737.68,
                    133656.34,
                    99901.95999999999,
                    100243.97,
                    135933.15,
                    62767.759999999995,
                    138618.38999999998,
                    162421.19999999998,
                    198378.98,
                    192766.65,
                    142075.84,
                    88209.56,
                    157750.38,
                    142001.47999999998,
                    203665.96999999997,
                    191316.88,
                    184087.81999999998,
                    194492.33000000002,
                    139620.67,
                    35928.08,
                    117379.57999999999,
                    181335.1,
                    176449.15,
                    204542.67,
                    107857.83,
                    139856.5,
                    177523.92,
                    184698.13,
                    177095.8,
                    153715.04,
                    null,
                    162727.78,
                    204543.13,
                    200137.24,
                    174770.55,
                    156849.15000000002,
                    134875.07,
                    181345.83,
                    188616.88999999998,
                    122353.81999999999,
                    119649.74,
                    171794.83,
                    44659.829999999994,
                    115525.53,
                    88187.93,
                    152921.45,
                    82298.42,
                    119139.32999999999,
                    88751.09999999999,
                    211995.47999999998,
                    195262.7,
                    291774.35,
                    79751.11,
                    95761.99,
                    79833.37,
                    183121.83,
                    115447.82,
                    215915.13999999998,
                    108958.83,
                    114322.64,
                    140782.19999999998,
                    146092.68999999997,
                    134288.03,
                    148318.96,
                    98662.28,
                    35848.3,
                    105022.63,
                    124093.84,
                    114697.77999999998,
                    228815.56999999998,
                    66109.62999999999,
                    34843.49,
                    177090.59,
                    243792.9,
                    163360.29,
                    188149.88999999998,
                    115783.5,
                    47599.770000000004,
                    158177.30000000002,
                    146525.52000000002,
                    113565.01999999999,
                    152557.44,
                    76802.90999999999,
                    116944.22,
                    117028.1,
                    224686.74000000002,
                    181138.62000000002,
                    201996.77,
                    108759.36,
                    179500.33000000002,
                    157788.5,
                    143770.31,
                    110628.98,
                    298618.73,
                    119131.59,
                    121207.48,
                    119786.51,
                    130983.45999999999,
                    170415.7,
                    399071.06,
                    125379.29,
                    57833.78,
                    134811.51,
                    86517.68,
                    143087.47,
                    253459.06,
                    null,
                    36259.45,
                    84359.45,
                    122809.72,
                    258274.44999999998,
                    199708.6,
                    89140.45000000001,
                    76898.3,
                    158257.83,
                    149168.12,
                    291804.22000000003,
                    124655.95,
                    108312.11,
                    68733.87,
                    121092.43000000001,
                    56445.86,
                    244381.47,
                    197945.3,
                    87596.98,
                    177600.52000000002,
                    149196.00999999998,
                    140471.44,
                    160011.47,
                    158431.24000000002,
                    235896.52000000002,
                    193316.93,
                    300837.99,
                    134960.69,
                    336339.31999999995,
                    164150.37,
                    101742.84000000001,
                    136324.01,
                    529818.76,
                    186533.97999999998,
                    301041.19000000006,
                    197994.52000000002,
                    208893.38,
                    166967.14,
                    235038.53,
                    250462.47999999998,
                    271599.79,
                    212767.81000000003,
                    96226.98999999999,
                    317931.52999999997,
                    282106.64,
                    357109.97000000003,
                    296902.58999999997,
                    300723.81,
                    85117.78000000001,
                    269184.49,
                    164261.09999999998,
                    165323.52,
                    164087.31,
                    172697.66999999998,
                    106598.18,
                    218533.55,
                    275328.85000000003,
                    174775.24000000002,
                    192226.34,
                    260269.22,
                    84522.54999999999,
                    233043.28,
                    278123.66000000003,
                    216465.4,
                    276211.45999999996,
                    205057.83000000002,
                    204873.31999999998,
                    234704.15,
                    168614.39,
                    289208,
                    375334.63,
                    377321.54,
                    208294.49999999997,
                    357877.36000000004,
                    293567.26999999996,
                    374779.22000000003,
                    329237.11,
                    278659.1,
                    199523.51,
                    526390.54,
                    293921.88,
                    302010.48,
                    268057.02999999997,
                    222313.04,
                    206959.07,
                    278263.29000000004,
                    310692.82,
                    198306.65,
                    128350.68,
                    186919.19,
                    69535.61000000002,
                    173495.53,
                    173454.02000000002,
                    146553.51,
                    163331.02,
                    163061.08,
                    69192.73,
                    277327.33,
                    178388.84,
                    187681.17,
                    204266.61,
                    571382.5
                  ]
                }
              ],
              "layout": {
                "template": {
                  "data": {
                    "bar": [
                      {
                        "error_x": {
                          "color": "#2a3f5f"
                        },
                        "error_y": {
                          "color": "#2a3f5f"
                        },
                        "marker": {
                          "line": {
                            "color": "#E5ECF6",
                            "width": 0.5
                          },
                          "pattern": {
                            "fillmode": "overlay",
                            "size": 10,
                            "solidity": 0.2
                          }
                        },
                        "type": "bar"
                      }
                    ],
                    "barpolar": [
                      {
                        "marker": {
                          "line": {
                            "color": "#E5ECF6",
                            "width": 0.5
                          },
                          "pattern": {
                            "fillmode": "overlay",
                            "size": 10,
                            "solidity": 0.2
                          }
                        },
                        "type": "barpolar"
                      }
                    ],
                    "carpet": [
                      {
                        "aaxis": {
                          "endlinecolor": "#2a3f5f",
                          "gridcolor": "white",
                          "linecolor": "white",
                          "minorgridcolor": "white",
                          "startlinecolor": "#2a3f5f"
                        },
                        "baxis": {
                          "endlinecolor": "#2a3f5f",
                          "gridcolor": "white",
                          "linecolor": "white",
                          "minorgridcolor": "white",
                          "startlinecolor": "#2a3f5f"
                        },
                        "type": "carpet"
                      }
                    ],
                    "choropleth": [
                      {
                        "colorbar": {
                          "outlinewidth": 0,
                          "ticks": ""
                        },
                        "type": "choropleth"
                      }
                    ],
                    "contour": [
                      {
                        "colorbar": {
                          "outlinewidth": 0,
                          "ticks": ""
                        },
                        "colorscale": [
                          [
                            0,
                            "#0d0887"
                          ],
                          [
                            0.1111111111111111,
                            "#46039f"
                          ],
                          [
                            0.2222222222222222,
                            "#7201a8"
                          ],
                          [
                            0.3333333333333333,
                            "#9c179e"
                          ],
                          [
                            0.4444444444444444,
                            "#bd3786"
                          ],
                          [
                            0.5555555555555556,
                            "#d8576b"
                          ],
                          [
                            0.6666666666666666,
                            "#ed7953"
                          ],
                          [
                            0.7777777777777778,
                            "#fb9f3a"
                          ],
                          [
                            0.8888888888888888,
                            "#fdca26"
                          ],
                          [
                            1,
                            "#f0f921"
                          ]
                        ],
                        "type": "contour"
                      }
                    ],
                    "contourcarpet": [
                      {
                        "colorbar": {
                          "outlinewidth": 0,
                          "ticks": ""
                        },
                        "type": "contourcarpet"
                      }
                    ],
                    "heatmap": [
                      {
                        "colorbar": {
                          "outlinewidth": 0,
                          "ticks": ""
                        },
                        "colorscale": [
                          [
                            0,
                            "#0d0887"
                          ],
                          [
                            0.1111111111111111,
                            "#46039f"
                          ],
                          [
                            0.2222222222222222,
                            "#7201a8"
                          ],
                          [
                            0.3333333333333333,
                            "#9c179e"
                          ],
                          [
                            0.4444444444444444,
                            "#bd3786"
                          ],
                          [
                            0.5555555555555556,
                            "#d8576b"
                          ],
                          [
                            0.6666666666666666,
                            "#ed7953"
                          ],
                          [
                            0.7777777777777778,
                            "#fb9f3a"
                          ],
                          [
                            0.8888888888888888,
                            "#fdca26"
                          ],
                          [
                            1,
                            "#f0f921"
                          ]
                        ],
                        "type": "heatmap"
                      }
                    ],
                    "heatmapgl": [
                      {
                        "colorbar": {
                          "outlinewidth": 0,
                          "ticks": ""
                        },
                        "colorscale": [
                          [
                            0,
                            "#0d0887"
                          ],
                          [
                            0.1111111111111111,
                            "#46039f"
                          ],
                          [
                            0.2222222222222222,
                            "#7201a8"
                          ],
                          [
                            0.3333333333333333,
                            "#9c179e"
                          ],
                          [
                            0.4444444444444444,
                            "#bd3786"
                          ],
                          [
                            0.5555555555555556,
                            "#d8576b"
                          ],
                          [
                            0.6666666666666666,
                            "#ed7953"
                          ],
                          [
                            0.7777777777777778,
                            "#fb9f3a"
                          ],
                          [
                            0.8888888888888888,
                            "#fdca26"
                          ],
                          [
                            1,
                            "#f0f921"
                          ]
                        ],
                        "type": "heatmapgl"
                      }
                    ],
                    "histogram": [
                      {
                        "marker": {
                          "pattern": {
                            "fillmode": "overlay",
                            "size": 10,
                            "solidity": 0.2
                          }
                        },
                        "type": "histogram"
                      }
                    ],
                    "histogram2d": [
                      {
                        "colorbar": {
                          "outlinewidth": 0,
                          "ticks": ""
                        },
                        "colorscale": [
                          [
                            0,
                            "#0d0887"
                          ],
                          [
                            0.1111111111111111,
                            "#46039f"
                          ],
                          [
                            0.2222222222222222,
                            "#7201a8"
                          ],
                          [
                            0.3333333333333333,
                            "#9c179e"
                          ],
                          [
                            0.4444444444444444,
                            "#bd3786"
                          ],
                          [
                            0.5555555555555556,
                            "#d8576b"
                          ],
                          [
                            0.6666666666666666,
                            "#ed7953"
                          ],
                          [
                            0.7777777777777778,
                            "#fb9f3a"
                          ],
                          [
                            0.8888888888888888,
                            "#fdca26"
                          ],
                          [
                            1,
                            "#f0f921"
                          ]
                        ],
                        "type": "histogram2d"
                      }
                    ],
                    "histogram2dcontour": [
                      {
                        "colorbar": {
                          "outlinewidth": 0,
                          "ticks": ""
                        },
                        "colorscale": [
                          [
                            0,
                            "#0d0887"
                          ],
                          [
                            0.1111111111111111,
                            "#46039f"
                          ],
                          [
                            0.2222222222222222,
                            "#7201a8"
                          ],
                          [
                            0.3333333333333333,
                            "#9c179e"
                          ],
                          [
                            0.4444444444444444,
                            "#bd3786"
                          ],
                          [
                            0.5555555555555556,
                            "#d8576b"
                          ],
                          [
                            0.6666666666666666,
                            "#ed7953"
                          ],
                          [
                            0.7777777777777778,
                            "#fb9f3a"
                          ],
                          [
                            0.8888888888888888,
                            "#fdca26"
                          ],
                          [
                            1,
                            "#f0f921"
                          ]
                        ],
                        "type": "histogram2dcontour"
                      }
                    ],
                    "mesh3d": [
                      {
                        "colorbar": {
                          "outlinewidth": 0,
                          "ticks": ""
                        },
                        "type": "mesh3d"
                      }
                    ],
                    "parcoords": [
                      {
                        "line": {
                          "colorbar": {
                            "outlinewidth": 0,
                            "ticks": ""
                          }
                        },
                        "type": "parcoords"
                      }
                    ],
                    "pie": [
                      {
                        "automargin": true,
                        "type": "pie"
                      }
                    ],
                    "scatter": [
                      {
                        "fillpattern": {
                          "fillmode": "overlay",
                          "size": 10,
                          "solidity": 0.2
                        },
                        "type": "scatter"
                      }
                    ],
                    "scatter3d": [
                      {
                        "line": {
                          "colorbar": {
                            "outlinewidth": 0,
                            "ticks": ""
                          }
                        },
                        "marker": {
                          "colorbar": {
                            "outlinewidth": 0,
                            "ticks": ""
                          }
                        },
                        "type": "scatter3d"
                      }
                    ],
                    "scattercarpet": [
                      {
                        "marker": {
                          "colorbar": {
                            "outlinewidth": 0,
                            "ticks": ""
                          }
                        },
                        "type": "scattercarpet"
                      }
                    ],
                    "scattergeo": [
                      {
                        "marker": {
                          "colorbar": {
                            "outlinewidth": 0,
                            "ticks": ""
                          }
                        },
                        "type": "scattergeo"
                      }
                    ],
                    "scattergl": [
                      {
                        "marker": {
                          "colorbar": {
                            "outlinewidth": 0,
                            "ticks": ""
                          }
                        },
                        "type": "scattergl"
                      }
                    ],
                    "scattermapbox": [
                      {
                        "marker": {
                          "colorbar": {
                            "outlinewidth": 0,
                            "ticks": ""
                          }
                        },
                        "type": "scattermapbox"
                      }
                    ],
                    "scatterpolar": [
                      {
                        "marker": {
                          "colorbar": {
                            "outlinewidth": 0,
                            "ticks": ""
                          }
                        },
                        "type": "scatterpolar"
                      }
                    ],
                    "scatterpolargl": [
                      {
                        "marker": {
                          "colorbar": {
                            "outlinewidth": 0,
                            "ticks": ""
                          }
                        },
                        "type": "scatterpolargl"
                      }
                    ],
                    "scatterternary": [
                      {
                        "marker": {
                          "colorbar": {
                            "outlinewidth": 0,
                            "ticks": ""
                          }
                        },
                        "type": "scatterternary"
                      }
                    ],
                    "surface": [
                      {
                        "colorbar": {
                          "outlinewidth": 0,
                          "ticks": ""
                        },
                        "colorscale": [
                          [
                            0,
                            "#0d0887"
                          ],
                          [
                            0.1111111111111111,
                            "#46039f"
                          ],
                          [
                            0.2222222222222222,
                            "#7201a8"
                          ],
                          [
                            0.3333333333333333,
                            "#9c179e"
                          ],
                          [
                            0.4444444444444444,
                            "#bd3786"
                          ],
                          [
                            0.5555555555555556,
                            "#d8576b"
                          ],
                          [
                            0.6666666666666666,
                            "#ed7953"
                          ],
                          [
                            0.7777777777777778,
                            "#fb9f3a"
                          ],
                          [
                            0.8888888888888888,
                            "#fdca26"
                          ],
                          [
                            1,
                            "#f0f921"
                          ]
                        ],
                        "type": "surface"
                      }
                    ],
                    "table": [
                      {
                        "cells": {
                          "fill": {
                            "color": "#EBF0F8"
                          },
                          "line": {
                            "color": "white"
                          }
                        },
                        "header": {
                          "fill": {
                            "color": "#C8D4E3"
                          },
                          "line": {
                            "color": "white"
                          }
                        },
                        "type": "table"
                      }
                    ]
                  },
                  "layout": {
                    "annotationdefaults": {
                      "arrowcolor": "#2a3f5f",
                      "arrowhead": 0,
                      "arrowwidth": 1
                    },
                    "autotypenumbers": "strict",
                    "coloraxis": {
                      "colorbar": {
                        "outlinewidth": 0,
                        "ticks": ""
                      }
                    },
                    "colorscale": {
                      "diverging": [
                        [
                          0,
                          "#8e0152"
                        ],
                        [
                          0.1,
                          "#c51b7d"
                        ],
                        [
                          0.2,
                          "#de77ae"
                        ],
                        [
                          0.3,
                          "#f1b6da"
                        ],
                        [
                          0.4,
                          "#fde0ef"
                        ],
                        [
                          0.5,
                          "#f7f7f7"
                        ],
                        [
                          0.6,
                          "#e6f5d0"
                        ],
                        [
                          0.7,
                          "#b8e186"
                        ],
                        [
                          0.8,
                          "#7fbc41"
                        ],
                        [
                          0.9,
                          "#4d9221"
                        ],
                        [
                          1,
                          "#276419"
                        ]
                      ],
                      "sequential": [
                        [
                          0,
                          "#0d0887"
                        ],
                        [
                          0.1111111111111111,
                          "#46039f"
                        ],
                        [
                          0.2222222222222222,
                          "#7201a8"
                        ],
                        [
                          0.3333333333333333,
                          "#9c179e"
                        ],
                        [
                          0.4444444444444444,
                          "#bd3786"
                        ],
                        [
                          0.5555555555555556,
                          "#d8576b"
                        ],
                        [
                          0.6666666666666666,
                          "#ed7953"
                        ],
                        [
                          0.7777777777777778,
                          "#fb9f3a"
                        ],
                        [
                          0.8888888888888888,
                          "#fdca26"
                        ],
                        [
                          1,
                          "#f0f921"
                        ]
                      ],
                      "sequentialminus": [
                        [
                          0,
                          "#0d0887"
                        ],
                        [
                          0.1111111111111111,
                          "#46039f"
                        ],
                        [
                          0.2222222222222222,
                          "#7201a8"
                        ],
                        [
                          0.3333333333333333,
                          "#9c179e"
                        ],
                        [
                          0.4444444444444444,
                          "#bd3786"
                        ],
                        [
                          0.5555555555555556,
                          "#d8576b"
                        ],
                        [
                          0.6666666666666666,
                          "#ed7953"
                        ],
                        [
                          0.7777777777777778,
                          "#fb9f3a"
                        ],
                        [
                          0.8888888888888888,
                          "#fdca26"
                        ],
                        [
                          1,
                          "#f0f921"
                        ]
                      ]
                    },
                    "colorway": [
                      "#636efa",
                      "#EF553B",
                      "#00cc96",
                      "#ab63fa",
                      "#FFA15A",
                      "#19d3f3",
                      "#FF6692",
                      "#B6E880",
                      "#FF97FF",
                      "#FECB52"
                    ],
                    "font": {
                      "color": "#2a3f5f"
                    },
                    "geo": {
                      "bgcolor": "white",
                      "lakecolor": "white",
                      "landcolor": "#E5ECF6",
                      "showlakes": true,
                      "showland": true,
                      "subunitcolor": "white"
                    },
                    "hoverlabel": {
                      "align": "left"
                    },
                    "hovermode": "closest",
                    "mapbox": {
                      "style": "light"
                    },
                    "paper_bgcolor": "white",
                    "plot_bgcolor": "#E5ECF6",
                    "polar": {
                      "angularaxis": {
                        "gridcolor": "white",
                        "linecolor": "white",
                        "ticks": ""
                      },
                      "bgcolor": "#E5ECF6",
                      "radialaxis": {
                        "gridcolor": "white",
                        "linecolor": "white",
                        "ticks": ""
                      }
                    },
                    "scene": {
                      "xaxis": {
                        "backgroundcolor": "#E5ECF6",
                        "gridcolor": "white",
                        "gridwidth": 2,
                        "linecolor": "white",
                        "showbackground": true,
                        "ticks": "",
                        "zerolinecolor": "white"
                      },
                      "yaxis": {
                        "backgroundcolor": "#E5ECF6",
                        "gridcolor": "white",
                        "gridwidth": 2,
                        "linecolor": "white",
                        "showbackground": true,
                        "ticks": "",
                        "zerolinecolor": "white"
                      },
                      "zaxis": {
                        "backgroundcolor": "#E5ECF6",
                        "gridcolor": "white",
                        "gridwidth": 2,
                        "linecolor": "white",
                        "showbackground": true,
                        "ticks": "",
                        "zerolinecolor": "white"
                      }
                    },
                    "shapedefaults": {
                      "line": {
                        "color": "#2a3f5f"
                      }
                    },
                    "ternary": {
                      "aaxis": {
                        "gridcolor": "white",
                        "linecolor": "white",
                        "ticks": ""
                      },
                      "baxis": {
                        "gridcolor": "white",
                        "linecolor": "white",
                        "ticks": ""
                      },
                      "bgcolor": "#E5ECF6",
                      "caxis": {
                        "gridcolor": "white",
                        "linecolor": "white",
                        "ticks": ""
                      }
                    },
                    "title": {
                      "x": 0.05
                    },
                    "xaxis": {
                      "automargin": true,
                      "gridcolor": "white",
                      "linecolor": "white",
                      "ticks": "",
                      "title": {
                        "standoff": 15
                      },
                      "zerolinecolor": "white",
                      "zerolinewidth": 2
                    },
                    "yaxis": {
                      "automargin": true,
                      "gridcolor": "white",
                      "linecolor": "white",
                      "ticks": "",
                      "title": {
                        "standoff": 15
                      },
                      "zerolinecolor": "white",
                      "zerolinewidth": 2
                    }
                  }
                },
                "title": {
                  "text": "Revenue vs Profit vs Loss in United Kingdom by Date"
                },
                "xaxis": {
                  "title": {
                    "text": "Date"
                  }
                },
                "yaxis": {
                  "title": {
                    "text": "Total Amount"
                  }
                }
              }
            }
          },
          "metadata": {},
          "output_type": "display_data"
        }
      ],
      "source": [
        "fig = go.Figure()\n",
        "\n",
        "fig.add_trace(go.Scatter(x=uk_profit_by_date['Date'], y=uk_profit_by_date['TotalAmount'], name='Profit'))\n",
        "fig.add_trace(go.Scatter(x=uk_loss_by_date['Date'], y=uk_loss_by_date['TotalAmount'], name='Loss'))\n",
        "fig.add_trace(go.Scatter(x=uk_revenue_by_date['Date'], y=uk_revenue_by_date['TotalAmount'], name='Reveue'))\n",
        "fig.update_layout(xaxis_title='Date', yaxis_title='Total Amount',title='Revenue vs Profit vs Loss in United Kingdom by Date')\n",
        "\n",
        "fig.show()"
      ]
    },
    {
      "cell_type": "code",
      "execution_count": 119,
      "metadata": {},
      "outputs": [],
      "source": [
        "product_revenue_by_country = df.groupby(['Country','ProductName'])['TotalAmount'].sum().reset_index()\n",
        "\n",
        "top_product_revenue_by_country = pd.DataFrame(np.array(['Antique Silver T-Light Glass', 'Assorted Colour Bird Ornament', 'Assorted Colours Silk Fan', 'Brocade Ring Purse', 'Charlotte Bag Suki Design', 'Cream Hanging Heart T-Light Holder', 'Heart Of Wicker Small',\n",
        "            'Jumbo Bag Red Retrospot','Mini Paint Set Vintage','Pack Of 12 London Tissues','Pack Of 60 Pink Paisley Cake Cases','Pack Of 72 Retrospot Cake Case',\"Paper Chain Kit 50'S Christmas\",'Paper Craft Little Birdie','Party Bunting','Popcorn Holder','Rabbit Night Light','Red Harmonica In Box',\n",
        "            'Regency Cakestand 3 Tier'\t,'Victorian Glass Hanging T-Light' ,'World War 2 Gliders Asstd Designs']), columns=['ProductName'])\n",
        "\n",
        "top_product_revenue_by_country = top_product_revenue_by_country.merge(product_revenue_by_country, on='ProductName', how='inner')"
      ]
    },
    {
      "cell_type": "code",
      "execution_count": 123,
      "metadata": {},
      "outputs": [
        {
          "data": {
            "text/html": [
              "<div>\n",
              "<style scoped>\n",
              "    .dataframe tbody tr th:only-of-type {\n",
              "        vertical-align: middle;\n",
              "    }\n",
              "\n",
              "    .dataframe tbody tr th {\n",
              "        vertical-align: top;\n",
              "    }\n",
              "\n",
              "    .dataframe thead th {\n",
              "        text-align: right;\n",
              "    }\n",
              "</style>\n",
              "<table border=\"1\" class=\"dataframe\">\n",
              "  <thead>\n",
              "    <tr style=\"text-align: right;\">\n",
              "      <th></th>\n",
              "      <th>Country</th>\n",
              "      <th>ProductName</th>\n",
              "      <th>TotalAmount</th>\n",
              "    </tr>\n",
              "  </thead>\n",
              "  <tbody>\n",
              "    <tr>\n",
              "      <th>0</th>\n",
              "      <td>Australia</td>\n",
              "      <td>Assorted Colours Silk Fan</td>\n",
              "      <td>6594.00</td>\n",
              "    </tr>\n",
              "    <tr>\n",
              "      <th>1</th>\n",
              "      <td>Australia</td>\n",
              "      <td>Cream Hanging Heart T-Light Holder</td>\n",
              "      <td>79.62</td>\n",
              "    </tr>\n",
              "    <tr>\n",
              "      <th>2</th>\n",
              "      <td>Australia</td>\n",
              "      <td>Heart Of Wicker Small</td>\n",
              "      <td>225.00</td>\n",
              "    </tr>\n",
              "    <tr>\n",
              "      <th>3</th>\n",
              "      <td>Australia</td>\n",
              "      <td>Jumbo Bag Red Retrospot</td>\n",
              "      <td>1305.50</td>\n",
              "    </tr>\n",
              "    <tr>\n",
              "      <th>4</th>\n",
              "      <td>Australia</td>\n",
              "      <td>Mini Paint Set Vintage</td>\n",
              "      <td>31525.92</td>\n",
              "    </tr>\n",
              "    <tr>\n",
              "      <th>...</th>\n",
              "      <td>...</td>\n",
              "      <td>...</td>\n",
              "      <td>...</td>\n",
              "    </tr>\n",
              "    <tr>\n",
              "      <th>311</th>\n",
              "      <td>Unspecified</td>\n",
              "      <td>Rabbit Night Light</td>\n",
              "      <td>12.38</td>\n",
              "    </tr>\n",
              "    <tr>\n",
              "      <th>312</th>\n",
              "      <td>Unspecified</td>\n",
              "      <td>Red Harmonica In Box</td>\n",
              "      <td>138.36</td>\n",
              "    </tr>\n",
              "    <tr>\n",
              "      <th>313</th>\n",
              "      <td>Unspecified</td>\n",
              "      <td>Regency Cakestand 3 Tier</td>\n",
              "      <td>46.64</td>\n",
              "    </tr>\n",
              "    <tr>\n",
              "      <th>314</th>\n",
              "      <td>Unspecified</td>\n",
              "      <td>Victorian Glass Hanging T-Light</td>\n",
              "      <td>138.36</td>\n",
              "    </tr>\n",
              "    <tr>\n",
              "      <th>315</th>\n",
              "      <td>Unspecified</td>\n",
              "      <td>World War 2 Gliders Asstd Designs</td>\n",
              "      <td>1012.80</td>\n",
              "    </tr>\n",
              "  </tbody>\n",
              "</table>\n",
              "<p>316 rows × 3 columns</p>\n",
              "</div>"
            ],
            "text/plain": [
              "         Country                         ProductName  TotalAmount\n",
              "0      Australia           Assorted Colours Silk Fan      6594.00\n",
              "1      Australia  Cream Hanging Heart T-Light Holder        79.62\n",
              "2      Australia               Heart Of Wicker Small       225.00\n",
              "3      Australia             Jumbo Bag Red Retrospot      1305.50\n",
              "4      Australia              Mini Paint Set Vintage     31525.92\n",
              "..           ...                                 ...          ...\n",
              "311  Unspecified                  Rabbit Night Light        12.38\n",
              "312  Unspecified                Red Harmonica In Box       138.36\n",
              "313  Unspecified            Regency Cakestand 3 Tier        46.64\n",
              "314  Unspecified     Victorian Glass Hanging T-Light       138.36\n",
              "315  Unspecified   World War 2 Gliders Asstd Designs      1012.80\n",
              "\n",
              "[316 rows x 3 columns]"
            ]
          },
          "execution_count": 123,
          "metadata": {},
          "output_type": "execute_result"
        }
      ],
      "source": [
        "top_product_revenue_by_country.groupby(['Country','ProductName'])['TotalAmount'].sum().reset_index()"
      ]
    },
    {
      "cell_type": "code",
      "execution_count": 126,
      "metadata": {},
      "outputs": [
        {
          "data": {
            "application/vnd.plotly.v1+json": {
              "config": {
                "plotlyServerURL": "https://plot.ly"
              },
              "data": [
                {
                  "branchvalues": "total",
                  "customdata": [
                    [
                      "Antique Silver T-Light Glass"
                    ],
                    [
                      "Antique Silver T-Light Glass"
                    ],
                    [
                      "Antique Silver T-Light Glass"
                    ],
                    [
                      "Antique Silver T-Light Glass"
                    ],
                    [
                      "Antique Silver T-Light Glass"
                    ],
                    [
                      "Antique Silver T-Light Glass"
                    ],
                    [
                      "Antique Silver T-Light Glass"
                    ],
                    [
                      "Antique Silver T-Light Glass"
                    ],
                    [
                      "Antique Silver T-Light Glass"
                    ],
                    [
                      "Antique Silver T-Light Glass"
                    ],
                    [
                      "Assorted Colour Bird Ornament"
                    ],
                    [
                      "Assorted Colour Bird Ornament"
                    ],
                    [
                      "Assorted Colour Bird Ornament"
                    ],
                    [
                      "Assorted Colour Bird Ornament"
                    ],
                    [
                      "Assorted Colour Bird Ornament"
                    ],
                    [
                      "Assorted Colour Bird Ornament"
                    ],
                    [
                      "Assorted Colour Bird Ornament"
                    ],
                    [
                      "Assorted Colour Bird Ornament"
                    ],
                    [
                      "Assorted Colour Bird Ornament"
                    ],
                    [
                      "Assorted Colour Bird Ornament"
                    ],
                    [
                      "Assorted Colour Bird Ornament"
                    ],
                    [
                      "Assorted Colour Bird Ornament"
                    ],
                    [
                      "Assorted Colour Bird Ornament"
                    ],
                    [
                      "Assorted Colour Bird Ornament"
                    ],
                    [
                      "Assorted Colour Bird Ornament"
                    ],
                    [
                      "Assorted Colours Silk Fan"
                    ],
                    [
                      "Assorted Colours Silk Fan"
                    ],
                    [
                      "Assorted Colours Silk Fan"
                    ],
                    [
                      "Assorted Colours Silk Fan"
                    ],
                    [
                      "Assorted Colours Silk Fan"
                    ],
                    [
                      "Assorted Colours Silk Fan"
                    ],
                    [
                      "Assorted Colours Silk Fan"
                    ],
                    [
                      "Assorted Colours Silk Fan"
                    ],
                    [
                      "Assorted Colours Silk Fan"
                    ],
                    [
                      "Assorted Colours Silk Fan"
                    ],
                    [
                      "Assorted Colours Silk Fan"
                    ],
                    [
                      "Assorted Colours Silk Fan"
                    ],
                    [
                      "Assorted Colours Silk Fan"
                    ],
                    [
                      "Assorted Colours Silk Fan"
                    ],
                    [
                      "Brocade Ring Purse"
                    ],
                    [
                      "Brocade Ring Purse"
                    ],
                    [
                      "Brocade Ring Purse"
                    ],
                    [
                      "Brocade Ring Purse"
                    ],
                    [
                      "Charlotte Bag Suki Design"
                    ],
                    [
                      "Charlotte Bag Suki Design"
                    ],
                    [
                      "Charlotte Bag Suki Design"
                    ],
                    [
                      "Charlotte Bag Suki Design"
                    ],
                    [
                      "Charlotte Bag Suki Design"
                    ],
                    [
                      "Charlotte Bag Suki Design"
                    ],
                    [
                      "Charlotte Bag Suki Design"
                    ],
                    [
                      "Charlotte Bag Suki Design"
                    ],
                    [
                      "Charlotte Bag Suki Design"
                    ],
                    [
                      "Charlotte Bag Suki Design"
                    ],
                    [
                      "Charlotte Bag Suki Design"
                    ],
                    [
                      "Charlotte Bag Suki Design"
                    ],
                    [
                      "Charlotte Bag Suki Design"
                    ],
                    [
                      "Charlotte Bag Suki Design"
                    ],
                    [
                      "Charlotte Bag Suki Design"
                    ],
                    [
                      "Cream Hanging Heart T-Light Holder"
                    ],
                    [
                      "Cream Hanging Heart T-Light Holder"
                    ],
                    [
                      "Cream Hanging Heart T-Light Holder"
                    ],
                    [
                      "Cream Hanging Heart T-Light Holder"
                    ],
                    [
                      "Cream Hanging Heart T-Light Holder"
                    ],
                    [
                      "Cream Hanging Heart T-Light Holder"
                    ],
                    [
                      "Cream Hanging Heart T-Light Holder"
                    ],
                    [
                      "Cream Hanging Heart T-Light Holder"
                    ],
                    [
                      "Cream Hanging Heart T-Light Holder"
                    ],
                    [
                      "Cream Hanging Heart T-Light Holder"
                    ],
                    [
                      "Cream Hanging Heart T-Light Holder"
                    ],
                    [
                      "Cream Hanging Heart T-Light Holder"
                    ],
                    [
                      "Cream Hanging Heart T-Light Holder"
                    ],
                    [
                      "Cream Hanging Heart T-Light Holder"
                    ],
                    [
                      "Cream Hanging Heart T-Light Holder"
                    ],
                    [
                      "Cream Hanging Heart T-Light Holder"
                    ],
                    [
                      "Cream Hanging Heart T-Light Holder"
                    ],
                    [
                      "Cream Hanging Heart T-Light Holder"
                    ],
                    [
                      "Cream Hanging Heart T-Light Holder"
                    ],
                    [
                      "Cream Hanging Heart T-Light Holder"
                    ],
                    [
                      "Heart Of Wicker Small"
                    ],
                    [
                      "Heart Of Wicker Small"
                    ],
                    [
                      "Heart Of Wicker Small"
                    ],
                    [
                      "Heart Of Wicker Small"
                    ],
                    [
                      "Heart Of Wicker Small"
                    ],
                    [
                      "Heart Of Wicker Small"
                    ],
                    [
                      "Heart Of Wicker Small"
                    ],
                    [
                      "Heart Of Wicker Small"
                    ],
                    [
                      "Heart Of Wicker Small"
                    ],
                    [
                      "Heart Of Wicker Small"
                    ],
                    [
                      "Heart Of Wicker Small"
                    ],
                    [
                      "Heart Of Wicker Small"
                    ],
                    [
                      "Heart Of Wicker Small"
                    ],
                    [
                      "Heart Of Wicker Small"
                    ],
                    [
                      "Heart Of Wicker Small"
                    ],
                    [
                      "Jumbo Bag Red Retrospot"
                    ],
                    [
                      "Jumbo Bag Red Retrospot"
                    ],
                    [
                      "Jumbo Bag Red Retrospot"
                    ],
                    [
                      "Jumbo Bag Red Retrospot"
                    ],
                    [
                      "Jumbo Bag Red Retrospot"
                    ],
                    [
                      "Jumbo Bag Red Retrospot"
                    ],
                    [
                      "Jumbo Bag Red Retrospot"
                    ],
                    [
                      "Jumbo Bag Red Retrospot"
                    ],
                    [
                      "Jumbo Bag Red Retrospot"
                    ],
                    [
                      "Jumbo Bag Red Retrospot"
                    ],
                    [
                      "Jumbo Bag Red Retrospot"
                    ],
                    [
                      "Jumbo Bag Red Retrospot"
                    ],
                    [
                      "Jumbo Bag Red Retrospot"
                    ],
                    [
                      "Jumbo Bag Red Retrospot"
                    ],
                    [
                      "Jumbo Bag Red Retrospot"
                    ],
                    [
                      "Jumbo Bag Red Retrospot"
                    ],
                    [
                      "Jumbo Bag Red Retrospot"
                    ],
                    [
                      "Jumbo Bag Red Retrospot"
                    ],
                    [
                      "Jumbo Bag Red Retrospot"
                    ],
                    [
                      "Mini Paint Set Vintage"
                    ],
                    [
                      "Mini Paint Set Vintage"
                    ],
                    [
                      "Mini Paint Set Vintage"
                    ],
                    [
                      "Mini Paint Set Vintage"
                    ],
                    [
                      "Mini Paint Set Vintage"
                    ],
                    [
                      "Mini Paint Set Vintage"
                    ],
                    [
                      "Mini Paint Set Vintage"
                    ],
                    [
                      "Mini Paint Set Vintage"
                    ],
                    [
                      "Mini Paint Set Vintage"
                    ],
                    [
                      "Mini Paint Set Vintage"
                    ],
                    [
                      "Mini Paint Set Vintage"
                    ],
                    [
                      "Mini Paint Set Vintage"
                    ],
                    [
                      "Mini Paint Set Vintage"
                    ],
                    [
                      "Mini Paint Set Vintage"
                    ],
                    [
                      "Mini Paint Set Vintage"
                    ],
                    [
                      "Mini Paint Set Vintage"
                    ],
                    [
                      "Mini Paint Set Vintage"
                    ],
                    [
                      "Mini Paint Set Vintage"
                    ],
                    [
                      "Mini Paint Set Vintage"
                    ],
                    [
                      "Mini Paint Set Vintage"
                    ],
                    [
                      "Mini Paint Set Vintage"
                    ],
                    [
                      "Pack Of 12 London Tissues"
                    ],
                    [
                      "Pack Of 12 London Tissues"
                    ],
                    [
                      "Pack Of 12 London Tissues"
                    ],
                    [
                      "Pack Of 12 London Tissues"
                    ],
                    [
                      "Pack Of 12 London Tissues"
                    ],
                    [
                      "Pack Of 12 London Tissues"
                    ],
                    [
                      "Pack Of 12 London Tissues"
                    ],
                    [
                      "Pack Of 12 London Tissues"
                    ],
                    [
                      "Pack Of 60 Pink Paisley Cake Cases"
                    ],
                    [
                      "Pack Of 60 Pink Paisley Cake Cases"
                    ],
                    [
                      "Pack Of 60 Pink Paisley Cake Cases"
                    ],
                    [
                      "Pack Of 60 Pink Paisley Cake Cases"
                    ],
                    [
                      "Pack Of 60 Pink Paisley Cake Cases"
                    ],
                    [
                      "Pack Of 60 Pink Paisley Cake Cases"
                    ],
                    [
                      "Pack Of 60 Pink Paisley Cake Cases"
                    ],
                    [
                      "Pack Of 60 Pink Paisley Cake Cases"
                    ],
                    [
                      "Pack Of 60 Pink Paisley Cake Cases"
                    ],
                    [
                      "Pack Of 60 Pink Paisley Cake Cases"
                    ],
                    [
                      "Pack Of 60 Pink Paisley Cake Cases"
                    ],
                    [
                      "Pack Of 60 Pink Paisley Cake Cases"
                    ],
                    [
                      "Pack Of 60 Pink Paisley Cake Cases"
                    ],
                    [
                      "Pack Of 60 Pink Paisley Cake Cases"
                    ],
                    [
                      "Pack Of 60 Pink Paisley Cake Cases"
                    ],
                    [
                      "Pack Of 60 Pink Paisley Cake Cases"
                    ],
                    [
                      "Pack Of 60 Pink Paisley Cake Cases"
                    ],
                    [
                      "Pack Of 60 Pink Paisley Cake Cases"
                    ],
                    [
                      "Pack Of 60 Pink Paisley Cake Cases"
                    ],
                    [
                      "Paper Chain Kit 50'S Christmas"
                    ],
                    [
                      "Paper Chain Kit 50'S Christmas"
                    ],
                    [
                      "Paper Chain Kit 50'S Christmas"
                    ],
                    [
                      "Paper Chain Kit 50'S Christmas"
                    ],
                    [
                      "Paper Chain Kit 50'S Christmas"
                    ],
                    [
                      "Paper Chain Kit 50'S Christmas"
                    ],
                    [
                      "Paper Chain Kit 50'S Christmas"
                    ],
                    [
                      "Paper Chain Kit 50'S Christmas"
                    ],
                    [
                      "Paper Chain Kit 50'S Christmas"
                    ],
                    [
                      "Paper Chain Kit 50'S Christmas"
                    ],
                    [
                      "Paper Chain Kit 50'S Christmas"
                    ],
                    [
                      "Paper Chain Kit 50'S Christmas"
                    ],
                    [
                      "Paper Chain Kit 50'S Christmas"
                    ],
                    [
                      "Paper Chain Kit 50'S Christmas"
                    ],
                    [
                      "Paper Craft Little Birdie"
                    ],
                    [
                      "Party Bunting"
                    ],
                    [
                      "Party Bunting"
                    ],
                    [
                      "Party Bunting"
                    ],
                    [
                      "Party Bunting"
                    ],
                    [
                      "Party Bunting"
                    ],
                    [
                      "Party Bunting"
                    ],
                    [
                      "Party Bunting"
                    ],
                    [
                      "Party Bunting"
                    ],
                    [
                      "Party Bunting"
                    ],
                    [
                      "Party Bunting"
                    ],
                    [
                      "Party Bunting"
                    ],
                    [
                      "Party Bunting"
                    ],
                    [
                      "Party Bunting"
                    ],
                    [
                      "Party Bunting"
                    ],
                    [
                      "Party Bunting"
                    ],
                    [
                      "Party Bunting"
                    ],
                    [
                      "Party Bunting"
                    ],
                    [
                      "Party Bunting"
                    ],
                    [
                      "Party Bunting"
                    ],
                    [
                      "Party Bunting"
                    ],
                    [
                      "Popcorn Holder"
                    ],
                    [
                      "Popcorn Holder"
                    ],
                    [
                      "Popcorn Holder"
                    ],
                    [
                      "Popcorn Holder"
                    ],
                    [
                      "Popcorn Holder"
                    ],
                    [
                      "Popcorn Holder"
                    ],
                    [
                      "Popcorn Holder"
                    ],
                    [
                      "Popcorn Holder"
                    ],
                    [
                      "Popcorn Holder"
                    ],
                    [
                      "Popcorn Holder"
                    ],
                    [
                      "Popcorn Holder"
                    ],
                    [
                      "Popcorn Holder"
                    ],
                    [
                      "Popcorn Holder"
                    ],
                    [
                      "Popcorn Holder"
                    ],
                    [
                      "Popcorn Holder"
                    ],
                    [
                      "Popcorn Holder"
                    ],
                    [
                      "Popcorn Holder"
                    ],
                    [
                      "Popcorn Holder"
                    ],
                    [
                      "Popcorn Holder"
                    ],
                    [
                      "Popcorn Holder"
                    ],
                    [
                      "Rabbit Night Light"
                    ],
                    [
                      "Rabbit Night Light"
                    ],
                    [
                      "Rabbit Night Light"
                    ],
                    [
                      "Rabbit Night Light"
                    ],
                    [
                      "Rabbit Night Light"
                    ],
                    [
                      "Rabbit Night Light"
                    ],
                    [
                      "Rabbit Night Light"
                    ],
                    [
                      "Rabbit Night Light"
                    ],
                    [
                      "Rabbit Night Light"
                    ],
                    [
                      "Rabbit Night Light"
                    ],
                    [
                      "Rabbit Night Light"
                    ],
                    [
                      "Rabbit Night Light"
                    ],
                    [
                      "Rabbit Night Light"
                    ],
                    [
                      "Rabbit Night Light"
                    ],
                    [
                      "Rabbit Night Light"
                    ],
                    [
                      "Rabbit Night Light"
                    ],
                    [
                      "Rabbit Night Light"
                    ],
                    [
                      "Rabbit Night Light"
                    ],
                    [
                      "Rabbit Night Light"
                    ],
                    [
                      "Rabbit Night Light"
                    ],
                    [
                      "Rabbit Night Light"
                    ],
                    [
                      "Red Harmonica In Box"
                    ],
                    [
                      "Red Harmonica In Box"
                    ],
                    [
                      "Red Harmonica In Box"
                    ],
                    [
                      "Red Harmonica In Box"
                    ],
                    [
                      "Red Harmonica In Box"
                    ],
                    [
                      "Red Harmonica In Box"
                    ],
                    [
                      "Red Harmonica In Box"
                    ],
                    [
                      "Red Harmonica In Box"
                    ],
                    [
                      "Red Harmonica In Box"
                    ],
                    [
                      "Red Harmonica In Box"
                    ],
                    [
                      "Red Harmonica In Box"
                    ],
                    [
                      "Red Harmonica In Box"
                    ],
                    [
                      "Red Harmonica In Box"
                    ],
                    [
                      "Red Harmonica In Box"
                    ],
                    [
                      "Red Harmonica In Box"
                    ],
                    [
                      "Red Harmonica In Box"
                    ],
                    [
                      "Red Harmonica In Box"
                    ],
                    [
                      "Red Harmonica In Box"
                    ],
                    [
                      "Regency Cakestand 3 Tier"
                    ],
                    [
                      "Regency Cakestand 3 Tier"
                    ],
                    [
                      "Regency Cakestand 3 Tier"
                    ],
                    [
                      "Regency Cakestand 3 Tier"
                    ],
                    [
                      "Regency Cakestand 3 Tier"
                    ],
                    [
                      "Regency Cakestand 3 Tier"
                    ],
                    [
                      "Regency Cakestand 3 Tier"
                    ],
                    [
                      "Regency Cakestand 3 Tier"
                    ],
                    [
                      "Regency Cakestand 3 Tier"
                    ],
                    [
                      "Regency Cakestand 3 Tier"
                    ],
                    [
                      "Regency Cakestand 3 Tier"
                    ],
                    [
                      "Regency Cakestand 3 Tier"
                    ],
                    [
                      "Regency Cakestand 3 Tier"
                    ],
                    [
                      "Regency Cakestand 3 Tier"
                    ],
                    [
                      "Regency Cakestand 3 Tier"
                    ],
                    [
                      "Regency Cakestand 3 Tier"
                    ],
                    [
                      "Regency Cakestand 3 Tier"
                    ],
                    [
                      "Regency Cakestand 3 Tier"
                    ],
                    [
                      "Regency Cakestand 3 Tier"
                    ],
                    [
                      "Regency Cakestand 3 Tier"
                    ],
                    [
                      "Regency Cakestand 3 Tier"
                    ],
                    [
                      "Regency Cakestand 3 Tier"
                    ],
                    [
                      "Regency Cakestand 3 Tier"
                    ],
                    [
                      "Regency Cakestand 3 Tier"
                    ],
                    [
                      "Regency Cakestand 3 Tier"
                    ],
                    [
                      "Regency Cakestand 3 Tier"
                    ],
                    [
                      "Regency Cakestand 3 Tier"
                    ],
                    [
                      "Regency Cakestand 3 Tier"
                    ],
                    [
                      "Regency Cakestand 3 Tier"
                    ],
                    [
                      "Regency Cakestand 3 Tier"
                    ],
                    [
                      "Regency Cakestand 3 Tier"
                    ],
                    [
                      "Victorian Glass Hanging T-Light"
                    ],
                    [
                      "Victorian Glass Hanging T-Light"
                    ],
                    [
                      "Victorian Glass Hanging T-Light"
                    ],
                    [
                      "Victorian Glass Hanging T-Light"
                    ],
                    [
                      "Victorian Glass Hanging T-Light"
                    ],
                    [
                      "Victorian Glass Hanging T-Light"
                    ],
                    [
                      "Victorian Glass Hanging T-Light"
                    ],
                    [
                      "Victorian Glass Hanging T-Light"
                    ],
                    [
                      "Victorian Glass Hanging T-Light"
                    ],
                    [
                      "Victorian Glass Hanging T-Light"
                    ],
                    [
                      "Victorian Glass Hanging T-Light"
                    ],
                    [
                      "Victorian Glass Hanging T-Light"
                    ],
                    [
                      "Victorian Glass Hanging T-Light"
                    ],
                    [
                      "Victorian Glass Hanging T-Light"
                    ],
                    [
                      "Victorian Glass Hanging T-Light"
                    ],
                    [
                      "Victorian Glass Hanging T-Light"
                    ],
                    [
                      "World War 2 Gliders Asstd Designs"
                    ],
                    [
                      "World War 2 Gliders Asstd Designs"
                    ],
                    [
                      "World War 2 Gliders Asstd Designs"
                    ],
                    [
                      "World War 2 Gliders Asstd Designs"
                    ],
                    [
                      "World War 2 Gliders Asstd Designs"
                    ],
                    [
                      "World War 2 Gliders Asstd Designs"
                    ],
                    [
                      "World War 2 Gliders Asstd Designs"
                    ],
                    [
                      "World War 2 Gliders Asstd Designs"
                    ],
                    [
                      "World War 2 Gliders Asstd Designs"
                    ],
                    [
                      "World War 2 Gliders Asstd Designs"
                    ],
                    [
                      "World War 2 Gliders Asstd Designs"
                    ],
                    [
                      "World War 2 Gliders Asstd Designs"
                    ],
                    [
                      "World War 2 Gliders Asstd Designs"
                    ],
                    [
                      "World War 2 Gliders Asstd Designs"
                    ],
                    [
                      "World War 2 Gliders Asstd Designs"
                    ],
                    [
                      "(?)"
                    ],
                    [
                      "(?)"
                    ],
                    [
                      "Regency Cakestand 3 Tier"
                    ],
                    [
                      "(?)"
                    ],
                    [
                      "Regency Cakestand 3 Tier"
                    ],
                    [
                      "(?)"
                    ],
                    [
                      "(?)"
                    ],
                    [
                      "(?)"
                    ],
                    [
                      "(?)"
                    ],
                    [
                      "(?)"
                    ],
                    [
                      "(?)"
                    ],
                    [
                      "(?)"
                    ],
                    [
                      "(?)"
                    ],
                    [
                      "(?)"
                    ],
                    [
                      "(?)"
                    ],
                    [
                      "(?)"
                    ],
                    [
                      "(?)"
                    ],
                    [
                      "(?)"
                    ],
                    [
                      "(?)"
                    ],
                    [
                      "(?)"
                    ],
                    [
                      "Red Harmonica In Box"
                    ],
                    [
                      "(?)"
                    ],
                    [
                      "(?)"
                    ],
                    [
                      "(?)"
                    ],
                    [
                      "(?)"
                    ],
                    [
                      "(?)"
                    ],
                    [
                      "(?)"
                    ],
                    [
                      "(?)"
                    ],
                    [
                      "(?)"
                    ],
                    [
                      "(?)"
                    ],
                    [
                      "(?)"
                    ],
                    [
                      "(?)"
                    ],
                    [
                      "(?)"
                    ],
                    [
                      "(?)"
                    ],
                    [
                      "(?)"
                    ]
                  ],
                  "domain": {
                    "x": [
                      0,
                      1
                    ],
                    "y": [
                      0,
                      1
                    ]
                  },
                  "hovertemplate": "labels=%{label}<br>TotalAmount=%{value}<br>parent=%{parent}<br>id=%{id}<br>ProductName=%{customdata[0]}<extra></extra>",
                  "ids": [
                    "Austria/Antique Silver T-Light Glass",
                    "United Kingdom/Antique Silver T-Light Glass",
                    "Portugal/Antique Silver T-Light Glass",
                    "Iceland/Antique Silver T-Light Glass",
                    "Germany/Antique Silver T-Light Glass",
                    "Spain/Antique Silver T-Light Glass",
                    "EIRE/Antique Silver T-Light Glass",
                    "Cyprus/Antique Silver T-Light Glass",
                    "Belgium/Antique Silver T-Light Glass",
                    "France/Antique Silver T-Light Glass",
                    "Norway/Assorted Colour Bird Ornament",
                    "Unspecified/Assorted Colour Bird Ornament",
                    "United Kingdom/Assorted Colour Bird Ornament",
                    "Switzerland/Assorted Colour Bird Ornament",
                    "Spain/Assorted Colour Bird Ornament",
                    "Portugal/Assorted Colour Bird Ornament",
                    "Netherlands/Assorted Colour Bird Ornament",
                    "France/Assorted Colour Bird Ornament",
                    "Germany/Assorted Colour Bird Ornament",
                    "EIRE/Assorted Colour Bird Ornament",
                    "Denmark/Assorted Colour Bird Ornament",
                    "Cyprus/Assorted Colour Bird Ornament",
                    "Canada/Assorted Colour Bird Ornament",
                    "Belgium/Assorted Colour Bird Ornament",
                    "Italy/Assorted Colour Bird Ornament",
                    "Portugal/Assorted Colours Silk Fan",
                    "United Kingdom/Assorted Colours Silk Fan",
                    "Switzerland/Assorted Colours Silk Fan",
                    "Sweden/Assorted Colours Silk Fan",
                    "Spain/Assorted Colours Silk Fan",
                    "Netherlands/Assorted Colours Silk Fan",
                    "Norway/Assorted Colours Silk Fan",
                    "Germany/Assorted Colours Silk Fan",
                    "Australia/Assorted Colours Silk Fan",
                    "Belgium/Assorted Colours Silk Fan",
                    "Denmark/Assorted Colours Silk Fan",
                    "Iceland/Assorted Colours Silk Fan",
                    "France/Assorted Colours Silk Fan",
                    "EIRE/Assorted Colours Silk Fan",
                    "Germany/Brocade Ring Purse",
                    "Switzerland/Brocade Ring Purse",
                    "United Kingdom/Brocade Ring Purse",
                    "Portugal/Brocade Ring Purse",
                    "United Kingdom/Charlotte Bag Suki Design",
                    "Italy/Charlotte Bag Suki Design",
                    "USA/Charlotte Bag Suki Design",
                    "Switzerland/Charlotte Bag Suki Design",
                    "Spain/Charlotte Bag Suki Design",
                    "Portugal/Charlotte Bag Suki Design",
                    "Netherlands/Charlotte Bag Suki Design",
                    "Iceland/Charlotte Bag Suki Design",
                    "Germany/Charlotte Bag Suki Design",
                    "France/Charlotte Bag Suki Design",
                    "Finland/Charlotte Bag Suki Design",
                    "EIRE/Charlotte Bag Suki Design",
                    "Belgium/Charlotte Bag Suki Design",
                    "Austria/Charlotte Bag Suki Design",
                    "Israel/Charlotte Bag Suki Design",
                    "Italy/Cream Hanging Heart T-Light Holder",
                    "Unspecified/Cream Hanging Heart T-Light Holder",
                    "United Kingdom/Cream Hanging Heart T-Light Holder",
                    "Switzerland/Cream Hanging Heart T-Light Holder",
                    "Singapore/Cream Hanging Heart T-Light Holder",
                    "Portugal/Cream Hanging Heart T-Light Holder",
                    "Netherlands/Cream Hanging Heart T-Light Holder",
                    "Malta/Cream Hanging Heart T-Light Holder",
                    "Israel/Cream Hanging Heart T-Light Holder",
                    "Spain/Cream Hanging Heart T-Light Holder",
                    "Germany/Cream Hanging Heart T-Light Holder",
                    "Australia/Cream Hanging Heart T-Light Holder",
                    "Belgium/Cream Hanging Heart T-Light Holder",
                    "Iceland/Cream Hanging Heart T-Light Holder",
                    "Channel Islands/Cream Hanging Heart T-Light Holder",
                    "Austria/Cream Hanging Heart T-Light Holder",
                    "EIRE/Cream Hanging Heart T-Light Holder",
                    "Finland/Cream Hanging Heart T-Light Holder",
                    "France/Cream Hanging Heart T-Light Holder",
                    "Cyprus/Cream Hanging Heart T-Light Holder",
                    "Portugal/Heart Of Wicker Small",
                    "Unspecified/Heart Of Wicker Small",
                    "United Kingdom/Heart Of Wicker Small",
                    "Switzerland/Heart Of Wicker Small",
                    "Spain/Heart Of Wicker Small",
                    "Singapore/Heart Of Wicker Small",
                    "Poland/Heart Of Wicker Small",
                    "Germany/Heart Of Wicker Small",
                    "France/Heart Of Wicker Small",
                    "Finland/Heart Of Wicker Small",
                    "EIRE/Heart Of Wicker Small",
                    "Channel Islands/Heart Of Wicker Small",
                    "Belgium/Heart Of Wicker Small",
                    "Australia/Heart Of Wicker Small",
                    "Greece/Heart Of Wicker Small",
                    "Netherlands/Jumbo Bag Red Retrospot",
                    "USA/Jumbo Bag Red Retrospot",
                    "Switzerland/Jumbo Bag Red Retrospot",
                    "United Kingdom/Jumbo Bag Red Retrospot",
                    "Singapore/Jumbo Bag Red Retrospot",
                    "RSA/Jumbo Bag Red Retrospot",
                    "Portugal/Jumbo Bag Red Retrospot",
                    "Norway/Jumbo Bag Red Retrospot",
                    "Italy/Jumbo Bag Red Retrospot",
                    "Spain/Jumbo Bag Red Retrospot",
                    "Germany/Jumbo Bag Red Retrospot",
                    "France/Jumbo Bag Red Retrospot",
                    "Finland/Jumbo Bag Red Retrospot",
                    "EIRE/Jumbo Bag Red Retrospot",
                    "Cyprus/Jumbo Bag Red Retrospot",
                    "Channel Islands/Jumbo Bag Red Retrospot",
                    "Belgium/Jumbo Bag Red Retrospot",
                    "Australia/Jumbo Bag Red Retrospot",
                    "Iceland/Jumbo Bag Red Retrospot",
                    "Netherlands/Mini Paint Set Vintage",
                    "Norway/Mini Paint Set Vintage",
                    "Spain/Mini Paint Set Vintage",
                    "United Arab Emirates/Mini Paint Set Vintage",
                    "Switzerland/Mini Paint Set Vintage",
                    "USA/Mini Paint Set Vintage",
                    "Japan/Mini Paint Set Vintage",
                    "United Kingdom/Mini Paint Set Vintage",
                    "Sweden/Mini Paint Set Vintage",
                    "Italy/Mini Paint Set Vintage",
                    "Portugal/Mini Paint Set Vintage",
                    "Hong Kong/Mini Paint Set Vintage",
                    "Germany/Mini Paint Set Vintage",
                    "France/Mini Paint Set Vintage",
                    "EIRE/Mini Paint Set Vintage",
                    "Denmark/Mini Paint Set Vintage",
                    "Channel Islands/Mini Paint Set Vintage",
                    "Belgium/Mini Paint Set Vintage",
                    "Austria/Mini Paint Set Vintage",
                    "Australia/Mini Paint Set Vintage",
                    "Iceland/Mini Paint Set Vintage",
                    "United Kingdom/Pack Of 12 London Tissues",
                    "Switzerland/Pack Of 12 London Tissues",
                    "Portugal/Pack Of 12 London Tissues",
                    "Japan/Pack Of 12 London Tissues",
                    "Germany/Pack Of 12 London Tissues",
                    "Finland/Pack Of 12 London Tissues",
                    "Cyprus/Pack Of 12 London Tissues",
                    "France/Pack Of 12 London Tissues",
                    "Netherlands/Pack Of 60 Pink Paisley Cake Cases",
                    "Unspecified/Pack Of 60 Pink Paisley Cake Cases",
                    "United Kingdom/Pack Of 60 Pink Paisley Cake Cases",
                    "Sweden/Pack Of 60 Pink Paisley Cake Cases",
                    "Spain/Pack Of 60 Pink Paisley Cake Cases",
                    "Singapore/Pack Of 60 Pink Paisley Cake Cases",
                    "Portugal/Pack Of 60 Pink Paisley Cake Cases",
                    "Norway/Pack Of 60 Pink Paisley Cake Cases",
                    "Israel/Pack Of 60 Pink Paisley Cake Cases",
                    "Switzerland/Pack Of 60 Pink Paisley Cake Cases",
                    "France/Pack Of 60 Pink Paisley Cake Cases",
                    "Finland/Pack Of 60 Pink Paisley Cake Cases",
                    "EIRE/Pack Of 60 Pink Paisley Cake Cases",
                    "Denmark/Pack Of 60 Pink Paisley Cake Cases",
                    "Channel Islands/Pack Of 60 Pink Paisley Cake Cases",
                    "Belgium/Pack Of 60 Pink Paisley Cake Cases",
                    "Germany/Pack Of 60 Pink Paisley Cake Cases",
                    "Austria/Pack Of 60 Pink Paisley Cake Cases",
                    "Australia/Pack Of 60 Pink Paisley Cake Cases",
                    "United Kingdom/Paper Chain Kit 50'S Christmas",
                    "Switzerland/Paper Chain Kit 50'S Christmas",
                    "Spain/Paper Chain Kit 50'S Christmas",
                    "Singapore/Paper Chain Kit 50'S Christmas",
                    "Portugal/Paper Chain Kit 50'S Christmas",
                    "Netherlands/Paper Chain Kit 50'S Christmas",
                    "Iceland/Paper Chain Kit 50'S Christmas",
                    "France/Paper Chain Kit 50'S Christmas",
                    "EIRE/Paper Chain Kit 50'S Christmas",
                    "Channel Islands/Paper Chain Kit 50'S Christmas",
                    "Belgium/Paper Chain Kit 50'S Christmas",
                    "Austria/Paper Chain Kit 50'S Christmas",
                    "Australia/Paper Chain Kit 50'S Christmas",
                    "Germany/Paper Chain Kit 50'S Christmas",
                    "United Kingdom/Paper Craft Little Birdie",
                    "Lebanon/Party Bunting",
                    "Norway/Party Bunting",
                    "RSA/Party Bunting",
                    "Singapore/Party Bunting",
                    "United Kingdom/Party Bunting",
                    "Switzerland/Party Bunting",
                    "USA/Party Bunting",
                    "Spain/Party Bunting",
                    "Japan/Party Bunting",
                    "Netherlands/Party Bunting",
                    "Germany/Party Bunting",
                    "Belgium/Party Bunting",
                    "Channel Islands/Party Bunting",
                    "Cyprus/Party Bunting",
                    "Denmark/Party Bunting",
                    "Australia/Party Bunting",
                    "Finland/Party Bunting",
                    "France/Party Bunting",
                    "EIRE/Party Bunting",
                    "Israel/Party Bunting",
                    "Unspecified/Popcorn Holder",
                    "Italy/Popcorn Holder",
                    "United Kingdom/Popcorn Holder",
                    "USA/Popcorn Holder",
                    "Switzerland/Popcorn Holder",
                    "Spain/Popcorn Holder",
                    "Singapore/Popcorn Holder",
                    "Portugal/Popcorn Holder",
                    "Norway/Popcorn Holder",
                    "Netherlands/Popcorn Holder",
                    "Israel/Popcorn Holder",
                    "Germany/Popcorn Holder",
                    "France/Popcorn Holder",
                    "EIRE/Popcorn Holder",
                    "Cyprus/Popcorn Holder",
                    "Channel Islands/Popcorn Holder",
                    "Belgium/Popcorn Holder",
                    "Austria/Popcorn Holder",
                    "Australia/Popcorn Holder",
                    "Iceland/Popcorn Holder",
                    "Netherlands/Rabbit Night Light",
                    "Norway/Rabbit Night Light",
                    "Poland/Rabbit Night Light",
                    "Portugal/Rabbit Night Light",
                    "United Kingdom/Rabbit Night Light",
                    "Sweden/Rabbit Night Light",
                    "Unspecified/Rabbit Night Light",
                    "Japan/Rabbit Night Light",
                    "Spain/Rabbit Night Light",
                    "Italy/Rabbit Night Light",
                    "Switzerland/Rabbit Night Light",
                    "Greece/Rabbit Night Light",
                    "Iceland/Rabbit Night Light",
                    "Austria/Rabbit Night Light",
                    "Belgium/Rabbit Night Light",
                    "Denmark/Rabbit Night Light",
                    "Australia/Rabbit Night Light",
                    "Finland/Rabbit Night Light",
                    "France/Rabbit Night Light",
                    "Germany/Rabbit Night Light",
                    "EIRE/Rabbit Night Light",
                    "Norway/Red Harmonica In Box",
                    "Unspecified/Red Harmonica In Box",
                    "United Kingdom/Red Harmonica In Box",
                    "USA/Red Harmonica In Box",
                    "Switzerland/Red Harmonica In Box",
                    "Sweden/Red Harmonica In Box",
                    "Spain/Red Harmonica In Box",
                    "Lithuania/Red Harmonica In Box",
                    "Portugal/Red Harmonica In Box",
                    "Hong Kong/Red Harmonica In Box",
                    "Germany/Red Harmonica In Box",
                    "France/Red Harmonica In Box",
                    "EIRE/Red Harmonica In Box",
                    "Denmark/Red Harmonica In Box",
                    "Belgium/Red Harmonica In Box",
                    "Austria/Red Harmonica In Box",
                    "Australia/Red Harmonica In Box",
                    "Italy/Red Harmonica In Box",
                    "Italy/Regency Cakestand 3 Tier",
                    "Lebanon/Regency Cakestand 3 Tier",
                    "Malta/Regency Cakestand 3 Tier",
                    "Netherlands/Regency Cakestand 3 Tier",
                    "Norway/Regency Cakestand 3 Tier",
                    "Portugal/Regency Cakestand 3 Tier",
                    "USA/Regency Cakestand 3 Tier",
                    "Singapore/Regency Cakestand 3 Tier",
                    "Spain/Regency Cakestand 3 Tier",
                    "Switzerland/Regency Cakestand 3 Tier",
                    "United Arab Emirates/Regency Cakestand 3 Tier",
                    "United Kingdom/Regency Cakestand 3 Tier",
                    "Unspecified/Regency Cakestand 3 Tier",
                    "RSA/Regency Cakestand 3 Tier",
                    "Iceland/Regency Cakestand 3 Tier",
                    "Israel/Regency Cakestand 3 Tier",
                    "Greece/Regency Cakestand 3 Tier",
                    "Australia/Regency Cakestand 3 Tier",
                    "Austria/Regency Cakestand 3 Tier",
                    "Belgium/Regency Cakestand 3 Tier",
                    "Brazil/Regency Cakestand 3 Tier",
                    "Canada/Regency Cakestand 3 Tier",
                    "Channel Islands/Regency Cakestand 3 Tier",
                    "Bahrain/Regency Cakestand 3 Tier",
                    "Denmark/Regency Cakestand 3 Tier",
                    "EIRE/Regency Cakestand 3 Tier",
                    "Finland/Regency Cakestand 3 Tier",
                    "France/Regency Cakestand 3 Tier",
                    "Germany/Regency Cakestand 3 Tier",
                    "Cyprus/Regency Cakestand 3 Tier",
                    "Hong Kong/Regency Cakestand 3 Tier",
                    "Netherlands/Victorian Glass Hanging T-Light",
                    "Unspecified/Victorian Glass Hanging T-Light",
                    "United Kingdom/Victorian Glass Hanging T-Light",
                    "Switzerland/Victorian Glass Hanging T-Light",
                    "Spain/Victorian Glass Hanging T-Light",
                    "RSA/Victorian Glass Hanging T-Light",
                    "Portugal/Victorian Glass Hanging T-Light",
                    "Norway/Victorian Glass Hanging T-Light",
                    "Iceland/Victorian Glass Hanging T-Light",
                    "France/Victorian Glass Hanging T-Light",
                    "Finland/Victorian Glass Hanging T-Light",
                    "EIRE/Victorian Glass Hanging T-Light",
                    "Channel Islands/Victorian Glass Hanging T-Light",
                    "Belgium/Victorian Glass Hanging T-Light",
                    "Austria/Victorian Glass Hanging T-Light",
                    "Germany/Victorian Glass Hanging T-Light",
                    "Switzerland/World War 2 Gliders Asstd Designs",
                    "Sweden/World War 2 Gliders Asstd Designs",
                    "Spain/World War 2 Gliders Asstd Designs",
                    "Portugal/World War 2 Gliders Asstd Designs",
                    "Japan/World War 2 Gliders Asstd Designs",
                    "Iceland/World War 2 Gliders Asstd Designs",
                    "Denmark/World War 2 Gliders Asstd Designs",
                    "France/World War 2 Gliders Asstd Designs",
                    "EIRE/World War 2 Gliders Asstd Designs",
                    "Canada/World War 2 Gliders Asstd Designs",
                    "Belgium/World War 2 Gliders Asstd Designs",
                    "Austria/World War 2 Gliders Asstd Designs",
                    "United Kingdom/World War 2 Gliders Asstd Designs",
                    "Germany/World War 2 Gliders Asstd Designs",
                    "Unspecified/World War 2 Gliders Asstd Designs",
                    "Australia",
                    "Austria",
                    "Bahrain",
                    "Belgium",
                    "Brazil",
                    "Canada",
                    "Channel Islands",
                    "Cyprus",
                    "Denmark",
                    "EIRE",
                    "Finland",
                    "France",
                    "Germany",
                    "Greece",
                    "Hong Kong",
                    "Iceland",
                    "Israel",
                    "Italy",
                    "Japan",
                    "Lebanon",
                    "Lithuania",
                    "Malta",
                    "Netherlands",
                    "Norway",
                    "Poland",
                    "Portugal",
                    "RSA",
                    "Singapore",
                    "Spain",
                    "Sweden",
                    "Switzerland",
                    "USA",
                    "United Arab Emirates",
                    "United Kingdom",
                    "Unspecified"
                  ],
                  "labels": [
                    "Antique Silver T-Light Glass",
                    "Antique Silver T-Light Glass",
                    "Antique Silver T-Light Glass",
                    "Antique Silver T-Light Glass",
                    "Antique Silver T-Light Glass",
                    "Antique Silver T-Light Glass",
                    "Antique Silver T-Light Glass",
                    "Antique Silver T-Light Glass",
                    "Antique Silver T-Light Glass",
                    "Antique Silver T-Light Glass",
                    "Assorted Colour Bird Ornament",
                    "Assorted Colour Bird Ornament",
                    "Assorted Colour Bird Ornament",
                    "Assorted Colour Bird Ornament",
                    "Assorted Colour Bird Ornament",
                    "Assorted Colour Bird Ornament",
                    "Assorted Colour Bird Ornament",
                    "Assorted Colour Bird Ornament",
                    "Assorted Colour Bird Ornament",
                    "Assorted Colour Bird Ornament",
                    "Assorted Colour Bird Ornament",
                    "Assorted Colour Bird Ornament",
                    "Assorted Colour Bird Ornament",
                    "Assorted Colour Bird Ornament",
                    "Assorted Colour Bird Ornament",
                    "Assorted Colours Silk Fan",
                    "Assorted Colours Silk Fan",
                    "Assorted Colours Silk Fan",
                    "Assorted Colours Silk Fan",
                    "Assorted Colours Silk Fan",
                    "Assorted Colours Silk Fan",
                    "Assorted Colours Silk Fan",
                    "Assorted Colours Silk Fan",
                    "Assorted Colours Silk Fan",
                    "Assorted Colours Silk Fan",
                    "Assorted Colours Silk Fan",
                    "Assorted Colours Silk Fan",
                    "Assorted Colours Silk Fan",
                    "Assorted Colours Silk Fan",
                    "Brocade Ring Purse",
                    "Brocade Ring Purse",
                    "Brocade Ring Purse",
                    "Brocade Ring Purse",
                    "Charlotte Bag Suki Design",
                    "Charlotte Bag Suki Design",
                    "Charlotte Bag Suki Design",
                    "Charlotte Bag Suki Design",
                    "Charlotte Bag Suki Design",
                    "Charlotte Bag Suki Design",
                    "Charlotte Bag Suki Design",
                    "Charlotte Bag Suki Design",
                    "Charlotte Bag Suki Design",
                    "Charlotte Bag Suki Design",
                    "Charlotte Bag Suki Design",
                    "Charlotte Bag Suki Design",
                    "Charlotte Bag Suki Design",
                    "Charlotte Bag Suki Design",
                    "Charlotte Bag Suki Design",
                    "Cream Hanging Heart T-Light Holder",
                    "Cream Hanging Heart T-Light Holder",
                    "Cream Hanging Heart T-Light Holder",
                    "Cream Hanging Heart T-Light Holder",
                    "Cream Hanging Heart T-Light Holder",
                    "Cream Hanging Heart T-Light Holder",
                    "Cream Hanging Heart T-Light Holder",
                    "Cream Hanging Heart T-Light Holder",
                    "Cream Hanging Heart T-Light Holder",
                    "Cream Hanging Heart T-Light Holder",
                    "Cream Hanging Heart T-Light Holder",
                    "Cream Hanging Heart T-Light Holder",
                    "Cream Hanging Heart T-Light Holder",
                    "Cream Hanging Heart T-Light Holder",
                    "Cream Hanging Heart T-Light Holder",
                    "Cream Hanging Heart T-Light Holder",
                    "Cream Hanging Heart T-Light Holder",
                    "Cream Hanging Heart T-Light Holder",
                    "Cream Hanging Heart T-Light Holder",
                    "Cream Hanging Heart T-Light Holder",
                    "Heart Of Wicker Small",
                    "Heart Of Wicker Small",
                    "Heart Of Wicker Small",
                    "Heart Of Wicker Small",
                    "Heart Of Wicker Small",
                    "Heart Of Wicker Small",
                    "Heart Of Wicker Small",
                    "Heart Of Wicker Small",
                    "Heart Of Wicker Small",
                    "Heart Of Wicker Small",
                    "Heart Of Wicker Small",
                    "Heart Of Wicker Small",
                    "Heart Of Wicker Small",
                    "Heart Of Wicker Small",
                    "Heart Of Wicker Small",
                    "Jumbo Bag Red Retrospot",
                    "Jumbo Bag Red Retrospot",
                    "Jumbo Bag Red Retrospot",
                    "Jumbo Bag Red Retrospot",
                    "Jumbo Bag Red Retrospot",
                    "Jumbo Bag Red Retrospot",
                    "Jumbo Bag Red Retrospot",
                    "Jumbo Bag Red Retrospot",
                    "Jumbo Bag Red Retrospot",
                    "Jumbo Bag Red Retrospot",
                    "Jumbo Bag Red Retrospot",
                    "Jumbo Bag Red Retrospot",
                    "Jumbo Bag Red Retrospot",
                    "Jumbo Bag Red Retrospot",
                    "Jumbo Bag Red Retrospot",
                    "Jumbo Bag Red Retrospot",
                    "Jumbo Bag Red Retrospot",
                    "Jumbo Bag Red Retrospot",
                    "Jumbo Bag Red Retrospot",
                    "Mini Paint Set Vintage",
                    "Mini Paint Set Vintage",
                    "Mini Paint Set Vintage",
                    "Mini Paint Set Vintage",
                    "Mini Paint Set Vintage",
                    "Mini Paint Set Vintage",
                    "Mini Paint Set Vintage",
                    "Mini Paint Set Vintage",
                    "Mini Paint Set Vintage",
                    "Mini Paint Set Vintage",
                    "Mini Paint Set Vintage",
                    "Mini Paint Set Vintage",
                    "Mini Paint Set Vintage",
                    "Mini Paint Set Vintage",
                    "Mini Paint Set Vintage",
                    "Mini Paint Set Vintage",
                    "Mini Paint Set Vintage",
                    "Mini Paint Set Vintage",
                    "Mini Paint Set Vintage",
                    "Mini Paint Set Vintage",
                    "Mini Paint Set Vintage",
                    "Pack Of 12 London Tissues",
                    "Pack Of 12 London Tissues",
                    "Pack Of 12 London Tissues",
                    "Pack Of 12 London Tissues",
                    "Pack Of 12 London Tissues",
                    "Pack Of 12 London Tissues",
                    "Pack Of 12 London Tissues",
                    "Pack Of 12 London Tissues",
                    "Pack Of 60 Pink Paisley Cake Cases",
                    "Pack Of 60 Pink Paisley Cake Cases",
                    "Pack Of 60 Pink Paisley Cake Cases",
                    "Pack Of 60 Pink Paisley Cake Cases",
                    "Pack Of 60 Pink Paisley Cake Cases",
                    "Pack Of 60 Pink Paisley Cake Cases",
                    "Pack Of 60 Pink Paisley Cake Cases",
                    "Pack Of 60 Pink Paisley Cake Cases",
                    "Pack Of 60 Pink Paisley Cake Cases",
                    "Pack Of 60 Pink Paisley Cake Cases",
                    "Pack Of 60 Pink Paisley Cake Cases",
                    "Pack Of 60 Pink Paisley Cake Cases",
                    "Pack Of 60 Pink Paisley Cake Cases",
                    "Pack Of 60 Pink Paisley Cake Cases",
                    "Pack Of 60 Pink Paisley Cake Cases",
                    "Pack Of 60 Pink Paisley Cake Cases",
                    "Pack Of 60 Pink Paisley Cake Cases",
                    "Pack Of 60 Pink Paisley Cake Cases",
                    "Pack Of 60 Pink Paisley Cake Cases",
                    "Paper Chain Kit 50'S Christmas",
                    "Paper Chain Kit 50'S Christmas",
                    "Paper Chain Kit 50'S Christmas",
                    "Paper Chain Kit 50'S Christmas",
                    "Paper Chain Kit 50'S Christmas",
                    "Paper Chain Kit 50'S Christmas",
                    "Paper Chain Kit 50'S Christmas",
                    "Paper Chain Kit 50'S Christmas",
                    "Paper Chain Kit 50'S Christmas",
                    "Paper Chain Kit 50'S Christmas",
                    "Paper Chain Kit 50'S Christmas",
                    "Paper Chain Kit 50'S Christmas",
                    "Paper Chain Kit 50'S Christmas",
                    "Paper Chain Kit 50'S Christmas",
                    "Paper Craft Little Birdie",
                    "Party Bunting",
                    "Party Bunting",
                    "Party Bunting",
                    "Party Bunting",
                    "Party Bunting",
                    "Party Bunting",
                    "Party Bunting",
                    "Party Bunting",
                    "Party Bunting",
                    "Party Bunting",
                    "Party Bunting",
                    "Party Bunting",
                    "Party Bunting",
                    "Party Bunting",
                    "Party Bunting",
                    "Party Bunting",
                    "Party Bunting",
                    "Party Bunting",
                    "Party Bunting",
                    "Party Bunting",
                    "Popcorn Holder",
                    "Popcorn Holder",
                    "Popcorn Holder",
                    "Popcorn Holder",
                    "Popcorn Holder",
                    "Popcorn Holder",
                    "Popcorn Holder",
                    "Popcorn Holder",
                    "Popcorn Holder",
                    "Popcorn Holder",
                    "Popcorn Holder",
                    "Popcorn Holder",
                    "Popcorn Holder",
                    "Popcorn Holder",
                    "Popcorn Holder",
                    "Popcorn Holder",
                    "Popcorn Holder",
                    "Popcorn Holder",
                    "Popcorn Holder",
                    "Popcorn Holder",
                    "Rabbit Night Light",
                    "Rabbit Night Light",
                    "Rabbit Night Light",
                    "Rabbit Night Light",
                    "Rabbit Night Light",
                    "Rabbit Night Light",
                    "Rabbit Night Light",
                    "Rabbit Night Light",
                    "Rabbit Night Light",
                    "Rabbit Night Light",
                    "Rabbit Night Light",
                    "Rabbit Night Light",
                    "Rabbit Night Light",
                    "Rabbit Night Light",
                    "Rabbit Night Light",
                    "Rabbit Night Light",
                    "Rabbit Night Light",
                    "Rabbit Night Light",
                    "Rabbit Night Light",
                    "Rabbit Night Light",
                    "Rabbit Night Light",
                    "Red Harmonica In Box",
                    "Red Harmonica In Box",
                    "Red Harmonica In Box",
                    "Red Harmonica In Box",
                    "Red Harmonica In Box",
                    "Red Harmonica In Box",
                    "Red Harmonica In Box",
                    "Red Harmonica In Box",
                    "Red Harmonica In Box",
                    "Red Harmonica In Box",
                    "Red Harmonica In Box",
                    "Red Harmonica In Box",
                    "Red Harmonica In Box",
                    "Red Harmonica In Box",
                    "Red Harmonica In Box",
                    "Red Harmonica In Box",
                    "Red Harmonica In Box",
                    "Red Harmonica In Box",
                    "Regency Cakestand 3 Tier",
                    "Regency Cakestand 3 Tier",
                    "Regency Cakestand 3 Tier",
                    "Regency Cakestand 3 Tier",
                    "Regency Cakestand 3 Tier",
                    "Regency Cakestand 3 Tier",
                    "Regency Cakestand 3 Tier",
                    "Regency Cakestand 3 Tier",
                    "Regency Cakestand 3 Tier",
                    "Regency Cakestand 3 Tier",
                    "Regency Cakestand 3 Tier",
                    "Regency Cakestand 3 Tier",
                    "Regency Cakestand 3 Tier",
                    "Regency Cakestand 3 Tier",
                    "Regency Cakestand 3 Tier",
                    "Regency Cakestand 3 Tier",
                    "Regency Cakestand 3 Tier",
                    "Regency Cakestand 3 Tier",
                    "Regency Cakestand 3 Tier",
                    "Regency Cakestand 3 Tier",
                    "Regency Cakestand 3 Tier",
                    "Regency Cakestand 3 Tier",
                    "Regency Cakestand 3 Tier",
                    "Regency Cakestand 3 Tier",
                    "Regency Cakestand 3 Tier",
                    "Regency Cakestand 3 Tier",
                    "Regency Cakestand 3 Tier",
                    "Regency Cakestand 3 Tier",
                    "Regency Cakestand 3 Tier",
                    "Regency Cakestand 3 Tier",
                    "Regency Cakestand 3 Tier",
                    "Victorian Glass Hanging T-Light",
                    "Victorian Glass Hanging T-Light",
                    "Victorian Glass Hanging T-Light",
                    "Victorian Glass Hanging T-Light",
                    "Victorian Glass Hanging T-Light",
                    "Victorian Glass Hanging T-Light",
                    "Victorian Glass Hanging T-Light",
                    "Victorian Glass Hanging T-Light",
                    "Victorian Glass Hanging T-Light",
                    "Victorian Glass Hanging T-Light",
                    "Victorian Glass Hanging T-Light",
                    "Victorian Glass Hanging T-Light",
                    "Victorian Glass Hanging T-Light",
                    "Victorian Glass Hanging T-Light",
                    "Victorian Glass Hanging T-Light",
                    "Victorian Glass Hanging T-Light",
                    "World War 2 Gliders Asstd Designs",
                    "World War 2 Gliders Asstd Designs",
                    "World War 2 Gliders Asstd Designs",
                    "World War 2 Gliders Asstd Designs",
                    "World War 2 Gliders Asstd Designs",
                    "World War 2 Gliders Asstd Designs",
                    "World War 2 Gliders Asstd Designs",
                    "World War 2 Gliders Asstd Designs",
                    "World War 2 Gliders Asstd Designs",
                    "World War 2 Gliders Asstd Designs",
                    "World War 2 Gliders Asstd Designs",
                    "World War 2 Gliders Asstd Designs",
                    "World War 2 Gliders Asstd Designs",
                    "World War 2 Gliders Asstd Designs",
                    "World War 2 Gliders Asstd Designs",
                    "Australia",
                    "Austria",
                    "Bahrain",
                    "Belgium",
                    "Brazil",
                    "Canada",
                    "Channel Islands",
                    "Cyprus",
                    "Denmark",
                    "EIRE",
                    "Finland",
                    "France",
                    "Germany",
                    "Greece",
                    "Hong Kong",
                    "Iceland",
                    "Israel",
                    "Italy",
                    "Japan",
                    "Lebanon",
                    "Lithuania",
                    "Malta",
                    "Netherlands",
                    "Norway",
                    "Poland",
                    "Portugal",
                    "RSA",
                    "Singapore",
                    "Spain",
                    "Sweden",
                    "Switzerland",
                    "USA",
                    "United Arab Emirates",
                    "United Kingdom",
                    "Unspecified"
                  ],
                  "marker": {
                    "colors": [
                      "#636efa",
                      "#636efa",
                      "#636efa",
                      "#636efa",
                      "#636efa",
                      "#636efa",
                      "#636efa",
                      "#636efa",
                      "#636efa",
                      "#636efa",
                      "#EF553B",
                      "#EF553B",
                      "#EF553B",
                      "#EF553B",
                      "#EF553B",
                      "#EF553B",
                      "#EF553B",
                      "#EF553B",
                      "#EF553B",
                      "#EF553B",
                      "#EF553B",
                      "#EF553B",
                      "#EF553B",
                      "#EF553B",
                      "#EF553B",
                      "#00cc96",
                      "#00cc96",
                      "#00cc96",
                      "#00cc96",
                      "#00cc96",
                      "#00cc96",
                      "#00cc96",
                      "#00cc96",
                      "#00cc96",
                      "#00cc96",
                      "#00cc96",
                      "#00cc96",
                      "#00cc96",
                      "#00cc96",
                      "#ab63fa",
                      "#ab63fa",
                      "#ab63fa",
                      "#ab63fa",
                      "#FFA15A",
                      "#FFA15A",
                      "#FFA15A",
                      "#FFA15A",
                      "#FFA15A",
                      "#FFA15A",
                      "#FFA15A",
                      "#FFA15A",
                      "#FFA15A",
                      "#FFA15A",
                      "#FFA15A",
                      "#FFA15A",
                      "#FFA15A",
                      "#FFA15A",
                      "#FFA15A",
                      "#19d3f3",
                      "#19d3f3",
                      "#19d3f3",
                      "#19d3f3",
                      "#19d3f3",
                      "#19d3f3",
                      "#19d3f3",
                      "#19d3f3",
                      "#19d3f3",
                      "#19d3f3",
                      "#19d3f3",
                      "#19d3f3",
                      "#19d3f3",
                      "#19d3f3",
                      "#19d3f3",
                      "#19d3f3",
                      "#19d3f3",
                      "#19d3f3",
                      "#19d3f3",
                      "#19d3f3",
                      "#FF6692",
                      "#FF6692",
                      "#FF6692",
                      "#FF6692",
                      "#FF6692",
                      "#FF6692",
                      "#FF6692",
                      "#FF6692",
                      "#FF6692",
                      "#FF6692",
                      "#FF6692",
                      "#FF6692",
                      "#FF6692",
                      "#FF6692",
                      "#FF6692",
                      "#B6E880",
                      "#B6E880",
                      "#B6E880",
                      "#B6E880",
                      "#B6E880",
                      "#B6E880",
                      "#B6E880",
                      "#B6E880",
                      "#B6E880",
                      "#B6E880",
                      "#B6E880",
                      "#B6E880",
                      "#B6E880",
                      "#B6E880",
                      "#B6E880",
                      "#B6E880",
                      "#B6E880",
                      "#B6E880",
                      "#B6E880",
                      "#FF97FF",
                      "#FF97FF",
                      "#FF97FF",
                      "#FF97FF",
                      "#FF97FF",
                      "#FF97FF",
                      "#FF97FF",
                      "#FF97FF",
                      "#FF97FF",
                      "#FF97FF",
                      "#FF97FF",
                      "#FF97FF",
                      "#FF97FF",
                      "#FF97FF",
                      "#FF97FF",
                      "#FF97FF",
                      "#FF97FF",
                      "#FF97FF",
                      "#FF97FF",
                      "#FF97FF",
                      "#FF97FF",
                      "#FECB52",
                      "#FECB52",
                      "#FECB52",
                      "#FECB52",
                      "#FECB52",
                      "#FECB52",
                      "#FECB52",
                      "#FECB52",
                      "#636efa",
                      "#636efa",
                      "#636efa",
                      "#636efa",
                      "#636efa",
                      "#636efa",
                      "#636efa",
                      "#636efa",
                      "#636efa",
                      "#636efa",
                      "#636efa",
                      "#636efa",
                      "#636efa",
                      "#636efa",
                      "#636efa",
                      "#636efa",
                      "#636efa",
                      "#636efa",
                      "#636efa",
                      "#EF553B",
                      "#EF553B",
                      "#EF553B",
                      "#EF553B",
                      "#EF553B",
                      "#EF553B",
                      "#EF553B",
                      "#EF553B",
                      "#EF553B",
                      "#EF553B",
                      "#EF553B",
                      "#EF553B",
                      "#EF553B",
                      "#EF553B",
                      "#00cc96",
                      "#ab63fa",
                      "#ab63fa",
                      "#ab63fa",
                      "#ab63fa",
                      "#ab63fa",
                      "#ab63fa",
                      "#ab63fa",
                      "#ab63fa",
                      "#ab63fa",
                      "#ab63fa",
                      "#ab63fa",
                      "#ab63fa",
                      "#ab63fa",
                      "#ab63fa",
                      "#ab63fa",
                      "#ab63fa",
                      "#ab63fa",
                      "#ab63fa",
                      "#ab63fa",
                      "#ab63fa",
                      "#FFA15A",
                      "#FFA15A",
                      "#FFA15A",
                      "#FFA15A",
                      "#FFA15A",
                      "#FFA15A",
                      "#FFA15A",
                      "#FFA15A",
                      "#FFA15A",
                      "#FFA15A",
                      "#FFA15A",
                      "#FFA15A",
                      "#FFA15A",
                      "#FFA15A",
                      "#FFA15A",
                      "#FFA15A",
                      "#FFA15A",
                      "#FFA15A",
                      "#FFA15A",
                      "#FFA15A",
                      "#19d3f3",
                      "#19d3f3",
                      "#19d3f3",
                      "#19d3f3",
                      "#19d3f3",
                      "#19d3f3",
                      "#19d3f3",
                      "#19d3f3",
                      "#19d3f3",
                      "#19d3f3",
                      "#19d3f3",
                      "#19d3f3",
                      "#19d3f3",
                      "#19d3f3",
                      "#19d3f3",
                      "#19d3f3",
                      "#19d3f3",
                      "#19d3f3",
                      "#19d3f3",
                      "#19d3f3",
                      "#19d3f3",
                      "#FF6692",
                      "#FF6692",
                      "#FF6692",
                      "#FF6692",
                      "#FF6692",
                      "#FF6692",
                      "#FF6692",
                      "#FF6692",
                      "#FF6692",
                      "#FF6692",
                      "#FF6692",
                      "#FF6692",
                      "#FF6692",
                      "#FF6692",
                      "#FF6692",
                      "#FF6692",
                      "#FF6692",
                      "#FF6692",
                      "#B6E880",
                      "#B6E880",
                      "#B6E880",
                      "#B6E880",
                      "#B6E880",
                      "#B6E880",
                      "#B6E880",
                      "#B6E880",
                      "#B6E880",
                      "#B6E880",
                      "#B6E880",
                      "#B6E880",
                      "#B6E880",
                      "#B6E880",
                      "#B6E880",
                      "#B6E880",
                      "#B6E880",
                      "#B6E880",
                      "#B6E880",
                      "#B6E880",
                      "#B6E880",
                      "#B6E880",
                      "#B6E880",
                      "#B6E880",
                      "#B6E880",
                      "#B6E880",
                      "#B6E880",
                      "#B6E880",
                      "#B6E880",
                      "#B6E880",
                      "#B6E880",
                      "#FF97FF",
                      "#FF97FF",
                      "#FF97FF",
                      "#FF97FF",
                      "#FF97FF",
                      "#FF97FF",
                      "#FF97FF",
                      "#FF97FF",
                      "#FF97FF",
                      "#FF97FF",
                      "#FF97FF",
                      "#FF97FF",
                      "#FF97FF",
                      "#FF97FF",
                      "#FF97FF",
                      "#FF97FF",
                      "#FECB52",
                      "#FECB52",
                      "#FECB52",
                      "#FECB52",
                      "#FECB52",
                      "#FECB52",
                      "#FECB52",
                      "#FECB52",
                      "#FECB52",
                      "#FECB52",
                      "#FECB52",
                      "#FECB52",
                      "#FECB52",
                      "#FECB52",
                      "#FECB52",
                      "#636efa",
                      "#636efa",
                      "#B6E880",
                      "#636efa",
                      "#B6E880",
                      "#636efa",
                      "#636efa",
                      "#636efa",
                      "#636efa",
                      "#636efa",
                      "#636efa",
                      "#636efa",
                      "#636efa",
                      "#636efa",
                      "#636efa",
                      "#636efa",
                      "#636efa",
                      "#636efa",
                      "#636efa",
                      "#636efa",
                      "#FF6692",
                      "#636efa",
                      "#636efa",
                      "#636efa",
                      "#636efa",
                      "#636efa",
                      "#636efa",
                      "#636efa",
                      "#636efa",
                      "#636efa",
                      "#636efa",
                      "#636efa",
                      "#636efa",
                      "#636efa",
                      "#636efa"
                    ]
                  },
                  "name": "",
                  "parents": [
                    "Austria",
                    "United Kingdom",
                    "Portugal",
                    "Iceland",
                    "Germany",
                    "Spain",
                    "EIRE",
                    "Cyprus",
                    "Belgium",
                    "France",
                    "Norway",
                    "Unspecified",
                    "United Kingdom",
                    "Switzerland",
                    "Spain",
                    "Portugal",
                    "Netherlands",
                    "France",
                    "Germany",
                    "EIRE",
                    "Denmark",
                    "Cyprus",
                    "Canada",
                    "Belgium",
                    "Italy",
                    "Portugal",
                    "United Kingdom",
                    "Switzerland",
                    "Sweden",
                    "Spain",
                    "Netherlands",
                    "Norway",
                    "Germany",
                    "Australia",
                    "Belgium",
                    "Denmark",
                    "Iceland",
                    "France",
                    "EIRE",
                    "Germany",
                    "Switzerland",
                    "United Kingdom",
                    "Portugal",
                    "United Kingdom",
                    "Italy",
                    "USA",
                    "Switzerland",
                    "Spain",
                    "Portugal",
                    "Netherlands",
                    "Iceland",
                    "Germany",
                    "France",
                    "Finland",
                    "EIRE",
                    "Belgium",
                    "Austria",
                    "Israel",
                    "Italy",
                    "Unspecified",
                    "United Kingdom",
                    "Switzerland",
                    "Singapore",
                    "Portugal",
                    "Netherlands",
                    "Malta",
                    "Israel",
                    "Spain",
                    "Germany",
                    "Australia",
                    "Belgium",
                    "Iceland",
                    "Channel Islands",
                    "Austria",
                    "EIRE",
                    "Finland",
                    "France",
                    "Cyprus",
                    "Portugal",
                    "Unspecified",
                    "United Kingdom",
                    "Switzerland",
                    "Spain",
                    "Singapore",
                    "Poland",
                    "Germany",
                    "France",
                    "Finland",
                    "EIRE",
                    "Channel Islands",
                    "Belgium",
                    "Australia",
                    "Greece",
                    "Netherlands",
                    "USA",
                    "Switzerland",
                    "United Kingdom",
                    "Singapore",
                    "RSA",
                    "Portugal",
                    "Norway",
                    "Italy",
                    "Spain",
                    "Germany",
                    "France",
                    "Finland",
                    "EIRE",
                    "Cyprus",
                    "Channel Islands",
                    "Belgium",
                    "Australia",
                    "Iceland",
                    "Netherlands",
                    "Norway",
                    "Spain",
                    "United Arab Emirates",
                    "Switzerland",
                    "USA",
                    "Japan",
                    "United Kingdom",
                    "Sweden",
                    "Italy",
                    "Portugal",
                    "Hong Kong",
                    "Germany",
                    "France",
                    "EIRE",
                    "Denmark",
                    "Channel Islands",
                    "Belgium",
                    "Austria",
                    "Australia",
                    "Iceland",
                    "United Kingdom",
                    "Switzerland",
                    "Portugal",
                    "Japan",
                    "Germany",
                    "Finland",
                    "Cyprus",
                    "France",
                    "Netherlands",
                    "Unspecified",
                    "United Kingdom",
                    "Sweden",
                    "Spain",
                    "Singapore",
                    "Portugal",
                    "Norway",
                    "Israel",
                    "Switzerland",
                    "France",
                    "Finland",
                    "EIRE",
                    "Denmark",
                    "Channel Islands",
                    "Belgium",
                    "Germany",
                    "Austria",
                    "Australia",
                    "United Kingdom",
                    "Switzerland",
                    "Spain",
                    "Singapore",
                    "Portugal",
                    "Netherlands",
                    "Iceland",
                    "France",
                    "EIRE",
                    "Channel Islands",
                    "Belgium",
                    "Austria",
                    "Australia",
                    "Germany",
                    "United Kingdom",
                    "Lebanon",
                    "Norway",
                    "RSA",
                    "Singapore",
                    "United Kingdom",
                    "Switzerland",
                    "USA",
                    "Spain",
                    "Japan",
                    "Netherlands",
                    "Germany",
                    "Belgium",
                    "Channel Islands",
                    "Cyprus",
                    "Denmark",
                    "Australia",
                    "Finland",
                    "France",
                    "EIRE",
                    "Israel",
                    "Unspecified",
                    "Italy",
                    "United Kingdom",
                    "USA",
                    "Switzerland",
                    "Spain",
                    "Singapore",
                    "Portugal",
                    "Norway",
                    "Netherlands",
                    "Israel",
                    "Germany",
                    "France",
                    "EIRE",
                    "Cyprus",
                    "Channel Islands",
                    "Belgium",
                    "Austria",
                    "Australia",
                    "Iceland",
                    "Netherlands",
                    "Norway",
                    "Poland",
                    "Portugal",
                    "United Kingdom",
                    "Sweden",
                    "Unspecified",
                    "Japan",
                    "Spain",
                    "Italy",
                    "Switzerland",
                    "Greece",
                    "Iceland",
                    "Austria",
                    "Belgium",
                    "Denmark",
                    "Australia",
                    "Finland",
                    "France",
                    "Germany",
                    "EIRE",
                    "Norway",
                    "Unspecified",
                    "United Kingdom",
                    "USA",
                    "Switzerland",
                    "Sweden",
                    "Spain",
                    "Lithuania",
                    "Portugal",
                    "Hong Kong",
                    "Germany",
                    "France",
                    "EIRE",
                    "Denmark",
                    "Belgium",
                    "Austria",
                    "Australia",
                    "Italy",
                    "Italy",
                    "Lebanon",
                    "Malta",
                    "Netherlands",
                    "Norway",
                    "Portugal",
                    "USA",
                    "Singapore",
                    "Spain",
                    "Switzerland",
                    "United Arab Emirates",
                    "United Kingdom",
                    "Unspecified",
                    "RSA",
                    "Iceland",
                    "Israel",
                    "Greece",
                    "Australia",
                    "Austria",
                    "Belgium",
                    "Brazil",
                    "Canada",
                    "Channel Islands",
                    "Bahrain",
                    "Denmark",
                    "EIRE",
                    "Finland",
                    "France",
                    "Germany",
                    "Cyprus",
                    "Hong Kong",
                    "Netherlands",
                    "Unspecified",
                    "United Kingdom",
                    "Switzerland",
                    "Spain",
                    "RSA",
                    "Portugal",
                    "Norway",
                    "Iceland",
                    "France",
                    "Finland",
                    "EIRE",
                    "Channel Islands",
                    "Belgium",
                    "Austria",
                    "Germany",
                    "Switzerland",
                    "Sweden",
                    "Spain",
                    "Portugal",
                    "Japan",
                    "Iceland",
                    "Denmark",
                    "France",
                    "EIRE",
                    "Canada",
                    "Belgium",
                    "Austria",
                    "United Kingdom",
                    "Germany",
                    "Unspecified",
                    "",
                    "",
                    "",
                    "",
                    "",
                    "",
                    "",
                    "",
                    "",
                    "",
                    "",
                    "",
                    "",
                    "",
                    "",
                    "",
                    "",
                    "",
                    "",
                    "",
                    "",
                    "",
                    "",
                    "",
                    "",
                    "",
                    "",
                    "",
                    "",
                    "",
                    "",
                    "",
                    "",
                    "",
                    ""
                  ],
                  "type": "treemap",
                  "values": [
                    89.39,
                    209700.75,
                    38.31,
                    92.85000000000001,
                    990.18,
                    189.44,
                    1316.8799999999999,
                    138.35999999999999,
                    358.96000000000004,
                    227.74999999999997,
                    191.68,
                    263.56,
                    386847.06,
                    694.84,
                    5091.280000000001,
                    537.12,
                    3756.8,
                    15326.08,
                    2560.08,
                    4312.8,
                    95.84,
                    575.04,
                    95.84,
                    299.84000000000003,
                    95.84,
                    23.84,
                    221074.37,
                    23.84,
                    8844.24,
                    11.53,
                    133.2,
                    532.8,
                    14691.8,
                    6594,
                    34.68,
                    133.2,
                    12.38,
                    724.6399999999999,
                    532.8,
                    1767.5300000000002,
                    379.8,
                    237427.7,
                    11.1,
                    174821.21,
                    111.19999999999999,
                    676.81,
                    1007.9799999999999,
                    289.12,
                    1619.56,
                    11012.24,
                    18.57,
                    3911.3099999999995,
                    5267.12,
                    111.19999999999999,
                    2565.63,
                    1901.3,
                    119.2,
                    222.39999999999998,
                    310.47,
                    26.54,
                    425489.65,
                    508.59999999999997,
                    650.38,
                    238.86,
                    4760.28,
                    79.62,
                    26.54,
                    1136.32,
                    583.24,
                    79.62,
                    81.55,
                    6.19,
                    1273.92,
                    16.18,
                    12370.84,
                    231.72000000000003,
                    2071.18,
                    1460,
                    279.48,
                    35.82,
                    203626.85,
                    78.36,
                    162.46,
                    469.6,
                    286.56,
                    427.96999999999997,
                    152.54,
                    286.56,
                    2666.56,
                    143.28,
                    451.77,
                    225,
                    143.28,
                    12024,
                    0,
                    946.76,
                    264454.67,
                    185.10000000000002,
                    61.900000000000006,
                    757.3100000000001,
                    604,
                    61.900000000000006,
                    199.07000000000002,
                    3303.6200000000003,
                    3055.38,
                    454.42,
                    861.6400000000001,
                    61.900000000000006,
                    1393.7,
                    700.32,
                    1305.5,
                    43.330000000000005,
                    19072.800000000003,
                    393.12,
                    393.12,
                    393.12,
                    1179.3600000000001,
                    0,
                    6237.4800000000005,
                    149526.26,
                    31842.72,
                    393.12,
                    1179.3600000000001,
                    393.12,
                    5264,
                    23639.76,
                    7862.4,
                    393.12,
                    393.12,
                    3168.8599999999997,
                    440.8,
                    31525.920000000002,
                    1179.3600000000001,
                    258103.17,
                    10.55,
                    127.80000000000001,
                    3559.2000000000003,
                    1554.94,
                    759.6,
                    253.20000000000002,
                    4313.28,
                    3082.08,
                    291.87,
                    217500.63999999998,
                    10637.04,
                    1556.6399999999999,
                    259.44,
                    573.75,
                    2059.92,
                    259.44,
                    11.53,
                    3384.68,
                    2059.92,
                    12356.3,
                    259.44,
                    518.88,
                    3132.3599999999997,
                    3018.93,
                    11.53,
                    2563.2,
                    217786.21,
                    37.14,
                    132.7,
                    238.85999999999999,
                    32.36,
                    1543.1999999999998,
                    99.04,
                    1650.79,
                    4999.86,
                    441.54,
                    503.67999999999995,
                    161.8,
                    378.84000000000003,
                    577.38,
                    501359.05000000005,
                    225.29999999999998,
                    183.84,
                    61.28,
                    122.56,
                    260581.87,
                    1319.14,
                    287.27,
                    517.58,
                    2434.4,
                    725,
                    697.59,
                    160.42000000000002,
                    551.52,
                    105.43999999999998,
                    183.84,
                    3913.0499999999997,
                    183.84,
                    1851.01,
                    8598.88,
                    15.32,
                    100.08,
                    1286.2,
                    544590.93,
                    11.92,
                    300.32,
                    1735.52,
                    3297,
                    23.84,
                    4418.28,
                    133.44,
                    266.88,
                    1966.7399999999998,
                    4354.48,
                    19186.039999999997,
                    133.44,
                    667.2,
                    627.37,
                    47.68,
                    83.44,
                    55.71,
                    50522.780000000006,
                    222.84,
                    579.84,
                    570.36,
                    158957.87,
                    1308.24,
                    12.38,
                    32128.91,
                    148.56,
                    869.76,
                    111.42,
                    38.339999999999996,
                    1195.52,
                    4039.92,
                    2185.2000000000003,
                    510.96000000000004,
                    22762.32,
                    1605.36,
                    44360.93,
                    4873.58,
                    789.12,
                    276.71999999999997,
                    138.35999999999999,
                    198571.75,
                    0,
                    415.0799999999999,
                    2767.2,
                    830.16,
                    553.4399999999999,
                    968.5199999999999,
                    415.0799999999999,
                    4025.2599999999998,
                    6805.179999999999,
                    5880.299999999999,
                    3275.04,
                    855.8,
                    38.31,
                    19327.92,
                    138.35999999999999,
                    46.64,
                    279.84000000000003,
                    163.24,
                    5751.32,
                    571.51,
                    792.25,
                    281.54,
                    343.52,
                    3176,
                    1999.76,
                    279.84000000000003,
                    232213.11,
                    46.64,
                    46.64,
                    355.99,
                    1077.1999999999998,
                    343.52,
                    3872,
                    46.64,
                    1911.8,
                    343.52,
                    23.32,
                    1005,
                    46.64,
                    46.64,
                    13432.05,
                    69.96000000000001,
                    5606.42,
                    14276.529999999999,
                    699.6,
                    139.92000000000002,
                    1146.24,
                    138.35999999999999,
                    261733.13999999998,
                    73.5,
                    872.6899999999999,
                    73.5,
                    226.74,
                    73.5,
                    74.28,
                    871.89,
                    38.31,
                    1681.9199999999998,
                    276.71999999999997,
                    141.02,
                    25.54,
                    1663.9299999999998,
                    1519.2,
                    24307.2,
                    3038.4,
                    528.2,
                    6041.27,
                    43.330000000000005,
                    1519.2,
                    5151.84,
                    8608.800000000001,
                    3015.36,
                    10.69,
                    43.6,
                    501317.74,
                    1012.8000000000001,
                    1012.8000000000001,
                    92630.81,
                    5080.59,
                    46.64,
                    16525.62,
                    343.52,
                    3134.52,
                    6664.88,
                    3426.98,
                    6417.280000000001,
                    108022.81999999999,
                    5800.89,
                    128814.95,
                    67167.41,
                    525.14,
                    948.1199999999999,
                    3176.55,
                    1867.7799999999997,
                    3313.49,
                    50401.26,
                    505.14,
                    553.4399999999999,
                    242.86,
                    113663.38,
                    9528.210000000001,
                    866.4000000000001,
                    8528.76,
                    243.32,
                    5566.46,
                    19480.59,
                    79706.64,
                    10617.18,
                    1257.54,
                    672.96,
                    5625684,
                    2066.41
                  ]
                }
              ],
              "layout": {
                "legend": {
                  "tracegroupgap": 0
                },
                "margin": {
                  "t": 60
                },
                "template": {
                  "data": {
                    "bar": [
                      {
                        "error_x": {
                          "color": "#2a3f5f"
                        },
                        "error_y": {
                          "color": "#2a3f5f"
                        },
                        "marker": {
                          "line": {
                            "color": "#E5ECF6",
                            "width": 0.5
                          },
                          "pattern": {
                            "fillmode": "overlay",
                            "size": 10,
                            "solidity": 0.2
                          }
                        },
                        "type": "bar"
                      }
                    ],
                    "barpolar": [
                      {
                        "marker": {
                          "line": {
                            "color": "#E5ECF6",
                            "width": 0.5
                          },
                          "pattern": {
                            "fillmode": "overlay",
                            "size": 10,
                            "solidity": 0.2
                          }
                        },
                        "type": "barpolar"
                      }
                    ],
                    "carpet": [
                      {
                        "aaxis": {
                          "endlinecolor": "#2a3f5f",
                          "gridcolor": "white",
                          "linecolor": "white",
                          "minorgridcolor": "white",
                          "startlinecolor": "#2a3f5f"
                        },
                        "baxis": {
                          "endlinecolor": "#2a3f5f",
                          "gridcolor": "white",
                          "linecolor": "white",
                          "minorgridcolor": "white",
                          "startlinecolor": "#2a3f5f"
                        },
                        "type": "carpet"
                      }
                    ],
                    "choropleth": [
                      {
                        "colorbar": {
                          "outlinewidth": 0,
                          "ticks": ""
                        },
                        "type": "choropleth"
                      }
                    ],
                    "contour": [
                      {
                        "colorbar": {
                          "outlinewidth": 0,
                          "ticks": ""
                        },
                        "colorscale": [
                          [
                            0,
                            "#0d0887"
                          ],
                          [
                            0.1111111111111111,
                            "#46039f"
                          ],
                          [
                            0.2222222222222222,
                            "#7201a8"
                          ],
                          [
                            0.3333333333333333,
                            "#9c179e"
                          ],
                          [
                            0.4444444444444444,
                            "#bd3786"
                          ],
                          [
                            0.5555555555555556,
                            "#d8576b"
                          ],
                          [
                            0.6666666666666666,
                            "#ed7953"
                          ],
                          [
                            0.7777777777777778,
                            "#fb9f3a"
                          ],
                          [
                            0.8888888888888888,
                            "#fdca26"
                          ],
                          [
                            1,
                            "#f0f921"
                          ]
                        ],
                        "type": "contour"
                      }
                    ],
                    "contourcarpet": [
                      {
                        "colorbar": {
                          "outlinewidth": 0,
                          "ticks": ""
                        },
                        "type": "contourcarpet"
                      }
                    ],
                    "heatmap": [
                      {
                        "colorbar": {
                          "outlinewidth": 0,
                          "ticks": ""
                        },
                        "colorscale": [
                          [
                            0,
                            "#0d0887"
                          ],
                          [
                            0.1111111111111111,
                            "#46039f"
                          ],
                          [
                            0.2222222222222222,
                            "#7201a8"
                          ],
                          [
                            0.3333333333333333,
                            "#9c179e"
                          ],
                          [
                            0.4444444444444444,
                            "#bd3786"
                          ],
                          [
                            0.5555555555555556,
                            "#d8576b"
                          ],
                          [
                            0.6666666666666666,
                            "#ed7953"
                          ],
                          [
                            0.7777777777777778,
                            "#fb9f3a"
                          ],
                          [
                            0.8888888888888888,
                            "#fdca26"
                          ],
                          [
                            1,
                            "#f0f921"
                          ]
                        ],
                        "type": "heatmap"
                      }
                    ],
                    "heatmapgl": [
                      {
                        "colorbar": {
                          "outlinewidth": 0,
                          "ticks": ""
                        },
                        "colorscale": [
                          [
                            0,
                            "#0d0887"
                          ],
                          [
                            0.1111111111111111,
                            "#46039f"
                          ],
                          [
                            0.2222222222222222,
                            "#7201a8"
                          ],
                          [
                            0.3333333333333333,
                            "#9c179e"
                          ],
                          [
                            0.4444444444444444,
                            "#bd3786"
                          ],
                          [
                            0.5555555555555556,
                            "#d8576b"
                          ],
                          [
                            0.6666666666666666,
                            "#ed7953"
                          ],
                          [
                            0.7777777777777778,
                            "#fb9f3a"
                          ],
                          [
                            0.8888888888888888,
                            "#fdca26"
                          ],
                          [
                            1,
                            "#f0f921"
                          ]
                        ],
                        "type": "heatmapgl"
                      }
                    ],
                    "histogram": [
                      {
                        "marker": {
                          "pattern": {
                            "fillmode": "overlay",
                            "size": 10,
                            "solidity": 0.2
                          }
                        },
                        "type": "histogram"
                      }
                    ],
                    "histogram2d": [
                      {
                        "colorbar": {
                          "outlinewidth": 0,
                          "ticks": ""
                        },
                        "colorscale": [
                          [
                            0,
                            "#0d0887"
                          ],
                          [
                            0.1111111111111111,
                            "#46039f"
                          ],
                          [
                            0.2222222222222222,
                            "#7201a8"
                          ],
                          [
                            0.3333333333333333,
                            "#9c179e"
                          ],
                          [
                            0.4444444444444444,
                            "#bd3786"
                          ],
                          [
                            0.5555555555555556,
                            "#d8576b"
                          ],
                          [
                            0.6666666666666666,
                            "#ed7953"
                          ],
                          [
                            0.7777777777777778,
                            "#fb9f3a"
                          ],
                          [
                            0.8888888888888888,
                            "#fdca26"
                          ],
                          [
                            1,
                            "#f0f921"
                          ]
                        ],
                        "type": "histogram2d"
                      }
                    ],
                    "histogram2dcontour": [
                      {
                        "colorbar": {
                          "outlinewidth": 0,
                          "ticks": ""
                        },
                        "colorscale": [
                          [
                            0,
                            "#0d0887"
                          ],
                          [
                            0.1111111111111111,
                            "#46039f"
                          ],
                          [
                            0.2222222222222222,
                            "#7201a8"
                          ],
                          [
                            0.3333333333333333,
                            "#9c179e"
                          ],
                          [
                            0.4444444444444444,
                            "#bd3786"
                          ],
                          [
                            0.5555555555555556,
                            "#d8576b"
                          ],
                          [
                            0.6666666666666666,
                            "#ed7953"
                          ],
                          [
                            0.7777777777777778,
                            "#fb9f3a"
                          ],
                          [
                            0.8888888888888888,
                            "#fdca26"
                          ],
                          [
                            1,
                            "#f0f921"
                          ]
                        ],
                        "type": "histogram2dcontour"
                      }
                    ],
                    "mesh3d": [
                      {
                        "colorbar": {
                          "outlinewidth": 0,
                          "ticks": ""
                        },
                        "type": "mesh3d"
                      }
                    ],
                    "parcoords": [
                      {
                        "line": {
                          "colorbar": {
                            "outlinewidth": 0,
                            "ticks": ""
                          }
                        },
                        "type": "parcoords"
                      }
                    ],
                    "pie": [
                      {
                        "automargin": true,
                        "type": "pie"
                      }
                    ],
                    "scatter": [
                      {
                        "fillpattern": {
                          "fillmode": "overlay",
                          "size": 10,
                          "solidity": 0.2
                        },
                        "type": "scatter"
                      }
                    ],
                    "scatter3d": [
                      {
                        "line": {
                          "colorbar": {
                            "outlinewidth": 0,
                            "ticks": ""
                          }
                        },
                        "marker": {
                          "colorbar": {
                            "outlinewidth": 0,
                            "ticks": ""
                          }
                        },
                        "type": "scatter3d"
                      }
                    ],
                    "scattercarpet": [
                      {
                        "marker": {
                          "colorbar": {
                            "outlinewidth": 0,
                            "ticks": ""
                          }
                        },
                        "type": "scattercarpet"
                      }
                    ],
                    "scattergeo": [
                      {
                        "marker": {
                          "colorbar": {
                            "outlinewidth": 0,
                            "ticks": ""
                          }
                        },
                        "type": "scattergeo"
                      }
                    ],
                    "scattergl": [
                      {
                        "marker": {
                          "colorbar": {
                            "outlinewidth": 0,
                            "ticks": ""
                          }
                        },
                        "type": "scattergl"
                      }
                    ],
                    "scattermapbox": [
                      {
                        "marker": {
                          "colorbar": {
                            "outlinewidth": 0,
                            "ticks": ""
                          }
                        },
                        "type": "scattermapbox"
                      }
                    ],
                    "scatterpolar": [
                      {
                        "marker": {
                          "colorbar": {
                            "outlinewidth": 0,
                            "ticks": ""
                          }
                        },
                        "type": "scatterpolar"
                      }
                    ],
                    "scatterpolargl": [
                      {
                        "marker": {
                          "colorbar": {
                            "outlinewidth": 0,
                            "ticks": ""
                          }
                        },
                        "type": "scatterpolargl"
                      }
                    ],
                    "scatterternary": [
                      {
                        "marker": {
                          "colorbar": {
                            "outlinewidth": 0,
                            "ticks": ""
                          }
                        },
                        "type": "scatterternary"
                      }
                    ],
                    "surface": [
                      {
                        "colorbar": {
                          "outlinewidth": 0,
                          "ticks": ""
                        },
                        "colorscale": [
                          [
                            0,
                            "#0d0887"
                          ],
                          [
                            0.1111111111111111,
                            "#46039f"
                          ],
                          [
                            0.2222222222222222,
                            "#7201a8"
                          ],
                          [
                            0.3333333333333333,
                            "#9c179e"
                          ],
                          [
                            0.4444444444444444,
                            "#bd3786"
                          ],
                          [
                            0.5555555555555556,
                            "#d8576b"
                          ],
                          [
                            0.6666666666666666,
                            "#ed7953"
                          ],
                          [
                            0.7777777777777778,
                            "#fb9f3a"
                          ],
                          [
                            0.8888888888888888,
                            "#fdca26"
                          ],
                          [
                            1,
                            "#f0f921"
                          ]
                        ],
                        "type": "surface"
                      }
                    ],
                    "table": [
                      {
                        "cells": {
                          "fill": {
                            "color": "#EBF0F8"
                          },
                          "line": {
                            "color": "white"
                          }
                        },
                        "header": {
                          "fill": {
                            "color": "#C8D4E3"
                          },
                          "line": {
                            "color": "white"
                          }
                        },
                        "type": "table"
                      }
                    ]
                  },
                  "layout": {
                    "annotationdefaults": {
                      "arrowcolor": "#2a3f5f",
                      "arrowhead": 0,
                      "arrowwidth": 1
                    },
                    "autotypenumbers": "strict",
                    "coloraxis": {
                      "colorbar": {
                        "outlinewidth": 0,
                        "ticks": ""
                      }
                    },
                    "colorscale": {
                      "diverging": [
                        [
                          0,
                          "#8e0152"
                        ],
                        [
                          0.1,
                          "#c51b7d"
                        ],
                        [
                          0.2,
                          "#de77ae"
                        ],
                        [
                          0.3,
                          "#f1b6da"
                        ],
                        [
                          0.4,
                          "#fde0ef"
                        ],
                        [
                          0.5,
                          "#f7f7f7"
                        ],
                        [
                          0.6,
                          "#e6f5d0"
                        ],
                        [
                          0.7,
                          "#b8e186"
                        ],
                        [
                          0.8,
                          "#7fbc41"
                        ],
                        [
                          0.9,
                          "#4d9221"
                        ],
                        [
                          1,
                          "#276419"
                        ]
                      ],
                      "sequential": [
                        [
                          0,
                          "#0d0887"
                        ],
                        [
                          0.1111111111111111,
                          "#46039f"
                        ],
                        [
                          0.2222222222222222,
                          "#7201a8"
                        ],
                        [
                          0.3333333333333333,
                          "#9c179e"
                        ],
                        [
                          0.4444444444444444,
                          "#bd3786"
                        ],
                        [
                          0.5555555555555556,
                          "#d8576b"
                        ],
                        [
                          0.6666666666666666,
                          "#ed7953"
                        ],
                        [
                          0.7777777777777778,
                          "#fb9f3a"
                        ],
                        [
                          0.8888888888888888,
                          "#fdca26"
                        ],
                        [
                          1,
                          "#f0f921"
                        ]
                      ],
                      "sequentialminus": [
                        [
                          0,
                          "#0d0887"
                        ],
                        [
                          0.1111111111111111,
                          "#46039f"
                        ],
                        [
                          0.2222222222222222,
                          "#7201a8"
                        ],
                        [
                          0.3333333333333333,
                          "#9c179e"
                        ],
                        [
                          0.4444444444444444,
                          "#bd3786"
                        ],
                        [
                          0.5555555555555556,
                          "#d8576b"
                        ],
                        [
                          0.6666666666666666,
                          "#ed7953"
                        ],
                        [
                          0.7777777777777778,
                          "#fb9f3a"
                        ],
                        [
                          0.8888888888888888,
                          "#fdca26"
                        ],
                        [
                          1,
                          "#f0f921"
                        ]
                      ]
                    },
                    "colorway": [
                      "#636efa",
                      "#EF553B",
                      "#00cc96",
                      "#ab63fa",
                      "#FFA15A",
                      "#19d3f3",
                      "#FF6692",
                      "#B6E880",
                      "#FF97FF",
                      "#FECB52"
                    ],
                    "font": {
                      "color": "#2a3f5f"
                    },
                    "geo": {
                      "bgcolor": "white",
                      "lakecolor": "white",
                      "landcolor": "#E5ECF6",
                      "showlakes": true,
                      "showland": true,
                      "subunitcolor": "white"
                    },
                    "hoverlabel": {
                      "align": "left"
                    },
                    "hovermode": "closest",
                    "mapbox": {
                      "style": "light"
                    },
                    "paper_bgcolor": "white",
                    "plot_bgcolor": "#E5ECF6",
                    "polar": {
                      "angularaxis": {
                        "gridcolor": "white",
                        "linecolor": "white",
                        "ticks": ""
                      },
                      "bgcolor": "#E5ECF6",
                      "radialaxis": {
                        "gridcolor": "white",
                        "linecolor": "white",
                        "ticks": ""
                      }
                    },
                    "scene": {
                      "xaxis": {
                        "backgroundcolor": "#E5ECF6",
                        "gridcolor": "white",
                        "gridwidth": 2,
                        "linecolor": "white",
                        "showbackground": true,
                        "ticks": "",
                        "zerolinecolor": "white"
                      },
                      "yaxis": {
                        "backgroundcolor": "#E5ECF6",
                        "gridcolor": "white",
                        "gridwidth": 2,
                        "linecolor": "white",
                        "showbackground": true,
                        "ticks": "",
                        "zerolinecolor": "white"
                      },
                      "zaxis": {
                        "backgroundcolor": "#E5ECF6",
                        "gridcolor": "white",
                        "gridwidth": 2,
                        "linecolor": "white",
                        "showbackground": true,
                        "ticks": "",
                        "zerolinecolor": "white"
                      }
                    },
                    "shapedefaults": {
                      "line": {
                        "color": "#2a3f5f"
                      }
                    },
                    "ternary": {
                      "aaxis": {
                        "gridcolor": "white",
                        "linecolor": "white",
                        "ticks": ""
                      },
                      "baxis": {
                        "gridcolor": "white",
                        "linecolor": "white",
                        "ticks": ""
                      },
                      "bgcolor": "#E5ECF6",
                      "caxis": {
                        "gridcolor": "white",
                        "linecolor": "white",
                        "ticks": ""
                      }
                    },
                    "title": {
                      "x": 0.05
                    },
                    "xaxis": {
                      "automargin": true,
                      "gridcolor": "white",
                      "linecolor": "white",
                      "ticks": "",
                      "title": {
                        "standoff": 15
                      },
                      "zerolinecolor": "white",
                      "zerolinewidth": 2
                    },
                    "yaxis": {
                      "automargin": true,
                      "gridcolor": "white",
                      "linecolor": "white",
                      "ticks": "",
                      "title": {
                        "standoff": 15
                      },
                      "zerolinecolor": "white",
                      "zerolinewidth": 2
                    }
                  }
                }
              }
            }
          },
          "metadata": {},
          "output_type": "display_data"
        }
      ],
      "source": [
        "fig = px.treemap(top_product_revenue_by_country, path=['Country','ProductName'], values='TotalAmount', color='ProductName', color_continuous_scale='RdBu',)\n",
        "fig.show()"
      ]
    },
    {
      "cell_type": "code",
      "execution_count": null,
      "metadata": {},
      "outputs": [
        {
          "data": {
            "text/html": [
              "<div>\n",
              "<style scoped>\n",
              "    .dataframe tbody tr th:only-of-type {\n",
              "        vertical-align: middle;\n",
              "    }\n",
              "\n",
              "    .dataframe tbody tr th {\n",
              "        vertical-align: top;\n",
              "    }\n",
              "\n",
              "    .dataframe thead th {\n",
              "        text-align: right;\n",
              "    }\n",
              "</style>\n",
              "<table border=\"1\" class=\"dataframe\">\n",
              "  <thead>\n",
              "    <tr style=\"text-align: right;\">\n",
              "      <th></th>\n",
              "      <th>CustomerNo</th>\n",
              "      <th>TotalAmount</th>\n",
              "    </tr>\n",
              "  </thead>\n",
              "  <tbody>\n",
              "    <tr>\n",
              "      <th>0</th>\n",
              "      <td>12346.0</td>\n",
              "      <td>-840113.80</td>\n",
              "    </tr>\n",
              "    <tr>\n",
              "      <th>1093</th>\n",
              "      <td>16446.0</td>\n",
              "      <td>-501359.05</td>\n",
              "    </tr>\n",
              "    <tr>\n",
              "      <th>927</th>\n",
              "      <td>15749.0</td>\n",
              "      <td>-115955.30</td>\n",
              "    </tr>\n",
              "    <tr>\n",
              "      <th>958</th>\n",
              "      <td>15838.0</td>\n",
              "      <td>-96220.80</td>\n",
              "    </tr>\n",
              "    <tr>\n",
              "      <th>997</th>\n",
              "      <td>16029.0</td>\n",
              "      <td>-92288.44</td>\n",
              "    </tr>\n",
              "    <tr>\n",
              "      <th>...</th>\n",
              "      <td>...</td>\n",
              "      <td>...</td>\n",
              "    </tr>\n",
              "    <tr>\n",
              "      <th>1176</th>\n",
              "      <td>16759.0</td>\n",
              "      <td>-6.13</td>\n",
              "    </tr>\n",
              "    <tr>\n",
              "      <th>590</th>\n",
              "      <td>14477.0</td>\n",
              "      <td>-6.04</td>\n",
              "    </tr>\n",
              "    <tr>\n",
              "      <th>693</th>\n",
              "      <td>14869.0</td>\n",
              "      <td>-6.04</td>\n",
              "    </tr>\n",
              "    <tr>\n",
              "      <th>4</th>\n",
              "      <td>12375.0</td>\n",
              "      <td>-6.04</td>\n",
              "    </tr>\n",
              "    <tr>\n",
              "      <th>917</th>\n",
              "      <td>15719.0</td>\n",
              "      <td>-5.97</td>\n",
              "    </tr>\n",
              "  </tbody>\n",
              "</table>\n",
              "<p>1533 rows × 2 columns</p>\n",
              "</div>"
            ],
            "text/plain": [
              "      CustomerNo  TotalAmount\n",
              "0        12346.0   -840113.80\n",
              "1093     16446.0   -501359.05\n",
              "927      15749.0   -115955.30\n",
              "958      15838.0    -96220.80\n",
              "997      16029.0    -92288.44\n",
              "...          ...          ...\n",
              "1176     16759.0        -6.13\n",
              "590      14477.0        -6.04\n",
              "693      14869.0        -6.04\n",
              "4        12375.0        -6.04\n",
              "917      15719.0        -5.97\n",
              "\n",
              "[1533 rows x 2 columns]"
            ]
          },
          "execution_count": 30,
          "metadata": {},
          "output_type": "execute_result"
        }
      ],
      "source": [
        "total_loss_by_customer = total_loss.groupby('CustomerNo')['TotalAmount'].sum().reset_index()\n",
        "total_loss_by_customer.sort_values(by=['TotalAmount'], ascending=True)"
      ]
    },
    {
      "cell_type": "code",
      "execution_count": null,
      "metadata": {},
      "outputs": [
        {
          "data": {
            "text/html": [
              "<div>\n",
              "<style scoped>\n",
              "    .dataframe tbody tr th:only-of-type {\n",
              "        vertical-align: middle;\n",
              "    }\n",
              "\n",
              "    .dataframe tbody tr th {\n",
              "        vertical-align: top;\n",
              "    }\n",
              "\n",
              "    .dataframe thead th {\n",
              "        text-align: right;\n",
              "    }\n",
              "</style>\n",
              "<table border=\"1\" class=\"dataframe\">\n",
              "  <thead>\n",
              "    <tr style=\"text-align: right;\">\n",
              "      <th></th>\n",
              "      <th>CustomerNo</th>\n",
              "      <th>TotalAmount</th>\n",
              "    </tr>\n",
              "  </thead>\n",
              "  <tbody>\n",
              "    <tr>\n",
              "      <th>1880</th>\n",
              "      <td>14646.0</td>\n",
              "      <td>2112282.03</td>\n",
              "    </tr>\n",
              "    <tr>\n",
              "      <th>3302</th>\n",
              "      <td>16446.0</td>\n",
              "      <td>1002741.57</td>\n",
              "    </tr>\n",
              "    <tr>\n",
              "      <th>2085</th>\n",
              "      <td>14911.0</td>\n",
              "      <td>914633.52</td>\n",
              "    </tr>\n",
              "    <tr>\n",
              "      <th>126</th>\n",
              "      <td>12415.0</td>\n",
              "      <td>900545.54</td>\n",
              "    </tr>\n",
              "    <tr>\n",
              "      <th>4581</th>\n",
              "      <td>18102.0</td>\n",
              "      <td>897137.36</td>\n",
              "    </tr>\n",
              "    <tr>\n",
              "      <th>...</th>\n",
              "      <td>...</td>\n",
              "      <td>...</td>\n",
              "    </tr>\n",
              "    <tr>\n",
              "      <th>61</th>\n",
              "      <td>12309.0</td>\n",
              "      <td>12.86</td>\n",
              "    </tr>\n",
              "    <tr>\n",
              "      <th>1716</th>\n",
              "      <td>14435.0</td>\n",
              "      <td>12.38</td>\n",
              "    </tr>\n",
              "    <tr>\n",
              "      <th>453</th>\n",
              "      <td>12810.0</td>\n",
              "      <td>11.98</td>\n",
              "    </tr>\n",
              "    <tr>\n",
              "      <th>1208</th>\n",
              "      <td>13775.0</td>\n",
              "      <td>11.53</td>\n",
              "    </tr>\n",
              "    <tr>\n",
              "      <th>3693</th>\n",
              "      <td>16937.0</td>\n",
              "      <td>5.97</td>\n",
              "    </tr>\n",
              "  </tbody>\n",
              "</table>\n",
              "<p>4718 rows × 2 columns</p>\n",
              "</div>"
            ],
            "text/plain": [
              "      CustomerNo  TotalAmount\n",
              "1880     14646.0   2112282.03\n",
              "3302     16446.0   1002741.57\n",
              "2085     14911.0    914633.52\n",
              "126      12415.0    900545.54\n",
              "4581     18102.0    897137.36\n",
              "...          ...          ...\n",
              "61       12309.0        12.86\n",
              "1716     14435.0        12.38\n",
              "453      12810.0        11.98\n",
              "1208     13775.0        11.53\n",
              "3693     16937.0         5.97\n",
              "\n",
              "[4718 rows x 2 columns]"
            ]
          },
          "execution_count": 31,
          "metadata": {},
          "output_type": "execute_result"
        }
      ],
      "source": [
        "total_profit_by_customer = total_profit.groupby('CustomerNo')['TotalAmount'].sum().reset_index()\n",
        "total_profit_by_customer.sort_values(by=['TotalAmount'], ascending=False)"
      ]
    },
    {
      "cell_type": "code",
      "execution_count": null,
      "metadata": {},
      "outputs": [
        {
          "data": {
            "text/html": [
              "<div>\n",
              "<style scoped>\n",
              "    .dataframe tbody tr th:only-of-type {\n",
              "        vertical-align: middle;\n",
              "    }\n",
              "\n",
              "    .dataframe tbody tr th {\n",
              "        vertical-align: top;\n",
              "    }\n",
              "\n",
              "    .dataframe thead th {\n",
              "        text-align: right;\n",
              "    }\n",
              "</style>\n",
              "<table border=\"1\" class=\"dataframe\">\n",
              "  <thead>\n",
              "    <tr style=\"text-align: right;\">\n",
              "      <th></th>\n",
              "      <th>ProductName</th>\n",
              "      <th>TotalAmount</th>\n",
              "    </tr>\n",
              "  </thead>\n",
              "  <tbody>\n",
              "    <tr>\n",
              "      <th>0</th>\n",
              "      <td>10 Colour Spaceboy Pen</td>\n",
              "      <td>-1834.80</td>\n",
              "    </tr>\n",
              "    <tr>\n",
              "      <th>1</th>\n",
              "      <td>12 Coloured Party Balloons</td>\n",
              "      <td>-218.40</td>\n",
              "    </tr>\n",
              "    <tr>\n",
              "      <th>2</th>\n",
              "      <td>12 Egg House Painted Wood</td>\n",
              "      <td>-23.32</td>\n",
              "    </tr>\n",
              "    <tr>\n",
              "      <th>3</th>\n",
              "      <td>12 Ivory Rose Peg Place Settings</td>\n",
              "      <td>-11.53</td>\n",
              "    </tr>\n",
              "    <tr>\n",
              "      <th>4</th>\n",
              "      <td>12 Pencil Small Tube Woodland</td>\n",
              "      <td>-43.68</td>\n",
              "    </tr>\n",
              "    <tr>\n",
              "      <th>...</th>\n",
              "      <td>...</td>\n",
              "      <td>...</td>\n",
              "    </tr>\n",
              "    <tr>\n",
              "      <th>1908</th>\n",
              "      <td>Zinc Sweetheart Wire Letter Rack</td>\n",
              "      <td>-56.36</td>\n",
              "    </tr>\n",
              "    <tr>\n",
              "      <th>1909</th>\n",
              "      <td>Zinc T-Light Holder Star Large</td>\n",
              "      <td>-123.42</td>\n",
              "    </tr>\n",
              "    <tr>\n",
              "      <th>1910</th>\n",
              "      <td>Zinc T-Light Holder Stars Small</td>\n",
              "      <td>-432.74</td>\n",
              "    </tr>\n",
              "    <tr>\n",
              "      <th>1911</th>\n",
              "      <td>Zinc Top 2 Door Wooden Shelf</td>\n",
              "      <td>-129.90</td>\n",
              "    </tr>\n",
              "    <tr>\n",
              "      <th>1912</th>\n",
              "      <td>Zinc Willie Winkie Candle Stick</td>\n",
              "      <td>-133.44</td>\n",
              "    </tr>\n",
              "  </tbody>\n",
              "</table>\n",
              "<p>1913 rows × 2 columns</p>\n",
              "</div>"
            ],
            "text/plain": [
              "                           ProductName  TotalAmount\n",
              "0               10 Colour Spaceboy Pen     -1834.80\n",
              "1           12 Coloured Party Balloons      -218.40\n",
              "2            12 Egg House Painted Wood       -23.32\n",
              "3     12 Ivory Rose Peg Place Settings       -11.53\n",
              "4        12 Pencil Small Tube Woodland       -43.68\n",
              "...                                ...          ...\n",
              "1908  Zinc Sweetheart Wire Letter Rack       -56.36\n",
              "1909    Zinc T-Light Holder Star Large      -123.42\n",
              "1910   Zinc T-Light Holder Stars Small      -432.74\n",
              "1911      Zinc Top 2 Door Wooden Shelf      -129.90\n",
              "1912   Zinc Willie Winkie Candle Stick      -133.44\n",
              "\n",
              "[1913 rows x 2 columns]"
            ]
          },
          "execution_count": 32,
          "metadata": {},
          "output_type": "execute_result"
        }
      ],
      "source": [
        "total_loss_by_product = total_loss.groupby('ProductName')['TotalAmount'].sum().reset_index()\n",
        "total_loss_by_product.sort_values(by=['ProductName'], ascending=True)"
      ]
    },
    {
      "cell_type": "code",
      "execution_count": null,
      "metadata": {},
      "outputs": [
        {
          "data": {
            "text/html": [
              "<div>\n",
              "<style scoped>\n",
              "    .dataframe tbody tr th:only-of-type {\n",
              "        vertical-align: middle;\n",
              "    }\n",
              "\n",
              "    .dataframe tbody tr th {\n",
              "        vertical-align: top;\n",
              "    }\n",
              "\n",
              "    .dataframe thead th {\n",
              "        text-align: right;\n",
              "    }\n",
              "</style>\n",
              "<table border=\"1\" class=\"dataframe\">\n",
              "  <thead>\n",
              "    <tr style=\"text-align: right;\">\n",
              "      <th></th>\n",
              "      <th>ProductName</th>\n",
              "      <th>TotalAmount</th>\n",
              "    </tr>\n",
              "  </thead>\n",
              "  <tbody>\n",
              "    <tr>\n",
              "      <th>0</th>\n",
              "      <td>10 Colour Spaceboy Pen</td>\n",
              "      <td>71972.51</td>\n",
              "    </tr>\n",
              "    <tr>\n",
              "      <th>1</th>\n",
              "      <td>12 Coloured Party Balloons</td>\n",
              "      <td>22933.78</td>\n",
              "    </tr>\n",
              "    <tr>\n",
              "      <th>2</th>\n",
              "      <td>12 Daisy Pegs In Wood Box</td>\n",
              "      <td>4192.68</td>\n",
              "    </tr>\n",
              "    <tr>\n",
              "      <th>3</th>\n",
              "      <td>12 Egg House Painted Wood</td>\n",
              "      <td>3787.54</td>\n",
              "    </tr>\n",
              "    <tr>\n",
              "      <th>4</th>\n",
              "      <td>12 Hanging Eggs Hand Painted</td>\n",
              "      <td>366.47</td>\n",
              "    </tr>\n",
              "    <tr>\n",
              "      <th>...</th>\n",
              "      <td>...</td>\n",
              "      <td>...</td>\n",
              "    </tr>\n",
              "    <tr>\n",
              "      <th>3748</th>\n",
              "      <td>Zinc T-Light Holder Stars Small</td>\n",
              "      <td>55344.28</td>\n",
              "    </tr>\n",
              "    <tr>\n",
              "      <th>3749</th>\n",
              "      <td>Zinc Top 2 Door Wooden Shelf</td>\n",
              "      <td>410.04</td>\n",
              "    </tr>\n",
              "    <tr>\n",
              "      <th>3750</th>\n",
              "      <td>Zinc Willie Winkie Candle Stick</td>\n",
              "      <td>31512.83</td>\n",
              "    </tr>\n",
              "    <tr>\n",
              "      <th>3751</th>\n",
              "      <td>Zinc Wire Kitchen Organiser</td>\n",
              "      <td>414.20</td>\n",
              "    </tr>\n",
              "    <tr>\n",
              "      <th>3752</th>\n",
              "      <td>Zinc Wire Sweetheart Letter Tray</td>\n",
              "      <td>1039.38</td>\n",
              "    </tr>\n",
              "  </tbody>\n",
              "</table>\n",
              "<p>3753 rows × 2 columns</p>\n",
              "</div>"
            ],
            "text/plain": [
              "                           ProductName  TotalAmount\n",
              "0               10 Colour Spaceboy Pen     71972.51\n",
              "1           12 Coloured Party Balloons     22933.78\n",
              "2            12 Daisy Pegs In Wood Box      4192.68\n",
              "3            12 Egg House Painted Wood      3787.54\n",
              "4         12 Hanging Eggs Hand Painted       366.47\n",
              "...                                ...          ...\n",
              "3748   Zinc T-Light Holder Stars Small     55344.28\n",
              "3749      Zinc Top 2 Door Wooden Shelf       410.04\n",
              "3750   Zinc Willie Winkie Candle Stick     31512.83\n",
              "3751       Zinc Wire Kitchen Organiser       414.20\n",
              "3752  Zinc Wire Sweetheart Letter Tray      1039.38\n",
              "\n",
              "[3753 rows x 2 columns]"
            ]
          },
          "execution_count": 33,
          "metadata": {},
          "output_type": "execute_result"
        }
      ],
      "source": [
        "total_profit_by_product = total_profit.groupby('ProductName')['TotalAmount'].sum().reset_index()\n",
        "total_profit_by_product.sort_values(by=['ProductName'], ascending=True)"
      ]
    }
  ],
  "metadata": {
    "colab": {
      "provenance": []
    },
    "kernelspec": {
      "display_name": "Python 3",
      "name": "python3"
    },
    "language_info": {
      "codemirror_mode": {
        "name": "ipython",
        "version": 3
      },
      "file_extension": ".py",
      "mimetype": "text/x-python",
      "name": "python",
      "nbconvert_exporter": "python",
      "pygments_lexer": "ipython3",
      "version": "3.12.1"
    }
  },
  "nbformat": 4,
  "nbformat_minor": 0
}
